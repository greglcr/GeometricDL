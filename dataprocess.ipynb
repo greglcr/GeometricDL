{
  "cells": [
    {
      "cell_type": "markdown",
      "metadata": {
        "id": "aBaspb77rgRt"
      },
      "source": [
        "# Graph Deep Learning on Graph to study Fake News"
      ]
    },
    {
      "cell_type": "code",
      "execution_count": null,
      "metadata": {
        "colab": {
          "base_uri": "https://localhost:8080/"
        },
        "id": "jW6loHtvrgRu",
        "outputId": "170d5b65-7135-4d14-fdc4-e434f7d599c4"
      },
      "outputs": [
        {
          "name": "stdout",
          "output_type": "stream",
          "text": [
            "Collecting dgl\n",
            "  Downloading dgl-2.1.0-cp310-cp310-manylinux1_x86_64.whl.metadata (553 bytes)\n",
            "Requirement already satisfied: numpy>=1.14.0 in /usr/local/lib/python3.10/dist-packages (from dgl) (1.26.4)\n",
            "Requirement already satisfied: scipy>=1.1.0 in /usr/local/lib/python3.10/dist-packages (from dgl) (1.13.1)\n",
            "Requirement already satisfied: networkx>=2.1 in /usr/local/lib/python3.10/dist-packages (from dgl) (3.4.2)\n",
            "Requirement already satisfied: requests>=2.19.0 in /usr/local/lib/python3.10/dist-packages (from dgl) (2.32.3)\n",
            "Requirement already satisfied: tqdm in /usr/local/lib/python3.10/dist-packages (from dgl) (4.66.6)\n",
            "Requirement already satisfied: psutil>=5.8.0 in /usr/local/lib/python3.10/dist-packages (from dgl) (5.9.5)\n",
            "Collecting torchdata>=0.5.0 (from dgl)\n",
            "  Downloading torchdata-0.9.0-cp310-cp310-manylinux1_x86_64.whl.metadata (5.5 kB)\n",
            "Requirement already satisfied: charset-normalizer<4,>=2 in /usr/local/lib/python3.10/dist-packages (from requests>=2.19.0->dgl) (3.4.0)\n",
            "Requirement already satisfied: idna<4,>=2.5 in /usr/local/lib/python3.10/dist-packages (from requests>=2.19.0->dgl) (3.10)\n",
            "Requirement already satisfied: urllib3<3,>=1.21.1 in /usr/local/lib/python3.10/dist-packages (from requests>=2.19.0->dgl) (2.2.3)\n",
            "Requirement already satisfied: certifi>=2017.4.17 in /usr/local/lib/python3.10/dist-packages (from requests>=2.19.0->dgl) (2024.8.30)\n",
            "Requirement already satisfied: torch>=2 in /usr/local/lib/python3.10/dist-packages (from torchdata>=0.5.0->dgl) (2.5.1+cu121)\n",
            "Requirement already satisfied: filelock in /usr/local/lib/python3.10/dist-packages (from torch>=2->torchdata>=0.5.0->dgl) (3.16.1)\n",
            "Requirement already satisfied: typing-extensions>=4.8.0 in /usr/local/lib/python3.10/dist-packages (from torch>=2->torchdata>=0.5.0->dgl) (4.12.2)\n",
            "Requirement already satisfied: jinja2 in /usr/local/lib/python3.10/dist-packages (from torch>=2->torchdata>=0.5.0->dgl) (3.1.4)\n",
            "Requirement already satisfied: fsspec in /usr/local/lib/python3.10/dist-packages (from torch>=2->torchdata>=0.5.0->dgl) (2024.10.0)\n",
            "Requirement already satisfied: sympy==1.13.1 in /usr/local/lib/python3.10/dist-packages (from torch>=2->torchdata>=0.5.0->dgl) (1.13.1)\n",
            "Requirement already satisfied: mpmath<1.4,>=1.1.0 in /usr/local/lib/python3.10/dist-packages (from sympy==1.13.1->torch>=2->torchdata>=0.5.0->dgl) (1.3.0)\n",
            "Requirement already satisfied: MarkupSafe>=2.0 in /usr/local/lib/python3.10/dist-packages (from jinja2->torch>=2->torchdata>=0.5.0->dgl) (3.0.2)\n",
            "Downloading dgl-2.1.0-cp310-cp310-manylinux1_x86_64.whl (8.5 MB)\n",
            "\u001b[2K   \u001b[90m━━━━━━━━━━━━━━━━━━━━━━━━━━━━━━━━━━━━━━━━\u001b[0m \u001b[32m8.5/8.5 MB\u001b[0m \u001b[31m21.1 MB/s\u001b[0m eta \u001b[36m0:00:00\u001b[0m\n",
            "\u001b[?25hDownloading torchdata-0.9.0-cp310-cp310-manylinux1_x86_64.whl (2.7 MB)\n",
            "\u001b[2K   \u001b[90m━━━━━━━━━━━━━━━━━━━━━━━━━━━━━━━━━━━━━━━━\u001b[0m \u001b[32m2.7/2.7 MB\u001b[0m \u001b[31m43.1 MB/s\u001b[0m eta \u001b[36m0:00:00\u001b[0m\n",
            "\u001b[?25hInstalling collected packages: torchdata, dgl\n",
            "Successfully installed dgl-2.1.0 torchdata-0.9.0\n"
          ]
        }
      ],
      "source": [
        "!pip install dgl"
      ]
    },
    {
      "cell_type": "code",
      "execution_count": null,
      "metadata": {
        "colab": {
          "base_uri": "https://localhost:8080/"
        },
        "id": "rkdV67aYrgRw",
        "outputId": "8a57c61e-6503-4d0e-8f0c-fd6d22dab6c7"
      },
      "outputs": [
        {
          "name": "stdout",
          "output_type": "stream",
          "text": [
            "Collecting torch_geometric\n",
            "  Downloading torch_geometric-2.6.1-py3-none-any.whl.metadata (63 kB)\n",
            "\u001b[?25l     \u001b[90m━━━━━━━━━━━━━━━━━━━━━━━━━━━━━━━━━━━━━━━━\u001b[0m \u001b[32m0.0/63.1 kB\u001b[0m \u001b[31m?\u001b[0m eta \u001b[36m-:--:--\u001b[0m\r\u001b[2K     \u001b[90m━━━━━━━━━━━━━━━━━━━━━━━━━━━━━━━━━━━━━━━━\u001b[0m \u001b[32m63.1/63.1 kB\u001b[0m \u001b[31m2.1 MB/s\u001b[0m eta \u001b[36m0:00:00\u001b[0m\n",
            "\u001b[?25hRequirement already satisfied: aiohttp in /usr/local/lib/python3.10/dist-packages (from torch_geometric) (3.11.2)\n",
            "Requirement already satisfied: fsspec in /usr/local/lib/python3.10/dist-packages (from torch_geometric) (2024.10.0)\n",
            "Requirement already satisfied: jinja2 in /usr/local/lib/python3.10/dist-packages (from torch_geometric) (3.1.4)\n",
            "Requirement already satisfied: numpy in /usr/local/lib/python3.10/dist-packages (from torch_geometric) (1.26.4)\n",
            "Requirement already satisfied: psutil>=5.8.0 in /usr/local/lib/python3.10/dist-packages (from torch_geometric) (5.9.5)\n",
            "Requirement already satisfied: pyparsing in /usr/local/lib/python3.10/dist-packages (from torch_geometric) (3.2.0)\n",
            "Requirement already satisfied: requests in /usr/local/lib/python3.10/dist-packages (from torch_geometric) (2.32.3)\n",
            "Requirement already satisfied: tqdm in /usr/local/lib/python3.10/dist-packages (from torch_geometric) (4.66.6)\n",
            "Requirement already satisfied: aiohappyeyeballs>=2.3.0 in /usr/local/lib/python3.10/dist-packages (from aiohttp->torch_geometric) (2.4.3)\n",
            "Requirement already satisfied: aiosignal>=1.1.2 in /usr/local/lib/python3.10/dist-packages (from aiohttp->torch_geometric) (1.3.1)\n",
            "Requirement already satisfied: attrs>=17.3.0 in /usr/local/lib/python3.10/dist-packages (from aiohttp->torch_geometric) (24.2.0)\n",
            "Requirement already satisfied: frozenlist>=1.1.1 in /usr/local/lib/python3.10/dist-packages (from aiohttp->torch_geometric) (1.5.0)\n",
            "Requirement already satisfied: multidict<7.0,>=4.5 in /usr/local/lib/python3.10/dist-packages (from aiohttp->torch_geometric) (6.1.0)\n",
            "Requirement already satisfied: propcache>=0.2.0 in /usr/local/lib/python3.10/dist-packages (from aiohttp->torch_geometric) (0.2.0)\n",
            "Requirement already satisfied: yarl<2.0,>=1.17.0 in /usr/local/lib/python3.10/dist-packages (from aiohttp->torch_geometric) (1.17.2)\n",
            "Requirement already satisfied: async-timeout<6.0,>=4.0 in /usr/local/lib/python3.10/dist-packages (from aiohttp->torch_geometric) (4.0.3)\n",
            "Requirement already satisfied: MarkupSafe>=2.0 in /usr/local/lib/python3.10/dist-packages (from jinja2->torch_geometric) (3.0.2)\n",
            "Requirement already satisfied: charset-normalizer<4,>=2 in /usr/local/lib/python3.10/dist-packages (from requests->torch_geometric) (3.4.0)\n",
            "Requirement already satisfied: idna<4,>=2.5 in /usr/local/lib/python3.10/dist-packages (from requests->torch_geometric) (3.10)\n",
            "Requirement already satisfied: urllib3<3,>=1.21.1 in /usr/local/lib/python3.10/dist-packages (from requests->torch_geometric) (2.2.3)\n",
            "Requirement already satisfied: certifi>=2017.4.17 in /usr/local/lib/python3.10/dist-packages (from requests->torch_geometric) (2024.8.30)\n",
            "Requirement already satisfied: typing-extensions>=4.1.0 in /usr/local/lib/python3.10/dist-packages (from multidict<7.0,>=4.5->aiohttp->torch_geometric) (4.12.2)\n",
            "Downloading torch_geometric-2.6.1-py3-none-any.whl (1.1 MB)\n",
            "\u001b[2K   \u001b[90m━━━━━━━━━━━━━━━━━━━━━━━━━━━━━━━━━━━━━━━━\u001b[0m \u001b[32m1.1/1.1 MB\u001b[0m \u001b[31m20.1 MB/s\u001b[0m eta \u001b[36m0:00:00\u001b[0m\n",
            "\u001b[?25hInstalling collected packages: torch_geometric\n",
            "Successfully installed torch_geometric-2.6.1\n"
          ]
        }
      ],
      "source": [
        "!pip install torch_geometric"
      ]
    },
    {
      "cell_type": "code",
      "execution_count": null,
      "metadata": {
        "id": "VD1gG9E6rgRw"
      },
      "outputs": [],
      "source": [
        "from torch_geometric.datasets import UPFD\n",
        "from torch_geometric.loader import DataLoader\n",
        "from torch_geometric.nn import GATConv, GCNConv, global_mean_pool\n",
        "from torch.nn.modules import Linear\n",
        "from torch_geometric.transforms import ToUndirected\n",
        "from torch.functional import F\n",
        "import torch\n",
        "import argparse\n",
        "import os.path as osp\n"
      ]
    },
    {
      "cell_type": "markdown",
      "metadata": {
        "id": "Q04ZuW_0rgRx"
      },
      "source": [
        "The dataset is initialized there. Note that:\n",
        "- `feature` can be `content` (raw content of the tweet), `bert` (content transformed by a transformer), `profile` (user profile info such as number of tweets, followers, and join date), `spacy` (content transformed by a simple NLP model)\n",
        "- `dataset` is either `politifact` or `gossipcop`"
      ]
    },
    {
      "cell_type": "code",
      "execution_count": null,
      "metadata": {
        "colab": {
          "base_uri": "https://localhost:8080/"
        },
        "id": "S_6UoCPOrgRx",
        "outputId": "54e5363d-91f1-4096-c648-760d12a474b1"
      },
      "outputs": [
        {
          "name": "stderr",
          "output_type": "stream",
          "text": [
            "Downloading https://drive.usercontent.google.com/download?id=1VskhAQ92PrT4sWEKQ2v2-AJhEcpp4A81&confirm=t\n",
            "Extracting /data/UPFD/gossipcop/raw/data.zip\n",
            "Processing...\n",
            "Done!\n",
            "Processing...\n",
            "Done!\n"
          ]
        },
        {
          "name": "stdout",
          "output_type": "stream",
          "text": [
            "5464\n"
          ]
        },
        {
          "name": "stderr",
          "output_type": "stream",
          "text": [
            "/usr/local/lib/python3.10/dist-packages/torch_geometric/deprecation.py:26: UserWarning: 'data.DataLoader' is deprecated, use 'loader.DataLoader' instead\n",
            "  warnings.warn(out)\n"
          ]
        }
      ],
      "source": [
        "from torch_geometric.data import DataLoader\n",
        "from torch_geometric.datasets import UPFD\n",
        "import os.path as osp\n",
        "import torch\n",
        "\n",
        "# Paths and settings\n",
        "_file_ = '..'\n",
        "file = _file_\n",
        "dataset = 'gossipcop'  # or 'politifact'\n",
        "path = osp.join(osp.dirname(osp.realpath(file)), '..', 'data', 'UPFD')\n",
        "\n",
        "# Load datasets with bert and profile features separately\n",
        "train_dataset_bert = UPFD(path, dataset, 'bert', 'train')\n",
        "train_dataset_profile = UPFD(path, dataset, 'profile', 'train')\n",
        "\n",
        "val_dataset_bert = UPFD(path, dataset, 'bert', 'val')\n",
        "val_dataset_profile = UPFD(path, dataset, 'profile', 'val')\n",
        "\n",
        "test_dataset_bert = UPFD(path, dataset, 'bert', 'test')\n",
        "test_dataset_profile = UPFD(path, dataset, 'profile', 'test')\n",
        "\n",
        "# Check that both datasets are aligned\n",
        "assert len(train_dataset_bert) == len(train_dataset_profile)\n",
        "assert len(val_dataset_bert) == len(val_dataset_profile)\n",
        "assert len(test_dataset_bert) == len(test_dataset_profile)\n",
        "\n",
        "# Function to combine features\n",
        "def combine_features(dataset_bert, dataset_profile):\n",
        "    combined_data = []\n",
        "    for data_bert, data_profile in zip(dataset_bert, dataset_profile):\n",
        "        data_bert.x = torch.cat([data_bert.x, data_profile.x], dim=-1)  # Concatenate features\n",
        "        combined_data.append(data_bert)\n",
        "    return combined_data\n",
        "\n",
        "# Combine features for train, val, and test datasets\n",
        "\"\"\"\n",
        "train_dataset = combine_features(train_dataset_bert, train_dataset_profile)\n",
        "val_dataset = combine_features(val_dataset_bert, val_dataset_profile)\n",
        "test_dataset = combine_features(test_dataset_bert, test_dataset_profile)\n",
        "\"\"\"\n",
        "\n",
        "# Create DataLoaders\n",
        "train_loader = DataLoader(train_dataset_bert, batch_size=128, shuffle=True)\n",
        "val_loader = DataLoader(val_dataset_bert, batch_size=128, shuffle=False)\n",
        "test_loader = DataLoader(test_dataset_bert, batch_size=128, shuffle=False)\n",
        "print(len(train_dataset_bert) + len(val_dataset_bert) + len(test_dataset_bert))"
      ]
    },
    {
      "cell_type": "code",
      "execution_count": null,
      "metadata": {
        "colab": {
          "base_uri": "https://localhost:8080/",
          "height": 211
        },
        "id": "Nysh0Cs8rgRz",
        "outputId": "e86afd52-10d9-4a00-9b18-331c09e2a286"
      },
      "outputs": [
        {
          "ename": "NameError",
          "evalue": "name 'train_dataset' is not defined",
          "output_type": "error",
          "traceback": [
            "\u001b[0;31m---------------------------------------------------------------------------\u001b[0m",
            "\u001b[0;31mNameError\u001b[0m                                 Traceback (most recent call last)",
            "\u001b[0;32m<ipython-input-5-5a0f1ed346ae>\u001b[0m in \u001b[0;36m<cell line: 1>\u001b[0;34m()\u001b[0m\n\u001b[0;32m----> 1\u001b[0;31m \u001b[0mprint\u001b[0m\u001b[0;34m(\u001b[0m\u001b[0mtrain_dataset\u001b[0m\u001b[0;34m[\u001b[0m\u001b[0;36m0\u001b[0m\u001b[0;34m]\u001b[0m\u001b[0;34m.\u001b[0m\u001b[0mx\u001b[0m\u001b[0;34m.\u001b[0m\u001b[0mshape\u001b[0m\u001b[0;34m)\u001b[0m\u001b[0;34m\u001b[0m\u001b[0;34m\u001b[0m\u001b[0m\n\u001b[0m\u001b[1;32m      2\u001b[0m \u001b[0mprint\u001b[0m\u001b[0;34m(\u001b[0m\u001b[0msum\u001b[0m\u001b[0;34m(\u001b[0m\u001b[0;34m[\u001b[0m\u001b[0me\u001b[0m\u001b[0;34m.\u001b[0m\u001b[0mx\u001b[0m\u001b[0;34m.\u001b[0m\u001b[0mshape\u001b[0m\u001b[0;34m[\u001b[0m\u001b[0;36m0\u001b[0m\u001b[0;34m]\u001b[0m \u001b[0;32mfor\u001b[0m \u001b[0me\u001b[0m \u001b[0;32min\u001b[0m \u001b[0mtrain_dataset\u001b[0m\u001b[0;34m[\u001b[0m\u001b[0;36m0\u001b[0m\u001b[0;34m:\u001b[0m\u001b[0;36m128\u001b[0m\u001b[0;34m]\u001b[0m \u001b[0;34m]\u001b[0m\u001b[0;34m)\u001b[0m\u001b[0;34m)\u001b[0m\u001b[0;34m\u001b[0m\u001b[0;34m\u001b[0m\u001b[0m\n\u001b[1;32m      3\u001b[0m \u001b[0;32mfor\u001b[0m \u001b[0me\u001b[0m \u001b[0;32min\u001b[0m \u001b[0mtrain_loader\u001b[0m\u001b[0;34m:\u001b[0m\u001b[0;34m\u001b[0m\u001b[0;34m\u001b[0m\u001b[0m\n\u001b[1;32m      4\u001b[0m     \u001b[0ms\u001b[0m \u001b[0;34m=\u001b[0m \u001b[0;34m[\u001b[0m\u001b[0;36m0\u001b[0m \u001b[0;32mfor\u001b[0m \u001b[0mi\u001b[0m \u001b[0;32min\u001b[0m \u001b[0mrange\u001b[0m\u001b[0;34m(\u001b[0m\u001b[0;36m128\u001b[0m\u001b[0;34m)\u001b[0m\u001b[0;34m]\u001b[0m\u001b[0;34m\u001b[0m\u001b[0;34m\u001b[0m\u001b[0m\n\u001b[1;32m      5\u001b[0m     \u001b[0;32mfor\u001b[0m \u001b[0mk\u001b[0m \u001b[0;32min\u001b[0m \u001b[0me\u001b[0m\u001b[0;34m.\u001b[0m\u001b[0mbatch\u001b[0m\u001b[0;34m:\u001b[0m\u001b[0;34m\u001b[0m\u001b[0;34m\u001b[0m\u001b[0m\n",
            "\u001b[0;31mNameError\u001b[0m: name 'train_dataset' is not defined"
          ]
        }
      ],
      "source": [
        "print(train_dataset[0].x.shape)\n",
        "print(sum([e.x.shape[0] for e in train_dataset[0:128] ]))\n",
        "for e in train_loader:\n",
        "    s = [0 for i in range(128)]\n",
        "    for k in e.batch:\n",
        "        s[k]+=1\n",
        "    print(s)\n",
        "    break"
      ]
    },
    {
      "cell_type": "code",
      "execution_count": null,
      "metadata": {
        "colab": {
          "base_uri": "https://localhost:8080/"
        },
        "id": "P7Bwt_wurgR0",
        "outputId": "585baa22-f451-4917-a57f-5d2cea4744e8"
      },
      "outputs": [
        {
          "name": "stdout",
          "output_type": "stream",
          "text": [
            "[Data(x=[76, 778], edge_index=[2, 75], y=[1]), Data(x=[125, 778], edge_index=[2, 124], y=[1]), Data(x=[6, 778], edge_index=[2, 5], y=[1]), Data(x=[56, 778], edge_index=[2, 55], y=[1]), Data(x=[90, 778], edge_index=[2, 89], y=[1]), Data(x=[21, 778], edge_index=[2, 20], y=[1]), Data(x=[76, 778], edge_index=[2, 75], y=[1]), Data(x=[89, 778], edge_index=[2, 88], y=[1]), Data(x=[77, 778], edge_index=[2, 76], y=[1]), Data(x=[27, 778], edge_index=[2, 26], y=[1]), Data(x=[88, 778], edge_index=[2, 87], y=[1]), Data(x=[127, 778], edge_index=[2, 126], y=[1]), Data(x=[88, 778], edge_index=[2, 87], y=[1]), Data(x=[19, 778], edge_index=[2, 18], y=[1]), Data(x=[173, 778], edge_index=[2, 172], y=[1]), Data(x=[54, 778], edge_index=[2, 53], y=[1]), Data(x=[19, 778], edge_index=[2, 18], y=[1]), Data(x=[88, 778], edge_index=[2, 87], y=[1]), Data(x=[24, 778], edge_index=[2, 23], y=[1]), Data(x=[72, 778], edge_index=[2, 71], y=[1]), Data(x=[12, 778], edge_index=[2, 11], y=[1]), Data(x=[38, 778], edge_index=[2, 37], y=[1]), Data(x=[26, 778], edge_index=[2, 25], y=[1]), Data(x=[163, 778], edge_index=[2, 162], y=[1]), Data(x=[7, 778], edge_index=[2, 6], y=[1]), Data(x=[11, 778], edge_index=[2, 10], y=[1]), Data(x=[58, 778], edge_index=[2, 57], y=[1]), Data(x=[27, 778], edge_index=[2, 26], y=[1]), Data(x=[56, 778], edge_index=[2, 55], y=[1]), Data(x=[89, 778], edge_index=[2, 88], y=[1]), Data(x=[69, 778], edge_index=[2, 68], y=[1]), Data(x=[94, 778], edge_index=[2, 93], y=[1]), Data(x=[16, 778], edge_index=[2, 15], y=[1]), Data(x=[110, 778], edge_index=[2, 109], y=[1]), Data(x=[46, 778], edge_index=[2, 45], y=[1]), Data(x=[60, 778], edge_index=[2, 59], y=[1]), Data(x=[9, 778], edge_index=[2, 8], y=[1]), Data(x=[4, 778], edge_index=[2, 3], y=[1]), Data(x=[13, 778], edge_index=[2, 12], y=[1]), Data(x=[44, 778], edge_index=[2, 43], y=[1]), Data(x=[5, 778], edge_index=[2, 4], y=[1]), Data(x=[86, 778], edge_index=[2, 85], y=[1]), Data(x=[74, 778], edge_index=[2, 73], y=[1]), Data(x=[70, 778], edge_index=[2, 69], y=[1]), Data(x=[53, 778], edge_index=[2, 52], y=[1]), Data(x=[21, 778], edge_index=[2, 20], y=[1]), Data(x=[23, 778], edge_index=[2, 22], y=[1]), Data(x=[46, 778], edge_index=[2, 45], y=[1]), Data(x=[45, 778], edge_index=[2, 44], y=[1]), Data(x=[33, 778], edge_index=[2, 32], y=[1]), Data(x=[18, 778], edge_index=[2, 17], y=[1]), Data(x=[42, 778], edge_index=[2, 41], y=[1]), Data(x=[22, 778], edge_index=[2, 21], y=[1]), Data(x=[51, 778], edge_index=[2, 50], y=[1]), Data(x=[53, 778], edge_index=[2, 52], y=[1]), Data(x=[82, 778], edge_index=[2, 81], y=[1]), Data(x=[105, 778], edge_index=[2, 104], y=[1]), Data(x=[7, 778], edge_index=[2, 6], y=[1]), Data(x=[54, 778], edge_index=[2, 53], y=[1]), Data(x=[58, 778], edge_index=[2, 57], y=[1]), Data(x=[14, 778], edge_index=[2, 13], y=[1]), Data(x=[64, 778], edge_index=[2, 63], y=[1]), Data(x=[14, 778], edge_index=[2, 13], y=[1]), Data(x=[194, 778], edge_index=[2, 193], y=[1]), Data(x=[32, 778], edge_index=[2, 31], y=[1]), Data(x=[78, 778], edge_index=[2, 77], y=[1]), Data(x=[49, 778], edge_index=[2, 48], y=[1]), Data(x=[121, 778], edge_index=[2, 120], y=[1]), Data(x=[58, 778], edge_index=[2, 57], y=[1]), Data(x=[77, 778], edge_index=[2, 76], y=[1]), Data(x=[49, 778], edge_index=[2, 48], y=[1]), Data(x=[12, 778], edge_index=[2, 11], y=[1]), Data(x=[12, 778], edge_index=[2, 11], y=[1]), Data(x=[67, 778], edge_index=[2, 66], y=[1]), Data(x=[74, 778], edge_index=[2, 73], y=[1]), Data(x=[23, 778], edge_index=[2, 22], y=[1]), Data(x=[168, 778], edge_index=[2, 167], y=[1]), Data(x=[34, 778], edge_index=[2, 33], y=[1]), Data(x=[8, 778], edge_index=[2, 7], y=[1]), Data(x=[6, 778], edge_index=[2, 5], y=[1]), Data(x=[21, 778], edge_index=[2, 20], y=[1]), Data(x=[22, 778], edge_index=[2, 21], y=[1]), Data(x=[8, 778], edge_index=[2, 7], y=[1]), Data(x=[17, 778], edge_index=[2, 16], y=[1]), Data(x=[4, 778], edge_index=[2, 3], y=[1]), Data(x=[20, 778], edge_index=[2, 19], y=[1]), Data(x=[61, 778], edge_index=[2, 60], y=[1]), Data(x=[11, 778], edge_index=[2, 10], y=[1]), Data(x=[25, 778], edge_index=[2, 24], y=[1]), Data(x=[17, 778], edge_index=[2, 16], y=[1]), Data(x=[122, 778], edge_index=[2, 121], y=[1]), Data(x=[70, 778], edge_index=[2, 69], y=[1]), Data(x=[33, 778], edge_index=[2, 32], y=[1]), Data(x=[14, 778], edge_index=[2, 13], y=[1]), Data(x=[96, 778], edge_index=[2, 95], y=[1]), Data(x=[110, 778], edge_index=[2, 109], y=[1]), Data(x=[78, 778], edge_index=[2, 77], y=[1]), Data(x=[58, 778], edge_index=[2, 57], y=[1]), Data(x=[9, 778], edge_index=[2, 8], y=[1]), Data(x=[101, 778], edge_index=[2, 100], y=[1]), Data(x=[93, 778], edge_index=[2, 92], y=[1]), Data(x=[44, 778], edge_index=[2, 43], y=[1]), Data(x=[152, 778], edge_index=[2, 151], y=[1]), Data(x=[75, 778], edge_index=[2, 74], y=[1]), Data(x=[14, 778], edge_index=[2, 13], y=[1]), Data(x=[22, 778], edge_index=[2, 21], y=[1]), Data(x=[37, 778], edge_index=[2, 36], y=[1]), Data(x=[16, 778], edge_index=[2, 15], y=[1]), Data(x=[117, 778], edge_index=[2, 116], y=[1]), Data(x=[51, 778], edge_index=[2, 50], y=[1]), Data(x=[70, 778], edge_index=[2, 69], y=[1]), Data(x=[50, 778], edge_index=[2, 49], y=[1]), Data(x=[59, 778], edge_index=[2, 58], y=[1]), Data(x=[44, 778], edge_index=[2, 43], y=[1]), Data(x=[85, 778], edge_index=[2, 84], y=[1]), Data(x=[34, 778], edge_index=[2, 33], y=[1]), Data(x=[7, 778], edge_index=[2, 6], y=[1]), Data(x=[164, 778], edge_index=[2, 163], y=[1]), Data(x=[71, 778], edge_index=[2, 70], y=[1]), Data(x=[10, 778], edge_index=[2, 9], y=[1]), Data(x=[18, 778], edge_index=[2, 17], y=[1]), Data(x=[52, 778], edge_index=[2, 51], y=[1]), Data(x=[12, 778], edge_index=[2, 11], y=[1]), Data(x=[20, 778], edge_index=[2, 19], y=[1]), Data(x=[102, 778], edge_index=[2, 101], y=[1]), Data(x=[49, 778], edge_index=[2, 48], y=[1]), Data(x=[20, 778], edge_index=[2, 19], y=[1]), Data(x=[49, 778], edge_index=[2, 48], y=[1]), Data(x=[180, 778], edge_index=[2, 179], y=[1]), Data(x=[77, 778], edge_index=[2, 76], y=[1]), Data(x=[55, 778], edge_index=[2, 54], y=[1]), Data(x=[116, 778], edge_index=[2, 115], y=[1]), Data(x=[12, 778], edge_index=[2, 11], y=[1]), Data(x=[133, 778], edge_index=[2, 132], y=[1]), Data(x=[16, 778], edge_index=[2, 15], y=[1]), Data(x=[160, 778], edge_index=[2, 159], y=[1]), Data(x=[11, 778], edge_index=[2, 10], y=[1]), Data(x=[79, 778], edge_index=[2, 78], y=[1]), Data(x=[113, 778], edge_index=[2, 112], y=[1]), Data(x=[21, 778], edge_index=[2, 20], y=[1]), Data(x=[14, 778], edge_index=[2, 13], y=[1]), Data(x=[30, 778], edge_index=[2, 29], y=[1]), Data(x=[33, 778], edge_index=[2, 32], y=[1]), Data(x=[11, 778], edge_index=[2, 10], y=[1]), Data(x=[131, 778], edge_index=[2, 130], y=[1]), Data(x=[56, 778], edge_index=[2, 55], y=[1]), Data(x=[69, 778], edge_index=[2, 68], y=[1]), Data(x=[92, 778], edge_index=[2, 91], y=[1]), Data(x=[11, 778], edge_index=[2, 10], y=[1]), Data(x=[53, 778], edge_index=[2, 52], y=[1]), Data(x=[58, 778], edge_index=[2, 57], y=[1]), Data(x=[18, 778], edge_index=[2, 17], y=[1]), Data(x=[70, 778], edge_index=[2, 69], y=[1]), Data(x=[92, 778], edge_index=[2, 91], y=[1]), Data(x=[33, 778], edge_index=[2, 32], y=[1]), Data(x=[123, 778], edge_index=[2, 122], y=[1]), Data(x=[127, 778], edge_index=[2, 126], y=[1]), Data(x=[110, 778], edge_index=[2, 109], y=[1]), Data(x=[96, 778], edge_index=[2, 95], y=[1]), Data(x=[20, 778], edge_index=[2, 19], y=[1]), Data(x=[35, 778], edge_index=[2, 34], y=[1]), Data(x=[19, 778], edge_index=[2, 18], y=[1]), Data(x=[5, 778], edge_index=[2, 4], y=[1]), Data(x=[35, 778], edge_index=[2, 34], y=[1]), Data(x=[160, 778], edge_index=[2, 159], y=[1]), Data(x=[63, 778], edge_index=[2, 62], y=[1]), Data(x=[63, 778], edge_index=[2, 62], y=[1]), Data(x=[177, 778], edge_index=[2, 176], y=[1]), Data(x=[24, 778], edge_index=[2, 23], y=[1]), Data(x=[28, 778], edge_index=[2, 27], y=[1]), Data(x=[186, 778], edge_index=[2, 185], y=[1]), Data(x=[60, 778], edge_index=[2, 59], y=[1]), Data(x=[11, 778], edge_index=[2, 10], y=[1]), Data(x=[26, 778], edge_index=[2, 25], y=[1]), Data(x=[58, 778], edge_index=[2, 57], y=[1]), Data(x=[85, 778], edge_index=[2, 84], y=[1]), Data(x=[33, 778], edge_index=[2, 32], y=[1]), Data(x=[37, 778], edge_index=[2, 36], y=[1]), Data(x=[6, 778], edge_index=[2, 5], y=[1]), Data(x=[13, 778], edge_index=[2, 12], y=[1]), Data(x=[22, 778], edge_index=[2, 21], y=[1]), Data(x=[4, 778], edge_index=[2, 3], y=[1]), Data(x=[129, 778], edge_index=[2, 128], y=[1]), Data(x=[42, 778], edge_index=[2, 41], y=[1]), Data(x=[5, 778], edge_index=[2, 4], y=[1]), Data(x=[9, 778], edge_index=[2, 8], y=[1]), Data(x=[65, 778], edge_index=[2, 64], y=[1]), Data(x=[5, 778], edge_index=[2, 4], y=[1]), Data(x=[29, 778], edge_index=[2, 28], y=[1]), Data(x=[42, 778], edge_index=[2, 41], y=[1]), Data(x=[10, 778], edge_index=[2, 9], y=[1]), Data(x=[71, 778], edge_index=[2, 70], y=[1]), Data(x=[95, 778], edge_index=[2, 94], y=[1]), Data(x=[13, 778], edge_index=[2, 12], y=[1]), Data(x=[166, 778], edge_index=[2, 165], y=[1]), Data(x=[35, 778], edge_index=[2, 34], y=[1]), Data(x=[17, 778], edge_index=[2, 16], y=[1]), Data(x=[94, 778], edge_index=[2, 93], y=[1]), Data(x=[94, 778], edge_index=[2, 93], y=[1]), Data(x=[55, 778], edge_index=[2, 54], y=[1]), Data(x=[71, 778], edge_index=[2, 70], y=[1]), Data(x=[113, 778], edge_index=[2, 112], y=[1]), Data(x=[157, 778], edge_index=[2, 156], y=[1]), Data(x=[26, 778], edge_index=[2, 25], y=[1]), Data(x=[66, 778], edge_index=[2, 65], y=[1]), Data(x=[30, 778], edge_index=[2, 29], y=[1]), Data(x=[38, 778], edge_index=[2, 37], y=[1]), Data(x=[13, 778], edge_index=[2, 12], y=[1]), Data(x=[131, 778], edge_index=[2, 130], y=[1]), Data(x=[25, 778], edge_index=[2, 24], y=[1]), Data(x=[18, 778], edge_index=[2, 17], y=[1]), Data(x=[157, 778], edge_index=[2, 156], y=[1]), Data(x=[32, 778], edge_index=[2, 31], y=[1]), Data(x=[15, 778], edge_index=[2, 14], y=[1]), Data(x=[10, 778], edge_index=[2, 9], y=[1]), Data(x=[130, 778], edge_index=[2, 129], y=[1]), Data(x=[51, 778], edge_index=[2, 50], y=[1]), Data(x=[8, 778], edge_index=[2, 7], y=[1]), Data(x=[37, 778], edge_index=[2, 36], y=[1]), Data(x=[128, 778], edge_index=[2, 127], y=[1]), Data(x=[50, 778], edge_index=[2, 49], y=[1]), Data(x=[143, 778], edge_index=[2, 142], y=[1]), Data(x=[23, 778], edge_index=[2, 22], y=[1]), Data(x=[20, 778], edge_index=[2, 19], y=[1]), Data(x=[17, 778], edge_index=[2, 16], y=[1]), Data(x=[7, 778], edge_index=[2, 6], y=[1]), Data(x=[192, 778], edge_index=[2, 191], y=[1]), Data(x=[66, 778], edge_index=[2, 65], y=[1]), Data(x=[184, 778], edge_index=[2, 183], y=[1]), Data(x=[22, 778], edge_index=[2, 21], y=[1]), Data(x=[152, 778], edge_index=[2, 151], y=[1]), Data(x=[8, 778], edge_index=[2, 7], y=[1]), Data(x=[102, 778], edge_index=[2, 101], y=[1]), Data(x=[86, 778], edge_index=[2, 85], y=[1]), Data(x=[108, 778], edge_index=[2, 107], y=[1]), Data(x=[30, 778], edge_index=[2, 29], y=[1]), Data(x=[118, 778], edge_index=[2, 117], y=[1]), Data(x=[93, 778], edge_index=[2, 92], y=[1]), Data(x=[36, 778], edge_index=[2, 35], y=[1]), Data(x=[95, 778], edge_index=[2, 94], y=[1]), Data(x=[18, 778], edge_index=[2, 17], y=[1]), Data(x=[92, 778], edge_index=[2, 91], y=[1]), Data(x=[73, 778], edge_index=[2, 72], y=[1]), Data(x=[24, 778], edge_index=[2, 23], y=[1]), Data(x=[64, 778], edge_index=[2, 63], y=[1]), Data(x=[22, 778], edge_index=[2, 21], y=[1]), Data(x=[98, 778], edge_index=[2, 97], y=[1]), Data(x=[68, 778], edge_index=[2, 67], y=[1]), Data(x=[25, 778], edge_index=[2, 24], y=[1]), Data(x=[37, 778], edge_index=[2, 36], y=[1]), Data(x=[16, 778], edge_index=[2, 15], y=[1]), Data(x=[91, 778], edge_index=[2, 90], y=[1]), Data(x=[14, 778], edge_index=[2, 13], y=[1]), Data(x=[150, 778], edge_index=[2, 149], y=[1]), Data(x=[79, 778], edge_index=[2, 78], y=[1]), Data(x=[77, 778], edge_index=[2, 76], y=[1]), Data(x=[74, 778], edge_index=[2, 73], y=[1]), Data(x=[22, 778], edge_index=[2, 21], y=[1]), Data(x=[136, 778], edge_index=[2, 135], y=[1]), Data(x=[60, 778], edge_index=[2, 59], y=[1]), Data(x=[61, 778], edge_index=[2, 60], y=[1]), Data(x=[3, 778], edge_index=[2, 2], y=[1]), Data(x=[50, 778], edge_index=[2, 49], y=[1]), Data(x=[74, 778], edge_index=[2, 73], y=[1]), Data(x=[31, 778], edge_index=[2, 30], y=[1]), Data(x=[45, 778], edge_index=[2, 44], y=[1]), Data(x=[21, 778], edge_index=[2, 20], y=[1]), Data(x=[63, 778], edge_index=[2, 62], y=[1]), Data(x=[35, 778], edge_index=[2, 34], y=[1]), Data(x=[8, 778], edge_index=[2, 7], y=[1]), Data(x=[84, 778], edge_index=[2, 83], y=[1]), Data(x=[14, 778], edge_index=[2, 13], y=[1]), Data(x=[16, 778], edge_index=[2, 15], y=[1]), Data(x=[40, 778], edge_index=[2, 39], y=[1]), Data(x=[12, 778], edge_index=[2, 11], y=[1]), Data(x=[64, 778], edge_index=[2, 63], y=[1]), Data(x=[134, 778], edge_index=[2, 133], y=[1]), Data(x=[30, 778], edge_index=[2, 29], y=[1]), Data(x=[72, 778], edge_index=[2, 71], y=[1]), Data(x=[50, 778], edge_index=[2, 49], y=[1]), Data(x=[3, 778], edge_index=[2, 2], y=[1]), Data(x=[52, 778], edge_index=[2, 51], y=[1]), Data(x=[35, 778], edge_index=[2, 34], y=[1]), Data(x=[76, 778], edge_index=[2, 75], y=[1]), Data(x=[127, 778], edge_index=[2, 126], y=[1]), Data(x=[14, 778], edge_index=[2, 13], y=[1]), Data(x=[47, 778], edge_index=[2, 46], y=[1]), Data(x=[43, 778], edge_index=[2, 42], y=[1]), Data(x=[8, 778], edge_index=[2, 7], y=[1]), Data(x=[61, 778], edge_index=[2, 60], y=[1]), Data(x=[12, 778], edge_index=[2, 11], y=[1]), Data(x=[125, 778], edge_index=[2, 124], y=[1]), Data(x=[38, 778], edge_index=[2, 37], y=[1]), Data(x=[8, 778], edge_index=[2, 7], y=[1]), Data(x=[103, 778], edge_index=[2, 102], y=[1]), Data(x=[93, 778], edge_index=[2, 92], y=[1]), Data(x=[17, 778], edge_index=[2, 16], y=[1]), Data(x=[63, 778], edge_index=[2, 62], y=[1]), Data(x=[16, 778], edge_index=[2, 15], y=[1]), Data(x=[76, 778], edge_index=[2, 75], y=[1]), Data(x=[19, 778], edge_index=[2, 18], y=[1]), Data(x=[45, 778], edge_index=[2, 44], y=[1]), Data(x=[92, 778], edge_index=[2, 91], y=[1]), Data(x=[21, 778], edge_index=[2, 20], y=[1]), Data(x=[96, 778], edge_index=[2, 95], y=[1]), Data(x=[27, 778], edge_index=[2, 26], y=[1]), Data(x=[33, 778], edge_index=[2, 32], y=[1]), Data(x=[171, 778], edge_index=[2, 170], y=[1]), Data(x=[28, 778], edge_index=[2, 27], y=[1]), Data(x=[77, 778], edge_index=[2, 76], y=[1]), Data(x=[171, 778], edge_index=[2, 170], y=[1]), Data(x=[23, 778], edge_index=[2, 22], y=[1]), Data(x=[64, 778], edge_index=[2, 63], y=[1]), Data(x=[70, 778], edge_index=[2, 69], y=[1]), Data(x=[7, 778], edge_index=[2, 6], y=[1]), Data(x=[20, 778], edge_index=[2, 19], y=[1]), Data(x=[43, 778], edge_index=[2, 42], y=[1]), Data(x=[21, 778], edge_index=[2, 20], y=[1]), Data(x=[49, 778], edge_index=[2, 48], y=[1]), Data(x=[26, 778], edge_index=[2, 25], y=[1]), Data(x=[8, 778], edge_index=[2, 7], y=[1]), Data(x=[7, 778], edge_index=[2, 6], y=[1]), Data(x=[12, 778], edge_index=[2, 11], y=[1]), Data(x=[73, 778], edge_index=[2, 72], y=[1]), Data(x=[8, 778], edge_index=[2, 7], y=[1]), Data(x=[89, 778], edge_index=[2, 88], y=[1]), Data(x=[8, 778], edge_index=[2, 7], y=[1]), Data(x=[8, 778], edge_index=[2, 7], y=[1]), Data(x=[27, 778], edge_index=[2, 26], y=[1]), Data(x=[86, 778], edge_index=[2, 85], y=[1]), Data(x=[13, 778], edge_index=[2, 12], y=[1]), Data(x=[130, 778], edge_index=[2, 129], y=[1]), Data(x=[57, 778], edge_index=[2, 56], y=[1]), Data(x=[84, 778], edge_index=[2, 83], y=[1]), Data(x=[167, 778], edge_index=[2, 166], y=[1]), Data(x=[27, 778], edge_index=[2, 26], y=[1]), Data(x=[31, 778], edge_index=[2, 30], y=[1]), Data(x=[27, 778], edge_index=[2, 26], y=[1]), Data(x=[6, 778], edge_index=[2, 5], y=[1]), Data(x=[47, 778], edge_index=[2, 46], y=[1]), Data(x=[68, 778], edge_index=[2, 67], y=[1]), Data(x=[12, 778], edge_index=[2, 11], y=[1]), Data(x=[58, 778], edge_index=[2, 57], y=[1]), Data(x=[96, 778], edge_index=[2, 95], y=[1]), Data(x=[68, 778], edge_index=[2, 67], y=[1]), Data(x=[47, 778], edge_index=[2, 46], y=[1]), Data(x=[94, 778], edge_index=[2, 93], y=[1]), Data(x=[87, 778], edge_index=[2, 86], y=[1]), Data(x=[20, 778], edge_index=[2, 19], y=[1]), Data(x=[70, 778], edge_index=[2, 69], y=[1]), Data(x=[43, 778], edge_index=[2, 42], y=[1]), Data(x=[177, 778], edge_index=[2, 176], y=[1]), Data(x=[80, 778], edge_index=[2, 79], y=[1]), Data(x=[18, 778], edge_index=[2, 17], y=[1]), Data(x=[11, 778], edge_index=[2, 10], y=[1]), Data(x=[46, 778], edge_index=[2, 45], y=[1]), Data(x=[73, 778], edge_index=[2, 72], y=[1]), Data(x=[63, 778], edge_index=[2, 62], y=[1]), Data(x=[23, 778], edge_index=[2, 22], y=[1]), Data(x=[31, 778], edge_index=[2, 30], y=[1]), Data(x=[33, 778], edge_index=[2, 32], y=[1]), Data(x=[77, 778], edge_index=[2, 76], y=[1]), Data(x=[43, 778], edge_index=[2, 42], y=[1]), Data(x=[21, 778], edge_index=[2, 20], y=[1]), Data(x=[57, 778], edge_index=[2, 56], y=[1]), Data(x=[51, 778], edge_index=[2, 50], y=[1]), Data(x=[9, 778], edge_index=[2, 8], y=[1]), Data(x=[114, 778], edge_index=[2, 113], y=[1]), Data(x=[18, 778], edge_index=[2, 17], y=[1]), Data(x=[7, 778], edge_index=[2, 6], y=[1]), Data(x=[84, 778], edge_index=[2, 83], y=[1]), Data(x=[58, 778], edge_index=[2, 57], y=[1]), Data(x=[92, 778], edge_index=[2, 91], y=[1]), Data(x=[8, 778], edge_index=[2, 7], y=[1]), Data(x=[80, 778], edge_index=[2, 79], y=[1]), Data(x=[83, 778], edge_index=[2, 82], y=[1]), Data(x=[10, 778], edge_index=[2, 9], y=[1]), Data(x=[35, 778], edge_index=[2, 34], y=[1]), Data(x=[57, 778], edge_index=[2, 56], y=[1]), Data(x=[65, 778], edge_index=[2, 64], y=[1]), Data(x=[133, 778], edge_index=[2, 132], y=[1]), Data(x=[51, 778], edge_index=[2, 50], y=[1]), Data(x=[65, 778], edge_index=[2, 64], y=[1]), Data(x=[108, 778], edge_index=[2, 107], y=[1]), Data(x=[111, 778], edge_index=[2, 110], y=[1]), Data(x=[73, 778], edge_index=[2, 72], y=[1]), Data(x=[36, 778], edge_index=[2, 35], y=[1]), Data(x=[135, 778], edge_index=[2, 134], y=[1]), Data(x=[16, 778], edge_index=[2, 15], y=[1]), Data(x=[79, 778], edge_index=[2, 78], y=[1]), Data(x=[54, 778], edge_index=[2, 53], y=[1]), Data(x=[8, 778], edge_index=[2, 7], y=[1]), Data(x=[28, 778], edge_index=[2, 27], y=[1]), Data(x=[28, 778], edge_index=[2, 27], y=[1]), Data(x=[38, 778], edge_index=[2, 37], y=[1]), Data(x=[3, 778], edge_index=[2, 2], y=[1]), Data(x=[30, 778], edge_index=[2, 29], y=[1]), Data(x=[8, 778], edge_index=[2, 7], y=[1]), Data(x=[146, 778], edge_index=[2, 145], y=[1]), Data(x=[54, 778], edge_index=[2, 53], y=[1]), Data(x=[104, 778], edge_index=[2, 103], y=[1]), Data(x=[91, 778], edge_index=[2, 90], y=[1]), Data(x=[17, 778], edge_index=[2, 16], y=[1]), Data(x=[141, 778], edge_index=[2, 140], y=[1]), Data(x=[51, 778], edge_index=[2, 50], y=[1]), Data(x=[80, 778], edge_index=[2, 79], y=[1]), Data(x=[89, 778], edge_index=[2, 88], y=[1]), Data(x=[56, 778], edge_index=[2, 55], y=[1]), Data(x=[108, 778], edge_index=[2, 107], y=[1]), Data(x=[31, 778], edge_index=[2, 30], y=[1]), Data(x=[71, 778], edge_index=[2, 70], y=[1]), Data(x=[51, 778], edge_index=[2, 50], y=[1]), Data(x=[154, 778], edge_index=[2, 153], y=[1]), Data(x=[84, 778], edge_index=[2, 83], y=[1]), Data(x=[51, 778], edge_index=[2, 50], y=[1]), Data(x=[92, 778], edge_index=[2, 91], y=[1]), Data(x=[7, 778], edge_index=[2, 6], y=[1]), Data(x=[72, 778], edge_index=[2, 71], y=[1]), Data(x=[43, 778], edge_index=[2, 42], y=[1]), Data(x=[111, 778], edge_index=[2, 110], y=[1]), Data(x=[21, 778], edge_index=[2, 20], y=[1]), Data(x=[144, 778], edge_index=[2, 143], y=[1]), Data(x=[16, 778], edge_index=[2, 15], y=[1]), Data(x=[96, 778], edge_index=[2, 95], y=[1]), Data(x=[20, 778], edge_index=[2, 19], y=[1]), Data(x=[56, 778], edge_index=[2, 55], y=[1]), Data(x=[186, 778], edge_index=[2, 185], y=[1]), Data(x=[17, 778], edge_index=[2, 16], y=[1]), Data(x=[12, 778], edge_index=[2, 11], y=[1]), Data(x=[26, 778], edge_index=[2, 25], y=[1]), Data(x=[113, 778], edge_index=[2, 112], y=[1]), Data(x=[9, 778], edge_index=[2, 8], y=[1]), Data(x=[15, 778], edge_index=[2, 14], y=[1]), Data(x=[14, 778], edge_index=[2, 13], y=[1]), Data(x=[65, 778], edge_index=[2, 64], y=[1]), Data(x=[74, 778], edge_index=[2, 73], y=[1]), Data(x=[133, 778], edge_index=[2, 132], y=[1]), Data(x=[73, 778], edge_index=[2, 72], y=[1]), Data(x=[192, 778], edge_index=[2, 191], y=[1]), Data(x=[52, 778], edge_index=[2, 51], y=[1]), Data(x=[42, 778], edge_index=[2, 41], y=[1]), Data(x=[80, 778], edge_index=[2, 79], y=[1]), Data(x=[96, 778], edge_index=[2, 95], y=[1]), Data(x=[66, 778], edge_index=[2, 65], y=[1]), Data(x=[101, 778], edge_index=[2, 100], y=[1]), Data(x=[9, 778], edge_index=[2, 8], y=[1]), Data(x=[12, 778], edge_index=[2, 11], y=[1]), Data(x=[14, 778], edge_index=[2, 13], y=[1]), Data(x=[18, 778], edge_index=[2, 17], y=[1]), Data(x=[87, 778], edge_index=[2, 86], y=[1]), Data(x=[49, 778], edge_index=[2, 48], y=[1]), Data(x=[113, 778], edge_index=[2, 112], y=[1]), Data(x=[139, 778], edge_index=[2, 138], y=[1]), Data(x=[175, 778], edge_index=[2, 174], y=[1]), Data(x=[167, 778], edge_index=[2, 166], y=[1]), Data(x=[18, 778], edge_index=[2, 17], y=[1]), Data(x=[8, 778], edge_index=[2, 7], y=[1]), Data(x=[175, 778], edge_index=[2, 174], y=[1]), Data(x=[21, 778], edge_index=[2, 20], y=[1]), Data(x=[78, 778], edge_index=[2, 77], y=[1]), Data(x=[24, 778], edge_index=[2, 23], y=[1]), Data(x=[23, 778], edge_index=[2, 22], y=[1]), Data(x=[28, 778], edge_index=[2, 27], y=[1]), Data(x=[42, 778], edge_index=[2, 41], y=[1]), Data(x=[53, 778], edge_index=[2, 52], y=[1]), Data(x=[117, 778], edge_index=[2, 116], y=[1]), Data(x=[43, 778], edge_index=[2, 42], y=[1]), Data(x=[69, 778], edge_index=[2, 68], y=[1]), Data(x=[21, 778], edge_index=[2, 20], y=[1]), Data(x=[25, 778], edge_index=[2, 24], y=[1]), Data(x=[151, 778], edge_index=[2, 150], y=[1]), Data(x=[8, 778], edge_index=[2, 7], y=[1]), Data(x=[101, 778], edge_index=[2, 100], y=[1]), Data(x=[94, 778], edge_index=[2, 93], y=[1]), Data(x=[9, 778], edge_index=[2, 8], y=[1]), Data(x=[60, 778], edge_index=[2, 59], y=[1]), Data(x=[152, 778], edge_index=[2, 151], y=[1]), Data(x=[29, 778], edge_index=[2, 28], y=[1]), Data(x=[42, 778], edge_index=[2, 41], y=[1]), Data(x=[60, 778], edge_index=[2, 59], y=[1]), Data(x=[8, 778], edge_index=[2, 7], y=[1]), Data(x=[98, 778], edge_index=[2, 97], y=[1]), Data(x=[89, 778], edge_index=[2, 88], y=[1]), Data(x=[74, 778], edge_index=[2, 73], y=[1]), Data(x=[41, 778], edge_index=[2, 40], y=[1]), Data(x=[138, 778], edge_index=[2, 137], y=[1]), Data(x=[183, 778], edge_index=[2, 182], y=[1]), Data(x=[91, 778], edge_index=[2, 90], y=[1]), Data(x=[18, 778], edge_index=[2, 17], y=[1]), Data(x=[19, 778], edge_index=[2, 18], y=[1]), Data(x=[48, 778], edge_index=[2, 47], y=[1]), Data(x=[40, 778], edge_index=[2, 39], y=[1]), Data(x=[40, 778], edge_index=[2, 39], y=[1]), Data(x=[52, 778], edge_index=[2, 51], y=[1]), Data(x=[19, 778], edge_index=[2, 18], y=[1]), Data(x=[41, 778], edge_index=[2, 40], y=[1]), Data(x=[25, 778], edge_index=[2, 24], y=[1]), Data(x=[62, 778], edge_index=[2, 61], y=[1]), Data(x=[151, 778], edge_index=[2, 150], y=[1]), Data(x=[44, 778], edge_index=[2, 43], y=[1]), Data(x=[51, 778], edge_index=[2, 50], y=[1]), Data(x=[107, 778], edge_index=[2, 106], y=[1]), Data(x=[151, 778], edge_index=[2, 150], y=[1]), Data(x=[62, 778], edge_index=[2, 61], y=[1]), Data(x=[173, 778], edge_index=[2, 172], y=[1]), Data(x=[26, 778], edge_index=[2, 25], y=[1]), Data(x=[85, 778], edge_index=[2, 84], y=[1]), Data(x=[68, 778], edge_index=[2, 67], y=[1]), Data(x=[7, 778], edge_index=[2, 6], y=[1]), Data(x=[28, 778], edge_index=[2, 27], y=[1]), Data(x=[10, 778], edge_index=[2, 9], y=[1]), Data(x=[17, 778], edge_index=[2, 16], y=[1]), Data(x=[85, 778], edge_index=[2, 84], y=[1]), Data(x=[65, 778], edge_index=[2, 64], y=[1]), Data(x=[11, 778], edge_index=[2, 10], y=[1]), Data(x=[59, 778], edge_index=[2, 58], y=[1]), Data(x=[110, 778], edge_index=[2, 109], y=[1]), Data(x=[52, 778], edge_index=[2, 51], y=[1]), Data(x=[33, 778], edge_index=[2, 32], y=[1]), Data(x=[22, 778], edge_index=[2, 21], y=[1]), Data(x=[25, 778], edge_index=[2, 24], y=[1]), Data(x=[5, 778], edge_index=[2, 4], y=[1]), Data(x=[8, 778], edge_index=[2, 7], y=[1]), Data(x=[72, 778], edge_index=[2, 71], y=[1]), Data(x=[142, 778], edge_index=[2, 141], y=[1]), Data(x=[45, 778], edge_index=[2, 44], y=[1]), Data(x=[58, 778], edge_index=[2, 57], y=[1]), Data(x=[28, 778], edge_index=[2, 27], y=[1]), Data(x=[18, 778], edge_index=[2, 17], y=[1]), Data(x=[71, 778], edge_index=[2, 70], y=[1]), Data(x=[64, 778], edge_index=[2, 63], y=[1]), Data(x=[124, 778], edge_index=[2, 123], y=[1]), Data(x=[62, 778], edge_index=[2, 61], y=[1]), Data(x=[11, 778], edge_index=[2, 10], y=[1]), Data(x=[13, 778], edge_index=[2, 12], y=[1]), Data(x=[11, 778], edge_index=[2, 10], y=[1]), Data(x=[9, 778], edge_index=[2, 8], y=[1]), Data(x=[88, 778], edge_index=[2, 87], y=[1]), Data(x=[102, 778], edge_index=[2, 101], y=[1]), Data(x=[32, 778], edge_index=[2, 31], y=[1]), Data(x=[95, 778], edge_index=[2, 94], y=[1]), Data(x=[9, 778], edge_index=[2, 8], y=[1]), Data(x=[137, 778], edge_index=[2, 136], y=[1]), Data(x=[68, 778], edge_index=[2, 67], y=[1]), Data(x=[136, 778], edge_index=[2, 135], y=[1]), Data(x=[4, 778], edge_index=[2, 3], y=[1]), Data(x=[7, 778], edge_index=[2, 6], y=[1]), Data(x=[5, 778], edge_index=[2, 4], y=[1]), Data(x=[61, 778], edge_index=[2, 60], y=[1]), Data(x=[3, 778], edge_index=[2, 2], y=[1]), Data(x=[76, 778], edge_index=[2, 75], y=[1]), Data(x=[103, 778], edge_index=[2, 102], y=[1]), Data(x=[60, 778], edge_index=[2, 59], y=[1]), Data(x=[30, 778], edge_index=[2, 29], y=[1]), Data(x=[146, 778], edge_index=[2, 145], y=[1]), Data(x=[139, 778], edge_index=[2, 138], y=[1]), Data(x=[11, 778], edge_index=[2, 10], y=[1]), Data(x=[33, 778], edge_index=[2, 32], y=[1]), Data(x=[27, 778], edge_index=[2, 26], y=[1]), Data(x=[67, 778], edge_index=[2, 66], y=[1]), Data(x=[76, 778], edge_index=[2, 75], y=[1]), Data(x=[50, 778], edge_index=[2, 49], y=[1]), Data(x=[141, 778], edge_index=[2, 140], y=[1]), Data(x=[6, 778], edge_index=[2, 5], y=[1]), Data(x=[7, 778], edge_index=[2, 6], y=[1]), Data(x=[10, 778], edge_index=[2, 9], y=[1]), Data(x=[61, 778], edge_index=[2, 60], y=[1]), Data(x=[78, 778], edge_index=[2, 77], y=[1]), Data(x=[74, 778], edge_index=[2, 73], y=[1]), Data(x=[9, 778], edge_index=[2, 8], y=[1]), Data(x=[79, 778], edge_index=[2, 78], y=[1]), Data(x=[55, 778], edge_index=[2, 54], y=[1]), Data(x=[58, 778], edge_index=[2, 57], y=[1]), Data(x=[3, 778], edge_index=[2, 2], y=[1]), Data(x=[54, 778], edge_index=[2, 53], y=[1]), Data(x=[88, 778], edge_index=[2, 87], y=[1]), Data(x=[103, 778], edge_index=[2, 102], y=[1]), Data(x=[44, 778], edge_index=[2, 43], y=[1]), Data(x=[76, 778], edge_index=[2, 75], y=[1]), Data(x=[28, 778], edge_index=[2, 27], y=[1]), Data(x=[3, 778], edge_index=[2, 2], y=[1]), Data(x=[5, 778], edge_index=[2, 4], y=[1]), Data(x=[42, 778], edge_index=[2, 41], y=[1]), Data(x=[15, 778], edge_index=[2, 14], y=[1]), Data(x=[6, 778], edge_index=[2, 5], y=[1]), Data(x=[12, 778], edge_index=[2, 11], y=[1]), Data(x=[22, 778], edge_index=[2, 21], y=[1]), Data(x=[128, 778], edge_index=[2, 127], y=[1]), Data(x=[53, 778], edge_index=[2, 52], y=[1]), Data(x=[31, 778], edge_index=[2, 30], y=[1]), Data(x=[75, 778], edge_index=[2, 74], y=[1]), Data(x=[103, 778], edge_index=[2, 102], y=[1]), Data(x=[41, 778], edge_index=[2, 40], y=[1]), Data(x=[56, 778], edge_index=[2, 55], y=[1]), Data(x=[55, 778], edge_index=[2, 54], y=[1]), Data(x=[78, 778], edge_index=[2, 77], y=[1]), Data(x=[41, 778], edge_index=[2, 40], y=[1]), Data(x=[23, 778], edge_index=[2, 22], y=[1]), Data(x=[9, 778], edge_index=[2, 8], y=[1]), Data(x=[79, 778], edge_index=[2, 78], y=[1]), Data(x=[114, 778], edge_index=[2, 113], y=[1]), Data(x=[77, 778], edge_index=[2, 76], y=[1]), Data(x=[8, 778], edge_index=[2, 7], y=[1]), Data(x=[93, 778], edge_index=[2, 92], y=[1]), Data(x=[162, 778], edge_index=[2, 161], y=[1]), Data(x=[47, 778], edge_index=[2, 46], y=[1]), Data(x=[33, 778], edge_index=[2, 32], y=[1]), Data(x=[42, 778], edge_index=[2, 41], y=[1]), Data(x=[27, 778], edge_index=[2, 26], y=[1]), Data(x=[97, 778], edge_index=[2, 96], y=[1]), Data(x=[80, 778], edge_index=[2, 79], y=[1]), Data(x=[37, 778], edge_index=[2, 36], y=[1]), Data(x=[53, 778], edge_index=[2, 52], y=[1]), Data(x=[7, 778], edge_index=[2, 6], y=[1]), Data(x=[21, 778], edge_index=[2, 20], y=[1]), Data(x=[20, 778], edge_index=[2, 19], y=[1]), Data(x=[6, 778], edge_index=[2, 5], y=[1]), Data(x=[30, 778], edge_index=[2, 29], y=[1]), Data(x=[16, 778], edge_index=[2, 15], y=[1]), Data(x=[20, 778], edge_index=[2, 19], y=[1]), Data(x=[91, 778], edge_index=[2, 90], y=[1]), Data(x=[18, 778], edge_index=[2, 17], y=[1]), Data(x=[116, 778], edge_index=[2, 115], y=[1]), Data(x=[18, 778], edge_index=[2, 17], y=[1]), Data(x=[48, 778], edge_index=[2, 47], y=[1]), Data(x=[34, 778], edge_index=[2, 33], y=[1]), Data(x=[15, 778], edge_index=[2, 14], y=[1]), Data(x=[54, 778], edge_index=[2, 53], y=[1]), Data(x=[17, 778], edge_index=[2, 16], y=[1]), Data(x=[88, 778], edge_index=[2, 87], y=[1]), Data(x=[7, 778], edge_index=[2, 6], y=[1]), Data(x=[26, 778], edge_index=[2, 25], y=[1]), Data(x=[5, 778], edge_index=[2, 4], y=[1]), Data(x=[34, 778], edge_index=[2, 33], y=[1]), Data(x=[7, 778], edge_index=[2, 6], y=[1]), Data(x=[23, 778], edge_index=[2, 22], y=[1]), Data(x=[111, 778], edge_index=[2, 110], y=[1]), Data(x=[69, 778], edge_index=[2, 68], y=[1]), Data(x=[23, 778], edge_index=[2, 22], y=[1]), Data(x=[108, 778], edge_index=[2, 107], y=[1]), Data(x=[16, 778], edge_index=[2, 15], y=[1]), Data(x=[36, 778], edge_index=[2, 35], y=[1]), Data(x=[45, 778], edge_index=[2, 44], y=[1]), Data(x=[6, 778], edge_index=[2, 5], y=[1]), Data(x=[25, 778], edge_index=[2, 24], y=[1]), Data(x=[41, 778], edge_index=[2, 40], y=[1]), Data(x=[30, 778], edge_index=[2, 29], y=[1]), Data(x=[115, 778], edge_index=[2, 114], y=[1]), Data(x=[7, 778], edge_index=[2, 6], y=[1]), Data(x=[71, 778], edge_index=[2, 70], y=[1]), Data(x=[10, 778], edge_index=[2, 9], y=[1]), Data(x=[5, 778], edge_index=[2, 4], y=[1]), Data(x=[36, 778], edge_index=[2, 35], y=[1]), Data(x=[121, 778], edge_index=[2, 120], y=[1]), Data(x=[83, 778], edge_index=[2, 82], y=[1]), Data(x=[51, 778], edge_index=[2, 50], y=[1]), Data(x=[61, 778], edge_index=[2, 60], y=[1]), Data(x=[40, 778], edge_index=[2, 39], y=[1]), Data(x=[20, 778], edge_index=[2, 19], y=[1]), Data(x=[12, 778], edge_index=[2, 11], y=[1]), Data(x=[73, 778], edge_index=[2, 72], y=[1]), Data(x=[11, 778], edge_index=[2, 10], y=[1]), Data(x=[15, 778], edge_index=[2, 14], y=[1]), Data(x=[67, 778], edge_index=[2, 66], y=[1]), Data(x=[20, 778], edge_index=[2, 19], y=[1]), Data(x=[160, 778], edge_index=[2, 159], y=[1]), Data(x=[64, 778], edge_index=[2, 63], y=[1]), Data(x=[9, 778], edge_index=[2, 8], y=[1]), Data(x=[16, 778], edge_index=[2, 15], y=[1]), Data(x=[10, 778], edge_index=[2, 9], y=[1]), Data(x=[13, 778], edge_index=[2, 12], y=[1]), Data(x=[86, 778], edge_index=[2, 85], y=[1]), Data(x=[21, 778], edge_index=[2, 20], y=[1]), Data(x=[9, 778], edge_index=[2, 8], y=[1]), Data(x=[76, 778], edge_index=[2, 75], y=[1]), Data(x=[84, 778], edge_index=[2, 83], y=[1]), Data(x=[14, 778], edge_index=[2, 13], y=[1]), Data(x=[89, 778], edge_index=[2, 88], y=[1]), Data(x=[11, 778], edge_index=[2, 10], y=[1]), Data(x=[110, 778], edge_index=[2, 109], y=[1]), Data(x=[8, 778], edge_index=[2, 7], y=[1]), Data(x=[162, 778], edge_index=[2, 161], y=[1]), Data(x=[28, 778], edge_index=[2, 27], y=[1]), Data(x=[76, 778], edge_index=[2, 75], y=[1]), Data(x=[95, 778], edge_index=[2, 94], y=[1]), Data(x=[7, 778], edge_index=[2, 6], y=[1]), Data(x=[45, 778], edge_index=[2, 44], y=[1]), Data(x=[85, 778], edge_index=[2, 84], y=[1]), Data(x=[53, 778], edge_index=[2, 52], y=[1]), Data(x=[155, 778], edge_index=[2, 154], y=[1]), Data(x=[83, 778], edge_index=[2, 82], y=[1]), Data(x=[7, 778], edge_index=[2, 6], y=[1]), Data(x=[23, 778], edge_index=[2, 22], y=[1]), Data(x=[23, 778], edge_index=[2, 22], y=[1]), Data(x=[14, 778], edge_index=[2, 13], y=[1]), Data(x=[164, 778], edge_index=[2, 163], y=[1]), Data(x=[61, 778], edge_index=[2, 60], y=[1]), Data(x=[117, 778], edge_index=[2, 116], y=[1]), Data(x=[19, 778], edge_index=[2, 18], y=[1]), Data(x=[86, 778], edge_index=[2, 85], y=[1]), Data(x=[12, 778], edge_index=[2, 11], y=[1]), Data(x=[13, 778], edge_index=[2, 12], y=[1]), Data(x=[132, 778], edge_index=[2, 131], y=[1]), Data(x=[23, 778], edge_index=[2, 22], y=[1]), Data(x=[105, 778], edge_index=[2, 104], y=[1]), Data(x=[87, 778], edge_index=[2, 86], y=[1]), Data(x=[20, 778], edge_index=[2, 19], y=[1]), Data(x=[80, 778], edge_index=[2, 79], y=[1]), Data(x=[8, 778], edge_index=[2, 7], y=[1]), Data(x=[62, 778], edge_index=[2, 61], y=[1]), Data(x=[46, 778], edge_index=[2, 45], y=[1]), Data(x=[45, 778], edge_index=[2, 44], y=[1]), Data(x=[80, 778], edge_index=[2, 79], y=[1]), Data(x=[41, 778], edge_index=[2, 40], y=[1]), Data(x=[63, 778], edge_index=[2, 62], y=[1]), Data(x=[20, 778], edge_index=[2, 19], y=[1]), Data(x=[59, 778], edge_index=[2, 58], y=[1]), Data(x=[58, 778], edge_index=[2, 57], y=[1]), Data(x=[13, 778], edge_index=[2, 12], y=[1]), Data(x=[91, 778], edge_index=[2, 90], y=[1]), Data(x=[44, 778], edge_index=[2, 43], y=[1]), Data(x=[102, 778], edge_index=[2, 101], y=[1]), Data(x=[86, 778], edge_index=[2, 85], y=[1]), Data(x=[96, 778], edge_index=[2, 95], y=[1]), Data(x=[45, 778], edge_index=[2, 44], y=[1]), Data(x=[56, 778], edge_index=[2, 55], y=[1]), Data(x=[14, 778], edge_index=[2, 13], y=[1]), Data(x=[7, 778], edge_index=[2, 6], y=[1]), Data(x=[126, 778], edge_index=[2, 125], y=[1]), Data(x=[7, 778], edge_index=[2, 6], y=[1]), Data(x=[41, 778], edge_index=[2, 40], y=[1]), Data(x=[49, 778], edge_index=[2, 48], y=[1]), Data(x=[5, 778], edge_index=[2, 4], y=[1]), Data(x=[5, 778], edge_index=[2, 4], y=[1]), Data(x=[138, 778], edge_index=[2, 137], y=[1]), Data(x=[14, 778], edge_index=[2, 13], y=[1]), Data(x=[39, 778], edge_index=[2, 38], y=[1]), Data(x=[102, 778], edge_index=[2, 101], y=[1]), Data(x=[65, 778], edge_index=[2, 64], y=[1]), Data(x=[39, 778], edge_index=[2, 38], y=[1]), Data(x=[52, 778], edge_index=[2, 51], y=[1]), Data(x=[83, 778], edge_index=[2, 82], y=[1]), Data(x=[91, 778], edge_index=[2, 90], y=[1]), Data(x=[45, 778], edge_index=[2, 44], y=[1]), Data(x=[20, 778], edge_index=[2, 19], y=[1]), Data(x=[16, 778], edge_index=[2, 15], y=[1]), Data(x=[58, 778], edge_index=[2, 57], y=[1]), Data(x=[167, 778], edge_index=[2, 166], y=[1]), Data(x=[12, 778], edge_index=[2, 11], y=[1]), Data(x=[170, 778], edge_index=[2, 169], y=[1]), Data(x=[46, 778], edge_index=[2, 45], y=[1]), Data(x=[28, 778], edge_index=[2, 27], y=[1]), Data(x=[44, 778], edge_index=[2, 43], y=[1]), Data(x=[18, 778], edge_index=[2, 17], y=[1]), Data(x=[4, 778], edge_index=[2, 3], y=[1]), Data(x=[8, 778], edge_index=[2, 7], y=[1]), Data(x=[85, 778], edge_index=[2, 84], y=[1]), Data(x=[59, 778], edge_index=[2, 58], y=[1]), Data(x=[47, 778], edge_index=[2, 46], y=[1]), Data(x=[31, 778], edge_index=[2, 30], y=[1]), Data(x=[55, 778], edge_index=[2, 54], y=[1]), Data(x=[24, 778], edge_index=[2, 23], y=[1]), Data(x=[16, 778], edge_index=[2, 15], y=[1]), Data(x=[164, 778], edge_index=[2, 163], y=[1]), Data(x=[94, 778], edge_index=[2, 93], y=[1]), Data(x=[93, 778], edge_index=[2, 92], y=[1]), Data(x=[39, 778], edge_index=[2, 38], y=[1]), Data(x=[48, 778], edge_index=[2, 47], y=[1]), Data(x=[49, 778], edge_index=[2, 48], y=[1]), Data(x=[58, 778], edge_index=[2, 57], y=[1]), Data(x=[27, 778], edge_index=[2, 26], y=[1]), Data(x=[71, 778], edge_index=[2, 70], y=[1]), Data(x=[126, 778], edge_index=[2, 125], y=[1]), Data(x=[117, 778], edge_index=[2, 116], y=[1]), Data(x=[4, 778], edge_index=[2, 3], y=[1]), Data(x=[8, 778], edge_index=[2, 7], y=[1]), Data(x=[88, 778], edge_index=[2, 87], y=[1]), Data(x=[64, 778], edge_index=[2, 63], y=[1]), Data(x=[48, 778], edge_index=[2, 47], y=[1]), Data(x=[14, 778], edge_index=[2, 13], y=[1]), Data(x=[52, 778], edge_index=[2, 51], y=[1]), Data(x=[165, 778], edge_index=[2, 164], y=[1]), Data(x=[64, 778], edge_index=[2, 63], y=[1]), Data(x=[189, 778], edge_index=[2, 188], y=[1]), Data(x=[111, 778], edge_index=[2, 110], y=[1]), Data(x=[21, 778], edge_index=[2, 20], y=[1]), Data(x=[113, 778], edge_index=[2, 112], y=[1]), Data(x=[59, 778], edge_index=[2, 58], y=[1]), Data(x=[10, 778], edge_index=[2, 9], y=[1]), Data(x=[11, 778], edge_index=[2, 10], y=[1]), Data(x=[55, 778], edge_index=[2, 54], y=[1]), Data(x=[62, 778], edge_index=[2, 61], y=[1]), Data(x=[10, 778], edge_index=[2, 9], y=[1]), Data(x=[189, 778], edge_index=[2, 188], y=[1]), Data(x=[141, 778], edge_index=[2, 140], y=[1]), Data(x=[32, 778], edge_index=[2, 31], y=[1]), Data(x=[73, 778], edge_index=[2, 72], y=[1]), Data(x=[134, 778], edge_index=[2, 133], y=[1]), Data(x=[45, 778], edge_index=[2, 44], y=[1]), Data(x=[182, 778], edge_index=[2, 181], y=[1]), Data(x=[27, 778], edge_index=[2, 26], y=[1]), Data(x=[16, 778], edge_index=[2, 15], y=[1]), Data(x=[106, 778], edge_index=[2, 105], y=[1]), Data(x=[74, 778], edge_index=[2, 73], y=[1]), Data(x=[24, 778], edge_index=[2, 23], y=[1]), Data(x=[25, 778], edge_index=[2, 24], y=[1]), Data(x=[111, 778], edge_index=[2, 110], y=[1]), Data(x=[181, 778], edge_index=[2, 180], y=[1]), Data(x=[8, 778], edge_index=[2, 7], y=[1]), Data(x=[23, 778], edge_index=[2, 22], y=[1]), Data(x=[149, 778], edge_index=[2, 148], y=[1]), Data(x=[4, 778], edge_index=[2, 3], y=[1]), Data(x=[39, 778], edge_index=[2, 38], y=[1]), Data(x=[80, 778], edge_index=[2, 79], y=[1]), Data(x=[67, 778], edge_index=[2, 66], y=[1]), Data(x=[7, 778], edge_index=[2, 6], y=[1]), Data(x=[8, 778], edge_index=[2, 7], y=[1]), Data(x=[82, 778], edge_index=[2, 81], y=[1]), Data(x=[6, 778], edge_index=[2, 5], y=[1]), Data(x=[17, 778], edge_index=[2, 16], y=[1]), Data(x=[97, 778], edge_index=[2, 96], y=[1]), Data(x=[79, 778], edge_index=[2, 78], y=[1]), Data(x=[79, 778], edge_index=[2, 78], y=[1]), Data(x=[9, 778], edge_index=[2, 8], y=[1]), Data(x=[31, 778], edge_index=[2, 30], y=[1]), Data(x=[10, 778], edge_index=[2, 9], y=[1]), Data(x=[112, 778], edge_index=[2, 111], y=[1]), Data(x=[3, 778], edge_index=[2, 2], y=[1]), Data(x=[81, 778], edge_index=[2, 80], y=[1]), Data(x=[10, 778], edge_index=[2, 9], y=[1]), Data(x=[16, 778], edge_index=[2, 15], y=[1]), Data(x=[160, 778], edge_index=[2, 159], y=[1]), Data(x=[84, 778], edge_index=[2, 83], y=[1]), Data(x=[60, 778], edge_index=[2, 59], y=[1]), Data(x=[19, 778], edge_index=[2, 18], y=[1]), Data(x=[11, 778], edge_index=[2, 10], y=[1]), Data(x=[31, 778], edge_index=[2, 30], y=[1]), Data(x=[90, 778], edge_index=[2, 89], y=[1]), Data(x=[40, 778], edge_index=[2, 39], y=[1]), Data(x=[22, 778], edge_index=[2, 21], y=[1]), Data(x=[48, 778], edge_index=[2, 47], y=[1]), Data(x=[121, 778], edge_index=[2, 120], y=[1]), Data(x=[111, 778], edge_index=[2, 110], y=[1]), Data(x=[12, 778], edge_index=[2, 11], y=[1]), Data(x=[10, 778], edge_index=[2, 9], y=[1]), Data(x=[125, 778], edge_index=[2, 124], y=[1]), Data(x=[52, 778], edge_index=[2, 51], y=[1]), Data(x=[84, 778], edge_index=[2, 83], y=[1]), Data(x=[27, 778], edge_index=[2, 26], y=[1]), Data(x=[72, 778], edge_index=[2, 71], y=[1]), Data(x=[55, 778], edge_index=[2, 54], y=[1]), Data(x=[65, 778], edge_index=[2, 64], y=[1]), Data(x=[22, 778], edge_index=[2, 21], y=[1]), Data(x=[76, 778], edge_index=[2, 75], y=[1]), Data(x=[66, 778], edge_index=[2, 65], y=[1]), Data(x=[12, 778], edge_index=[2, 11], y=[1]), Data(x=[82, 778], edge_index=[2, 81], y=[1]), Data(x=[26, 778], edge_index=[2, 25], y=[1]), Data(x=[118, 778], edge_index=[2, 117], y=[1]), Data(x=[9, 778], edge_index=[2, 8], y=[1]), Data(x=[50, 778], edge_index=[2, 49], y=[1]), Data(x=[18, 778], edge_index=[2, 17], y=[1]), Data(x=[50, 778], edge_index=[2, 49], y=[1]), Data(x=[79, 778], edge_index=[2, 78], y=[1]), Data(x=[96, 778], edge_index=[2, 95], y=[1]), Data(x=[28, 778], edge_index=[2, 27], y=[1]), Data(x=[138, 778], edge_index=[2, 137], y=[1]), Data(x=[151, 778], edge_index=[2, 150], y=[1]), Data(x=[66, 778], edge_index=[2, 65], y=[1]), Data(x=[36, 778], edge_index=[2, 35], y=[1]), Data(x=[38, 778], edge_index=[2, 37], y=[1]), Data(x=[61, 778], edge_index=[2, 60], y=[1]), Data(x=[18, 778], edge_index=[2, 17], y=[1]), Data(x=[41, 778], edge_index=[2, 40], y=[1]), Data(x=[87, 778], edge_index=[2, 86], y=[1]), Data(x=[119, 778], edge_index=[2, 118], y=[1]), Data(x=[190, 778], edge_index=[2, 189], y=[1]), Data(x=[83, 778], edge_index=[2, 82], y=[1]), Data(x=[128, 778], edge_index=[2, 127], y=[1]), Data(x=[16, 778], edge_index=[2, 15], y=[1]), Data(x=[61, 778], edge_index=[2, 60], y=[1]), Data(x=[9, 778], edge_index=[2, 8], y=[1]), Data(x=[180, 778], edge_index=[2, 179], y=[1]), Data(x=[24, 778], edge_index=[2, 23], y=[1]), Data(x=[14, 778], edge_index=[2, 13], y=[1]), Data(x=[80, 778], edge_index=[2, 79], y=[1]), Data(x=[89, 778], edge_index=[2, 88], y=[1]), Data(x=[43, 778], edge_index=[2, 42], y=[1]), Data(x=[33, 778], edge_index=[2, 32], y=[1]), Data(x=[44, 778], edge_index=[2, 43], y=[1]), Data(x=[25, 778], edge_index=[2, 24], y=[1]), Data(x=[28, 778], edge_index=[2, 27], y=[1]), Data(x=[25, 778], edge_index=[2, 24], y=[1]), Data(x=[117, 778], edge_index=[2, 116], y=[1]), Data(x=[128, 778], edge_index=[2, 127], y=[1]), Data(x=[107, 778], edge_index=[2, 106], y=[1]), Data(x=[98, 778], edge_index=[2, 97], y=[1]), Data(x=[9, 778], edge_index=[2, 8], y=[1]), Data(x=[9, 778], edge_index=[2, 8], y=[1]), Data(x=[21, 778], edge_index=[2, 20], y=[1]), Data(x=[76, 778], edge_index=[2, 75], y=[1]), Data(x=[9, 778], edge_index=[2, 8], y=[1]), Data(x=[136, 778], edge_index=[2, 135], y=[1]), Data(x=[15, 778], edge_index=[2, 14], y=[1]), Data(x=[19, 778], edge_index=[2, 18], y=[1]), Data(x=[56, 778], edge_index=[2, 55], y=[1]), Data(x=[139, 778], edge_index=[2, 138], y=[1]), Data(x=[83, 778], edge_index=[2, 82], y=[1]), Data(x=[68, 778], edge_index=[2, 67], y=[1]), Data(x=[9, 778], edge_index=[2, 8], y=[1]), Data(x=[31, 778], edge_index=[2, 30], y=[1]), Data(x=[82, 778], edge_index=[2, 81], y=[1]), Data(x=[97, 778], edge_index=[2, 96], y=[1]), Data(x=[26, 778], edge_index=[2, 25], y=[1]), Data(x=[15, 778], edge_index=[2, 14], y=[1]), Data(x=[101, 778], edge_index=[2, 100], y=[1]), Data(x=[22, 778], edge_index=[2, 21], y=[1]), Data(x=[57, 778], edge_index=[2, 56], y=[1]), Data(x=[12, 778], edge_index=[2, 11], y=[1]), Data(x=[82, 778], edge_index=[2, 81], y=[1]), Data(x=[66, 778], edge_index=[2, 65], y=[1]), Data(x=[22, 778], edge_index=[2, 21], y=[1]), Data(x=[12, 778], edge_index=[2, 11], y=[1]), Data(x=[68, 778], edge_index=[2, 67], y=[1]), Data(x=[56, 778], edge_index=[2, 55], y=[1]), Data(x=[133, 778], edge_index=[2, 132], y=[1]), Data(x=[7, 778], edge_index=[2, 6], y=[1]), Data(x=[10, 778], edge_index=[2, 9], y=[1]), Data(x=[114, 778], edge_index=[2, 113], y=[1]), Data(x=[65, 778], edge_index=[2, 64], y=[1]), Data(x=[97, 778], edge_index=[2, 96], y=[1]), Data(x=[5, 778], edge_index=[2, 4], y=[1]), Data(x=[85, 778], edge_index=[2, 84], y=[1]), Data(x=[58, 778], edge_index=[2, 57], y=[1]), Data(x=[13, 778], edge_index=[2, 12], y=[1]), Data(x=[16, 778], edge_index=[2, 15], y=[1]), Data(x=[13, 778], edge_index=[2, 12], y=[1]), Data(x=[21, 778], edge_index=[2, 20], y=[1]), Data(x=[143, 778], edge_index=[2, 142], y=[1]), Data(x=[154, 778], edge_index=[2, 153], y=[1]), Data(x=[10, 778], edge_index=[2, 9], y=[1]), Data(x=[9, 778], edge_index=[2, 8], y=[1]), Data(x=[163, 778], edge_index=[2, 162], y=[1]), Data(x=[34, 778], edge_index=[2, 33], y=[1]), Data(x=[83, 778], edge_index=[2, 82], y=[1]), Data(x=[8, 778], edge_index=[2, 7], y=[1]), Data(x=[85, 778], edge_index=[2, 84], y=[1]), Data(x=[99, 778], edge_index=[2, 98], y=[1]), Data(x=[169, 778], edge_index=[2, 168], y=[1]), Data(x=[12, 778], edge_index=[2, 11], y=[1]), Data(x=[9, 778], edge_index=[2, 8], y=[1]), Data(x=[59, 778], edge_index=[2, 58], y=[1]), Data(x=[6, 778], edge_index=[2, 5], y=[1]), Data(x=[44, 778], edge_index=[2, 43], y=[1]), Data(x=[43, 778], edge_index=[2, 42], y=[1]), Data(x=[78, 778], edge_index=[2, 77], y=[1]), Data(x=[84, 778], edge_index=[2, 83], y=[1]), Data(x=[35, 778], edge_index=[2, 34], y=[1]), Data(x=[69, 778], edge_index=[2, 68], y=[1]), Data(x=[51, 778], edge_index=[2, 50], y=[1]), Data(x=[64, 778], edge_index=[2, 63], y=[1]), Data(x=[31, 778], edge_index=[2, 30], y=[1]), Data(x=[130, 778], edge_index=[2, 129], y=[1]), Data(x=[118, 778], edge_index=[2, 117], y=[1]), Data(x=[35, 778], edge_index=[2, 34], y=[1]), Data(x=[34, 778], edge_index=[2, 33], y=[1]), Data(x=[70, 778], edge_index=[2, 69], y=[1]), Data(x=[19, 778], edge_index=[2, 18], y=[1]), Data(x=[59, 778], edge_index=[2, 58], y=[1]), Data(x=[29, 778], edge_index=[2, 28], y=[1]), Data(x=[73, 778], edge_index=[2, 72], y=[1]), Data(x=[164, 778], edge_index=[2, 163], y=[1]), Data(x=[5, 778], edge_index=[2, 4], y=[1]), Data(x=[18, 778], edge_index=[2, 17], y=[1]), Data(x=[89, 778], edge_index=[2, 88], y=[1]), Data(x=[193, 778], edge_index=[2, 192], y=[1]), Data(x=[195, 778], edge_index=[2, 194], y=[1]), Data(x=[16, 778], edge_index=[2, 15], y=[1]), Data(x=[28, 778], edge_index=[2, 27], y=[1]), Data(x=[15, 778], edge_index=[2, 14], y=[1]), Data(x=[37, 778], edge_index=[2, 36], y=[1]), Data(x=[115, 778], edge_index=[2, 114], y=[1]), Data(x=[114, 778], edge_index=[2, 113], y=[1]), Data(x=[25, 778], edge_index=[2, 24], y=[1]), Data(x=[172, 778], edge_index=[2, 171], y=[1]), Data(x=[69, 778], edge_index=[2, 68], y=[1]), Data(x=[89, 778], edge_index=[2, 88], y=[1]), Data(x=[58, 778], edge_index=[2, 57], y=[1]), Data(x=[15, 778], edge_index=[2, 14], y=[1]), Data(x=[123, 778], edge_index=[2, 122], y=[1]), Data(x=[65, 778], edge_index=[2, 64], y=[1]), Data(x=[71, 778], edge_index=[2, 70], y=[1]), Data(x=[11, 778], edge_index=[2, 10], y=[1]), Data(x=[15, 778], edge_index=[2, 14], y=[1]), Data(x=[46, 778], edge_index=[2, 45], y=[1]), Data(x=[4, 778], edge_index=[2, 3], y=[1]), Data(x=[24, 778], edge_index=[2, 23], y=[1]), Data(x=[92, 778], edge_index=[2, 91], y=[1]), Data(x=[47, 778], edge_index=[2, 46], y=[1]), Data(x=[23, 778], edge_index=[2, 22], y=[1]), Data(x=[155, 778], edge_index=[2, 154], y=[1]), Data(x=[145, 778], edge_index=[2, 144], y=[1]), Data(x=[10, 778], edge_index=[2, 9], y=[1]), Data(x=[79, 778], edge_index=[2, 78], y=[1]), Data(x=[28, 778], edge_index=[2, 27], y=[1]), Data(x=[32, 778], edge_index=[2, 31], y=[1]), Data(x=[77, 778], edge_index=[2, 76], y=[1]), Data(x=[86, 778], edge_index=[2, 85], y=[1]), Data(x=[184, 778], edge_index=[2, 183], y=[1]), Data(x=[80, 778], edge_index=[2, 79], y=[1]), Data(x=[119, 778], edge_index=[2, 118], y=[1]), Data(x=[60, 778], edge_index=[2, 59], y=[1]), Data(x=[91, 778], edge_index=[2, 90], y=[1]), Data(x=[13, 778], edge_index=[2, 12], y=[1]), Data(x=[68, 778], edge_index=[2, 67], y=[1]), Data(x=[54, 778], edge_index=[2, 53], y=[1]), Data(x=[26, 778], edge_index=[2, 25], y=[1]), Data(x=[90, 778], edge_index=[2, 89], y=[1]), Data(x=[6, 778], edge_index=[2, 5], y=[1]), Data(x=[96, 778], edge_index=[2, 95], y=[1]), Data(x=[75, 778], edge_index=[2, 74], y=[1]), Data(x=[78, 778], edge_index=[2, 77], y=[1]), Data(x=[9, 778], edge_index=[2, 8], y=[1]), Data(x=[43, 778], edge_index=[2, 42], y=[1]), Data(x=[144, 778], edge_index=[2, 143], y=[1]), Data(x=[77, 778], edge_index=[2, 76], y=[1]), Data(x=[14, 778], edge_index=[2, 13], y=[1]), Data(x=[17, 778], edge_index=[2, 16], y=[1]), Data(x=[8, 778], edge_index=[2, 7], y=[1]), Data(x=[178, 778], edge_index=[2, 177], y=[1]), Data(x=[12, 778], edge_index=[2, 11], y=[1]), Data(x=[72, 778], edge_index=[2, 71], y=[1]), Data(x=[121, 778], edge_index=[2, 120], y=[1]), Data(x=[87, 778], edge_index=[2, 86], y=[1]), Data(x=[120, 778], edge_index=[2, 119], y=[1]), Data(x=[53, 778], edge_index=[2, 52], y=[1]), Data(x=[11, 778], edge_index=[2, 10], y=[1]), Data(x=[21, 778], edge_index=[2, 20], y=[1]), Data(x=[53, 778], edge_index=[2, 52], y=[1]), Data(x=[56, 778], edge_index=[2, 55], y=[1]), Data(x=[18, 778], edge_index=[2, 17], y=[1]), Data(x=[24, 778], edge_index=[2, 23], y=[1]), Data(x=[18, 778], edge_index=[2, 17], y=[1]), Data(x=[26, 778], edge_index=[2, 25], y=[1]), Data(x=[79, 778], edge_index=[2, 78], y=[1]), Data(x=[12, 778], edge_index=[2, 11], y=[1]), Data(x=[54, 778], edge_index=[2, 53], y=[1]), Data(x=[10, 778], edge_index=[2, 9], y=[1]), Data(x=[56, 778], edge_index=[2, 55], y=[1]), Data(x=[32, 778], edge_index=[2, 31], y=[1]), Data(x=[139, 778], edge_index=[2, 138], y=[1]), Data(x=[51, 778], edge_index=[2, 50], y=[1]), Data(x=[49, 778], edge_index=[2, 48], y=[1]), Data(x=[133, 778], edge_index=[2, 132], y=[1]), Data(x=[50, 778], edge_index=[2, 49], y=[1]), Data(x=[86, 778], edge_index=[2, 85], y=[1]), Data(x=[59, 778], edge_index=[2, 58], y=[1]), Data(x=[6, 778], edge_index=[2, 5], y=[1]), Data(x=[56, 778], edge_index=[2, 55], y=[1]), Data(x=[18, 778], edge_index=[2, 17], y=[1]), Data(x=[58, 778], edge_index=[2, 57], y=[1]), Data(x=[41, 778], edge_index=[2, 40], y=[1]), Data(x=[104, 778], edge_index=[2, 103], y=[1]), Data(x=[14, 778], edge_index=[2, 13], y=[1]), Data(x=[52, 778], edge_index=[2, 51], y=[1]), Data(x=[15, 778], edge_index=[2, 14], y=[1]), Data(x=[10, 778], edge_index=[2, 9], y=[1]), Data(x=[79, 778], edge_index=[2, 78], y=[1]), Data(x=[158, 778], edge_index=[2, 157], y=[1]), Data(x=[54, 778], edge_index=[2, 53], y=[1]), Data(x=[34, 778], edge_index=[2, 33], y=[1]), Data(x=[65, 778], edge_index=[2, 64], y=[1]), Data(x=[124, 778], edge_index=[2, 123], y=[1]), Data(x=[47, 778], edge_index=[2, 46], y=[1]), Data(x=[67, 778], edge_index=[2, 66], y=[1]), Data(x=[26, 778], edge_index=[2, 25], y=[1]), Data(x=[92, 778], edge_index=[2, 91], y=[1]), Data(x=[89, 778], edge_index=[2, 88], y=[1]), Data(x=[17, 778], edge_index=[2, 16], y=[1]), Data(x=[100, 778], edge_index=[2, 99], y=[1]), Data(x=[63, 778], edge_index=[2, 62], y=[1]), Data(x=[102, 778], edge_index=[2, 101], y=[1]), Data(x=[110, 778], edge_index=[2, 109], y=[1]), Data(x=[24, 778], edge_index=[2, 23], y=[1]), Data(x=[61, 778], edge_index=[2, 60], y=[1]), Data(x=[24, 778], edge_index=[2, 23], y=[1]), Data(x=[8, 778], edge_index=[2, 7], y=[1]), Data(x=[117, 778], edge_index=[2, 116], y=[1]), Data(x=[41, 778], edge_index=[2, 40], y=[1]), Data(x=[5, 778], edge_index=[2, 4], y=[1]), Data(x=[58, 778], edge_index=[2, 57], y=[1]), Data(x=[27, 778], edge_index=[2, 26], y=[1])]\n",
            "tensor([0])\n",
            "tensor([[-0.0848, -0.2643, -0.2449,  ...,  0.6794,  0.1175,  0.1534],\n",
            "        [ 0.1415, -0.0493, -0.1443,  ...,  0.0890,  0.1111,  0.1324],\n",
            "        [-0.0319,  0.0562,  0.4386,  ...,  0.4658,  0.1667,  0.1765],\n",
            "        ...,\n",
            "        [ 0.0231,  0.1641,  0.0682,  ...,  0.8904,  0.1111,  0.0588],\n",
            "        [-0.0714,  0.1860,  0.1526,  ...,  0.6233,  0.2222,  0.3529],\n",
            "        [ 0.0569,  0.1775,  0.1596,  ...,  0.7740,  0.1111,  0.2500]])\n",
            "tensor([[ 0,  0,  0,  0,  0,  0,  0,  0,  0,  0,  0,  0,  0,  0,  0,  0,  0,  0,\n",
            "          0,  0,  0,  0,  0,  0,  0,  0,  0,  0,  0,  0,  0,  0,  0,  0,  0,  0,\n",
            "          0,  0,  0,  0,  0,  0,  0,  0,  0,  0,  0,  0,  0,  0,  0,  0,  0,  0,\n",
            "          0,  0,  0,  0,  0,  0,  0,  0,  0,  0,  0,  0,  0,  0,  0,  0,  0,  0,\n",
            "          1, 70, 74],\n",
            "        [ 1,  2,  3,  4,  5,  6,  7,  8,  9, 10, 11, 12, 13, 14, 15, 16, 17, 18,\n",
            "         19, 20, 21, 22, 23, 24, 25, 26, 27, 28, 29, 30, 31, 32, 33, 34, 35, 36,\n",
            "         37, 38, 39, 40, 41, 42, 43, 44, 45, 46, 47, 48, 49, 50, 51, 52, 53, 54,\n",
            "         55, 56, 57, 58, 59, 60, 61, 62, 63, 64, 65, 66, 67, 68, 69, 70, 71, 72,\n",
            "         73, 74, 75]])\n"
          ]
        }
      ],
      "source": [
        "print(train_dataset)\n",
        "print(train_dataset[0].y)\n",
        "print(train_dataset[0].x)\n",
        "print(train_dataset[0].edge_index)\n",
        "#train_dataset[i] représente l'arbre i\n",
        "#Le champ x représente la valeur des noeud, il est de taille (n, 778).\n",
        "#Le champ edge index représente les connexion dans l'abre. Il est de taille (2, n - 1). edge_index[0][i] est\n",
        "#le père de edge_index[1][i]. En pratique, il se trouve que edge_index[1][i] est toujours un linespace, ce qui est possible\n",
        "#Le champ y représente si c'est un graphe de fake news ou pas"
      ]
    },
    {
      "cell_type": "code",
      "execution_count": null,
      "metadata": {
        "id": "Ve9FXUrZrgR1"
      },
      "outputs": [],
      "source": []
    },
    {
      "cell_type": "markdown",
      "metadata": {
        "id": "WQLdOvckrgR1"
      },
      "source": [
        "### Model"
      ]
    },
    {
      "cell_type": "code",
      "execution_count": null,
      "metadata": {
        "id": "FpPXCnZXrgR1"
      },
      "outputs": [],
      "source": [
        "class Net(torch.nn.Module):\n",
        "    def __init__(self, in_channels, hidden_channels, out_channels, concat=False):\n",
        "        super().__init__()\n",
        "        self.concat = concat\n",
        "        self.conv1 = GCNConv(in_channels, hidden_channels)\n",
        "        self.conv2 = GCNConv(hidden_channels, hidden_channels)\n",
        "        #self.conv1 = GATConv(in_channels, hidden_channels)\n",
        "        #self.conv2 = GATConv(hidden_channels, hidden_channels)\n",
        "        self.max_pooling = global_mean_pool # They use Max_pool in the article but that doesn't work pretty well.\n",
        "        self.lin1 = Linear(hidden_channels, 2 * hidden_channels)\n",
        "        self.lin2 = Linear(2*hidden_channels,2)\n",
        "\n",
        "    def forward(self, x, edge_index, batch):\n",
        "        x = self.conv1(x, edge_index)\n",
        "        x = torch.nn.functional.selu(x)\n",
        "        x = self.conv2(x, edge_index)\n",
        "        x = torch.nn.functional.selu(x)\n",
        "        x = self.max_pooling(x, batch)\n",
        "        x = torch.nn.functional.selu(x)\n",
        "        x = self.lin1(x)\n",
        "        x = torch.nn.functional.selu(x)\n",
        "        x = self.lin2(x)\n",
        "        return x.softmax(dim=-1)"
      ]
    },
    {
      "cell_type": "code",
      "execution_count": null,
      "metadata": {
        "id": "NRqvxtFxrgR2"
      },
      "outputs": [],
      "source": [
        "device = torch.device('cuda' if torch.cuda.is_available() else 'cpu')\n",
        "model = Net(train_dataset_bert.num_features, 128,train_dataset_bert.num_classes, concat=True).to(device)\n",
        "optimizer = torch.optim.Adam(model.parameters(), lr=0.001, weight_decay=0.01)"
      ]
    },
    {
      "cell_type": "code",
      "execution_count": null,
      "metadata": {
        "id": "YhD5fSborgR2"
      },
      "outputs": [],
      "source": [
        "loss_fn = torch.nn.HingeEmbeddingLoss()\n",
        "def train(model):\n",
        "    model.train()\n",
        "    total_loss = 0\n",
        "    for data in train_loader:\n",
        "        data = data.to(device)\n",
        "        optimizer.zero_grad()\n",
        "        out = model(data.x, data.edge_index, data.batch)\n",
        "        y = torch.tensor([[1,0] if e==1 else [0,1] for e in data.y]).to(device)\n",
        "        loss = loss_fn(out,y)\n",
        "        #loss = F.nll_loss(out, data.y)\n",
        "        loss.backward()\n",
        "        optimizer.step()\n",
        "        total_loss += float(loss) * data.num_graphs\n",
        "\n",
        "    return total_loss / len(train_loader.dataset)"
      ]
    },
    {
      "cell_type": "code",
      "execution_count": null,
      "metadata": {
        "id": "hhPWE9HxrgR2"
      },
      "outputs": [],
      "source": [
        "@torch.no_grad()\n",
        "def test(loader, model):\n",
        "    model.eval()\n",
        "\n",
        "    total_correct = total_examples = 0\n",
        "    for data in loader:\n",
        "        data = data.to(device)\n",
        "        pred = model(data.x, data.edge_index, data.batch).argmax(dim=-1)\n",
        "        total_correct += int((pred ==\n",
        "         data.y).sum())\n",
        "        total_examples += data.num_graphs\n",
        "\n",
        "    return total_correct / total_examples"
      ]
    },
    {
      "cell_type": "code",
      "execution_count": null,
      "metadata": {
        "colab": {
          "background_save": true,
          "base_uri": "https://localhost:8080/"
        },
        "id": "hyfbLdBArgR2",
        "outputId": "1922d59d-d11e-459f-85ca-6673ebf1316a"
      },
      "outputs": [
        {
          "name": "stdout",
          "output_type": "stream",
          "text": [
            "Epoch: 01, Loss: 0.7578, Train: 0.4899, Val: 0.5147, Test: 0.5008\n",
            "Epoch: 02, Loss: 0.7550, Train: 0.4899, Val: 0.5147, Test: 0.5008\n",
            "Epoch: 03, Loss: 0.7544, Train: 0.4899, Val: 0.5147, Test: 0.5008\n",
            "Epoch: 04, Loss: 0.7443, Train: 0.5101, Val: 0.4853, Test: 0.4992\n",
            "Epoch: 05, Loss: 0.7258, Train: 0.6676, Val: 0.6593, Test: 0.6487\n",
            "Epoch: 06, Loss: 0.6781, Train: 0.7527, Val: 0.7399, Test: 0.7352\n",
            "Epoch: 07, Loss: 0.6371, Train: 0.7042, Val: 0.6795, Test: 0.6775\n",
            "Epoch: 08, Loss: 0.6254, Train: 0.7363, Val: 0.7271, Test: 0.7073\n",
            "Epoch: 09, Loss: 0.6238, Train: 0.7921, Val: 0.7564, Test: 0.7493\n",
            "Epoch: 10, Loss: 0.6266, Train: 0.7628, Val: 0.7271, Test: 0.7209\n",
            "Epoch: 11, Loss: 0.6612, Train: 0.6264, Val: 0.6465, Test: 0.6184\n",
            "Epoch: 12, Loss: 0.6591, Train: 0.7033, Val: 0.6813, Test: 0.6730\n",
            "Epoch: 13, Loss: 0.6665, Train: 0.6841, Val: 0.6648, Test: 0.6628\n",
            "Epoch: 14, Loss: 0.6407, Train: 0.7674, Val: 0.7546, Test: 0.7376\n",
            "Epoch: 15, Loss: 0.6220, Train: 0.7482, Val: 0.7271, Test: 0.7125\n",
            "Epoch: 16, Loss: 0.6242, Train: 0.7793, Val: 0.7637, Test: 0.7384\n",
            "Epoch: 17, Loss: 0.6137, Train: 0.7756, Val: 0.7363, Test: 0.7326\n",
            "Epoch: 18, Loss: 0.6113, Train: 0.7976, Val: 0.7674, Test: 0.7452\n",
            "Epoch: 19, Loss: 0.6148, Train: 0.8095, Val: 0.7601, Test: 0.7504\n",
            "Epoch: 20, Loss: 0.6033, Train: 0.7775, Val: 0.7326, Test: 0.7321\n",
            "Epoch: 21, Loss: 0.6193, Train: 0.8205, Val: 0.7747, Test: 0.7595\n",
            "Epoch: 22, Loss: 0.6142, Train: 0.8049, Val: 0.7766, Test: 0.7454\n",
            "Epoch: 23, Loss: 0.6109, Train: 0.7802, Val: 0.7234, Test: 0.7250\n",
            "Epoch: 24, Loss: 0.6085, Train: 0.8178, Val: 0.7821, Test: 0.7608\n",
            "Epoch: 25, Loss: 0.5992, Train: 0.8242, Val: 0.7711, Test: 0.7635\n",
            "Epoch: 26, Loss: 0.5966, Train: 0.7656, Val: 0.7363, Test: 0.7175\n",
            "Epoch: 27, Loss: 0.6062, Train: 0.7775, Val: 0.7509, Test: 0.7324\n",
            "Epoch: 28, Loss: 0.5978, Train: 0.8388, Val: 0.7692, Test: 0.7703\n",
            "Epoch: 29, Loss: 0.5930, Train: 0.8489, Val: 0.7674, Test: 0.7700\n",
            "Epoch: 30, Loss: 0.6029, Train: 0.7619, Val: 0.7399, Test: 0.7143\n",
            "Epoch: 31, Loss: 0.5929, Train: 0.7408, Val: 0.7051, Test: 0.7047\n",
            "Epoch: 32, Loss: 0.6043, Train: 0.8168, Val: 0.7582, Test: 0.7496\n",
            "Epoch: 33, Loss: 0.5903, Train: 0.8342, Val: 0.7692, Test: 0.7616\n",
            "Epoch: 34, Loss: 0.5894, Train: 0.8498, Val: 0.7784, Test: 0.7645\n",
            "Epoch: 35, Loss: 0.5847, Train: 0.8004, Val: 0.7656, Test: 0.7316\n",
            "Epoch: 36, Loss: 0.5862, Train: 0.8370, Val: 0.7619, Test: 0.7556\n",
            "Epoch: 37, Loss: 0.5902, Train: 0.8251, Val: 0.7601, Test: 0.7462\n",
            "Epoch: 38, Loss: 0.5875, Train: 0.8617, Val: 0.7821, Test: 0.7669\n",
            "Epoch: 39, Loss: 0.5893, Train: 0.8306, Val: 0.7839, Test: 0.7535\n",
            "Epoch: 40, Loss: 0.5949, Train: 0.8324, Val: 0.7656, Test: 0.7548\n",
            "Epoch: 41, Loss: 0.5845, Train: 0.8049, Val: 0.7711, Test: 0.7415\n",
            "Epoch: 42, Loss: 0.6094, Train: 0.7427, Val: 0.7161, Test: 0.6976\n",
            "Epoch: 43, Loss: 0.6054, Train: 0.8141, Val: 0.7546, Test: 0.7522\n",
            "Epoch: 44, Loss: 0.5897, Train: 0.8443, Val: 0.7674, Test: 0.7624\n",
            "Epoch: 45, Loss: 0.5876, Train: 0.8471, Val: 0.7875, Test: 0.7663\n",
            "Epoch: 46, Loss: 0.5786, Train: 0.8553, Val: 0.7637, Test: 0.7692\n",
            "Epoch: 47, Loss: 0.5745, Train: 0.8425, Val: 0.7564, Test: 0.7541\n",
            "Epoch: 48, Loss: 0.5898, Train: 0.7866, Val: 0.7509, Test: 0.7277\n",
            "Epoch: 49, Loss: 0.5806, Train: 0.8864, Val: 0.7674, Test: 0.7744\n",
            "Epoch: 50, Loss: 0.5707, Train: 0.8782, Val: 0.7784, Test: 0.7697\n",
            "Epoch: 51, Loss: 0.5737, Train: 0.8947, Val: 0.7692, Test: 0.7692\n",
            "Epoch: 52, Loss: 0.5694, Train: 0.8892, Val: 0.7839, Test: 0.7684\n",
            "Epoch: 53, Loss: 0.5686, Train: 0.8223, Val: 0.7546, Test: 0.7373\n",
            "Epoch: 54, Loss: 0.5903, Train: 0.8828, Val: 0.7656, Test: 0.7640\n",
            "Epoch: 55, Loss: 0.5701, Train: 0.8690, Val: 0.7564, Test: 0.7635\n",
            "Epoch: 56, Loss: 0.5796, Train: 0.8214, Val: 0.7418, Test: 0.7410\n",
            "Epoch: 57, Loss: 0.5990, Train: 0.8645, Val: 0.7784, Test: 0.7611\n",
            "Epoch: 58, Loss: 0.5850, Train: 0.8608, Val: 0.7601, Test: 0.7637\n",
            "Epoch: 59, Loss: 0.5802, Train: 0.8251, Val: 0.7399, Test: 0.7423\n",
            "Epoch: 60, Loss: 0.5919, Train: 0.8654, Val: 0.7656, Test: 0.7588\n",
            "Epoch: 61, Loss: 0.5749, Train: 0.8810, Val: 0.7692, Test: 0.7703\n",
            "Epoch: 62, Loss: 0.5709, Train: 0.8727, Val: 0.7509, Test: 0.7679\n",
            "Epoch: 63, Loss: 0.5672, Train: 0.8938, Val: 0.7692, Test: 0.7739\n",
            "Epoch: 64, Loss: 0.5645, Train: 0.8974, Val: 0.7784, Test: 0.7726\n",
            "Epoch: 65, Loss: 0.5632, Train: 0.8855, Val: 0.7875, Test: 0.7674\n",
            "Epoch: 66, Loss: 0.5626, Train: 0.8901, Val: 0.7802, Test: 0.7695\n",
            "Epoch: 67, Loss: 0.5618, Train: 0.9057, Val: 0.7875, Test: 0.7763\n",
            "Epoch: 68, Loss: 0.5566, Train: 0.9048, Val: 0.7839, Test: 0.7747\n",
            "Epoch: 69, Loss: 0.5652, Train: 0.8004, Val: 0.7326, Test: 0.7287\n",
            "Epoch: 70, Loss: 0.5686, Train: 0.9029, Val: 0.7692, Test: 0.7763\n",
            "Epoch: 71, Loss: 0.5605, Train: 0.8974, Val: 0.7766, Test: 0.7703\n",
            "Epoch: 72, Loss: 0.5694, Train: 0.8434, Val: 0.7729, Test: 0.7457\n",
            "Epoch: 73, Loss: 0.5745, Train: 0.8443, Val: 0.7637, Test: 0.7486\n",
            "Epoch: 74, Loss: 0.5693, Train: 0.8993, Val: 0.7766, Test: 0.7757\n",
            "Epoch: 75, Loss: 0.5614, Train: 0.9029, Val: 0.7784, Test: 0.7721\n",
            "Epoch: 76, Loss: 0.5649, Train: 0.9075, Val: 0.7821, Test: 0.7786\n",
            "Epoch: 77, Loss: 0.5636, Train: 0.7766, Val: 0.7143, Test: 0.7135\n",
            "Epoch: 78, Loss: 0.6059, Train: 0.8654, Val: 0.7967, Test: 0.7593\n",
            "Epoch: 79, Loss: 0.5896, Train: 0.8168, Val: 0.7692, Test: 0.7475\n",
            "Epoch: 80, Loss: 0.5815, Train: 0.7674, Val: 0.7198, Test: 0.7151\n",
            "Epoch: 81, Loss: 0.6150, Train: 0.7189, Val: 0.6850, Test: 0.6843\n",
            "Epoch: 82, Loss: 0.6134, Train: 0.7381, Val: 0.6905, Test: 0.6934\n",
            "Epoch: 83, Loss: 0.5903, Train: 0.8599, Val: 0.7766, Test: 0.7700\n",
            "Epoch: 84, Loss: 0.5767, Train: 0.8498, Val: 0.7930, Test: 0.7624\n",
            "Epoch: 85, Loss: 0.5823, Train: 0.8782, Val: 0.7802, Test: 0.7752\n",
            "Epoch: 86, Loss: 0.5694, Train: 0.8938, Val: 0.7729, Test: 0.7750\n",
            "Epoch: 87, Loss: 0.5606, Train: 0.9029, Val: 0.7766, Test: 0.7739\n",
            "Epoch: 88, Loss: 0.5608, Train: 0.8636, Val: 0.7839, Test: 0.7507\n",
            "Epoch: 89, Loss: 0.5631, Train: 0.9057, Val: 0.7656, Test: 0.7734\n",
            "Epoch: 90, Loss: 0.5583, Train: 0.9167, Val: 0.7802, Test: 0.7723\n",
            "Epoch: 91, Loss: 0.5598, Train: 0.9112, Val: 0.7839, Test: 0.7773\n",
            "Epoch: 92, Loss: 0.5578, Train: 0.9148, Val: 0.7802, Test: 0.7757\n",
            "Epoch: 93, Loss: 0.5518, Train: 0.9203, Val: 0.7894, Test: 0.7781\n",
            "Epoch: 94, Loss: 0.5516, Train: 0.9185, Val: 0.7766, Test: 0.7734\n",
            "Epoch: 95, Loss: 0.5573, Train: 0.9231, Val: 0.7784, Test: 0.7794\n",
            "Epoch: 96, Loss: 0.5503, Train: 0.9313, Val: 0.7875, Test: 0.7802\n",
            "Epoch: 97, Loss: 0.5498, Train: 0.9277, Val: 0.7821, Test: 0.7755\n",
            "Epoch: 98, Loss: 0.5567, Train: 0.8416, Val: 0.7821, Test: 0.7475\n",
            "Epoch: 99, Loss: 0.5792, Train: 0.8810, Val: 0.8059, Test: 0.7684\n",
            "Epoch: 100, Loss: 0.5689, Train: 0.8791, Val: 0.7619, Test: 0.7718\n",
            "Epoch: 101, Loss: 0.5573, Train: 0.9048, Val: 0.7875, Test: 0.7689\n",
            "Epoch: 102, Loss: 0.5566, Train: 0.8956, Val: 0.7985, Test: 0.7679\n",
            "Epoch: 103, Loss: 0.5543, Train: 0.9084, Val: 0.7875, Test: 0.7697\n",
            "Epoch: 104, Loss: 0.5475, Train: 0.8764, Val: 0.7967, Test: 0.7564\n",
            "Epoch: 105, Loss: 0.5795, Train: 0.9240, Val: 0.7839, Test: 0.7776\n",
            "Epoch: 106, Loss: 0.5652, Train: 0.9139, Val: 0.7912, Test: 0.7755\n",
            "Epoch: 107, Loss: 0.5715, Train: 0.9084, Val: 0.7930, Test: 0.7757\n",
            "Epoch: 108, Loss: 0.5699, Train: 0.9167, Val: 0.7894, Test: 0.7768\n",
            "Epoch: 109, Loss: 0.5523, Train: 0.8846, Val: 0.7509, Test: 0.7661\n",
            "Epoch: 110, Loss: 0.5585, Train: 0.9295, Val: 0.7839, Test: 0.7776\n",
            "Epoch: 111, Loss: 0.5552, Train: 0.9222, Val: 0.7875, Test: 0.7771\n",
            "Epoch: 112, Loss: 0.5471, Train: 0.9093, Val: 0.7637, Test: 0.7721\n",
            "Epoch: 113, Loss: 0.5501, Train: 0.9304, Val: 0.7766, Test: 0.7791\n",
            "Epoch: 114, Loss: 0.5454, Train: 0.9341, Val: 0.7875, Test: 0.7791\n",
            "Epoch: 115, Loss: 0.5460, Train: 0.8498, Val: 0.7821, Test: 0.7470\n",
            "Epoch: 116, Loss: 0.5667, Train: 0.7601, Val: 0.7308, Test: 0.7083\n",
            "Epoch: 117, Loss: 0.6007, Train: 0.7985, Val: 0.7271, Test: 0.7318\n",
            "Epoch: 118, Loss: 0.5828, Train: 0.8782, Val: 0.7894, Test: 0.7666\n",
            "Epoch: 119, Loss: 0.5763, Train: 0.8965, Val: 0.7875, Test: 0.7710\n",
            "Epoch: 120, Loss: 0.5640, Train: 0.8672, Val: 0.7637, Test: 0.7619\n",
            "Epoch: 121, Loss: 0.5613, Train: 0.9084, Val: 0.7894, Test: 0.7708\n",
            "Epoch: 122, Loss: 0.5563, Train: 0.9231, Val: 0.7747, Test: 0.7755\n",
            "Epoch: 123, Loss: 0.5557, Train: 0.9240, Val: 0.7784, Test: 0.7794\n",
            "Epoch: 124, Loss: 0.5477, Train: 0.8965, Val: 0.7802, Test: 0.7661\n",
            "Epoch: 125, Loss: 0.5608, Train: 0.8764, Val: 0.7344, Test: 0.7577\n",
            "Epoch: 126, Loss: 0.5565, Train: 0.9332, Val: 0.7839, Test: 0.7786\n",
            "Epoch: 127, Loss: 0.5475, Train: 0.9313, Val: 0.7875, Test: 0.7771\n",
            "Epoch: 128, Loss: 0.5450, Train: 0.9368, Val: 0.7784, Test: 0.7742\n",
            "Epoch: 129, Loss: 0.5481, Train: 0.9258, Val: 0.7784, Test: 0.7744\n",
            "Epoch: 130, Loss: 0.5467, Train: 0.9332, Val: 0.7766, Test: 0.7757\n",
            "Epoch: 131, Loss: 0.5511, Train: 0.9386, Val: 0.7637, Test: 0.7781\n",
            "Epoch: 132, Loss: 0.5521, Train: 0.9267, Val: 0.7582, Test: 0.7760\n",
            "Epoch: 133, Loss: 0.5624, Train: 0.8068, Val: 0.7326, Test: 0.7331\n",
            "Epoch: 134, Loss: 0.5963, Train: 0.8883, Val: 0.7912, Test: 0.7781\n",
            "Epoch: 135, Loss: 0.5893, Train: 0.8004, Val: 0.7491, Test: 0.7365\n",
            "Epoch: 136, Loss: 0.5905, Train: 0.8544, Val: 0.7747, Test: 0.7695\n",
            "Epoch: 137, Loss: 0.5705, Train: 0.9112, Val: 0.7839, Test: 0.7755\n",
            "Epoch: 138, Loss: 0.5568, Train: 0.9222, Val: 0.7857, Test: 0.7768\n",
            "Epoch: 139, Loss: 0.5499, Train: 0.9139, Val: 0.7967, Test: 0.7729\n",
            "Epoch: 140, Loss: 0.5505, Train: 0.9332, Val: 0.7619, Test: 0.7737\n",
            "Epoch: 141, Loss: 0.5575, Train: 0.8727, Val: 0.7564, Test: 0.7574\n",
            "Epoch: 142, Loss: 0.5775, Train: 0.8700, Val: 0.7894, Test: 0.7590\n",
            "Epoch: 143, Loss: 0.5582, Train: 0.9295, Val: 0.7839, Test: 0.7815\n",
            "Epoch: 144, Loss: 0.5479, Train: 0.9148, Val: 0.7674, Test: 0.7713\n",
            "Epoch: 145, Loss: 0.5547, Train: 0.9185, Val: 0.7692, Test: 0.7710\n",
            "Epoch: 146, Loss: 0.5448, Train: 0.9332, Val: 0.7930, Test: 0.7789\n",
            "Epoch: 147, Loss: 0.5423, Train: 0.9368, Val: 0.7674, Test: 0.7776\n",
            "Epoch: 148, Loss: 0.5420, Train: 0.8956, Val: 0.7985, Test: 0.7663\n",
            "Epoch: 149, Loss: 0.5443, Train: 0.9258, Val: 0.7985, Test: 0.7729\n",
            "Epoch: 150, Loss: 0.5441, Train: 0.9423, Val: 0.7747, Test: 0.7773\n",
            "Epoch: 151, Loss: 0.5476, Train: 0.9304, Val: 0.7930, Test: 0.7789\n",
            "Epoch: 152, Loss: 0.5550, Train: 0.9231, Val: 0.7674, Test: 0.7752\n",
            "Epoch: 153, Loss: 0.5577, Train: 0.9029, Val: 0.7692, Test: 0.7755\n",
            "Epoch: 154, Loss: 0.5512, Train: 0.9295, Val: 0.7857, Test: 0.7765\n",
            "Epoch: 155, Loss: 0.5467, Train: 0.9350, Val: 0.7729, Test: 0.7750\n",
            "Epoch: 156, Loss: 0.5488, Train: 0.9112, Val: 0.7839, Test: 0.7671\n",
            "Epoch: 157, Loss: 0.5507, Train: 0.9350, Val: 0.7912, Test: 0.7786\n",
            "Epoch: 158, Loss: 0.5419, Train: 0.9414, Val: 0.7711, Test: 0.7776\n",
            "Epoch: 159, Loss: 0.5446, Train: 0.9386, Val: 0.7729, Test: 0.7784\n",
            "Epoch: 160, Loss: 0.5449, Train: 0.9286, Val: 0.7875, Test: 0.7763\n",
            "Epoch: 161, Loss: 0.5509, Train: 0.9332, Val: 0.8004, Test: 0.7760\n",
            "Epoch: 162, Loss: 0.5410, Train: 0.9414, Val: 0.7875, Test: 0.7781\n",
            "Epoch: 163, Loss: 0.5423, Train: 0.9414, Val: 0.7747, Test: 0.7726\n",
            "Epoch: 164, Loss: 0.5405, Train: 0.9460, Val: 0.7656, Test: 0.7778\n",
            "Epoch: 165, Loss: 0.5405, Train: 0.9423, Val: 0.7875, Test: 0.7757\n",
            "Epoch: 166, Loss: 0.5451, Train: 0.9075, Val: 0.7894, Test: 0.7663\n",
            "Epoch: 167, Loss: 0.5448, Train: 0.9432, Val: 0.7894, Test: 0.7760\n",
            "Epoch: 168, Loss: 0.5395, Train: 0.9267, Val: 0.7930, Test: 0.7723\n",
            "Epoch: 169, Loss: 0.5493, Train: 0.9350, Val: 0.7985, Test: 0.7718\n",
            "Epoch: 170, Loss: 0.5410, Train: 0.9432, Val: 0.7802, Test: 0.7737\n",
            "Epoch: 171, Loss: 0.5404, Train: 0.9377, Val: 0.7802, Test: 0.7713\n",
            "Epoch: 172, Loss: 0.5386, Train: 0.9496, Val: 0.7729, Test: 0.7781\n",
            "Epoch: 173, Loss: 0.5453, Train: 0.9405, Val: 0.7747, Test: 0.7744\n",
            "Epoch: 174, Loss: 0.5418, Train: 0.9441, Val: 0.7711, Test: 0.7752\n",
            "Epoch: 175, Loss: 0.5437, Train: 0.9396, Val: 0.7821, Test: 0.7765\n",
            "Epoch: 176, Loss: 0.5378, Train: 0.9524, Val: 0.7692, Test: 0.7776\n",
            "Epoch: 177, Loss: 0.5357, Train: 0.9487, Val: 0.7784, Test: 0.7765\n",
            "Epoch: 178, Loss: 0.5442, Train: 0.9505, Val: 0.7784, Test: 0.7760\n",
            "Epoch: 179, Loss: 0.5560, Train: 0.8059, Val: 0.7198, Test: 0.7360\n",
            "Epoch: 180, Loss: 0.5698, Train: 0.8507, Val: 0.7692, Test: 0.7444\n",
            "Epoch: 181, Loss: 0.5662, Train: 0.8974, Val: 0.7582, Test: 0.7716\n",
            "Epoch: 182, Loss: 0.5513, Train: 0.9341, Val: 0.7894, Test: 0.7734\n",
            "Epoch: 183, Loss: 0.5393, Train: 0.9469, Val: 0.7784, Test: 0.7760\n",
            "Epoch: 184, Loss: 0.5394, Train: 0.9396, Val: 0.7766, Test: 0.7742\n",
            "Epoch: 185, Loss: 0.5393, Train: 0.9524, Val: 0.7674, Test: 0.7789\n",
            "Epoch: 186, Loss: 0.5351, Train: 0.9505, Val: 0.7875, Test: 0.7768\n",
            "Epoch: 187, Loss: 0.5450, Train: 0.8425, Val: 0.7308, Test: 0.7514\n",
            "Epoch: 188, Loss: 0.5769, Train: 0.8095, Val: 0.7564, Test: 0.7311\n",
            "Epoch: 189, Loss: 0.5563, Train: 0.9304, Val: 0.7912, Test: 0.7791\n",
            "Epoch: 190, Loss: 0.5432, Train: 0.9057, Val: 0.7949, Test: 0.7676\n",
            "Epoch: 191, Loss: 0.5467, Train: 0.9515, Val: 0.7747, Test: 0.7755\n",
            "Epoch: 192, Loss: 0.5405, Train: 0.9322, Val: 0.7967, Test: 0.7755\n",
            "Epoch: 193, Loss: 0.5454, Train: 0.7821, Val: 0.7381, Test: 0.7128\n",
            "Epoch: 194, Loss: 0.6537, Train: 0.6282, Val: 0.6319, Test: 0.6059\n",
            "Epoch: 195, Loss: 0.6224, Train: 0.8269, Val: 0.7619, Test: 0.7462\n",
            "Epoch: 196, Loss: 0.5781, Train: 0.9121, Val: 0.7930, Test: 0.7771\n",
            "Epoch: 197, Loss: 0.5617, Train: 0.8993, Val: 0.7930, Test: 0.7718\n",
            "Epoch: 198, Loss: 0.5541, Train: 0.8297, Val: 0.7619, Test: 0.7493\n",
            "Epoch: 199, Loss: 0.5643, Train: 0.9249, Val: 0.7839, Test: 0.7755\n"
          ]
        }
      ],
      "source": [
        "for epoch in range(1, 200):\n",
        "    loss = train(model)\n",
        "    train_acc = test(train_loader, model)\n",
        "    val_acc = test(val_loader, model)\n",
        "    test_acc = test(test_loader, model)\n",
        "    print(f'Epoch: {epoch:02d}, Loss: {loss:.4f}, Train: {train_acc:.4f}, 'f'Val: {val_acc:.4f}, Test: {test_acc:.4f}')"
      ]
    }
  ],
  "metadata": {
    "colab": {
      "provenance": []
    },
    "kernelspec": {
      "display_name": ".venv",
      "language": "python",
      "name": "python3"
    },
    "language_info": {
      "codemirror_mode": {
        "name": "ipython",
        "version": 3
      },
      "file_extension": ".py",
      "mimetype": "text/x-python",
      "name": "python",
      "nbconvert_exporter": "python",
      "pygments_lexer": "ipython3",
      "version": "3.12.3"
    }
  },
  "nbformat": 4,
  "nbformat_minor": 0
}