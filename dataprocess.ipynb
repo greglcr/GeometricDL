{
 "cells": [
  {
   "cell_type": "markdown",
   "metadata": {},
   "source": [
    "# Graph Deep Learning on Graph to study Fake News"
   ]
  },
  {
   "cell_type": "markdown",
   "metadata": {},
   "source": [
    "Our dataset is https://arxiv.org/pdf/2104.12259 .\n",
    "The one in the article to study create two kind of nodes: one per authors, one per tweet. But here there is only a node per authors, not per tweets. Hence it is more focus on the users-spreading. The datas we store for an author are the same as the article have to study except that we lack social networks part, in particular:\n",
    "- BERT is a word-embedding of the preferences of the author (the result of a transformer fed with its average tweets)\n",
    "- Profile is a vector representing the author informations (number of followers, like, etc.)"
   ]
  },
  {
   "cell_type": "code",
   "execution_count": 156,
   "metadata": {},
   "outputs": [
    {
     "name": "stdout",
     "output_type": "stream",
     "text": [
      "Requirement already satisfied: dgl in /home/crvr/Ulm/M1/.venv/lib/python3.12/site-packages (2.1.0)\n",
      "Requirement already satisfied: numpy>=1.14.0 in /home/crvr/Ulm/M1/.venv/lib/python3.12/site-packages (from dgl) (2.1.3)\n",
      "Requirement already satisfied: scipy>=1.1.0 in /home/crvr/Ulm/M1/.venv/lib/python3.12/site-packages (from dgl) (1.14.1)\n",
      "Requirement already satisfied: networkx>=2.1 in /home/crvr/Ulm/M1/.venv/lib/python3.12/site-packages (from dgl) (3.4.2)\n",
      "Requirement already satisfied: requests>=2.19.0 in /home/crvr/Ulm/M1/.venv/lib/python3.12/site-packages (from dgl) (2.32.3)\n",
      "Requirement already satisfied: tqdm in /home/crvr/Ulm/M1/.venv/lib/python3.12/site-packages (from dgl) (4.67.1)\n",
      "Requirement already satisfied: psutil>=5.8.0 in /home/crvr/Ulm/M1/.venv/lib/python3.12/site-packages (from dgl) (6.1.0)\n",
      "Requirement already satisfied: torchdata>=0.5.0 in /home/crvr/Ulm/M1/.venv/lib/python3.12/site-packages (from dgl) (0.9.0)\n",
      "Requirement already satisfied: charset-normalizer<4,>=2 in /home/crvr/Ulm/M1/.venv/lib/python3.12/site-packages (from requests>=2.19.0->dgl) (3.4.0)\n",
      "Requirement already satisfied: idna<4,>=2.5 in /home/crvr/Ulm/M1/.venv/lib/python3.12/site-packages (from requests>=2.19.0->dgl) (3.10)\n",
      "Requirement already satisfied: urllib3<3,>=1.21.1 in /home/crvr/Ulm/M1/.venv/lib/python3.12/site-packages (from requests>=2.19.0->dgl) (2.2.3)\n",
      "Requirement already satisfied: certifi>=2017.4.17 in /home/crvr/Ulm/M1/.venv/lib/python3.12/site-packages (from requests>=2.19.0->dgl) (2024.8.30)\n",
      "Requirement already satisfied: torch>=2 in /home/crvr/Ulm/M1/.venv/lib/python3.12/site-packages (from torchdata>=0.5.0->dgl) (2.5.1)\n",
      "Requirement already satisfied: filelock in /home/crvr/Ulm/M1/.venv/lib/python3.12/site-packages (from torch>=2->torchdata>=0.5.0->dgl) (3.16.1)\n",
      "Requirement already satisfied: typing-extensions>=4.8.0 in /home/crvr/Ulm/M1/.venv/lib/python3.12/site-packages (from torch>=2->torchdata>=0.5.0->dgl) (4.12.2)\n",
      "Requirement already satisfied: jinja2 in /home/crvr/Ulm/M1/.venv/lib/python3.12/site-packages (from torch>=2->torchdata>=0.5.0->dgl) (3.1.4)\n",
      "Requirement already satisfied: fsspec in /home/crvr/Ulm/M1/.venv/lib/python3.12/site-packages (from torch>=2->torchdata>=0.5.0->dgl) (2024.10.0)\n",
      "Requirement already satisfied: nvidia-cuda-nvrtc-cu12==12.4.127 in /home/crvr/Ulm/M1/.venv/lib/python3.12/site-packages (from torch>=2->torchdata>=0.5.0->dgl) (12.4.127)\n",
      "Requirement already satisfied: nvidia-cuda-runtime-cu12==12.4.127 in /home/crvr/Ulm/M1/.venv/lib/python3.12/site-packages (from torch>=2->torchdata>=0.5.0->dgl) (12.4.127)\n",
      "Requirement already satisfied: nvidia-cuda-cupti-cu12==12.4.127 in /home/crvr/Ulm/M1/.venv/lib/python3.12/site-packages (from torch>=2->torchdata>=0.5.0->dgl) (12.4.127)\n",
      "Requirement already satisfied: nvidia-cudnn-cu12==9.1.0.70 in /home/crvr/Ulm/M1/.venv/lib/python3.12/site-packages (from torch>=2->torchdata>=0.5.0->dgl) (9.1.0.70)\n",
      "Requirement already satisfied: nvidia-cublas-cu12==12.4.5.8 in /home/crvr/Ulm/M1/.venv/lib/python3.12/site-packages (from torch>=2->torchdata>=0.5.0->dgl) (12.4.5.8)\n",
      "Requirement already satisfied: nvidia-cufft-cu12==11.2.1.3 in /home/crvr/Ulm/M1/.venv/lib/python3.12/site-packages (from torch>=2->torchdata>=0.5.0->dgl) (11.2.1.3)\n",
      "Requirement already satisfied: nvidia-curand-cu12==10.3.5.147 in /home/crvr/Ulm/M1/.venv/lib/python3.12/site-packages (from torch>=2->torchdata>=0.5.0->dgl) (10.3.5.147)\n",
      "Requirement already satisfied: nvidia-cusolver-cu12==11.6.1.9 in /home/crvr/Ulm/M1/.venv/lib/python3.12/site-packages (from torch>=2->torchdata>=0.5.0->dgl) (11.6.1.9)\n",
      "Requirement already satisfied: nvidia-cusparse-cu12==12.3.1.170 in /home/crvr/Ulm/M1/.venv/lib/python3.12/site-packages (from torch>=2->torchdata>=0.5.0->dgl) (12.3.1.170)\n",
      "Requirement already satisfied: nvidia-nccl-cu12==2.21.5 in /home/crvr/Ulm/M1/.venv/lib/python3.12/site-packages (from torch>=2->torchdata>=0.5.0->dgl) (2.21.5)\n",
      "Requirement already satisfied: nvidia-nvtx-cu12==12.4.127 in /home/crvr/Ulm/M1/.venv/lib/python3.12/site-packages (from torch>=2->torchdata>=0.5.0->dgl) (12.4.127)\n",
      "Requirement already satisfied: nvidia-nvjitlink-cu12==12.4.127 in /home/crvr/Ulm/M1/.venv/lib/python3.12/site-packages (from torch>=2->torchdata>=0.5.0->dgl) (12.4.127)\n",
      "Requirement already satisfied: triton==3.1.0 in /home/crvr/Ulm/M1/.venv/lib/python3.12/site-packages (from torch>=2->torchdata>=0.5.0->dgl) (3.1.0)\n",
      "Requirement already satisfied: setuptools in /home/crvr/Ulm/M1/.venv/lib/python3.12/site-packages (from torch>=2->torchdata>=0.5.0->dgl) (75.6.0)\n",
      "Requirement already satisfied: sympy==1.13.1 in /home/crvr/Ulm/M1/.venv/lib/python3.12/site-packages (from torch>=2->torchdata>=0.5.0->dgl) (1.13.1)\n",
      "Requirement already satisfied: mpmath<1.4,>=1.1.0 in /home/crvr/Ulm/M1/.venv/lib/python3.12/site-packages (from sympy==1.13.1->torch>=2->torchdata>=0.5.0->dgl) (1.3.0)\n",
      "Requirement already satisfied: MarkupSafe>=2.0 in /home/crvr/Ulm/M1/.venv/lib/python3.12/site-packages (from jinja2->torch>=2->torchdata>=0.5.0->dgl) (3.0.2)\n"
     ]
    }
   ],
   "source": [
    "!pip install dgl"
   ]
  },
  {
   "cell_type": "code",
   "execution_count": 157,
   "metadata": {},
   "outputs": [
    {
     "name": "stdout",
     "output_type": "stream",
     "text": [
      "Requirement already satisfied: torch_geometric in /home/crvr/Ulm/M1/.venv/lib/python3.12/site-packages (2.6.1)\n",
      "Requirement already satisfied: aiohttp in /home/crvr/Ulm/M1/.venv/lib/python3.12/site-packages (from torch_geometric) (3.11.7)\n",
      "Requirement already satisfied: fsspec in /home/crvr/Ulm/M1/.venv/lib/python3.12/site-packages (from torch_geometric) (2024.10.0)\n",
      "Requirement already satisfied: jinja2 in /home/crvr/Ulm/M1/.venv/lib/python3.12/site-packages (from torch_geometric) (3.1.4)\n",
      "Requirement already satisfied: numpy in /home/crvr/Ulm/M1/.venv/lib/python3.12/site-packages (from torch_geometric) (2.1.3)\n",
      "Requirement already satisfied: psutil>=5.8.0 in /home/crvr/Ulm/M1/.venv/lib/python3.12/site-packages (from torch_geometric) (6.1.0)\n",
      "Requirement already satisfied: pyparsing in /home/crvr/Ulm/M1/.venv/lib/python3.12/site-packages (from torch_geometric) (3.2.0)\n",
      "Requirement already satisfied: requests in /home/crvr/Ulm/M1/.venv/lib/python3.12/site-packages (from torch_geometric) (2.32.3)\n",
      "Requirement already satisfied: tqdm in /home/crvr/Ulm/M1/.venv/lib/python3.12/site-packages (from torch_geometric) (4.67.1)\n",
      "Requirement already satisfied: aiohappyeyeballs>=2.3.0 in /home/crvr/Ulm/M1/.venv/lib/python3.12/site-packages (from aiohttp->torch_geometric) (2.4.3)\n",
      "Requirement already satisfied: aiosignal>=1.1.2 in /home/crvr/Ulm/M1/.venv/lib/python3.12/site-packages (from aiohttp->torch_geometric) (1.3.1)\n",
      "Requirement already satisfied: attrs>=17.3.0 in /home/crvr/Ulm/M1/.venv/lib/python3.12/site-packages (from aiohttp->torch_geometric) (24.2.0)\n",
      "Requirement already satisfied: frozenlist>=1.1.1 in /home/crvr/Ulm/M1/.venv/lib/python3.12/site-packages (from aiohttp->torch_geometric) (1.5.0)\n",
      "Requirement already satisfied: multidict<7.0,>=4.5 in /home/crvr/Ulm/M1/.venv/lib/python3.12/site-packages (from aiohttp->torch_geometric) (6.1.0)\n",
      "Requirement already satisfied: propcache>=0.2.0 in /home/crvr/Ulm/M1/.venv/lib/python3.12/site-packages (from aiohttp->torch_geometric) (0.2.0)\n",
      "Requirement already satisfied: yarl<2.0,>=1.17.0 in /home/crvr/Ulm/M1/.venv/lib/python3.12/site-packages (from aiohttp->torch_geometric) (1.18.0)\n",
      "Requirement already satisfied: MarkupSafe>=2.0 in /home/crvr/Ulm/M1/.venv/lib/python3.12/site-packages (from jinja2->torch_geometric) (3.0.2)\n",
      "Requirement already satisfied: charset-normalizer<4,>=2 in /home/crvr/Ulm/M1/.venv/lib/python3.12/site-packages (from requests->torch_geometric) (3.4.0)\n",
      "Requirement already satisfied: idna<4,>=2.5 in /home/crvr/Ulm/M1/.venv/lib/python3.12/site-packages (from requests->torch_geometric) (3.10)\n",
      "Requirement already satisfied: urllib3<3,>=1.21.1 in /home/crvr/Ulm/M1/.venv/lib/python3.12/site-packages (from requests->torch_geometric) (2.2.3)\n",
      "Requirement already satisfied: certifi>=2017.4.17 in /home/crvr/Ulm/M1/.venv/lib/python3.12/site-packages (from requests->torch_geometric) (2024.8.30)\n"
     ]
    }
   ],
   "source": [
    "!pip install torch_geometric"
   ]
  },
  {
   "cell_type": "code",
   "execution_count": 42,
   "metadata": {},
   "outputs": [],
   "source": [
    "from torch_geometric.datasets import UPFD\n",
    "from torch_geometric.loader import DataLoader\n",
    "from torch_geometric.nn import GATConv, global_mean_pool\n",
    "from torch.nn.modules import Linear\n",
    "from torch_geometric.transforms import ToUndirected\n",
    "from torch.functional import F\n",
    "import torch\n",
    "import argparse\n",
    "import os.path as osp\n"
   ]
  },
  {
   "cell_type": "markdown",
   "metadata": {},
   "source": [
    "The dataset is initialized there. Note that:\n",
    "- `feature` can be `content` (raw content of the tweet), `bert` (content transformed by a transformer), `profile` (user profile info such as number of tweets, followers, and join date), `spacy` (content transformed by a simple NLP model)\n",
    "- `dataset` is either `politifact` or `gossipcop`"
   ]
  },
  {
   "cell_type": "code",
   "execution_count": 58,
   "metadata": {},
   "outputs": [
    {
     "name": "stdout",
     "output_type": "stream",
     "text": [
      "5464\n"
     ]
    },
    {
     "name": "stderr",
     "output_type": "stream",
     "text": [
      "/home/crvr/Ulm/M1/.venv/lib/python3.12/site-packages/torch_geometric/deprecation.py:26: UserWarning: 'data.DataLoader' is deprecated, use 'loader.DataLoader' instead\n",
      "  warnings.warn(out)\n"
     ]
    }
   ],
   "source": [
    "from torch_geometric.data import DataLoader \n",
    "from torch_geometric.datasets import UPFD\n",
    "import os.path as osp\n",
    "import torch\n",
    "\n",
    "# Paths and settings\n",
    "_file_ = '..'\n",
    "file = _file_\n",
    "dataset = 'gossipcop'  # or 'politifact'\n",
    "path = osp.join(osp.dirname(osp.realpath(file)), '..', 'data', 'UPFD')\n",
    "\n",
    "# Load datasets with bert and profile features separately\n",
    "train_dataset_bert = UPFD(path, dataset, 'bert', 'train')\n",
    "train_dataset_profile = UPFD(path, dataset, 'profile', 'train')\n",
    "\n",
    "val_dataset_bert = UPFD(path, dataset, 'bert', 'val')\n",
    "val_dataset_profile = UPFD(path, dataset, 'profile', 'val')\n",
    "\n",
    "test_dataset_bert = UPFD(path, dataset, 'bert', 'test')\n",
    "test_dataset_profile = UPFD(path, dataset, 'profile', 'test')\n",
    "\n",
    "# Check that both datasets are aligned\n",
    "assert len(train_dataset_bert) == len(train_dataset_profile)\n",
    "assert len(val_dataset_bert) == len(val_dataset_profile)\n",
    "assert len(test_dataset_bert) == len(test_dataset_profile)\n",
    "\n",
    "# Function to combine features\n",
    "def combine_features(dataset_bert, dataset_profile):\n",
    "    combined_data = []\n",
    "    for data_bert, data_profile in zip(dataset_bert, dataset_profile):\n",
    "        data_bert.x = torch.cat([data_bert.x, data_profile.x], dim=-1)  # Concatenate features\n",
    "        combined_data.append(data_bert)\n",
    "    return combined_data\n",
    "\n",
    "# Combine features for train, val, and test datasets\n",
    "train_dataset = combine_features(train_dataset_bert, train_dataset_profile)\n",
    "val_dataset = combine_features(val_dataset_bert, val_dataset_profile)\n",
    "test_dataset = combine_features(test_dataset_bert, test_dataset_profile)\n",
    "\n",
    "# Create DataLoaders\n",
    "train_loader = DataLoader(train_dataset, batch_size=64, shuffle=True)\n",
    "val_loader = DataLoader(val_dataset, batch_size=64, shuffle=False)\n",
    "test_loader = DataLoader(test_dataset, batch_size=64, shuffle=False)\n",
    "print(len(train_dataset) + len(val_dataset) + len(test_dataset))"
   ]
  },
  {
   "cell_type": "code",
   "execution_count": 59,
   "metadata": {},
   "outputs": [
    {
     "name": "stdout",
     "output_type": "stream",
     "text": [
      "torch.Size([76, 778])\n",
      "6883\n",
      "[7, 41, 91, 77, 69, 116, 70, 130, 107, 55, 26, 45, 28, 62, 9, 7, 8, 55, 169, 16, 91, 56, 126, 151, 118, 82, 117, 163, 10, 102, 71, 94, 42, 120, 125, 28, 20, 83, 60, 70, 8, 61, 25, 10, 91, 31, 18, 81, 192, 23, 58, 65, 64, 67, 80, 85, 70, 17, 95, 18, 48, 76, 130, 10, 0, 0, 0, 0, 0, 0, 0, 0, 0, 0, 0, 0, 0, 0, 0, 0, 0, 0, 0, 0, 0, 0, 0, 0, 0, 0, 0, 0, 0, 0, 0, 0, 0, 0, 0, 0, 0, 0, 0, 0, 0, 0, 0, 0, 0, 0, 0, 0, 0, 0, 0, 0, 0, 0, 0, 0, 0, 0, 0, 0, 0, 0, 0, 0]\n"
     ]
    }
   ],
   "source": [
    "print(train_dataset[0].x.shape)\n",
    "print(sum([e.x.shape[0] for e in train_dataset[0:128] ]))\n",
    "for e in train_loader:\n",
    "    s = [0 for i in range(128)]\n",
    "    for k in e.batch:\n",
    "        s[k]+=1\n",
    "    print(s)\n",
    "    break"
   ]
  },
  {
   "cell_type": "code",
   "execution_count": 60,
   "metadata": {},
   "outputs": [
    {
     "name": "stdout",
     "output_type": "stream",
     "text": [
      "[Data(x=[76, 778], edge_index=[2, 75], y=[1]), Data(x=[125, 778], edge_index=[2, 124], y=[1]), Data(x=[6, 778], edge_index=[2, 5], y=[1]), Data(x=[56, 778], edge_index=[2, 55], y=[1]), Data(x=[90, 778], edge_index=[2, 89], y=[1]), Data(x=[21, 778], edge_index=[2, 20], y=[1]), Data(x=[76, 778], edge_index=[2, 75], y=[1]), Data(x=[89, 778], edge_index=[2, 88], y=[1]), Data(x=[77, 778], edge_index=[2, 76], y=[1]), Data(x=[27, 778], edge_index=[2, 26], y=[1]), Data(x=[88, 778], edge_index=[2, 87], y=[1]), Data(x=[127, 778], edge_index=[2, 126], y=[1]), Data(x=[88, 778], edge_index=[2, 87], y=[1]), Data(x=[19, 778], edge_index=[2, 18], y=[1]), Data(x=[173, 778], edge_index=[2, 172], y=[1]), Data(x=[54, 778], edge_index=[2, 53], y=[1]), Data(x=[19, 778], edge_index=[2, 18], y=[1]), Data(x=[88, 778], edge_index=[2, 87], y=[1]), Data(x=[24, 778], edge_index=[2, 23], y=[1]), Data(x=[72, 778], edge_index=[2, 71], y=[1]), Data(x=[12, 778], edge_index=[2, 11], y=[1]), Data(x=[38, 778], edge_index=[2, 37], y=[1]), Data(x=[26, 778], edge_index=[2, 25], y=[1]), Data(x=[163, 778], edge_index=[2, 162], y=[1]), Data(x=[7, 778], edge_index=[2, 6], y=[1]), Data(x=[11, 778], edge_index=[2, 10], y=[1]), Data(x=[58, 778], edge_index=[2, 57], y=[1]), Data(x=[27, 778], edge_index=[2, 26], y=[1]), Data(x=[56, 778], edge_index=[2, 55], y=[1]), Data(x=[89, 778], edge_index=[2, 88], y=[1]), Data(x=[69, 778], edge_index=[2, 68], y=[1]), Data(x=[94, 778], edge_index=[2, 93], y=[1]), Data(x=[16, 778], edge_index=[2, 15], y=[1]), Data(x=[110, 778], edge_index=[2, 109], y=[1]), Data(x=[46, 778], edge_index=[2, 45], y=[1]), Data(x=[60, 778], edge_index=[2, 59], y=[1]), Data(x=[9, 778], edge_index=[2, 8], y=[1]), Data(x=[4, 778], edge_index=[2, 3], y=[1]), Data(x=[13, 778], edge_index=[2, 12], y=[1]), Data(x=[44, 778], edge_index=[2, 43], y=[1]), Data(x=[5, 778], edge_index=[2, 4], y=[1]), Data(x=[86, 778], edge_index=[2, 85], y=[1]), Data(x=[74, 778], edge_index=[2, 73], y=[1]), Data(x=[70, 778], edge_index=[2, 69], y=[1]), Data(x=[53, 778], edge_index=[2, 52], y=[1]), Data(x=[21, 778], edge_index=[2, 20], y=[1]), Data(x=[23, 778], edge_index=[2, 22], y=[1]), Data(x=[46, 778], edge_index=[2, 45], y=[1]), Data(x=[45, 778], edge_index=[2, 44], y=[1]), Data(x=[33, 778], edge_index=[2, 32], y=[1]), Data(x=[18, 778], edge_index=[2, 17], y=[1]), Data(x=[42, 778], edge_index=[2, 41], y=[1]), Data(x=[22, 778], edge_index=[2, 21], y=[1]), Data(x=[51, 778], edge_index=[2, 50], y=[1]), Data(x=[53, 778], edge_index=[2, 52], y=[1]), Data(x=[82, 778], edge_index=[2, 81], y=[1]), Data(x=[105, 778], edge_index=[2, 104], y=[1]), Data(x=[7, 778], edge_index=[2, 6], y=[1]), Data(x=[54, 778], edge_index=[2, 53], y=[1]), Data(x=[58, 778], edge_index=[2, 57], y=[1]), Data(x=[14, 778], edge_index=[2, 13], y=[1]), Data(x=[64, 778], edge_index=[2, 63], y=[1]), Data(x=[14, 778], edge_index=[2, 13], y=[1]), Data(x=[194, 778], edge_index=[2, 193], y=[1]), Data(x=[32, 778], edge_index=[2, 31], y=[1]), Data(x=[78, 778], edge_index=[2, 77], y=[1]), Data(x=[49, 778], edge_index=[2, 48], y=[1]), Data(x=[121, 778], edge_index=[2, 120], y=[1]), Data(x=[58, 778], edge_index=[2, 57], y=[1]), Data(x=[77, 778], edge_index=[2, 76], y=[1]), Data(x=[49, 778], edge_index=[2, 48], y=[1]), Data(x=[12, 778], edge_index=[2, 11], y=[1]), Data(x=[12, 778], edge_index=[2, 11], y=[1]), Data(x=[67, 778], edge_index=[2, 66], y=[1]), Data(x=[74, 778], edge_index=[2, 73], y=[1]), Data(x=[23, 778], edge_index=[2, 22], y=[1]), Data(x=[168, 778], edge_index=[2, 167], y=[1]), Data(x=[34, 778], edge_index=[2, 33], y=[1]), Data(x=[8, 778], edge_index=[2, 7], y=[1]), Data(x=[6, 778], edge_index=[2, 5], y=[1]), Data(x=[21, 778], edge_index=[2, 20], y=[1]), Data(x=[22, 778], edge_index=[2, 21], y=[1]), Data(x=[8, 778], edge_index=[2, 7], y=[1]), Data(x=[17, 778], edge_index=[2, 16], y=[1]), Data(x=[4, 778], edge_index=[2, 3], y=[1]), Data(x=[20, 778], edge_index=[2, 19], y=[1]), Data(x=[61, 778], edge_index=[2, 60], y=[1]), Data(x=[11, 778], edge_index=[2, 10], y=[1]), Data(x=[25, 778], edge_index=[2, 24], y=[1]), Data(x=[17, 778], edge_index=[2, 16], y=[1]), Data(x=[122, 778], edge_index=[2, 121], y=[1]), Data(x=[70, 778], edge_index=[2, 69], y=[1]), Data(x=[33, 778], edge_index=[2, 32], y=[1]), Data(x=[14, 778], edge_index=[2, 13], y=[1]), Data(x=[96, 778], edge_index=[2, 95], y=[1]), Data(x=[110, 778], edge_index=[2, 109], y=[1]), Data(x=[78, 778], edge_index=[2, 77], y=[1]), Data(x=[58, 778], edge_index=[2, 57], y=[1]), Data(x=[9, 778], edge_index=[2, 8], y=[1]), Data(x=[101, 778], edge_index=[2, 100], y=[1]), Data(x=[93, 778], edge_index=[2, 92], y=[1]), Data(x=[44, 778], edge_index=[2, 43], y=[1]), Data(x=[152, 778], edge_index=[2, 151], y=[1]), Data(x=[75, 778], edge_index=[2, 74], y=[1]), Data(x=[14, 778], edge_index=[2, 13], y=[1]), Data(x=[22, 778], edge_index=[2, 21], y=[1]), Data(x=[37, 778], edge_index=[2, 36], y=[1]), Data(x=[16, 778], edge_index=[2, 15], y=[1]), Data(x=[117, 778], edge_index=[2, 116], y=[1]), Data(x=[51, 778], edge_index=[2, 50], y=[1]), Data(x=[70, 778], edge_index=[2, 69], y=[1]), Data(x=[50, 778], edge_index=[2, 49], y=[1]), Data(x=[59, 778], edge_index=[2, 58], y=[1]), Data(x=[44, 778], edge_index=[2, 43], y=[1]), Data(x=[85, 778], edge_index=[2, 84], y=[1]), Data(x=[34, 778], edge_index=[2, 33], y=[1]), Data(x=[7, 778], edge_index=[2, 6], y=[1]), Data(x=[164, 778], edge_index=[2, 163], y=[1]), Data(x=[71, 778], edge_index=[2, 70], y=[1]), Data(x=[10, 778], edge_index=[2, 9], y=[1]), Data(x=[18, 778], edge_index=[2, 17], y=[1]), Data(x=[52, 778], edge_index=[2, 51], y=[1]), Data(x=[12, 778], edge_index=[2, 11], y=[1]), Data(x=[20, 778], edge_index=[2, 19], y=[1]), Data(x=[102, 778], edge_index=[2, 101], y=[1]), Data(x=[49, 778], edge_index=[2, 48], y=[1]), Data(x=[20, 778], edge_index=[2, 19], y=[1]), Data(x=[49, 778], edge_index=[2, 48], y=[1]), Data(x=[180, 778], edge_index=[2, 179], y=[1]), Data(x=[77, 778], edge_index=[2, 76], y=[1]), Data(x=[55, 778], edge_index=[2, 54], y=[1]), Data(x=[116, 778], edge_index=[2, 115], y=[1]), Data(x=[12, 778], edge_index=[2, 11], y=[1]), Data(x=[133, 778], edge_index=[2, 132], y=[1]), Data(x=[16, 778], edge_index=[2, 15], y=[1]), Data(x=[160, 778], edge_index=[2, 159], y=[1]), Data(x=[11, 778], edge_index=[2, 10], y=[1]), Data(x=[79, 778], edge_index=[2, 78], y=[1]), Data(x=[113, 778], edge_index=[2, 112], y=[1]), Data(x=[21, 778], edge_index=[2, 20], y=[1]), Data(x=[14, 778], edge_index=[2, 13], y=[1]), Data(x=[30, 778], edge_index=[2, 29], y=[1]), Data(x=[33, 778], edge_index=[2, 32], y=[1]), Data(x=[11, 778], edge_index=[2, 10], y=[1]), Data(x=[131, 778], edge_index=[2, 130], y=[1]), Data(x=[56, 778], edge_index=[2, 55], y=[1]), Data(x=[69, 778], edge_index=[2, 68], y=[1]), Data(x=[92, 778], edge_index=[2, 91], y=[1]), Data(x=[11, 778], edge_index=[2, 10], y=[1]), Data(x=[53, 778], edge_index=[2, 52], y=[1]), Data(x=[58, 778], edge_index=[2, 57], y=[1]), Data(x=[18, 778], edge_index=[2, 17], y=[1]), Data(x=[70, 778], edge_index=[2, 69], y=[1]), Data(x=[92, 778], edge_index=[2, 91], y=[1]), Data(x=[33, 778], edge_index=[2, 32], y=[1]), Data(x=[123, 778], edge_index=[2, 122], y=[1]), Data(x=[127, 778], edge_index=[2, 126], y=[1]), Data(x=[110, 778], edge_index=[2, 109], y=[1]), Data(x=[96, 778], edge_index=[2, 95], y=[1]), Data(x=[20, 778], edge_index=[2, 19], y=[1]), Data(x=[35, 778], edge_index=[2, 34], y=[1]), Data(x=[19, 778], edge_index=[2, 18], y=[1]), Data(x=[5, 778], edge_index=[2, 4], y=[1]), Data(x=[35, 778], edge_index=[2, 34], y=[1]), Data(x=[160, 778], edge_index=[2, 159], y=[1]), Data(x=[63, 778], edge_index=[2, 62], y=[1]), Data(x=[63, 778], edge_index=[2, 62], y=[1]), Data(x=[177, 778], edge_index=[2, 176], y=[1]), Data(x=[24, 778], edge_index=[2, 23], y=[1]), Data(x=[28, 778], edge_index=[2, 27], y=[1]), Data(x=[186, 778], edge_index=[2, 185], y=[1]), Data(x=[60, 778], edge_index=[2, 59], y=[1]), Data(x=[11, 778], edge_index=[2, 10], y=[1]), Data(x=[26, 778], edge_index=[2, 25], y=[1]), Data(x=[58, 778], edge_index=[2, 57], y=[1]), Data(x=[85, 778], edge_index=[2, 84], y=[1]), Data(x=[33, 778], edge_index=[2, 32], y=[1]), Data(x=[37, 778], edge_index=[2, 36], y=[1]), Data(x=[6, 778], edge_index=[2, 5], y=[1]), Data(x=[13, 778], edge_index=[2, 12], y=[1]), Data(x=[22, 778], edge_index=[2, 21], y=[1]), Data(x=[4, 778], edge_index=[2, 3], y=[1]), Data(x=[129, 778], edge_index=[2, 128], y=[1]), Data(x=[42, 778], edge_index=[2, 41], y=[1]), Data(x=[5, 778], edge_index=[2, 4], y=[1]), Data(x=[9, 778], edge_index=[2, 8], y=[1]), Data(x=[65, 778], edge_index=[2, 64], y=[1]), Data(x=[5, 778], edge_index=[2, 4], y=[1]), Data(x=[29, 778], edge_index=[2, 28], y=[1]), Data(x=[42, 778], edge_index=[2, 41], y=[1]), Data(x=[10, 778], edge_index=[2, 9], y=[1]), Data(x=[71, 778], edge_index=[2, 70], y=[1]), Data(x=[95, 778], edge_index=[2, 94], y=[1]), Data(x=[13, 778], edge_index=[2, 12], y=[1]), Data(x=[166, 778], edge_index=[2, 165], y=[1]), Data(x=[35, 778], edge_index=[2, 34], y=[1]), Data(x=[17, 778], edge_index=[2, 16], y=[1]), Data(x=[94, 778], edge_index=[2, 93], y=[1]), Data(x=[94, 778], edge_index=[2, 93], y=[1]), Data(x=[55, 778], edge_index=[2, 54], y=[1]), Data(x=[71, 778], edge_index=[2, 70], y=[1]), Data(x=[113, 778], edge_index=[2, 112], y=[1]), Data(x=[157, 778], edge_index=[2, 156], y=[1]), Data(x=[26, 778], edge_index=[2, 25], y=[1]), Data(x=[66, 778], edge_index=[2, 65], y=[1]), Data(x=[30, 778], edge_index=[2, 29], y=[1]), Data(x=[38, 778], edge_index=[2, 37], y=[1]), Data(x=[13, 778], edge_index=[2, 12], y=[1]), Data(x=[131, 778], edge_index=[2, 130], y=[1]), Data(x=[25, 778], edge_index=[2, 24], y=[1]), Data(x=[18, 778], edge_index=[2, 17], y=[1]), Data(x=[157, 778], edge_index=[2, 156], y=[1]), Data(x=[32, 778], edge_index=[2, 31], y=[1]), Data(x=[15, 778], edge_index=[2, 14], y=[1]), Data(x=[10, 778], edge_index=[2, 9], y=[1]), Data(x=[130, 778], edge_index=[2, 129], y=[1]), Data(x=[51, 778], edge_index=[2, 50], y=[1]), Data(x=[8, 778], edge_index=[2, 7], y=[1]), Data(x=[37, 778], edge_index=[2, 36], y=[1]), Data(x=[128, 778], edge_index=[2, 127], y=[1]), Data(x=[50, 778], edge_index=[2, 49], y=[1]), Data(x=[143, 778], edge_index=[2, 142], y=[1]), Data(x=[23, 778], edge_index=[2, 22], y=[1]), Data(x=[20, 778], edge_index=[2, 19], y=[1]), Data(x=[17, 778], edge_index=[2, 16], y=[1]), Data(x=[7, 778], edge_index=[2, 6], y=[1]), Data(x=[192, 778], edge_index=[2, 191], y=[1]), Data(x=[66, 778], edge_index=[2, 65], y=[1]), Data(x=[184, 778], edge_index=[2, 183], y=[1]), Data(x=[22, 778], edge_index=[2, 21], y=[1]), Data(x=[152, 778], edge_index=[2, 151], y=[1]), Data(x=[8, 778], edge_index=[2, 7], y=[1]), Data(x=[102, 778], edge_index=[2, 101], y=[1]), Data(x=[86, 778], edge_index=[2, 85], y=[1]), Data(x=[108, 778], edge_index=[2, 107], y=[1]), Data(x=[30, 778], edge_index=[2, 29], y=[1]), Data(x=[118, 778], edge_index=[2, 117], y=[1]), Data(x=[93, 778], edge_index=[2, 92], y=[1]), Data(x=[36, 778], edge_index=[2, 35], y=[1]), Data(x=[95, 778], edge_index=[2, 94], y=[1]), Data(x=[18, 778], edge_index=[2, 17], y=[1]), Data(x=[92, 778], edge_index=[2, 91], y=[1]), Data(x=[73, 778], edge_index=[2, 72], y=[1]), Data(x=[24, 778], edge_index=[2, 23], y=[1]), Data(x=[64, 778], edge_index=[2, 63], y=[1]), Data(x=[22, 778], edge_index=[2, 21], y=[1]), Data(x=[98, 778], edge_index=[2, 97], y=[1]), Data(x=[68, 778], edge_index=[2, 67], y=[1]), Data(x=[25, 778], edge_index=[2, 24], y=[1]), Data(x=[37, 778], edge_index=[2, 36], y=[1]), Data(x=[16, 778], edge_index=[2, 15], y=[1]), Data(x=[91, 778], edge_index=[2, 90], y=[1]), Data(x=[14, 778], edge_index=[2, 13], y=[1]), Data(x=[150, 778], edge_index=[2, 149], y=[1]), Data(x=[79, 778], edge_index=[2, 78], y=[1]), Data(x=[77, 778], edge_index=[2, 76], y=[1]), Data(x=[74, 778], edge_index=[2, 73], y=[1]), Data(x=[22, 778], edge_index=[2, 21], y=[1]), Data(x=[136, 778], edge_index=[2, 135], y=[1]), Data(x=[60, 778], edge_index=[2, 59], y=[1]), Data(x=[61, 778], edge_index=[2, 60], y=[1]), Data(x=[3, 778], edge_index=[2, 2], y=[1]), Data(x=[50, 778], edge_index=[2, 49], y=[1]), Data(x=[74, 778], edge_index=[2, 73], y=[1]), Data(x=[31, 778], edge_index=[2, 30], y=[1]), Data(x=[45, 778], edge_index=[2, 44], y=[1]), Data(x=[21, 778], edge_index=[2, 20], y=[1]), Data(x=[63, 778], edge_index=[2, 62], y=[1]), Data(x=[35, 778], edge_index=[2, 34], y=[1]), Data(x=[8, 778], edge_index=[2, 7], y=[1]), Data(x=[84, 778], edge_index=[2, 83], y=[1]), Data(x=[14, 778], edge_index=[2, 13], y=[1]), Data(x=[16, 778], edge_index=[2, 15], y=[1]), Data(x=[40, 778], edge_index=[2, 39], y=[1]), Data(x=[12, 778], edge_index=[2, 11], y=[1]), Data(x=[64, 778], edge_index=[2, 63], y=[1]), Data(x=[134, 778], edge_index=[2, 133], y=[1]), Data(x=[30, 778], edge_index=[2, 29], y=[1]), Data(x=[72, 778], edge_index=[2, 71], y=[1]), Data(x=[50, 778], edge_index=[2, 49], y=[1]), Data(x=[3, 778], edge_index=[2, 2], y=[1]), Data(x=[52, 778], edge_index=[2, 51], y=[1]), Data(x=[35, 778], edge_index=[2, 34], y=[1]), Data(x=[76, 778], edge_index=[2, 75], y=[1]), Data(x=[127, 778], edge_index=[2, 126], y=[1]), Data(x=[14, 778], edge_index=[2, 13], y=[1]), Data(x=[47, 778], edge_index=[2, 46], y=[1]), Data(x=[43, 778], edge_index=[2, 42], y=[1]), Data(x=[8, 778], edge_index=[2, 7], y=[1]), Data(x=[61, 778], edge_index=[2, 60], y=[1]), Data(x=[12, 778], edge_index=[2, 11], y=[1]), Data(x=[125, 778], edge_index=[2, 124], y=[1]), Data(x=[38, 778], edge_index=[2, 37], y=[1]), Data(x=[8, 778], edge_index=[2, 7], y=[1]), Data(x=[103, 778], edge_index=[2, 102], y=[1]), Data(x=[93, 778], edge_index=[2, 92], y=[1]), Data(x=[17, 778], edge_index=[2, 16], y=[1]), Data(x=[63, 778], edge_index=[2, 62], y=[1]), Data(x=[16, 778], edge_index=[2, 15], y=[1]), Data(x=[76, 778], edge_index=[2, 75], y=[1]), Data(x=[19, 778], edge_index=[2, 18], y=[1]), Data(x=[45, 778], edge_index=[2, 44], y=[1]), Data(x=[92, 778], edge_index=[2, 91], y=[1]), Data(x=[21, 778], edge_index=[2, 20], y=[1]), Data(x=[96, 778], edge_index=[2, 95], y=[1]), Data(x=[27, 778], edge_index=[2, 26], y=[1]), Data(x=[33, 778], edge_index=[2, 32], y=[1]), Data(x=[171, 778], edge_index=[2, 170], y=[1]), Data(x=[28, 778], edge_index=[2, 27], y=[1]), Data(x=[77, 778], edge_index=[2, 76], y=[1]), Data(x=[171, 778], edge_index=[2, 170], y=[1]), Data(x=[23, 778], edge_index=[2, 22], y=[1]), Data(x=[64, 778], edge_index=[2, 63], y=[1]), Data(x=[70, 778], edge_index=[2, 69], y=[1]), Data(x=[7, 778], edge_index=[2, 6], y=[1]), Data(x=[20, 778], edge_index=[2, 19], y=[1]), Data(x=[43, 778], edge_index=[2, 42], y=[1]), Data(x=[21, 778], edge_index=[2, 20], y=[1]), Data(x=[49, 778], edge_index=[2, 48], y=[1]), Data(x=[26, 778], edge_index=[2, 25], y=[1]), Data(x=[8, 778], edge_index=[2, 7], y=[1]), Data(x=[7, 778], edge_index=[2, 6], y=[1]), Data(x=[12, 778], edge_index=[2, 11], y=[1]), Data(x=[73, 778], edge_index=[2, 72], y=[1]), Data(x=[8, 778], edge_index=[2, 7], y=[1]), Data(x=[89, 778], edge_index=[2, 88], y=[1]), Data(x=[8, 778], edge_index=[2, 7], y=[1]), Data(x=[8, 778], edge_index=[2, 7], y=[1]), Data(x=[27, 778], edge_index=[2, 26], y=[1]), Data(x=[86, 778], edge_index=[2, 85], y=[1]), Data(x=[13, 778], edge_index=[2, 12], y=[1]), Data(x=[130, 778], edge_index=[2, 129], y=[1]), Data(x=[57, 778], edge_index=[2, 56], y=[1]), Data(x=[84, 778], edge_index=[2, 83], y=[1]), Data(x=[167, 778], edge_index=[2, 166], y=[1]), Data(x=[27, 778], edge_index=[2, 26], y=[1]), Data(x=[31, 778], edge_index=[2, 30], y=[1]), Data(x=[27, 778], edge_index=[2, 26], y=[1]), Data(x=[6, 778], edge_index=[2, 5], y=[1]), Data(x=[47, 778], edge_index=[2, 46], y=[1]), Data(x=[68, 778], edge_index=[2, 67], y=[1]), Data(x=[12, 778], edge_index=[2, 11], y=[1]), Data(x=[58, 778], edge_index=[2, 57], y=[1]), Data(x=[96, 778], edge_index=[2, 95], y=[1]), Data(x=[68, 778], edge_index=[2, 67], y=[1]), Data(x=[47, 778], edge_index=[2, 46], y=[1]), Data(x=[94, 778], edge_index=[2, 93], y=[1]), Data(x=[87, 778], edge_index=[2, 86], y=[1]), Data(x=[20, 778], edge_index=[2, 19], y=[1]), Data(x=[70, 778], edge_index=[2, 69], y=[1]), Data(x=[43, 778], edge_index=[2, 42], y=[1]), Data(x=[177, 778], edge_index=[2, 176], y=[1]), Data(x=[80, 778], edge_index=[2, 79], y=[1]), Data(x=[18, 778], edge_index=[2, 17], y=[1]), Data(x=[11, 778], edge_index=[2, 10], y=[1]), Data(x=[46, 778], edge_index=[2, 45], y=[1]), Data(x=[73, 778], edge_index=[2, 72], y=[1]), Data(x=[63, 778], edge_index=[2, 62], y=[1]), Data(x=[23, 778], edge_index=[2, 22], y=[1]), Data(x=[31, 778], edge_index=[2, 30], y=[1]), Data(x=[33, 778], edge_index=[2, 32], y=[1]), Data(x=[77, 778], edge_index=[2, 76], y=[1]), Data(x=[43, 778], edge_index=[2, 42], y=[1]), Data(x=[21, 778], edge_index=[2, 20], y=[1]), Data(x=[57, 778], edge_index=[2, 56], y=[1]), Data(x=[51, 778], edge_index=[2, 50], y=[1]), Data(x=[9, 778], edge_index=[2, 8], y=[1]), Data(x=[114, 778], edge_index=[2, 113], y=[1]), Data(x=[18, 778], edge_index=[2, 17], y=[1]), Data(x=[7, 778], edge_index=[2, 6], y=[1]), Data(x=[84, 778], edge_index=[2, 83], y=[1]), Data(x=[58, 778], edge_index=[2, 57], y=[1]), Data(x=[92, 778], edge_index=[2, 91], y=[1]), Data(x=[8, 778], edge_index=[2, 7], y=[1]), Data(x=[80, 778], edge_index=[2, 79], y=[1]), Data(x=[83, 778], edge_index=[2, 82], y=[1]), Data(x=[10, 778], edge_index=[2, 9], y=[1]), Data(x=[35, 778], edge_index=[2, 34], y=[1]), Data(x=[57, 778], edge_index=[2, 56], y=[1]), Data(x=[65, 778], edge_index=[2, 64], y=[1]), Data(x=[133, 778], edge_index=[2, 132], y=[1]), Data(x=[51, 778], edge_index=[2, 50], y=[1]), Data(x=[65, 778], edge_index=[2, 64], y=[1]), Data(x=[108, 778], edge_index=[2, 107], y=[1]), Data(x=[111, 778], edge_index=[2, 110], y=[1]), Data(x=[73, 778], edge_index=[2, 72], y=[1]), Data(x=[36, 778], edge_index=[2, 35], y=[1]), Data(x=[135, 778], edge_index=[2, 134], y=[1]), Data(x=[16, 778], edge_index=[2, 15], y=[1]), Data(x=[79, 778], edge_index=[2, 78], y=[1]), Data(x=[54, 778], edge_index=[2, 53], y=[1]), Data(x=[8, 778], edge_index=[2, 7], y=[1]), Data(x=[28, 778], edge_index=[2, 27], y=[1]), Data(x=[28, 778], edge_index=[2, 27], y=[1]), Data(x=[38, 778], edge_index=[2, 37], y=[1]), Data(x=[3, 778], edge_index=[2, 2], y=[1]), Data(x=[30, 778], edge_index=[2, 29], y=[1]), Data(x=[8, 778], edge_index=[2, 7], y=[1]), Data(x=[146, 778], edge_index=[2, 145], y=[1]), Data(x=[54, 778], edge_index=[2, 53], y=[1]), Data(x=[104, 778], edge_index=[2, 103], y=[1]), Data(x=[91, 778], edge_index=[2, 90], y=[1]), Data(x=[17, 778], edge_index=[2, 16], y=[1]), Data(x=[141, 778], edge_index=[2, 140], y=[1]), Data(x=[51, 778], edge_index=[2, 50], y=[1]), Data(x=[80, 778], edge_index=[2, 79], y=[1]), Data(x=[89, 778], edge_index=[2, 88], y=[1]), Data(x=[56, 778], edge_index=[2, 55], y=[1]), Data(x=[108, 778], edge_index=[2, 107], y=[1]), Data(x=[31, 778], edge_index=[2, 30], y=[1]), Data(x=[71, 778], edge_index=[2, 70], y=[1]), Data(x=[51, 778], edge_index=[2, 50], y=[1]), Data(x=[154, 778], edge_index=[2, 153], y=[1]), Data(x=[84, 778], edge_index=[2, 83], y=[1]), Data(x=[51, 778], edge_index=[2, 50], y=[1]), Data(x=[92, 778], edge_index=[2, 91], y=[1]), Data(x=[7, 778], edge_index=[2, 6], y=[1]), Data(x=[72, 778], edge_index=[2, 71], y=[1]), Data(x=[43, 778], edge_index=[2, 42], y=[1]), Data(x=[111, 778], edge_index=[2, 110], y=[1]), Data(x=[21, 778], edge_index=[2, 20], y=[1]), Data(x=[144, 778], edge_index=[2, 143], y=[1]), Data(x=[16, 778], edge_index=[2, 15], y=[1]), Data(x=[96, 778], edge_index=[2, 95], y=[1]), Data(x=[20, 778], edge_index=[2, 19], y=[1]), Data(x=[56, 778], edge_index=[2, 55], y=[1]), Data(x=[186, 778], edge_index=[2, 185], y=[1]), Data(x=[17, 778], edge_index=[2, 16], y=[1]), Data(x=[12, 778], edge_index=[2, 11], y=[1]), Data(x=[26, 778], edge_index=[2, 25], y=[1]), Data(x=[113, 778], edge_index=[2, 112], y=[1]), Data(x=[9, 778], edge_index=[2, 8], y=[1]), Data(x=[15, 778], edge_index=[2, 14], y=[1]), Data(x=[14, 778], edge_index=[2, 13], y=[1]), Data(x=[65, 778], edge_index=[2, 64], y=[1]), Data(x=[74, 778], edge_index=[2, 73], y=[1]), Data(x=[133, 778], edge_index=[2, 132], y=[1]), Data(x=[73, 778], edge_index=[2, 72], y=[1]), Data(x=[192, 778], edge_index=[2, 191], y=[1]), Data(x=[52, 778], edge_index=[2, 51], y=[1]), Data(x=[42, 778], edge_index=[2, 41], y=[1]), Data(x=[80, 778], edge_index=[2, 79], y=[1]), Data(x=[96, 778], edge_index=[2, 95], y=[1]), Data(x=[66, 778], edge_index=[2, 65], y=[1]), Data(x=[101, 778], edge_index=[2, 100], y=[1]), Data(x=[9, 778], edge_index=[2, 8], y=[1]), Data(x=[12, 778], edge_index=[2, 11], y=[1]), Data(x=[14, 778], edge_index=[2, 13], y=[1]), Data(x=[18, 778], edge_index=[2, 17], y=[1]), Data(x=[87, 778], edge_index=[2, 86], y=[1]), Data(x=[49, 778], edge_index=[2, 48], y=[1]), Data(x=[113, 778], edge_index=[2, 112], y=[1]), Data(x=[139, 778], edge_index=[2, 138], y=[1]), Data(x=[175, 778], edge_index=[2, 174], y=[1]), Data(x=[167, 778], edge_index=[2, 166], y=[1]), Data(x=[18, 778], edge_index=[2, 17], y=[1]), Data(x=[8, 778], edge_index=[2, 7], y=[1]), Data(x=[175, 778], edge_index=[2, 174], y=[1]), Data(x=[21, 778], edge_index=[2, 20], y=[1]), Data(x=[78, 778], edge_index=[2, 77], y=[1]), Data(x=[24, 778], edge_index=[2, 23], y=[1]), Data(x=[23, 778], edge_index=[2, 22], y=[1]), Data(x=[28, 778], edge_index=[2, 27], y=[1]), Data(x=[42, 778], edge_index=[2, 41], y=[1]), Data(x=[53, 778], edge_index=[2, 52], y=[1]), Data(x=[117, 778], edge_index=[2, 116], y=[1]), Data(x=[43, 778], edge_index=[2, 42], y=[1]), Data(x=[69, 778], edge_index=[2, 68], y=[1]), Data(x=[21, 778], edge_index=[2, 20], y=[1]), Data(x=[25, 778], edge_index=[2, 24], y=[1]), Data(x=[151, 778], edge_index=[2, 150], y=[1]), Data(x=[8, 778], edge_index=[2, 7], y=[1]), Data(x=[101, 778], edge_index=[2, 100], y=[1]), Data(x=[94, 778], edge_index=[2, 93], y=[1]), Data(x=[9, 778], edge_index=[2, 8], y=[1]), Data(x=[60, 778], edge_index=[2, 59], y=[1]), Data(x=[152, 778], edge_index=[2, 151], y=[1]), Data(x=[29, 778], edge_index=[2, 28], y=[1]), Data(x=[42, 778], edge_index=[2, 41], y=[1]), Data(x=[60, 778], edge_index=[2, 59], y=[1]), Data(x=[8, 778], edge_index=[2, 7], y=[1]), Data(x=[98, 778], edge_index=[2, 97], y=[1]), Data(x=[89, 778], edge_index=[2, 88], y=[1]), Data(x=[74, 778], edge_index=[2, 73], y=[1]), Data(x=[41, 778], edge_index=[2, 40], y=[1]), Data(x=[138, 778], edge_index=[2, 137], y=[1]), Data(x=[183, 778], edge_index=[2, 182], y=[1]), Data(x=[91, 778], edge_index=[2, 90], y=[1]), Data(x=[18, 778], edge_index=[2, 17], y=[1]), Data(x=[19, 778], edge_index=[2, 18], y=[1]), Data(x=[48, 778], edge_index=[2, 47], y=[1]), Data(x=[40, 778], edge_index=[2, 39], y=[1]), Data(x=[40, 778], edge_index=[2, 39], y=[1]), Data(x=[52, 778], edge_index=[2, 51], y=[1]), Data(x=[19, 778], edge_index=[2, 18], y=[1]), Data(x=[41, 778], edge_index=[2, 40], y=[1]), Data(x=[25, 778], edge_index=[2, 24], y=[1]), Data(x=[62, 778], edge_index=[2, 61], y=[1]), Data(x=[151, 778], edge_index=[2, 150], y=[1]), Data(x=[44, 778], edge_index=[2, 43], y=[1]), Data(x=[51, 778], edge_index=[2, 50], y=[1]), Data(x=[107, 778], edge_index=[2, 106], y=[1]), Data(x=[151, 778], edge_index=[2, 150], y=[1]), Data(x=[62, 778], edge_index=[2, 61], y=[1]), Data(x=[173, 778], edge_index=[2, 172], y=[1]), Data(x=[26, 778], edge_index=[2, 25], y=[1]), Data(x=[85, 778], edge_index=[2, 84], y=[1]), Data(x=[68, 778], edge_index=[2, 67], y=[1]), Data(x=[7, 778], edge_index=[2, 6], y=[1]), Data(x=[28, 778], edge_index=[2, 27], y=[1]), Data(x=[10, 778], edge_index=[2, 9], y=[1]), Data(x=[17, 778], edge_index=[2, 16], y=[1]), Data(x=[85, 778], edge_index=[2, 84], y=[1]), Data(x=[65, 778], edge_index=[2, 64], y=[1]), Data(x=[11, 778], edge_index=[2, 10], y=[1]), Data(x=[59, 778], edge_index=[2, 58], y=[1]), Data(x=[110, 778], edge_index=[2, 109], y=[1]), Data(x=[52, 778], edge_index=[2, 51], y=[1]), Data(x=[33, 778], edge_index=[2, 32], y=[1]), Data(x=[22, 778], edge_index=[2, 21], y=[1]), Data(x=[25, 778], edge_index=[2, 24], y=[1]), Data(x=[5, 778], edge_index=[2, 4], y=[1]), Data(x=[8, 778], edge_index=[2, 7], y=[1]), Data(x=[72, 778], edge_index=[2, 71], y=[1]), Data(x=[142, 778], edge_index=[2, 141], y=[1]), Data(x=[45, 778], edge_index=[2, 44], y=[1]), Data(x=[58, 778], edge_index=[2, 57], y=[1]), Data(x=[28, 778], edge_index=[2, 27], y=[1]), Data(x=[18, 778], edge_index=[2, 17], y=[1]), Data(x=[71, 778], edge_index=[2, 70], y=[1]), Data(x=[64, 778], edge_index=[2, 63], y=[1]), Data(x=[124, 778], edge_index=[2, 123], y=[1]), Data(x=[62, 778], edge_index=[2, 61], y=[1]), Data(x=[11, 778], edge_index=[2, 10], y=[1]), Data(x=[13, 778], edge_index=[2, 12], y=[1]), Data(x=[11, 778], edge_index=[2, 10], y=[1]), Data(x=[9, 778], edge_index=[2, 8], y=[1]), Data(x=[88, 778], edge_index=[2, 87], y=[1]), Data(x=[102, 778], edge_index=[2, 101], y=[1]), Data(x=[32, 778], edge_index=[2, 31], y=[1]), Data(x=[95, 778], edge_index=[2, 94], y=[1]), Data(x=[9, 778], edge_index=[2, 8], y=[1]), Data(x=[137, 778], edge_index=[2, 136], y=[1]), Data(x=[68, 778], edge_index=[2, 67], y=[1]), Data(x=[136, 778], edge_index=[2, 135], y=[1]), Data(x=[4, 778], edge_index=[2, 3], y=[1]), Data(x=[7, 778], edge_index=[2, 6], y=[1]), Data(x=[5, 778], edge_index=[2, 4], y=[1]), Data(x=[61, 778], edge_index=[2, 60], y=[1]), Data(x=[3, 778], edge_index=[2, 2], y=[1]), Data(x=[76, 778], edge_index=[2, 75], y=[1]), Data(x=[103, 778], edge_index=[2, 102], y=[1]), Data(x=[60, 778], edge_index=[2, 59], y=[1]), Data(x=[30, 778], edge_index=[2, 29], y=[1]), Data(x=[146, 778], edge_index=[2, 145], y=[1]), Data(x=[139, 778], edge_index=[2, 138], y=[1]), Data(x=[11, 778], edge_index=[2, 10], y=[1]), Data(x=[33, 778], edge_index=[2, 32], y=[1]), Data(x=[27, 778], edge_index=[2, 26], y=[1]), Data(x=[67, 778], edge_index=[2, 66], y=[1]), Data(x=[76, 778], edge_index=[2, 75], y=[1]), Data(x=[50, 778], edge_index=[2, 49], y=[1]), Data(x=[141, 778], edge_index=[2, 140], y=[1]), Data(x=[6, 778], edge_index=[2, 5], y=[1]), Data(x=[7, 778], edge_index=[2, 6], y=[1]), Data(x=[10, 778], edge_index=[2, 9], y=[1]), Data(x=[61, 778], edge_index=[2, 60], y=[1]), Data(x=[78, 778], edge_index=[2, 77], y=[1]), Data(x=[74, 778], edge_index=[2, 73], y=[1]), Data(x=[9, 778], edge_index=[2, 8], y=[1]), Data(x=[79, 778], edge_index=[2, 78], y=[1]), Data(x=[55, 778], edge_index=[2, 54], y=[1]), Data(x=[58, 778], edge_index=[2, 57], y=[1]), Data(x=[3, 778], edge_index=[2, 2], y=[1]), Data(x=[54, 778], edge_index=[2, 53], y=[1]), Data(x=[88, 778], edge_index=[2, 87], y=[1]), Data(x=[103, 778], edge_index=[2, 102], y=[1]), Data(x=[44, 778], edge_index=[2, 43], y=[1]), Data(x=[76, 778], edge_index=[2, 75], y=[1]), Data(x=[28, 778], edge_index=[2, 27], y=[1]), Data(x=[3, 778], edge_index=[2, 2], y=[1]), Data(x=[5, 778], edge_index=[2, 4], y=[1]), Data(x=[42, 778], edge_index=[2, 41], y=[1]), Data(x=[15, 778], edge_index=[2, 14], y=[1]), Data(x=[6, 778], edge_index=[2, 5], y=[1]), Data(x=[12, 778], edge_index=[2, 11], y=[1]), Data(x=[22, 778], edge_index=[2, 21], y=[1]), Data(x=[128, 778], edge_index=[2, 127], y=[1]), Data(x=[53, 778], edge_index=[2, 52], y=[1]), Data(x=[31, 778], edge_index=[2, 30], y=[1]), Data(x=[75, 778], edge_index=[2, 74], y=[1]), Data(x=[103, 778], edge_index=[2, 102], y=[1]), Data(x=[41, 778], edge_index=[2, 40], y=[1]), Data(x=[56, 778], edge_index=[2, 55], y=[1]), Data(x=[55, 778], edge_index=[2, 54], y=[1]), Data(x=[78, 778], edge_index=[2, 77], y=[1]), Data(x=[41, 778], edge_index=[2, 40], y=[1]), Data(x=[23, 778], edge_index=[2, 22], y=[1]), Data(x=[9, 778], edge_index=[2, 8], y=[1]), Data(x=[79, 778], edge_index=[2, 78], y=[1]), Data(x=[114, 778], edge_index=[2, 113], y=[1]), Data(x=[77, 778], edge_index=[2, 76], y=[1]), Data(x=[8, 778], edge_index=[2, 7], y=[1]), Data(x=[93, 778], edge_index=[2, 92], y=[1]), Data(x=[162, 778], edge_index=[2, 161], y=[1]), Data(x=[47, 778], edge_index=[2, 46], y=[1]), Data(x=[33, 778], edge_index=[2, 32], y=[1]), Data(x=[42, 778], edge_index=[2, 41], y=[1]), Data(x=[27, 778], edge_index=[2, 26], y=[1]), Data(x=[97, 778], edge_index=[2, 96], y=[1]), Data(x=[80, 778], edge_index=[2, 79], y=[1]), Data(x=[37, 778], edge_index=[2, 36], y=[1]), Data(x=[53, 778], edge_index=[2, 52], y=[1]), Data(x=[7, 778], edge_index=[2, 6], y=[1]), Data(x=[21, 778], edge_index=[2, 20], y=[1]), Data(x=[20, 778], edge_index=[2, 19], y=[1]), Data(x=[6, 778], edge_index=[2, 5], y=[1]), Data(x=[30, 778], edge_index=[2, 29], y=[1]), Data(x=[16, 778], edge_index=[2, 15], y=[1]), Data(x=[20, 778], edge_index=[2, 19], y=[1]), Data(x=[91, 778], edge_index=[2, 90], y=[1]), Data(x=[18, 778], edge_index=[2, 17], y=[1]), Data(x=[116, 778], edge_index=[2, 115], y=[1]), Data(x=[18, 778], edge_index=[2, 17], y=[1]), Data(x=[48, 778], edge_index=[2, 47], y=[1]), Data(x=[34, 778], edge_index=[2, 33], y=[1]), Data(x=[15, 778], edge_index=[2, 14], y=[1]), Data(x=[54, 778], edge_index=[2, 53], y=[1]), Data(x=[17, 778], edge_index=[2, 16], y=[1]), Data(x=[88, 778], edge_index=[2, 87], y=[1]), Data(x=[7, 778], edge_index=[2, 6], y=[1]), Data(x=[26, 778], edge_index=[2, 25], y=[1]), Data(x=[5, 778], edge_index=[2, 4], y=[1]), Data(x=[34, 778], edge_index=[2, 33], y=[1]), Data(x=[7, 778], edge_index=[2, 6], y=[1]), Data(x=[23, 778], edge_index=[2, 22], y=[1]), Data(x=[111, 778], edge_index=[2, 110], y=[1]), Data(x=[69, 778], edge_index=[2, 68], y=[1]), Data(x=[23, 778], edge_index=[2, 22], y=[1]), Data(x=[108, 778], edge_index=[2, 107], y=[1]), Data(x=[16, 778], edge_index=[2, 15], y=[1]), Data(x=[36, 778], edge_index=[2, 35], y=[1]), Data(x=[45, 778], edge_index=[2, 44], y=[1]), Data(x=[6, 778], edge_index=[2, 5], y=[1]), Data(x=[25, 778], edge_index=[2, 24], y=[1]), Data(x=[41, 778], edge_index=[2, 40], y=[1]), Data(x=[30, 778], edge_index=[2, 29], y=[1]), Data(x=[115, 778], edge_index=[2, 114], y=[1]), Data(x=[7, 778], edge_index=[2, 6], y=[1]), Data(x=[71, 778], edge_index=[2, 70], y=[1]), Data(x=[10, 778], edge_index=[2, 9], y=[1]), Data(x=[5, 778], edge_index=[2, 4], y=[1]), Data(x=[36, 778], edge_index=[2, 35], y=[1]), Data(x=[121, 778], edge_index=[2, 120], y=[1]), Data(x=[83, 778], edge_index=[2, 82], y=[1]), Data(x=[51, 778], edge_index=[2, 50], y=[1]), Data(x=[61, 778], edge_index=[2, 60], y=[1]), Data(x=[40, 778], edge_index=[2, 39], y=[1]), Data(x=[20, 778], edge_index=[2, 19], y=[1]), Data(x=[12, 778], edge_index=[2, 11], y=[1]), Data(x=[73, 778], edge_index=[2, 72], y=[1]), Data(x=[11, 778], edge_index=[2, 10], y=[1]), Data(x=[15, 778], edge_index=[2, 14], y=[1]), Data(x=[67, 778], edge_index=[2, 66], y=[1]), Data(x=[20, 778], edge_index=[2, 19], y=[1]), Data(x=[160, 778], edge_index=[2, 159], y=[1]), Data(x=[64, 778], edge_index=[2, 63], y=[1]), Data(x=[9, 778], edge_index=[2, 8], y=[1]), Data(x=[16, 778], edge_index=[2, 15], y=[1]), Data(x=[10, 778], edge_index=[2, 9], y=[1]), Data(x=[13, 778], edge_index=[2, 12], y=[1]), Data(x=[86, 778], edge_index=[2, 85], y=[1]), Data(x=[21, 778], edge_index=[2, 20], y=[1]), Data(x=[9, 778], edge_index=[2, 8], y=[1]), Data(x=[76, 778], edge_index=[2, 75], y=[1]), Data(x=[84, 778], edge_index=[2, 83], y=[1]), Data(x=[14, 778], edge_index=[2, 13], y=[1]), Data(x=[89, 778], edge_index=[2, 88], y=[1]), Data(x=[11, 778], edge_index=[2, 10], y=[1]), Data(x=[110, 778], edge_index=[2, 109], y=[1]), Data(x=[8, 778], edge_index=[2, 7], y=[1]), Data(x=[162, 778], edge_index=[2, 161], y=[1]), Data(x=[28, 778], edge_index=[2, 27], y=[1]), Data(x=[76, 778], edge_index=[2, 75], y=[1]), Data(x=[95, 778], edge_index=[2, 94], y=[1]), Data(x=[7, 778], edge_index=[2, 6], y=[1]), Data(x=[45, 778], edge_index=[2, 44], y=[1]), Data(x=[85, 778], edge_index=[2, 84], y=[1]), Data(x=[53, 778], edge_index=[2, 52], y=[1]), Data(x=[155, 778], edge_index=[2, 154], y=[1]), Data(x=[83, 778], edge_index=[2, 82], y=[1]), Data(x=[7, 778], edge_index=[2, 6], y=[1]), Data(x=[23, 778], edge_index=[2, 22], y=[1]), Data(x=[23, 778], edge_index=[2, 22], y=[1]), Data(x=[14, 778], edge_index=[2, 13], y=[1]), Data(x=[164, 778], edge_index=[2, 163], y=[1]), Data(x=[61, 778], edge_index=[2, 60], y=[1]), Data(x=[117, 778], edge_index=[2, 116], y=[1]), Data(x=[19, 778], edge_index=[2, 18], y=[1]), Data(x=[86, 778], edge_index=[2, 85], y=[1]), Data(x=[12, 778], edge_index=[2, 11], y=[1]), Data(x=[13, 778], edge_index=[2, 12], y=[1]), Data(x=[132, 778], edge_index=[2, 131], y=[1]), Data(x=[23, 778], edge_index=[2, 22], y=[1]), Data(x=[105, 778], edge_index=[2, 104], y=[1]), Data(x=[87, 778], edge_index=[2, 86], y=[1]), Data(x=[20, 778], edge_index=[2, 19], y=[1]), Data(x=[80, 778], edge_index=[2, 79], y=[1]), Data(x=[8, 778], edge_index=[2, 7], y=[1]), Data(x=[62, 778], edge_index=[2, 61], y=[1]), Data(x=[46, 778], edge_index=[2, 45], y=[1]), Data(x=[45, 778], edge_index=[2, 44], y=[1]), Data(x=[80, 778], edge_index=[2, 79], y=[1]), Data(x=[41, 778], edge_index=[2, 40], y=[1]), Data(x=[63, 778], edge_index=[2, 62], y=[1]), Data(x=[20, 778], edge_index=[2, 19], y=[1]), Data(x=[59, 778], edge_index=[2, 58], y=[1]), Data(x=[58, 778], edge_index=[2, 57], y=[1]), Data(x=[13, 778], edge_index=[2, 12], y=[1]), Data(x=[91, 778], edge_index=[2, 90], y=[1]), Data(x=[44, 778], edge_index=[2, 43], y=[1]), Data(x=[102, 778], edge_index=[2, 101], y=[1]), Data(x=[86, 778], edge_index=[2, 85], y=[1]), Data(x=[96, 778], edge_index=[2, 95], y=[1]), Data(x=[45, 778], edge_index=[2, 44], y=[1]), Data(x=[56, 778], edge_index=[2, 55], y=[1]), Data(x=[14, 778], edge_index=[2, 13], y=[1]), Data(x=[7, 778], edge_index=[2, 6], y=[1]), Data(x=[126, 778], edge_index=[2, 125], y=[1]), Data(x=[7, 778], edge_index=[2, 6], y=[1]), Data(x=[41, 778], edge_index=[2, 40], y=[1]), Data(x=[49, 778], edge_index=[2, 48], y=[1]), Data(x=[5, 778], edge_index=[2, 4], y=[1]), Data(x=[5, 778], edge_index=[2, 4], y=[1]), Data(x=[138, 778], edge_index=[2, 137], y=[1]), Data(x=[14, 778], edge_index=[2, 13], y=[1]), Data(x=[39, 778], edge_index=[2, 38], y=[1]), Data(x=[102, 778], edge_index=[2, 101], y=[1]), Data(x=[65, 778], edge_index=[2, 64], y=[1]), Data(x=[39, 778], edge_index=[2, 38], y=[1]), Data(x=[52, 778], edge_index=[2, 51], y=[1]), Data(x=[83, 778], edge_index=[2, 82], y=[1]), Data(x=[91, 778], edge_index=[2, 90], y=[1]), Data(x=[45, 778], edge_index=[2, 44], y=[1]), Data(x=[20, 778], edge_index=[2, 19], y=[1]), Data(x=[16, 778], edge_index=[2, 15], y=[1]), Data(x=[58, 778], edge_index=[2, 57], y=[1]), Data(x=[167, 778], edge_index=[2, 166], y=[1]), Data(x=[12, 778], edge_index=[2, 11], y=[1]), Data(x=[170, 778], edge_index=[2, 169], y=[1]), Data(x=[46, 778], edge_index=[2, 45], y=[1]), Data(x=[28, 778], edge_index=[2, 27], y=[1]), Data(x=[44, 778], edge_index=[2, 43], y=[1]), Data(x=[18, 778], edge_index=[2, 17], y=[1]), Data(x=[4, 778], edge_index=[2, 3], y=[1]), Data(x=[8, 778], edge_index=[2, 7], y=[1]), Data(x=[85, 778], edge_index=[2, 84], y=[1]), Data(x=[59, 778], edge_index=[2, 58], y=[1]), Data(x=[47, 778], edge_index=[2, 46], y=[1]), Data(x=[31, 778], edge_index=[2, 30], y=[1]), Data(x=[55, 778], edge_index=[2, 54], y=[1]), Data(x=[24, 778], edge_index=[2, 23], y=[1]), Data(x=[16, 778], edge_index=[2, 15], y=[1]), Data(x=[164, 778], edge_index=[2, 163], y=[1]), Data(x=[94, 778], edge_index=[2, 93], y=[1]), Data(x=[93, 778], edge_index=[2, 92], y=[1]), Data(x=[39, 778], edge_index=[2, 38], y=[1]), Data(x=[48, 778], edge_index=[2, 47], y=[1]), Data(x=[49, 778], edge_index=[2, 48], y=[1]), Data(x=[58, 778], edge_index=[2, 57], y=[1]), Data(x=[27, 778], edge_index=[2, 26], y=[1]), Data(x=[71, 778], edge_index=[2, 70], y=[1]), Data(x=[126, 778], edge_index=[2, 125], y=[1]), Data(x=[117, 778], edge_index=[2, 116], y=[1]), Data(x=[4, 778], edge_index=[2, 3], y=[1]), Data(x=[8, 778], edge_index=[2, 7], y=[1]), Data(x=[88, 778], edge_index=[2, 87], y=[1]), Data(x=[64, 778], edge_index=[2, 63], y=[1]), Data(x=[48, 778], edge_index=[2, 47], y=[1]), Data(x=[14, 778], edge_index=[2, 13], y=[1]), Data(x=[52, 778], edge_index=[2, 51], y=[1]), Data(x=[165, 778], edge_index=[2, 164], y=[1]), Data(x=[64, 778], edge_index=[2, 63], y=[1]), Data(x=[189, 778], edge_index=[2, 188], y=[1]), Data(x=[111, 778], edge_index=[2, 110], y=[1]), Data(x=[21, 778], edge_index=[2, 20], y=[1]), Data(x=[113, 778], edge_index=[2, 112], y=[1]), Data(x=[59, 778], edge_index=[2, 58], y=[1]), Data(x=[10, 778], edge_index=[2, 9], y=[1]), Data(x=[11, 778], edge_index=[2, 10], y=[1]), Data(x=[55, 778], edge_index=[2, 54], y=[1]), Data(x=[62, 778], edge_index=[2, 61], y=[1]), Data(x=[10, 778], edge_index=[2, 9], y=[1]), Data(x=[189, 778], edge_index=[2, 188], y=[1]), Data(x=[141, 778], edge_index=[2, 140], y=[1]), Data(x=[32, 778], edge_index=[2, 31], y=[1]), Data(x=[73, 778], edge_index=[2, 72], y=[1]), Data(x=[134, 778], edge_index=[2, 133], y=[1]), Data(x=[45, 778], edge_index=[2, 44], y=[1]), Data(x=[182, 778], edge_index=[2, 181], y=[1]), Data(x=[27, 778], edge_index=[2, 26], y=[1]), Data(x=[16, 778], edge_index=[2, 15], y=[1]), Data(x=[106, 778], edge_index=[2, 105], y=[1]), Data(x=[74, 778], edge_index=[2, 73], y=[1]), Data(x=[24, 778], edge_index=[2, 23], y=[1]), Data(x=[25, 778], edge_index=[2, 24], y=[1]), Data(x=[111, 778], edge_index=[2, 110], y=[1]), Data(x=[181, 778], edge_index=[2, 180], y=[1]), Data(x=[8, 778], edge_index=[2, 7], y=[1]), Data(x=[23, 778], edge_index=[2, 22], y=[1]), Data(x=[149, 778], edge_index=[2, 148], y=[1]), Data(x=[4, 778], edge_index=[2, 3], y=[1]), Data(x=[39, 778], edge_index=[2, 38], y=[1]), Data(x=[80, 778], edge_index=[2, 79], y=[1]), Data(x=[67, 778], edge_index=[2, 66], y=[1]), Data(x=[7, 778], edge_index=[2, 6], y=[1]), Data(x=[8, 778], edge_index=[2, 7], y=[1]), Data(x=[82, 778], edge_index=[2, 81], y=[1]), Data(x=[6, 778], edge_index=[2, 5], y=[1]), Data(x=[17, 778], edge_index=[2, 16], y=[1]), Data(x=[97, 778], edge_index=[2, 96], y=[1]), Data(x=[79, 778], edge_index=[2, 78], y=[1]), Data(x=[79, 778], edge_index=[2, 78], y=[1]), Data(x=[9, 778], edge_index=[2, 8], y=[1]), Data(x=[31, 778], edge_index=[2, 30], y=[1]), Data(x=[10, 778], edge_index=[2, 9], y=[1]), Data(x=[112, 778], edge_index=[2, 111], y=[1]), Data(x=[3, 778], edge_index=[2, 2], y=[1]), Data(x=[81, 778], edge_index=[2, 80], y=[1]), Data(x=[10, 778], edge_index=[2, 9], y=[1]), Data(x=[16, 778], edge_index=[2, 15], y=[1]), Data(x=[160, 778], edge_index=[2, 159], y=[1]), Data(x=[84, 778], edge_index=[2, 83], y=[1]), Data(x=[60, 778], edge_index=[2, 59], y=[1]), Data(x=[19, 778], edge_index=[2, 18], y=[1]), Data(x=[11, 778], edge_index=[2, 10], y=[1]), Data(x=[31, 778], edge_index=[2, 30], y=[1]), Data(x=[90, 778], edge_index=[2, 89], y=[1]), Data(x=[40, 778], edge_index=[2, 39], y=[1]), Data(x=[22, 778], edge_index=[2, 21], y=[1]), Data(x=[48, 778], edge_index=[2, 47], y=[1]), Data(x=[121, 778], edge_index=[2, 120], y=[1]), Data(x=[111, 778], edge_index=[2, 110], y=[1]), Data(x=[12, 778], edge_index=[2, 11], y=[1]), Data(x=[10, 778], edge_index=[2, 9], y=[1]), Data(x=[125, 778], edge_index=[2, 124], y=[1]), Data(x=[52, 778], edge_index=[2, 51], y=[1]), Data(x=[84, 778], edge_index=[2, 83], y=[1]), Data(x=[27, 778], edge_index=[2, 26], y=[1]), Data(x=[72, 778], edge_index=[2, 71], y=[1]), Data(x=[55, 778], edge_index=[2, 54], y=[1]), Data(x=[65, 778], edge_index=[2, 64], y=[1]), Data(x=[22, 778], edge_index=[2, 21], y=[1]), Data(x=[76, 778], edge_index=[2, 75], y=[1]), Data(x=[66, 778], edge_index=[2, 65], y=[1]), Data(x=[12, 778], edge_index=[2, 11], y=[1]), Data(x=[82, 778], edge_index=[2, 81], y=[1]), Data(x=[26, 778], edge_index=[2, 25], y=[1]), Data(x=[118, 778], edge_index=[2, 117], y=[1]), Data(x=[9, 778], edge_index=[2, 8], y=[1]), Data(x=[50, 778], edge_index=[2, 49], y=[1]), Data(x=[18, 778], edge_index=[2, 17], y=[1]), Data(x=[50, 778], edge_index=[2, 49], y=[1]), Data(x=[79, 778], edge_index=[2, 78], y=[1]), Data(x=[96, 778], edge_index=[2, 95], y=[1]), Data(x=[28, 778], edge_index=[2, 27], y=[1]), Data(x=[138, 778], edge_index=[2, 137], y=[1]), Data(x=[151, 778], edge_index=[2, 150], y=[1]), Data(x=[66, 778], edge_index=[2, 65], y=[1]), Data(x=[36, 778], edge_index=[2, 35], y=[1]), Data(x=[38, 778], edge_index=[2, 37], y=[1]), Data(x=[61, 778], edge_index=[2, 60], y=[1]), Data(x=[18, 778], edge_index=[2, 17], y=[1]), Data(x=[41, 778], edge_index=[2, 40], y=[1]), Data(x=[87, 778], edge_index=[2, 86], y=[1]), Data(x=[119, 778], edge_index=[2, 118], y=[1]), Data(x=[190, 778], edge_index=[2, 189], y=[1]), Data(x=[83, 778], edge_index=[2, 82], y=[1]), Data(x=[128, 778], edge_index=[2, 127], y=[1]), Data(x=[16, 778], edge_index=[2, 15], y=[1]), Data(x=[61, 778], edge_index=[2, 60], y=[1]), Data(x=[9, 778], edge_index=[2, 8], y=[1]), Data(x=[180, 778], edge_index=[2, 179], y=[1]), Data(x=[24, 778], edge_index=[2, 23], y=[1]), Data(x=[14, 778], edge_index=[2, 13], y=[1]), Data(x=[80, 778], edge_index=[2, 79], y=[1]), Data(x=[89, 778], edge_index=[2, 88], y=[1]), Data(x=[43, 778], edge_index=[2, 42], y=[1]), Data(x=[33, 778], edge_index=[2, 32], y=[1]), Data(x=[44, 778], edge_index=[2, 43], y=[1]), Data(x=[25, 778], edge_index=[2, 24], y=[1]), Data(x=[28, 778], edge_index=[2, 27], y=[1]), Data(x=[25, 778], edge_index=[2, 24], y=[1]), Data(x=[117, 778], edge_index=[2, 116], y=[1]), Data(x=[128, 778], edge_index=[2, 127], y=[1]), Data(x=[107, 778], edge_index=[2, 106], y=[1]), Data(x=[98, 778], edge_index=[2, 97], y=[1]), Data(x=[9, 778], edge_index=[2, 8], y=[1]), Data(x=[9, 778], edge_index=[2, 8], y=[1]), Data(x=[21, 778], edge_index=[2, 20], y=[1]), Data(x=[76, 778], edge_index=[2, 75], y=[1]), Data(x=[9, 778], edge_index=[2, 8], y=[1]), Data(x=[136, 778], edge_index=[2, 135], y=[1]), Data(x=[15, 778], edge_index=[2, 14], y=[1]), Data(x=[19, 778], edge_index=[2, 18], y=[1]), Data(x=[56, 778], edge_index=[2, 55], y=[1]), Data(x=[139, 778], edge_index=[2, 138], y=[1]), Data(x=[83, 778], edge_index=[2, 82], y=[1]), Data(x=[68, 778], edge_index=[2, 67], y=[1]), Data(x=[9, 778], edge_index=[2, 8], y=[1]), Data(x=[31, 778], edge_index=[2, 30], y=[1]), Data(x=[82, 778], edge_index=[2, 81], y=[1]), Data(x=[97, 778], edge_index=[2, 96], y=[1]), Data(x=[26, 778], edge_index=[2, 25], y=[1]), Data(x=[15, 778], edge_index=[2, 14], y=[1]), Data(x=[101, 778], edge_index=[2, 100], y=[1]), Data(x=[22, 778], edge_index=[2, 21], y=[1]), Data(x=[57, 778], edge_index=[2, 56], y=[1]), Data(x=[12, 778], edge_index=[2, 11], y=[1]), Data(x=[82, 778], edge_index=[2, 81], y=[1]), Data(x=[66, 778], edge_index=[2, 65], y=[1]), Data(x=[22, 778], edge_index=[2, 21], y=[1]), Data(x=[12, 778], edge_index=[2, 11], y=[1]), Data(x=[68, 778], edge_index=[2, 67], y=[1]), Data(x=[56, 778], edge_index=[2, 55], y=[1]), Data(x=[133, 778], edge_index=[2, 132], y=[1]), Data(x=[7, 778], edge_index=[2, 6], y=[1]), Data(x=[10, 778], edge_index=[2, 9], y=[1]), Data(x=[114, 778], edge_index=[2, 113], y=[1]), Data(x=[65, 778], edge_index=[2, 64], y=[1]), Data(x=[97, 778], edge_index=[2, 96], y=[1]), Data(x=[5, 778], edge_index=[2, 4], y=[1]), Data(x=[85, 778], edge_index=[2, 84], y=[1]), Data(x=[58, 778], edge_index=[2, 57], y=[1]), Data(x=[13, 778], edge_index=[2, 12], y=[1]), Data(x=[16, 778], edge_index=[2, 15], y=[1]), Data(x=[13, 778], edge_index=[2, 12], y=[1]), Data(x=[21, 778], edge_index=[2, 20], y=[1]), Data(x=[143, 778], edge_index=[2, 142], y=[1]), Data(x=[154, 778], edge_index=[2, 153], y=[1]), Data(x=[10, 778], edge_index=[2, 9], y=[1]), Data(x=[9, 778], edge_index=[2, 8], y=[1]), Data(x=[163, 778], edge_index=[2, 162], y=[1]), Data(x=[34, 778], edge_index=[2, 33], y=[1]), Data(x=[83, 778], edge_index=[2, 82], y=[1]), Data(x=[8, 778], edge_index=[2, 7], y=[1]), Data(x=[85, 778], edge_index=[2, 84], y=[1]), Data(x=[99, 778], edge_index=[2, 98], y=[1]), Data(x=[169, 778], edge_index=[2, 168], y=[1]), Data(x=[12, 778], edge_index=[2, 11], y=[1]), Data(x=[9, 778], edge_index=[2, 8], y=[1]), Data(x=[59, 778], edge_index=[2, 58], y=[1]), Data(x=[6, 778], edge_index=[2, 5], y=[1]), Data(x=[44, 778], edge_index=[2, 43], y=[1]), Data(x=[43, 778], edge_index=[2, 42], y=[1]), Data(x=[78, 778], edge_index=[2, 77], y=[1]), Data(x=[84, 778], edge_index=[2, 83], y=[1]), Data(x=[35, 778], edge_index=[2, 34], y=[1]), Data(x=[69, 778], edge_index=[2, 68], y=[1]), Data(x=[51, 778], edge_index=[2, 50], y=[1]), Data(x=[64, 778], edge_index=[2, 63], y=[1]), Data(x=[31, 778], edge_index=[2, 30], y=[1]), Data(x=[130, 778], edge_index=[2, 129], y=[1]), Data(x=[118, 778], edge_index=[2, 117], y=[1]), Data(x=[35, 778], edge_index=[2, 34], y=[1]), Data(x=[34, 778], edge_index=[2, 33], y=[1]), Data(x=[70, 778], edge_index=[2, 69], y=[1]), Data(x=[19, 778], edge_index=[2, 18], y=[1]), Data(x=[59, 778], edge_index=[2, 58], y=[1]), Data(x=[29, 778], edge_index=[2, 28], y=[1]), Data(x=[73, 778], edge_index=[2, 72], y=[1]), Data(x=[164, 778], edge_index=[2, 163], y=[1]), Data(x=[5, 778], edge_index=[2, 4], y=[1]), Data(x=[18, 778], edge_index=[2, 17], y=[1]), Data(x=[89, 778], edge_index=[2, 88], y=[1]), Data(x=[193, 778], edge_index=[2, 192], y=[1]), Data(x=[195, 778], edge_index=[2, 194], y=[1]), Data(x=[16, 778], edge_index=[2, 15], y=[1]), Data(x=[28, 778], edge_index=[2, 27], y=[1]), Data(x=[15, 778], edge_index=[2, 14], y=[1]), Data(x=[37, 778], edge_index=[2, 36], y=[1]), Data(x=[115, 778], edge_index=[2, 114], y=[1]), Data(x=[114, 778], edge_index=[2, 113], y=[1]), Data(x=[25, 778], edge_index=[2, 24], y=[1]), Data(x=[172, 778], edge_index=[2, 171], y=[1]), Data(x=[69, 778], edge_index=[2, 68], y=[1]), Data(x=[89, 778], edge_index=[2, 88], y=[1]), Data(x=[58, 778], edge_index=[2, 57], y=[1]), Data(x=[15, 778], edge_index=[2, 14], y=[1]), Data(x=[123, 778], edge_index=[2, 122], y=[1]), Data(x=[65, 778], edge_index=[2, 64], y=[1]), Data(x=[71, 778], edge_index=[2, 70], y=[1]), Data(x=[11, 778], edge_index=[2, 10], y=[1]), Data(x=[15, 778], edge_index=[2, 14], y=[1]), Data(x=[46, 778], edge_index=[2, 45], y=[1]), Data(x=[4, 778], edge_index=[2, 3], y=[1]), Data(x=[24, 778], edge_index=[2, 23], y=[1]), Data(x=[92, 778], edge_index=[2, 91], y=[1]), Data(x=[47, 778], edge_index=[2, 46], y=[1]), Data(x=[23, 778], edge_index=[2, 22], y=[1]), Data(x=[155, 778], edge_index=[2, 154], y=[1]), Data(x=[145, 778], edge_index=[2, 144], y=[1]), Data(x=[10, 778], edge_index=[2, 9], y=[1]), Data(x=[79, 778], edge_index=[2, 78], y=[1]), Data(x=[28, 778], edge_index=[2, 27], y=[1]), Data(x=[32, 778], edge_index=[2, 31], y=[1]), Data(x=[77, 778], edge_index=[2, 76], y=[1]), Data(x=[86, 778], edge_index=[2, 85], y=[1]), Data(x=[184, 778], edge_index=[2, 183], y=[1]), Data(x=[80, 778], edge_index=[2, 79], y=[1]), Data(x=[119, 778], edge_index=[2, 118], y=[1]), Data(x=[60, 778], edge_index=[2, 59], y=[1]), Data(x=[91, 778], edge_index=[2, 90], y=[1]), Data(x=[13, 778], edge_index=[2, 12], y=[1]), Data(x=[68, 778], edge_index=[2, 67], y=[1]), Data(x=[54, 778], edge_index=[2, 53], y=[1]), Data(x=[26, 778], edge_index=[2, 25], y=[1]), Data(x=[90, 778], edge_index=[2, 89], y=[1]), Data(x=[6, 778], edge_index=[2, 5], y=[1]), Data(x=[96, 778], edge_index=[2, 95], y=[1]), Data(x=[75, 778], edge_index=[2, 74], y=[1]), Data(x=[78, 778], edge_index=[2, 77], y=[1]), Data(x=[9, 778], edge_index=[2, 8], y=[1]), Data(x=[43, 778], edge_index=[2, 42], y=[1]), Data(x=[144, 778], edge_index=[2, 143], y=[1]), Data(x=[77, 778], edge_index=[2, 76], y=[1]), Data(x=[14, 778], edge_index=[2, 13], y=[1]), Data(x=[17, 778], edge_index=[2, 16], y=[1]), Data(x=[8, 778], edge_index=[2, 7], y=[1]), Data(x=[178, 778], edge_index=[2, 177], y=[1]), Data(x=[12, 778], edge_index=[2, 11], y=[1]), Data(x=[72, 778], edge_index=[2, 71], y=[1]), Data(x=[121, 778], edge_index=[2, 120], y=[1]), Data(x=[87, 778], edge_index=[2, 86], y=[1]), Data(x=[120, 778], edge_index=[2, 119], y=[1]), Data(x=[53, 778], edge_index=[2, 52], y=[1]), Data(x=[11, 778], edge_index=[2, 10], y=[1]), Data(x=[21, 778], edge_index=[2, 20], y=[1]), Data(x=[53, 778], edge_index=[2, 52], y=[1]), Data(x=[56, 778], edge_index=[2, 55], y=[1]), Data(x=[18, 778], edge_index=[2, 17], y=[1]), Data(x=[24, 778], edge_index=[2, 23], y=[1]), Data(x=[18, 778], edge_index=[2, 17], y=[1]), Data(x=[26, 778], edge_index=[2, 25], y=[1]), Data(x=[79, 778], edge_index=[2, 78], y=[1]), Data(x=[12, 778], edge_index=[2, 11], y=[1]), Data(x=[54, 778], edge_index=[2, 53], y=[1]), Data(x=[10, 778], edge_index=[2, 9], y=[1]), Data(x=[56, 778], edge_index=[2, 55], y=[1]), Data(x=[32, 778], edge_index=[2, 31], y=[1]), Data(x=[139, 778], edge_index=[2, 138], y=[1]), Data(x=[51, 778], edge_index=[2, 50], y=[1]), Data(x=[49, 778], edge_index=[2, 48], y=[1]), Data(x=[133, 778], edge_index=[2, 132], y=[1]), Data(x=[50, 778], edge_index=[2, 49], y=[1]), Data(x=[86, 778], edge_index=[2, 85], y=[1]), Data(x=[59, 778], edge_index=[2, 58], y=[1]), Data(x=[6, 778], edge_index=[2, 5], y=[1]), Data(x=[56, 778], edge_index=[2, 55], y=[1]), Data(x=[18, 778], edge_index=[2, 17], y=[1]), Data(x=[58, 778], edge_index=[2, 57], y=[1]), Data(x=[41, 778], edge_index=[2, 40], y=[1]), Data(x=[104, 778], edge_index=[2, 103], y=[1]), Data(x=[14, 778], edge_index=[2, 13], y=[1]), Data(x=[52, 778], edge_index=[2, 51], y=[1]), Data(x=[15, 778], edge_index=[2, 14], y=[1]), Data(x=[10, 778], edge_index=[2, 9], y=[1]), Data(x=[79, 778], edge_index=[2, 78], y=[1]), Data(x=[158, 778], edge_index=[2, 157], y=[1]), Data(x=[54, 778], edge_index=[2, 53], y=[1]), Data(x=[34, 778], edge_index=[2, 33], y=[1]), Data(x=[65, 778], edge_index=[2, 64], y=[1]), Data(x=[124, 778], edge_index=[2, 123], y=[1]), Data(x=[47, 778], edge_index=[2, 46], y=[1]), Data(x=[67, 778], edge_index=[2, 66], y=[1]), Data(x=[26, 778], edge_index=[2, 25], y=[1]), Data(x=[92, 778], edge_index=[2, 91], y=[1]), Data(x=[89, 778], edge_index=[2, 88], y=[1]), Data(x=[17, 778], edge_index=[2, 16], y=[1]), Data(x=[100, 778], edge_index=[2, 99], y=[1]), Data(x=[63, 778], edge_index=[2, 62], y=[1]), Data(x=[102, 778], edge_index=[2, 101], y=[1]), Data(x=[110, 778], edge_index=[2, 109], y=[1]), Data(x=[24, 778], edge_index=[2, 23], y=[1]), Data(x=[61, 778], edge_index=[2, 60], y=[1]), Data(x=[24, 778], edge_index=[2, 23], y=[1]), Data(x=[8, 778], edge_index=[2, 7], y=[1]), Data(x=[117, 778], edge_index=[2, 116], y=[1]), Data(x=[41, 778], edge_index=[2, 40], y=[1]), Data(x=[5, 778], edge_index=[2, 4], y=[1]), Data(x=[58, 778], edge_index=[2, 57], y=[1]), Data(x=[27, 778], edge_index=[2, 26], y=[1])]\n",
      "tensor([0])\n",
      "tensor([[-0.0848, -0.2643, -0.2449,  ...,  0.6794,  0.1175,  0.1534],\n",
      "        [ 0.1415, -0.0493, -0.1443,  ...,  0.0890,  0.1111,  0.1324],\n",
      "        [-0.0319,  0.0562,  0.4386,  ...,  0.4658,  0.1667,  0.1765],\n",
      "        ...,\n",
      "        [ 0.0231,  0.1641,  0.0682,  ...,  0.8904,  0.1111,  0.0588],\n",
      "        [-0.0714,  0.1860,  0.1526,  ...,  0.6233,  0.2222,  0.3529],\n",
      "        [ 0.0569,  0.1775,  0.1596,  ...,  0.7740,  0.1111,  0.2500]])\n",
      "tensor([[ 0,  0,  0,  0,  0,  0,  0,  0,  0,  0,  0,  0,  0,  0,  0,  0,  0,  0,\n",
      "          0,  0,  0,  0,  0,  0,  0,  0,  0,  0,  0,  0,  0,  0,  0,  0,  0,  0,\n",
      "          0,  0,  0,  0,  0,  0,  0,  0,  0,  0,  0,  0,  0,  0,  0,  0,  0,  0,\n",
      "          0,  0,  0,  0,  0,  0,  0,  0,  0,  0,  0,  0,  0,  0,  0,  0,  0,  0,\n",
      "          1, 70, 74],\n",
      "        [ 1,  2,  3,  4,  5,  6,  7,  8,  9, 10, 11, 12, 13, 14, 15, 16, 17, 18,\n",
      "         19, 20, 21, 22, 23, 24, 25, 26, 27, 28, 29, 30, 31, 32, 33, 34, 35, 36,\n",
      "         37, 38, 39, 40, 41, 42, 43, 44, 45, 46, 47, 48, 49, 50, 51, 52, 53, 54,\n",
      "         55, 56, 57, 58, 59, 60, 61, 62, 63, 64, 65, 66, 67, 68, 69, 70, 71, 72,\n",
      "         73, 74, 75]])\n"
     ]
    }
   ],
   "source": [
    "print(train_dataset)\n",
    "print(train_dataset[0].y)\n",
    "print(train_dataset[0].x)\n",
    "print(train_dataset[0].edge_index)\n",
    "#train_dataset[i] représente l'arbre i\n",
    "#Le champ x représente la valeur des noeud, il est de taille (n, 778).\n",
    "#Le champ edge index représente les connexion dans l'abre. Il est de taille (2, n - 1). edge_index[0][i] est\n",
    "#le père de edge_index[1][i]. En pratique, il se trouve que edge_index[1][i] est toujours un linespace, ce qui est possible\n",
    "#Le champ y représente si c'est un graphe de fake news ou pas"
   ]
  },
  {
   "cell_type": "markdown",
   "metadata": {},
   "source": [
    "### Model"
   ]
  },
  {
   "cell_type": "code",
   "execution_count": 61,
   "metadata": {},
   "outputs": [],
   "source": [
    "class Net(torch.nn.Module):\n",
    "    def __init__(self, in_channels, hidden_channels):\n",
    "        super().__init__()\n",
    "        self.conv1 = GATConv(in_channels, hidden_channels)\n",
    "        self.conv2 = GATConv(hidden_channels, hidden_channels)\n",
    "        self.mean_pooling = global_mean_pool\n",
    "        self.lin1 = Linear(hidden_channels, 2 * hidden_channels)\n",
    "        self.lin2 = Linear(2*hidden_channels,2)\n",
    "\n",
    "    def forward(self, x, edge_index, batch):\n",
    "        x = self.conv1(x, edge_index)\n",
    "        x = torch.nn.functional.selu(x)\n",
    "        x = self.conv2(x, edge_index)\n",
    "        x = torch.nn.functional.selu(x)\n",
    "        x = self.mean_pooling(x, batch)\n",
    "        x = torch.nn.functional.selu(x)\n",
    "        x = self.lin1(x)\n",
    "        x = torch.nn.functional.selu(x)\n",
    "        x = self.lin2(x)\n",
    "        return x.softmax(dim=-1)"
   ]
  },
  {
   "cell_type": "code",
   "execution_count": 84,
   "metadata": {},
   "outputs": [
    {
     "data": {
      "text/plain": [
       "tensor(0.0002, device='cuda:0')"
      ]
     },
     "execution_count": 84,
     "metadata": {},
     "output_type": "execute_result"
    }
   ],
   "source": [
    "device = torch.device('cuda' if torch.cuda.is_available() else 'cpu')\n",
    "model = Net(778, 128).to(device)\n",
    "optimizer = torch.optim.Adam(model.parameters(), lr=5e-2,amsgrad = True )#,weight_decay=0.01)\n",
    "total_sum = 0\n",
    "total_params = 0\n",
    "for param in model.parameters():\n",
    "    total_sum += param.data.sum()\n",
    "    total_params += param.numel()\n",
    "\n",
    "average = total_sum / total_params\n",
    "average"
   ]
  },
  {
   "cell_type": "code",
   "execution_count": null,
   "metadata": {},
   "outputs": [
    {
     "ename": "TypeError",
     "evalue": "train() missing 1 required positional argument: 'model'",
     "output_type": "error",
     "traceback": [
      "\u001b[0;31m---------------------------------------------------------------------------\u001b[0m",
      "\u001b[0;31mTypeError\u001b[0m                                 Traceback (most recent call last)",
      "Cell \u001b[0;32mIn[85], line 21\u001b[0m\n\u001b[1;32m     18\u001b[0m         correct_predictions \u001b[38;5;241m+\u001b[39m\u001b[38;5;241m=\u001b[39m (pred \u001b[38;5;241m==\u001b[39m data\u001b[38;5;241m.\u001b[39my)\u001b[38;5;241m.\u001b[39msum()\u001b[38;5;241m.\u001b[39mitem()\n\u001b[1;32m     20\u001b[0m     \u001b[38;5;28;01mreturn\u001b[39;00m total_loss \u001b[38;5;241m/\u001b[39m \u001b[38;5;28mlen\u001b[39m(train_loader\u001b[38;5;241m.\u001b[39mdataset), correct_predictions\u001b[38;5;241m/\u001b[39m\u001b[38;5;28mlen\u001b[39m(train_dataset)\n\u001b[0;32m---> 21\u001b[0m \u001b[43mtrain\u001b[49m\u001b[43m(\u001b[49m\u001b[43m)\u001b[49m\n",
      "\u001b[0;31mTypeError\u001b[0m: train() missing 1 required positional argument: 'model'"
     ]
    }
   ],
   "source": [
    "loss_fn = torch.nn.HingeEmbeddingLoss()\n",
    "#loss_fn = torch.nn.CrossEntropyLoss()\n",
    "def train(model):\n",
    "    model.train()\n",
    "    total_loss = 0\n",
    "    correct_predictions = 0\n",
    "    for data in train_loader:\n",
    "        data = data.to(device)\n",
    "        optimizer.zero_grad()\n",
    "        out = model(data.x, data.edge_index, data.batch)\n",
    "        y = torch.tensor([[1,-1] if e==1 else [-1,1] for e in data.y], dtype=torch.float32).to(device)\n",
    "        loss = loss_fn(out,y)\n",
    "        #loss = F.nll_loss(out, data.y)\n",
    "        loss.backward()\n",
    "        optimizer.step()\n",
    "        total_loss += float(loss) * data.num_graphs\n",
    "        pred = out.argmax(dim=-1)  # Classe prédite\n",
    "        correct_predictions += (pred == data.y).sum().item()\n",
    "\n",
    "    return total_loss / len(train_loader.dataset), correct_predictions/len(train_dataset)\n",
    "train(model)"
   ]
  },
  {
   "cell_type": "code",
   "execution_count": 86,
   "metadata": {},
   "outputs": [],
   "source": [
    "def test(loader,model):\n",
    "    model.eval()\n",
    "\n",
    "    total_correct = total_examples = 0\n",
    "    for data in loader:\n",
    "        data = data.to(device)\n",
    "        pred = model(data.x, data.edge_index, data.batch).argmax(dim=-1)\n",
    "        total_correct += int((pred ==data.y).sum())\n",
    "        total_examples += data.num_graphs\n",
    "\n",
    "    return total_correct / total_examples"
   ]
  },
  {
   "cell_type": "code",
   "execution_count": null,
   "metadata": {},
   "outputs": [
    {
     "name": "stdout",
     "output_type": "stream",
     "text": [
      "Epoch: 01, Loss: 0.5167, Train Acc: 0.4899,Train: 0.4899, Val: 0.5147, Test: 0.5008\n",
      "Epoch: 02, Loss: 0.5101, Train Acc: 0.4899,Train: 0.4899, Val: 0.5147, Test: 0.5008\n",
      "Epoch: 03, Loss: 0.5101, Train Acc: 0.4899,Train: 0.4899, Val: 0.5147, Test: 0.5008\n",
      "Epoch: 04, Loss: 0.5101, Train Acc: 0.4899,Train: 0.4899, Val: 0.5147, Test: 0.5008\n"
     ]
    }
   ],
   "source": [
    "\n",
    "for epoch in range(1, 200):\n",
    "    loss,acc = train(model)\n",
    "    train_acc = test(train_loader,model)\n",
    "    val_acc = test(val_loader,model)\n",
    "    test_acc = test(test_loader,model)\n",
    "    total_sum = 0\n",
    "    print(f'Epoch: {epoch:02d}, Loss: {loss:.4f}, Train Acc: {train_acc:.4f}, 'f'Val: {val_acc:.4f}, Test: {test_acc:.4f}')"
   ]
  },
  {
   "cell_type": "markdown",
   "metadata": {},
   "source": [
    "We have the same accuracy, we need to do the ROC to be sure."
   ]
  },
  {
   "cell_type": "markdown",
   "metadata": {},
   "source": []
  },
  {
   "cell_type": "markdown",
   "metadata": {},
   "source": []
  }
 ],
 "metadata": {
  "kernelspec": {
   "display_name": ".venv",
   "language": "python",
   "name": "python3"
  },
  "language_info": {
   "codemirror_mode": {
    "name": "ipython",
    "version": 3
   },
   "file_extension": ".py",
   "mimetype": "text/x-python",
   "name": "python",
   "nbconvert_exporter": "python",
   "pygments_lexer": "ipython3",
   "version": "3.12.3"
  }
 },
 "nbformat": 4,
 "nbformat_minor": 2
}
