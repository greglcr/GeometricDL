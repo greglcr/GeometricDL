{
  "cells": [
    {
      "cell_type": "markdown",
      "metadata": {
        "id": "aBaspb77rgRt"
      },
      "source": [
        "# Graph Deep Learning on Graph to study Fake News"
      ]
    },
    {
      "cell_type": "code",
      "execution_count": 1,
      "metadata": {
        "colab": {
          "base_uri": "https://localhost:8080/"
        },
        "id": "jW6loHtvrgRu",
        "outputId": "170d5b65-7135-4d14-fdc4-e434f7d599c4"
      },
      "outputs": [
        {
          "output_type": "stream",
          "name": "stdout",
          "text": [
            "Collecting dgl\n",
            "  Downloading dgl-2.1.0-cp310-cp310-manylinux1_x86_64.whl.metadata (553 bytes)\n",
            "Requirement already satisfied: numpy>=1.14.0 in /usr/local/lib/python3.10/dist-packages (from dgl) (1.26.4)\n",
            "Requirement already satisfied: scipy>=1.1.0 in /usr/local/lib/python3.10/dist-packages (from dgl) (1.13.1)\n",
            "Requirement already satisfied: networkx>=2.1 in /usr/local/lib/python3.10/dist-packages (from dgl) (3.4.2)\n",
            "Requirement already satisfied: requests>=2.19.0 in /usr/local/lib/python3.10/dist-packages (from dgl) (2.32.3)\n",
            "Requirement already satisfied: tqdm in /usr/local/lib/python3.10/dist-packages (from dgl) (4.66.6)\n",
            "Requirement already satisfied: psutil>=5.8.0 in /usr/local/lib/python3.10/dist-packages (from dgl) (5.9.5)\n",
            "Collecting torchdata>=0.5.0 (from dgl)\n",
            "  Downloading torchdata-0.9.0-cp310-cp310-manylinux1_x86_64.whl.metadata (5.5 kB)\n",
            "Requirement already satisfied: charset-normalizer<4,>=2 in /usr/local/lib/python3.10/dist-packages (from requests>=2.19.0->dgl) (3.4.0)\n",
            "Requirement already satisfied: idna<4,>=2.5 in /usr/local/lib/python3.10/dist-packages (from requests>=2.19.0->dgl) (3.10)\n",
            "Requirement already satisfied: urllib3<3,>=1.21.1 in /usr/local/lib/python3.10/dist-packages (from requests>=2.19.0->dgl) (2.2.3)\n",
            "Requirement already satisfied: certifi>=2017.4.17 in /usr/local/lib/python3.10/dist-packages (from requests>=2.19.0->dgl) (2024.8.30)\n",
            "Requirement already satisfied: torch>=2 in /usr/local/lib/python3.10/dist-packages (from torchdata>=0.5.0->dgl) (2.5.1+cu121)\n",
            "Requirement already satisfied: filelock in /usr/local/lib/python3.10/dist-packages (from torch>=2->torchdata>=0.5.0->dgl) (3.16.1)\n",
            "Requirement already satisfied: typing-extensions>=4.8.0 in /usr/local/lib/python3.10/dist-packages (from torch>=2->torchdata>=0.5.0->dgl) (4.12.2)\n",
            "Requirement already satisfied: jinja2 in /usr/local/lib/python3.10/dist-packages (from torch>=2->torchdata>=0.5.0->dgl) (3.1.4)\n",
            "Requirement already satisfied: fsspec in /usr/local/lib/python3.10/dist-packages (from torch>=2->torchdata>=0.5.0->dgl) (2024.10.0)\n",
            "Requirement already satisfied: sympy==1.13.1 in /usr/local/lib/python3.10/dist-packages (from torch>=2->torchdata>=0.5.0->dgl) (1.13.1)\n",
            "Requirement already satisfied: mpmath<1.4,>=1.1.0 in /usr/local/lib/python3.10/dist-packages (from sympy==1.13.1->torch>=2->torchdata>=0.5.0->dgl) (1.3.0)\n",
            "Requirement already satisfied: MarkupSafe>=2.0 in /usr/local/lib/python3.10/dist-packages (from jinja2->torch>=2->torchdata>=0.5.0->dgl) (3.0.2)\n",
            "Downloading dgl-2.1.0-cp310-cp310-manylinux1_x86_64.whl (8.5 MB)\n",
            "\u001b[2K   \u001b[90m━━━━━━━━━━━━━━━━━━━━━━━━━━━━━━━━━━━━━━━━\u001b[0m \u001b[32m8.5/8.5 MB\u001b[0m \u001b[31m21.1 MB/s\u001b[0m eta \u001b[36m0:00:00\u001b[0m\n",
            "\u001b[?25hDownloading torchdata-0.9.0-cp310-cp310-manylinux1_x86_64.whl (2.7 MB)\n",
            "\u001b[2K   \u001b[90m━━━━━━━━━━━━━━━━━━━━━━━━━━━━━━━━━━━━━━━━\u001b[0m \u001b[32m2.7/2.7 MB\u001b[0m \u001b[31m43.1 MB/s\u001b[0m eta \u001b[36m0:00:00\u001b[0m\n",
            "\u001b[?25hInstalling collected packages: torchdata, dgl\n",
            "Successfully installed dgl-2.1.0 torchdata-0.9.0\n"
          ]
        }
      ],
      "source": [
        "!pip install dgl"
      ]
    },
    {
      "cell_type": "code",
      "execution_count": 2,
      "metadata": {
        "colab": {
          "base_uri": "https://localhost:8080/"
        },
        "id": "rkdV67aYrgRw",
        "outputId": "8a57c61e-6503-4d0e-8f0c-fd6d22dab6c7"
      },
      "outputs": [
        {
          "output_type": "stream",
          "name": "stdout",
          "text": [
            "Collecting torch_geometric\n",
            "  Downloading torch_geometric-2.6.1-py3-none-any.whl.metadata (63 kB)\n",
            "\u001b[?25l     \u001b[90m━━━━━━━━━━━━━━━━━━━━━━━━━━━━━━━━━━━━━━━━\u001b[0m \u001b[32m0.0/63.1 kB\u001b[0m \u001b[31m?\u001b[0m eta \u001b[36m-:--:--\u001b[0m\r\u001b[2K     \u001b[90m━━━━━━━━━━━━━━━━━━━━━━━━━━━━━━━━━━━━━━━━\u001b[0m \u001b[32m63.1/63.1 kB\u001b[0m \u001b[31m2.1 MB/s\u001b[0m eta \u001b[36m0:00:00\u001b[0m\n",
            "\u001b[?25hRequirement already satisfied: aiohttp in /usr/local/lib/python3.10/dist-packages (from torch_geometric) (3.11.2)\n",
            "Requirement already satisfied: fsspec in /usr/local/lib/python3.10/dist-packages (from torch_geometric) (2024.10.0)\n",
            "Requirement already satisfied: jinja2 in /usr/local/lib/python3.10/dist-packages (from torch_geometric) (3.1.4)\n",
            "Requirement already satisfied: numpy in /usr/local/lib/python3.10/dist-packages (from torch_geometric) (1.26.4)\n",
            "Requirement already satisfied: psutil>=5.8.0 in /usr/local/lib/python3.10/dist-packages (from torch_geometric) (5.9.5)\n",
            "Requirement already satisfied: pyparsing in /usr/local/lib/python3.10/dist-packages (from torch_geometric) (3.2.0)\n",
            "Requirement already satisfied: requests in /usr/local/lib/python3.10/dist-packages (from torch_geometric) (2.32.3)\n",
            "Requirement already satisfied: tqdm in /usr/local/lib/python3.10/dist-packages (from torch_geometric) (4.66.6)\n",
            "Requirement already satisfied: aiohappyeyeballs>=2.3.0 in /usr/local/lib/python3.10/dist-packages (from aiohttp->torch_geometric) (2.4.3)\n",
            "Requirement already satisfied: aiosignal>=1.1.2 in /usr/local/lib/python3.10/dist-packages (from aiohttp->torch_geometric) (1.3.1)\n",
            "Requirement already satisfied: attrs>=17.3.0 in /usr/local/lib/python3.10/dist-packages (from aiohttp->torch_geometric) (24.2.0)\n",
            "Requirement already satisfied: frozenlist>=1.1.1 in /usr/local/lib/python3.10/dist-packages (from aiohttp->torch_geometric) (1.5.0)\n",
            "Requirement already satisfied: multidict<7.0,>=4.5 in /usr/local/lib/python3.10/dist-packages (from aiohttp->torch_geometric) (6.1.0)\n",
            "Requirement already satisfied: propcache>=0.2.0 in /usr/local/lib/python3.10/dist-packages (from aiohttp->torch_geometric) (0.2.0)\n",
            "Requirement already satisfied: yarl<2.0,>=1.17.0 in /usr/local/lib/python3.10/dist-packages (from aiohttp->torch_geometric) (1.17.2)\n",
            "Requirement already satisfied: async-timeout<6.0,>=4.0 in /usr/local/lib/python3.10/dist-packages (from aiohttp->torch_geometric) (4.0.3)\n",
            "Requirement already satisfied: MarkupSafe>=2.0 in /usr/local/lib/python3.10/dist-packages (from jinja2->torch_geometric) (3.0.2)\n",
            "Requirement already satisfied: charset-normalizer<4,>=2 in /usr/local/lib/python3.10/dist-packages (from requests->torch_geometric) (3.4.0)\n",
            "Requirement already satisfied: idna<4,>=2.5 in /usr/local/lib/python3.10/dist-packages (from requests->torch_geometric) (3.10)\n",
            "Requirement already satisfied: urllib3<3,>=1.21.1 in /usr/local/lib/python3.10/dist-packages (from requests->torch_geometric) (2.2.3)\n",
            "Requirement already satisfied: certifi>=2017.4.17 in /usr/local/lib/python3.10/dist-packages (from requests->torch_geometric) (2024.8.30)\n",
            "Requirement already satisfied: typing-extensions>=4.1.0 in /usr/local/lib/python3.10/dist-packages (from multidict<7.0,>=4.5->aiohttp->torch_geometric) (4.12.2)\n",
            "Downloading torch_geometric-2.6.1-py3-none-any.whl (1.1 MB)\n",
            "\u001b[2K   \u001b[90m━━━━━━━━━━━━━━━━━━━━━━━━━━━━━━━━━━━━━━━━\u001b[0m \u001b[32m1.1/1.1 MB\u001b[0m \u001b[31m20.1 MB/s\u001b[0m eta \u001b[36m0:00:00\u001b[0m\n",
            "\u001b[?25hInstalling collected packages: torch_geometric\n",
            "Successfully installed torch_geometric-2.6.1\n"
          ]
        }
      ],
      "source": [
        "!pip install torch_geometric"
      ]
    },
    {
      "cell_type": "code",
      "execution_count": 3,
      "metadata": {
        "id": "VD1gG9E6rgRw"
      },
      "outputs": [],
      "source": [
        "from torch_geometric.datasets import UPFD\n",
        "from torch_geometric.loader import DataLoader\n",
        "from torch_geometric.nn import GATConv, global_mean_pool\n",
        "from torch.nn.modules import Linear\n",
        "from torch_geometric.transforms import ToUndirected\n",
        "from torch.functional import F\n",
        "import torch\n",
        "import argparse\n",
        "import os.path as osp\n"
      ]
    },
    {
      "cell_type": "markdown",
      "metadata": {
        "id": "Q04ZuW_0rgRx"
      },
      "source": [
        "The dataset is initialized there. Note that:\n",
        "- `feature` can be `content` (raw content of the tweet), `bert` (content transformed by a transformer), `profile` (user profile info such as number of tweets, followers, and join date), `spacy` (content transformed by a simple NLP model)\n",
        "- `dataset` is either `politifact` or `gossipcop`"
      ]
    },
    {
      "cell_type": "code",
      "execution_count": 4,
      "metadata": {
        "colab": {
          "base_uri": "https://localhost:8080/"
        },
        "id": "S_6UoCPOrgRx",
        "outputId": "54e5363d-91f1-4096-c648-760d12a474b1"
      },
      "outputs": [
        {
          "output_type": "stream",
          "name": "stderr",
          "text": [
            "Downloading https://drive.usercontent.google.com/download?id=1VskhAQ92PrT4sWEKQ2v2-AJhEcpp4A81&confirm=t\n",
            "Extracting /data/UPFD/gossipcop/raw/data.zip\n",
            "Processing...\n",
            "Done!\n",
            "Processing...\n",
            "Done!\n"
          ]
        },
        {
          "output_type": "stream",
          "name": "stdout",
          "text": [
            "5464\n"
          ]
        },
        {
          "output_type": "stream",
          "name": "stderr",
          "text": [
            "/usr/local/lib/python3.10/dist-packages/torch_geometric/deprecation.py:26: UserWarning: 'data.DataLoader' is deprecated, use 'loader.DataLoader' instead\n",
            "  warnings.warn(out)\n"
          ]
        }
      ],
      "source": [
        "from torch_geometric.data import DataLoader\n",
        "from torch_geometric.datasets import UPFD\n",
        "import os.path as osp\n",
        "import torch\n",
        "\n",
        "# Paths and settings\n",
        "_file_ = '..'\n",
        "file = _file_\n",
        "dataset = 'gossipcop'  # or 'politifact'\n",
        "path = osp.join(osp.dirname(osp.realpath(file)), '..', 'data', 'UPFD')\n",
        "\n",
        "# Load datasets with bert and profile features separately\n",
        "train_dataset_bert = UPFD(path, dataset, 'bert', 'train')\n",
        "train_dataset_profile = UPFD(path, dataset, 'profile', 'train')\n",
        "\n",
        "val_dataset_bert = UPFD(path, dataset, 'bert', 'val')\n",
        "val_dataset_profile = UPFD(path, dataset, 'profile', 'val')\n",
        "\n",
        "test_dataset_bert = UPFD(path, dataset, 'bert', 'test')\n",
        "test_dataset_profile = UPFD(path, dataset, 'profile', 'test')\n",
        "\n",
        "# Check that both datasets are aligned\n",
        "assert len(train_dataset_bert) == len(train_dataset_profile)\n",
        "assert len(val_dataset_bert) == len(val_dataset_profile)\n",
        "assert len(test_dataset_bert) == len(test_dataset_profile)\n",
        "\n",
        "# Function to combine features\n",
        "def combine_features(dataset_bert, dataset_profile):\n",
        "    combined_data = []\n",
        "    for data_bert, data_profile in zip(dataset_bert, dataset_profile):\n",
        "        data_bert.x = torch.cat([data_bert.x, data_profile.x], dim=-1)  # Concatenate features\n",
        "        combined_data.append(data_bert)\n",
        "    return combined_data\n",
        "\n",
        "# Combine features for train, val, and test datasets\n",
        "\"\"\"\n",
        "train_dataset = combine_features(train_dataset_bert, train_dataset_profile)\n",
        "val_dataset = combine_features(val_dataset_bert, val_dataset_profile)\n",
        "test_dataset = combine_features(test_dataset_bert, test_dataset_profile)\n",
        "\"\"\"\n",
        "\n",
        "# Create DataLoaders\n",
        "train_loader = DataLoader(train_dataset_bert, batch_size=128, shuffle=True)\n",
        "val_loader = DataLoader(val_dataset_bert, batch_size=128, shuffle=False)\n",
        "test_loader = DataLoader(test_dataset_bert, batch_size=128, shuffle=False)\n",
        "print(len(train_dataset_bert) + len(val_dataset_bert) + len(test_dataset_bert))"
      ]
    },
    {
      "cell_type": "code",
      "execution_count": 5,
      "metadata": {
        "colab": {
          "base_uri": "https://localhost:8080/",
          "height": 211
        },
        "id": "Nysh0Cs8rgRz",
        "outputId": "e86afd52-10d9-4a00-9b18-331c09e2a286"
      },
      "outputs": [
        {
          "output_type": "error",
          "ename": "NameError",
          "evalue": "name 'train_dataset' is not defined",
          "traceback": [
            "\u001b[0;31m---------------------------------------------------------------------------\u001b[0m",
            "\u001b[0;31mNameError\u001b[0m                                 Traceback (most recent call last)",
            "\u001b[0;32m<ipython-input-5-5a0f1ed346ae>\u001b[0m in \u001b[0;36m<cell line: 1>\u001b[0;34m()\u001b[0m\n\u001b[0;32m----> 1\u001b[0;31m \u001b[0mprint\u001b[0m\u001b[0;34m(\u001b[0m\u001b[0mtrain_dataset\u001b[0m\u001b[0;34m[\u001b[0m\u001b[0;36m0\u001b[0m\u001b[0;34m]\u001b[0m\u001b[0;34m.\u001b[0m\u001b[0mx\u001b[0m\u001b[0;34m.\u001b[0m\u001b[0mshape\u001b[0m\u001b[0;34m)\u001b[0m\u001b[0;34m\u001b[0m\u001b[0;34m\u001b[0m\u001b[0m\n\u001b[0m\u001b[1;32m      2\u001b[0m \u001b[0mprint\u001b[0m\u001b[0;34m(\u001b[0m\u001b[0msum\u001b[0m\u001b[0;34m(\u001b[0m\u001b[0;34m[\u001b[0m\u001b[0me\u001b[0m\u001b[0;34m.\u001b[0m\u001b[0mx\u001b[0m\u001b[0;34m.\u001b[0m\u001b[0mshape\u001b[0m\u001b[0;34m[\u001b[0m\u001b[0;36m0\u001b[0m\u001b[0;34m]\u001b[0m \u001b[0;32mfor\u001b[0m \u001b[0me\u001b[0m \u001b[0;32min\u001b[0m \u001b[0mtrain_dataset\u001b[0m\u001b[0;34m[\u001b[0m\u001b[0;36m0\u001b[0m\u001b[0;34m:\u001b[0m\u001b[0;36m128\u001b[0m\u001b[0;34m]\u001b[0m \u001b[0;34m]\u001b[0m\u001b[0;34m)\u001b[0m\u001b[0;34m)\u001b[0m\u001b[0;34m\u001b[0m\u001b[0;34m\u001b[0m\u001b[0m\n\u001b[1;32m      3\u001b[0m \u001b[0;32mfor\u001b[0m \u001b[0me\u001b[0m \u001b[0;32min\u001b[0m \u001b[0mtrain_loader\u001b[0m\u001b[0;34m:\u001b[0m\u001b[0;34m\u001b[0m\u001b[0;34m\u001b[0m\u001b[0m\n\u001b[1;32m      4\u001b[0m     \u001b[0ms\u001b[0m \u001b[0;34m=\u001b[0m \u001b[0;34m[\u001b[0m\u001b[0;36m0\u001b[0m \u001b[0;32mfor\u001b[0m \u001b[0mi\u001b[0m \u001b[0;32min\u001b[0m \u001b[0mrange\u001b[0m\u001b[0;34m(\u001b[0m\u001b[0;36m128\u001b[0m\u001b[0;34m)\u001b[0m\u001b[0;34m]\u001b[0m\u001b[0;34m\u001b[0m\u001b[0;34m\u001b[0m\u001b[0m\n\u001b[1;32m      5\u001b[0m     \u001b[0;32mfor\u001b[0m \u001b[0mk\u001b[0m \u001b[0;32min\u001b[0m \u001b[0me\u001b[0m\u001b[0;34m.\u001b[0m\u001b[0mbatch\u001b[0m\u001b[0;34m:\u001b[0m\u001b[0;34m\u001b[0m\u001b[0;34m\u001b[0m\u001b[0m\n",
            "\u001b[0;31mNameError\u001b[0m: name 'train_dataset' is not defined"
          ]
        }
      ],
      "source": [
        "print(train_dataset[0].x.shape)\n",
        "print(sum([e.x.shape[0] for e in train_dataset[0:128] ]))\n",
        "for e in train_loader:\n",
        "    s = [0 for i in range(128)]\n",
        "    for k in e.batch:\n",
        "        s[k]+=1\n",
        "    print(s)\n",
        "    break"
      ]
    },
    {
      "cell_type": "code",
      "execution_count": null,
      "metadata": {
        "colab": {
          "base_uri": "https://localhost:8080/"
        },
        "id": "P7Bwt_wurgR0",
        "outputId": "585baa22-f451-4917-a57f-5d2cea4744e8"
      },
      "outputs": [
        {
          "output_type": "stream",
          "name": "stdout",
          "text": [
            "[Data(x=[76, 778], edge_index=[2, 75], y=[1]), Data(x=[125, 778], edge_index=[2, 124], y=[1]), Data(x=[6, 778], edge_index=[2, 5], y=[1]), Data(x=[56, 778], edge_index=[2, 55], y=[1]), Data(x=[90, 778], edge_index=[2, 89], y=[1]), Data(x=[21, 778], edge_index=[2, 20], y=[1]), Data(x=[76, 778], edge_index=[2, 75], y=[1]), Data(x=[89, 778], edge_index=[2, 88], y=[1]), Data(x=[77, 778], edge_index=[2, 76], y=[1]), Data(x=[27, 778], edge_index=[2, 26], y=[1]), Data(x=[88, 778], edge_index=[2, 87], y=[1]), Data(x=[127, 778], edge_index=[2, 126], y=[1]), Data(x=[88, 778], edge_index=[2, 87], y=[1]), Data(x=[19, 778], edge_index=[2, 18], y=[1]), Data(x=[173, 778], edge_index=[2, 172], y=[1]), Data(x=[54, 778], edge_index=[2, 53], y=[1]), Data(x=[19, 778], edge_index=[2, 18], y=[1]), Data(x=[88, 778], edge_index=[2, 87], y=[1]), Data(x=[24, 778], edge_index=[2, 23], y=[1]), Data(x=[72, 778], edge_index=[2, 71], y=[1]), Data(x=[12, 778], edge_index=[2, 11], y=[1]), Data(x=[38, 778], edge_index=[2, 37], y=[1]), Data(x=[26, 778], edge_index=[2, 25], y=[1]), Data(x=[163, 778], edge_index=[2, 162], y=[1]), Data(x=[7, 778], edge_index=[2, 6], y=[1]), Data(x=[11, 778], edge_index=[2, 10], y=[1]), Data(x=[58, 778], edge_index=[2, 57], y=[1]), Data(x=[27, 778], edge_index=[2, 26], y=[1]), Data(x=[56, 778], edge_index=[2, 55], y=[1]), Data(x=[89, 778], edge_index=[2, 88], y=[1]), Data(x=[69, 778], edge_index=[2, 68], y=[1]), Data(x=[94, 778], edge_index=[2, 93], y=[1]), Data(x=[16, 778], edge_index=[2, 15], y=[1]), Data(x=[110, 778], edge_index=[2, 109], y=[1]), Data(x=[46, 778], edge_index=[2, 45], y=[1]), Data(x=[60, 778], edge_index=[2, 59], y=[1]), Data(x=[9, 778], edge_index=[2, 8], y=[1]), Data(x=[4, 778], edge_index=[2, 3], y=[1]), Data(x=[13, 778], edge_index=[2, 12], y=[1]), Data(x=[44, 778], edge_index=[2, 43], y=[1]), Data(x=[5, 778], edge_index=[2, 4], y=[1]), Data(x=[86, 778], edge_index=[2, 85], y=[1]), Data(x=[74, 778], edge_index=[2, 73], y=[1]), Data(x=[70, 778], edge_index=[2, 69], y=[1]), Data(x=[53, 778], edge_index=[2, 52], y=[1]), Data(x=[21, 778], edge_index=[2, 20], y=[1]), Data(x=[23, 778], edge_index=[2, 22], y=[1]), Data(x=[46, 778], edge_index=[2, 45], y=[1]), Data(x=[45, 778], edge_index=[2, 44], y=[1]), Data(x=[33, 778], edge_index=[2, 32], y=[1]), Data(x=[18, 778], edge_index=[2, 17], y=[1]), Data(x=[42, 778], edge_index=[2, 41], y=[1]), Data(x=[22, 778], edge_index=[2, 21], y=[1]), Data(x=[51, 778], edge_index=[2, 50], y=[1]), Data(x=[53, 778], edge_index=[2, 52], y=[1]), Data(x=[82, 778], edge_index=[2, 81], y=[1]), Data(x=[105, 778], edge_index=[2, 104], y=[1]), Data(x=[7, 778], edge_index=[2, 6], y=[1]), Data(x=[54, 778], edge_index=[2, 53], y=[1]), Data(x=[58, 778], edge_index=[2, 57], y=[1]), Data(x=[14, 778], edge_index=[2, 13], y=[1]), Data(x=[64, 778], edge_index=[2, 63], y=[1]), Data(x=[14, 778], edge_index=[2, 13], y=[1]), Data(x=[194, 778], edge_index=[2, 193], y=[1]), Data(x=[32, 778], edge_index=[2, 31], y=[1]), Data(x=[78, 778], edge_index=[2, 77], y=[1]), Data(x=[49, 778], edge_index=[2, 48], y=[1]), Data(x=[121, 778], edge_index=[2, 120], y=[1]), Data(x=[58, 778], edge_index=[2, 57], y=[1]), Data(x=[77, 778], edge_index=[2, 76], y=[1]), Data(x=[49, 778], edge_index=[2, 48], y=[1]), Data(x=[12, 778], edge_index=[2, 11], y=[1]), Data(x=[12, 778], edge_index=[2, 11], y=[1]), Data(x=[67, 778], edge_index=[2, 66], y=[1]), Data(x=[74, 778], edge_index=[2, 73], y=[1]), Data(x=[23, 778], edge_index=[2, 22], y=[1]), Data(x=[168, 778], edge_index=[2, 167], y=[1]), Data(x=[34, 778], edge_index=[2, 33], y=[1]), Data(x=[8, 778], edge_index=[2, 7], y=[1]), Data(x=[6, 778], edge_index=[2, 5], y=[1]), Data(x=[21, 778], edge_index=[2, 20], y=[1]), Data(x=[22, 778], edge_index=[2, 21], y=[1]), Data(x=[8, 778], edge_index=[2, 7], y=[1]), Data(x=[17, 778], edge_index=[2, 16], y=[1]), Data(x=[4, 778], edge_index=[2, 3], y=[1]), Data(x=[20, 778], edge_index=[2, 19], y=[1]), Data(x=[61, 778], edge_index=[2, 60], y=[1]), Data(x=[11, 778], edge_index=[2, 10], y=[1]), Data(x=[25, 778], edge_index=[2, 24], y=[1]), Data(x=[17, 778], edge_index=[2, 16], y=[1]), Data(x=[122, 778], edge_index=[2, 121], y=[1]), Data(x=[70, 778], edge_index=[2, 69], y=[1]), Data(x=[33, 778], edge_index=[2, 32], y=[1]), Data(x=[14, 778], edge_index=[2, 13], y=[1]), Data(x=[96, 778], edge_index=[2, 95], y=[1]), Data(x=[110, 778], edge_index=[2, 109], y=[1]), Data(x=[78, 778], edge_index=[2, 77], y=[1]), Data(x=[58, 778], edge_index=[2, 57], y=[1]), Data(x=[9, 778], edge_index=[2, 8], y=[1]), Data(x=[101, 778], edge_index=[2, 100], y=[1]), Data(x=[93, 778], edge_index=[2, 92], y=[1]), Data(x=[44, 778], edge_index=[2, 43], y=[1]), Data(x=[152, 778], edge_index=[2, 151], y=[1]), Data(x=[75, 778], edge_index=[2, 74], y=[1]), Data(x=[14, 778], edge_index=[2, 13], y=[1]), Data(x=[22, 778], edge_index=[2, 21], y=[1]), Data(x=[37, 778], edge_index=[2, 36], y=[1]), Data(x=[16, 778], edge_index=[2, 15], y=[1]), Data(x=[117, 778], edge_index=[2, 116], y=[1]), Data(x=[51, 778], edge_index=[2, 50], y=[1]), Data(x=[70, 778], edge_index=[2, 69], y=[1]), Data(x=[50, 778], edge_index=[2, 49], y=[1]), Data(x=[59, 778], edge_index=[2, 58], y=[1]), Data(x=[44, 778], edge_index=[2, 43], y=[1]), Data(x=[85, 778], edge_index=[2, 84], y=[1]), Data(x=[34, 778], edge_index=[2, 33], y=[1]), Data(x=[7, 778], edge_index=[2, 6], y=[1]), Data(x=[164, 778], edge_index=[2, 163], y=[1]), Data(x=[71, 778], edge_index=[2, 70], y=[1]), Data(x=[10, 778], edge_index=[2, 9], y=[1]), Data(x=[18, 778], edge_index=[2, 17], y=[1]), Data(x=[52, 778], edge_index=[2, 51], y=[1]), Data(x=[12, 778], edge_index=[2, 11], y=[1]), Data(x=[20, 778], edge_index=[2, 19], y=[1]), Data(x=[102, 778], edge_index=[2, 101], y=[1]), Data(x=[49, 778], edge_index=[2, 48], y=[1]), Data(x=[20, 778], edge_index=[2, 19], y=[1]), Data(x=[49, 778], edge_index=[2, 48], y=[1]), Data(x=[180, 778], edge_index=[2, 179], y=[1]), Data(x=[77, 778], edge_index=[2, 76], y=[1]), Data(x=[55, 778], edge_index=[2, 54], y=[1]), Data(x=[116, 778], edge_index=[2, 115], y=[1]), Data(x=[12, 778], edge_index=[2, 11], y=[1]), Data(x=[133, 778], edge_index=[2, 132], y=[1]), Data(x=[16, 778], edge_index=[2, 15], y=[1]), Data(x=[160, 778], edge_index=[2, 159], y=[1]), Data(x=[11, 778], edge_index=[2, 10], y=[1]), Data(x=[79, 778], edge_index=[2, 78], y=[1]), Data(x=[113, 778], edge_index=[2, 112], y=[1]), Data(x=[21, 778], edge_index=[2, 20], y=[1]), Data(x=[14, 778], edge_index=[2, 13], y=[1]), Data(x=[30, 778], edge_index=[2, 29], y=[1]), Data(x=[33, 778], edge_index=[2, 32], y=[1]), Data(x=[11, 778], edge_index=[2, 10], y=[1]), Data(x=[131, 778], edge_index=[2, 130], y=[1]), Data(x=[56, 778], edge_index=[2, 55], y=[1]), Data(x=[69, 778], edge_index=[2, 68], y=[1]), Data(x=[92, 778], edge_index=[2, 91], y=[1]), Data(x=[11, 778], edge_index=[2, 10], y=[1]), Data(x=[53, 778], edge_index=[2, 52], y=[1]), Data(x=[58, 778], edge_index=[2, 57], y=[1]), Data(x=[18, 778], edge_index=[2, 17], y=[1]), Data(x=[70, 778], edge_index=[2, 69], y=[1]), Data(x=[92, 778], edge_index=[2, 91], y=[1]), Data(x=[33, 778], edge_index=[2, 32], y=[1]), Data(x=[123, 778], edge_index=[2, 122], y=[1]), Data(x=[127, 778], edge_index=[2, 126], y=[1]), Data(x=[110, 778], edge_index=[2, 109], y=[1]), Data(x=[96, 778], edge_index=[2, 95], y=[1]), Data(x=[20, 778], edge_index=[2, 19], y=[1]), Data(x=[35, 778], edge_index=[2, 34], y=[1]), Data(x=[19, 778], edge_index=[2, 18], y=[1]), Data(x=[5, 778], edge_index=[2, 4], y=[1]), Data(x=[35, 778], edge_index=[2, 34], y=[1]), Data(x=[160, 778], edge_index=[2, 159], y=[1]), Data(x=[63, 778], edge_index=[2, 62], y=[1]), Data(x=[63, 778], edge_index=[2, 62], y=[1]), Data(x=[177, 778], edge_index=[2, 176], y=[1]), Data(x=[24, 778], edge_index=[2, 23], y=[1]), Data(x=[28, 778], edge_index=[2, 27], y=[1]), Data(x=[186, 778], edge_index=[2, 185], y=[1]), Data(x=[60, 778], edge_index=[2, 59], y=[1]), Data(x=[11, 778], edge_index=[2, 10], y=[1]), Data(x=[26, 778], edge_index=[2, 25], y=[1]), Data(x=[58, 778], edge_index=[2, 57], y=[1]), Data(x=[85, 778], edge_index=[2, 84], y=[1]), Data(x=[33, 778], edge_index=[2, 32], y=[1]), Data(x=[37, 778], edge_index=[2, 36], y=[1]), Data(x=[6, 778], edge_index=[2, 5], y=[1]), Data(x=[13, 778], edge_index=[2, 12], y=[1]), Data(x=[22, 778], edge_index=[2, 21], y=[1]), Data(x=[4, 778], edge_index=[2, 3], y=[1]), Data(x=[129, 778], edge_index=[2, 128], y=[1]), Data(x=[42, 778], edge_index=[2, 41], y=[1]), Data(x=[5, 778], edge_index=[2, 4], y=[1]), Data(x=[9, 778], edge_index=[2, 8], y=[1]), Data(x=[65, 778], edge_index=[2, 64], y=[1]), Data(x=[5, 778], edge_index=[2, 4], y=[1]), Data(x=[29, 778], edge_index=[2, 28], y=[1]), Data(x=[42, 778], edge_index=[2, 41], y=[1]), Data(x=[10, 778], edge_index=[2, 9], y=[1]), Data(x=[71, 778], edge_index=[2, 70], y=[1]), Data(x=[95, 778], edge_index=[2, 94], y=[1]), Data(x=[13, 778], edge_index=[2, 12], y=[1]), Data(x=[166, 778], edge_index=[2, 165], y=[1]), Data(x=[35, 778], edge_index=[2, 34], y=[1]), Data(x=[17, 778], edge_index=[2, 16], y=[1]), Data(x=[94, 778], edge_index=[2, 93], y=[1]), Data(x=[94, 778], edge_index=[2, 93], y=[1]), Data(x=[55, 778], edge_index=[2, 54], y=[1]), Data(x=[71, 778], edge_index=[2, 70], y=[1]), Data(x=[113, 778], edge_index=[2, 112], y=[1]), Data(x=[157, 778], edge_index=[2, 156], y=[1]), Data(x=[26, 778], edge_index=[2, 25], y=[1]), Data(x=[66, 778], edge_index=[2, 65], y=[1]), Data(x=[30, 778], edge_index=[2, 29], y=[1]), Data(x=[38, 778], edge_index=[2, 37], y=[1]), Data(x=[13, 778], edge_index=[2, 12], y=[1]), Data(x=[131, 778], edge_index=[2, 130], y=[1]), Data(x=[25, 778], edge_index=[2, 24], y=[1]), Data(x=[18, 778], edge_index=[2, 17], y=[1]), Data(x=[157, 778], edge_index=[2, 156], y=[1]), Data(x=[32, 778], edge_index=[2, 31], y=[1]), Data(x=[15, 778], edge_index=[2, 14], y=[1]), Data(x=[10, 778], edge_index=[2, 9], y=[1]), Data(x=[130, 778], edge_index=[2, 129], y=[1]), Data(x=[51, 778], edge_index=[2, 50], y=[1]), Data(x=[8, 778], edge_index=[2, 7], y=[1]), Data(x=[37, 778], edge_index=[2, 36], y=[1]), Data(x=[128, 778], edge_index=[2, 127], y=[1]), Data(x=[50, 778], edge_index=[2, 49], y=[1]), Data(x=[143, 778], edge_index=[2, 142], y=[1]), Data(x=[23, 778], edge_index=[2, 22], y=[1]), Data(x=[20, 778], edge_index=[2, 19], y=[1]), Data(x=[17, 778], edge_index=[2, 16], y=[1]), Data(x=[7, 778], edge_index=[2, 6], y=[1]), Data(x=[192, 778], edge_index=[2, 191], y=[1]), Data(x=[66, 778], edge_index=[2, 65], y=[1]), Data(x=[184, 778], edge_index=[2, 183], y=[1]), Data(x=[22, 778], edge_index=[2, 21], y=[1]), Data(x=[152, 778], edge_index=[2, 151], y=[1]), Data(x=[8, 778], edge_index=[2, 7], y=[1]), Data(x=[102, 778], edge_index=[2, 101], y=[1]), Data(x=[86, 778], edge_index=[2, 85], y=[1]), Data(x=[108, 778], edge_index=[2, 107], y=[1]), Data(x=[30, 778], edge_index=[2, 29], y=[1]), Data(x=[118, 778], edge_index=[2, 117], y=[1]), Data(x=[93, 778], edge_index=[2, 92], y=[1]), Data(x=[36, 778], edge_index=[2, 35], y=[1]), Data(x=[95, 778], edge_index=[2, 94], y=[1]), Data(x=[18, 778], edge_index=[2, 17], y=[1]), Data(x=[92, 778], edge_index=[2, 91], y=[1]), Data(x=[73, 778], edge_index=[2, 72], y=[1]), Data(x=[24, 778], edge_index=[2, 23], y=[1]), Data(x=[64, 778], edge_index=[2, 63], y=[1]), Data(x=[22, 778], edge_index=[2, 21], y=[1]), Data(x=[98, 778], edge_index=[2, 97], y=[1]), Data(x=[68, 778], edge_index=[2, 67], y=[1]), Data(x=[25, 778], edge_index=[2, 24], y=[1]), Data(x=[37, 778], edge_index=[2, 36], y=[1]), Data(x=[16, 778], edge_index=[2, 15], y=[1]), Data(x=[91, 778], edge_index=[2, 90], y=[1]), Data(x=[14, 778], edge_index=[2, 13], y=[1]), Data(x=[150, 778], edge_index=[2, 149], y=[1]), Data(x=[79, 778], edge_index=[2, 78], y=[1]), Data(x=[77, 778], edge_index=[2, 76], y=[1]), Data(x=[74, 778], edge_index=[2, 73], y=[1]), Data(x=[22, 778], edge_index=[2, 21], y=[1]), Data(x=[136, 778], edge_index=[2, 135], y=[1]), Data(x=[60, 778], edge_index=[2, 59], y=[1]), Data(x=[61, 778], edge_index=[2, 60], y=[1]), Data(x=[3, 778], edge_index=[2, 2], y=[1]), Data(x=[50, 778], edge_index=[2, 49], y=[1]), Data(x=[74, 778], edge_index=[2, 73], y=[1]), Data(x=[31, 778], edge_index=[2, 30], y=[1]), Data(x=[45, 778], edge_index=[2, 44], y=[1]), Data(x=[21, 778], edge_index=[2, 20], y=[1]), Data(x=[63, 778], edge_index=[2, 62], y=[1]), Data(x=[35, 778], edge_index=[2, 34], y=[1]), Data(x=[8, 778], edge_index=[2, 7], y=[1]), Data(x=[84, 778], edge_index=[2, 83], y=[1]), Data(x=[14, 778], edge_index=[2, 13], y=[1]), Data(x=[16, 778], edge_index=[2, 15], y=[1]), Data(x=[40, 778], edge_index=[2, 39], y=[1]), Data(x=[12, 778], edge_index=[2, 11], y=[1]), Data(x=[64, 778], edge_index=[2, 63], y=[1]), Data(x=[134, 778], edge_index=[2, 133], y=[1]), Data(x=[30, 778], edge_index=[2, 29], y=[1]), Data(x=[72, 778], edge_index=[2, 71], y=[1]), Data(x=[50, 778], edge_index=[2, 49], y=[1]), Data(x=[3, 778], edge_index=[2, 2], y=[1]), Data(x=[52, 778], edge_index=[2, 51], y=[1]), Data(x=[35, 778], edge_index=[2, 34], y=[1]), Data(x=[76, 778], edge_index=[2, 75], y=[1]), Data(x=[127, 778], edge_index=[2, 126], y=[1]), Data(x=[14, 778], edge_index=[2, 13], y=[1]), Data(x=[47, 778], edge_index=[2, 46], y=[1]), Data(x=[43, 778], edge_index=[2, 42], y=[1]), Data(x=[8, 778], edge_index=[2, 7], y=[1]), Data(x=[61, 778], edge_index=[2, 60], y=[1]), Data(x=[12, 778], edge_index=[2, 11], y=[1]), Data(x=[125, 778], edge_index=[2, 124], y=[1]), Data(x=[38, 778], edge_index=[2, 37], y=[1]), Data(x=[8, 778], edge_index=[2, 7], y=[1]), Data(x=[103, 778], edge_index=[2, 102], y=[1]), Data(x=[93, 778], edge_index=[2, 92], y=[1]), Data(x=[17, 778], edge_index=[2, 16], y=[1]), Data(x=[63, 778], edge_index=[2, 62], y=[1]), Data(x=[16, 778], edge_index=[2, 15], y=[1]), Data(x=[76, 778], edge_index=[2, 75], y=[1]), Data(x=[19, 778], edge_index=[2, 18], y=[1]), Data(x=[45, 778], edge_index=[2, 44], y=[1]), Data(x=[92, 778], edge_index=[2, 91], y=[1]), Data(x=[21, 778], edge_index=[2, 20], y=[1]), Data(x=[96, 778], edge_index=[2, 95], y=[1]), Data(x=[27, 778], edge_index=[2, 26], y=[1]), Data(x=[33, 778], edge_index=[2, 32], y=[1]), Data(x=[171, 778], edge_index=[2, 170], y=[1]), Data(x=[28, 778], edge_index=[2, 27], y=[1]), Data(x=[77, 778], edge_index=[2, 76], y=[1]), Data(x=[171, 778], edge_index=[2, 170], y=[1]), Data(x=[23, 778], edge_index=[2, 22], y=[1]), Data(x=[64, 778], edge_index=[2, 63], y=[1]), Data(x=[70, 778], edge_index=[2, 69], y=[1]), Data(x=[7, 778], edge_index=[2, 6], y=[1]), Data(x=[20, 778], edge_index=[2, 19], y=[1]), Data(x=[43, 778], edge_index=[2, 42], y=[1]), Data(x=[21, 778], edge_index=[2, 20], y=[1]), Data(x=[49, 778], edge_index=[2, 48], y=[1]), Data(x=[26, 778], edge_index=[2, 25], y=[1]), Data(x=[8, 778], edge_index=[2, 7], y=[1]), Data(x=[7, 778], edge_index=[2, 6], y=[1]), Data(x=[12, 778], edge_index=[2, 11], y=[1]), Data(x=[73, 778], edge_index=[2, 72], y=[1]), Data(x=[8, 778], edge_index=[2, 7], y=[1]), Data(x=[89, 778], edge_index=[2, 88], y=[1]), Data(x=[8, 778], edge_index=[2, 7], y=[1]), Data(x=[8, 778], edge_index=[2, 7], y=[1]), Data(x=[27, 778], edge_index=[2, 26], y=[1]), Data(x=[86, 778], edge_index=[2, 85], y=[1]), Data(x=[13, 778], edge_index=[2, 12], y=[1]), Data(x=[130, 778], edge_index=[2, 129], y=[1]), Data(x=[57, 778], edge_index=[2, 56], y=[1]), Data(x=[84, 778], edge_index=[2, 83], y=[1]), Data(x=[167, 778], edge_index=[2, 166], y=[1]), Data(x=[27, 778], edge_index=[2, 26], y=[1]), Data(x=[31, 778], edge_index=[2, 30], y=[1]), Data(x=[27, 778], edge_index=[2, 26], y=[1]), Data(x=[6, 778], edge_index=[2, 5], y=[1]), Data(x=[47, 778], edge_index=[2, 46], y=[1]), Data(x=[68, 778], edge_index=[2, 67], y=[1]), Data(x=[12, 778], edge_index=[2, 11], y=[1]), Data(x=[58, 778], edge_index=[2, 57], y=[1]), Data(x=[96, 778], edge_index=[2, 95], y=[1]), Data(x=[68, 778], edge_index=[2, 67], y=[1]), Data(x=[47, 778], edge_index=[2, 46], y=[1]), Data(x=[94, 778], edge_index=[2, 93], y=[1]), Data(x=[87, 778], edge_index=[2, 86], y=[1]), Data(x=[20, 778], edge_index=[2, 19], y=[1]), Data(x=[70, 778], edge_index=[2, 69], y=[1]), Data(x=[43, 778], edge_index=[2, 42], y=[1]), Data(x=[177, 778], edge_index=[2, 176], y=[1]), Data(x=[80, 778], edge_index=[2, 79], y=[1]), Data(x=[18, 778], edge_index=[2, 17], y=[1]), Data(x=[11, 778], edge_index=[2, 10], y=[1]), Data(x=[46, 778], edge_index=[2, 45], y=[1]), Data(x=[73, 778], edge_index=[2, 72], y=[1]), Data(x=[63, 778], edge_index=[2, 62], y=[1]), Data(x=[23, 778], edge_index=[2, 22], y=[1]), Data(x=[31, 778], edge_index=[2, 30], y=[1]), Data(x=[33, 778], edge_index=[2, 32], y=[1]), Data(x=[77, 778], edge_index=[2, 76], y=[1]), Data(x=[43, 778], edge_index=[2, 42], y=[1]), Data(x=[21, 778], edge_index=[2, 20], y=[1]), Data(x=[57, 778], edge_index=[2, 56], y=[1]), Data(x=[51, 778], edge_index=[2, 50], y=[1]), Data(x=[9, 778], edge_index=[2, 8], y=[1]), Data(x=[114, 778], edge_index=[2, 113], y=[1]), Data(x=[18, 778], edge_index=[2, 17], y=[1]), Data(x=[7, 778], edge_index=[2, 6], y=[1]), Data(x=[84, 778], edge_index=[2, 83], y=[1]), Data(x=[58, 778], edge_index=[2, 57], y=[1]), Data(x=[92, 778], edge_index=[2, 91], y=[1]), Data(x=[8, 778], edge_index=[2, 7], y=[1]), Data(x=[80, 778], edge_index=[2, 79], y=[1]), Data(x=[83, 778], edge_index=[2, 82], y=[1]), Data(x=[10, 778], edge_index=[2, 9], y=[1]), Data(x=[35, 778], edge_index=[2, 34], y=[1]), Data(x=[57, 778], edge_index=[2, 56], y=[1]), Data(x=[65, 778], edge_index=[2, 64], y=[1]), Data(x=[133, 778], edge_index=[2, 132], y=[1]), Data(x=[51, 778], edge_index=[2, 50], y=[1]), Data(x=[65, 778], edge_index=[2, 64], y=[1]), Data(x=[108, 778], edge_index=[2, 107], y=[1]), Data(x=[111, 778], edge_index=[2, 110], y=[1]), Data(x=[73, 778], edge_index=[2, 72], y=[1]), Data(x=[36, 778], edge_index=[2, 35], y=[1]), Data(x=[135, 778], edge_index=[2, 134], y=[1]), Data(x=[16, 778], edge_index=[2, 15], y=[1]), Data(x=[79, 778], edge_index=[2, 78], y=[1]), Data(x=[54, 778], edge_index=[2, 53], y=[1]), Data(x=[8, 778], edge_index=[2, 7], y=[1]), Data(x=[28, 778], edge_index=[2, 27], y=[1]), Data(x=[28, 778], edge_index=[2, 27], y=[1]), Data(x=[38, 778], edge_index=[2, 37], y=[1]), Data(x=[3, 778], edge_index=[2, 2], y=[1]), Data(x=[30, 778], edge_index=[2, 29], y=[1]), Data(x=[8, 778], edge_index=[2, 7], y=[1]), Data(x=[146, 778], edge_index=[2, 145], y=[1]), Data(x=[54, 778], edge_index=[2, 53], y=[1]), Data(x=[104, 778], edge_index=[2, 103], y=[1]), Data(x=[91, 778], edge_index=[2, 90], y=[1]), Data(x=[17, 778], edge_index=[2, 16], y=[1]), Data(x=[141, 778], edge_index=[2, 140], y=[1]), Data(x=[51, 778], edge_index=[2, 50], y=[1]), Data(x=[80, 778], edge_index=[2, 79], y=[1]), Data(x=[89, 778], edge_index=[2, 88], y=[1]), Data(x=[56, 778], edge_index=[2, 55], y=[1]), Data(x=[108, 778], edge_index=[2, 107], y=[1]), Data(x=[31, 778], edge_index=[2, 30], y=[1]), Data(x=[71, 778], edge_index=[2, 70], y=[1]), Data(x=[51, 778], edge_index=[2, 50], y=[1]), Data(x=[154, 778], edge_index=[2, 153], y=[1]), Data(x=[84, 778], edge_index=[2, 83], y=[1]), Data(x=[51, 778], edge_index=[2, 50], y=[1]), Data(x=[92, 778], edge_index=[2, 91], y=[1]), Data(x=[7, 778], edge_index=[2, 6], y=[1]), Data(x=[72, 778], edge_index=[2, 71], y=[1]), Data(x=[43, 778], edge_index=[2, 42], y=[1]), Data(x=[111, 778], edge_index=[2, 110], y=[1]), Data(x=[21, 778], edge_index=[2, 20], y=[1]), Data(x=[144, 778], edge_index=[2, 143], y=[1]), Data(x=[16, 778], edge_index=[2, 15], y=[1]), Data(x=[96, 778], edge_index=[2, 95], y=[1]), Data(x=[20, 778], edge_index=[2, 19], y=[1]), Data(x=[56, 778], edge_index=[2, 55], y=[1]), Data(x=[186, 778], edge_index=[2, 185], y=[1]), Data(x=[17, 778], edge_index=[2, 16], y=[1]), Data(x=[12, 778], edge_index=[2, 11], y=[1]), Data(x=[26, 778], edge_index=[2, 25], y=[1]), Data(x=[113, 778], edge_index=[2, 112], y=[1]), Data(x=[9, 778], edge_index=[2, 8], y=[1]), Data(x=[15, 778], edge_index=[2, 14], y=[1]), Data(x=[14, 778], edge_index=[2, 13], y=[1]), Data(x=[65, 778], edge_index=[2, 64], y=[1]), Data(x=[74, 778], edge_index=[2, 73], y=[1]), Data(x=[133, 778], edge_index=[2, 132], y=[1]), Data(x=[73, 778], edge_index=[2, 72], y=[1]), Data(x=[192, 778], edge_index=[2, 191], y=[1]), Data(x=[52, 778], edge_index=[2, 51], y=[1]), Data(x=[42, 778], edge_index=[2, 41], y=[1]), Data(x=[80, 778], edge_index=[2, 79], y=[1]), Data(x=[96, 778], edge_index=[2, 95], y=[1]), Data(x=[66, 778], edge_index=[2, 65], y=[1]), Data(x=[101, 778], edge_index=[2, 100], y=[1]), Data(x=[9, 778], edge_index=[2, 8], y=[1]), Data(x=[12, 778], edge_index=[2, 11], y=[1]), Data(x=[14, 778], edge_index=[2, 13], y=[1]), Data(x=[18, 778], edge_index=[2, 17], y=[1]), Data(x=[87, 778], edge_index=[2, 86], y=[1]), Data(x=[49, 778], edge_index=[2, 48], y=[1]), Data(x=[113, 778], edge_index=[2, 112], y=[1]), Data(x=[139, 778], edge_index=[2, 138], y=[1]), Data(x=[175, 778], edge_index=[2, 174], y=[1]), Data(x=[167, 778], edge_index=[2, 166], y=[1]), Data(x=[18, 778], edge_index=[2, 17], y=[1]), Data(x=[8, 778], edge_index=[2, 7], y=[1]), Data(x=[175, 778], edge_index=[2, 174], y=[1]), Data(x=[21, 778], edge_index=[2, 20], y=[1]), Data(x=[78, 778], edge_index=[2, 77], y=[1]), Data(x=[24, 778], edge_index=[2, 23], y=[1]), Data(x=[23, 778], edge_index=[2, 22], y=[1]), Data(x=[28, 778], edge_index=[2, 27], y=[1]), Data(x=[42, 778], edge_index=[2, 41], y=[1]), Data(x=[53, 778], edge_index=[2, 52], y=[1]), Data(x=[117, 778], edge_index=[2, 116], y=[1]), Data(x=[43, 778], edge_index=[2, 42], y=[1]), Data(x=[69, 778], edge_index=[2, 68], y=[1]), Data(x=[21, 778], edge_index=[2, 20], y=[1]), Data(x=[25, 778], edge_index=[2, 24], y=[1]), Data(x=[151, 778], edge_index=[2, 150], y=[1]), Data(x=[8, 778], edge_index=[2, 7], y=[1]), Data(x=[101, 778], edge_index=[2, 100], y=[1]), Data(x=[94, 778], edge_index=[2, 93], y=[1]), Data(x=[9, 778], edge_index=[2, 8], y=[1]), Data(x=[60, 778], edge_index=[2, 59], y=[1]), Data(x=[152, 778], edge_index=[2, 151], y=[1]), Data(x=[29, 778], edge_index=[2, 28], y=[1]), Data(x=[42, 778], edge_index=[2, 41], y=[1]), Data(x=[60, 778], edge_index=[2, 59], y=[1]), Data(x=[8, 778], edge_index=[2, 7], y=[1]), Data(x=[98, 778], edge_index=[2, 97], y=[1]), Data(x=[89, 778], edge_index=[2, 88], y=[1]), Data(x=[74, 778], edge_index=[2, 73], y=[1]), Data(x=[41, 778], edge_index=[2, 40], y=[1]), Data(x=[138, 778], edge_index=[2, 137], y=[1]), Data(x=[183, 778], edge_index=[2, 182], y=[1]), Data(x=[91, 778], edge_index=[2, 90], y=[1]), Data(x=[18, 778], edge_index=[2, 17], y=[1]), Data(x=[19, 778], edge_index=[2, 18], y=[1]), Data(x=[48, 778], edge_index=[2, 47], y=[1]), Data(x=[40, 778], edge_index=[2, 39], y=[1]), Data(x=[40, 778], edge_index=[2, 39], y=[1]), Data(x=[52, 778], edge_index=[2, 51], y=[1]), Data(x=[19, 778], edge_index=[2, 18], y=[1]), Data(x=[41, 778], edge_index=[2, 40], y=[1]), Data(x=[25, 778], edge_index=[2, 24], y=[1]), Data(x=[62, 778], edge_index=[2, 61], y=[1]), Data(x=[151, 778], edge_index=[2, 150], y=[1]), Data(x=[44, 778], edge_index=[2, 43], y=[1]), Data(x=[51, 778], edge_index=[2, 50], y=[1]), Data(x=[107, 778], edge_index=[2, 106], y=[1]), Data(x=[151, 778], edge_index=[2, 150], y=[1]), Data(x=[62, 778], edge_index=[2, 61], y=[1]), Data(x=[173, 778], edge_index=[2, 172], y=[1]), Data(x=[26, 778], edge_index=[2, 25], y=[1]), Data(x=[85, 778], edge_index=[2, 84], y=[1]), Data(x=[68, 778], edge_index=[2, 67], y=[1]), Data(x=[7, 778], edge_index=[2, 6], y=[1]), Data(x=[28, 778], edge_index=[2, 27], y=[1]), Data(x=[10, 778], edge_index=[2, 9], y=[1]), Data(x=[17, 778], edge_index=[2, 16], y=[1]), Data(x=[85, 778], edge_index=[2, 84], y=[1]), Data(x=[65, 778], edge_index=[2, 64], y=[1]), Data(x=[11, 778], edge_index=[2, 10], y=[1]), Data(x=[59, 778], edge_index=[2, 58], y=[1]), Data(x=[110, 778], edge_index=[2, 109], y=[1]), Data(x=[52, 778], edge_index=[2, 51], y=[1]), Data(x=[33, 778], edge_index=[2, 32], y=[1]), Data(x=[22, 778], edge_index=[2, 21], y=[1]), Data(x=[25, 778], edge_index=[2, 24], y=[1]), Data(x=[5, 778], edge_index=[2, 4], y=[1]), Data(x=[8, 778], edge_index=[2, 7], y=[1]), Data(x=[72, 778], edge_index=[2, 71], y=[1]), Data(x=[142, 778], edge_index=[2, 141], y=[1]), Data(x=[45, 778], edge_index=[2, 44], y=[1]), Data(x=[58, 778], edge_index=[2, 57], y=[1]), Data(x=[28, 778], edge_index=[2, 27], y=[1]), Data(x=[18, 778], edge_index=[2, 17], y=[1]), Data(x=[71, 778], edge_index=[2, 70], y=[1]), Data(x=[64, 778], edge_index=[2, 63], y=[1]), Data(x=[124, 778], edge_index=[2, 123], y=[1]), Data(x=[62, 778], edge_index=[2, 61], y=[1]), Data(x=[11, 778], edge_index=[2, 10], y=[1]), Data(x=[13, 778], edge_index=[2, 12], y=[1]), Data(x=[11, 778], edge_index=[2, 10], y=[1]), Data(x=[9, 778], edge_index=[2, 8], y=[1]), Data(x=[88, 778], edge_index=[2, 87], y=[1]), Data(x=[102, 778], edge_index=[2, 101], y=[1]), Data(x=[32, 778], edge_index=[2, 31], y=[1]), Data(x=[95, 778], edge_index=[2, 94], y=[1]), Data(x=[9, 778], edge_index=[2, 8], y=[1]), Data(x=[137, 778], edge_index=[2, 136], y=[1]), Data(x=[68, 778], edge_index=[2, 67], y=[1]), Data(x=[136, 778], edge_index=[2, 135], y=[1]), Data(x=[4, 778], edge_index=[2, 3], y=[1]), Data(x=[7, 778], edge_index=[2, 6], y=[1]), Data(x=[5, 778], edge_index=[2, 4], y=[1]), Data(x=[61, 778], edge_index=[2, 60], y=[1]), Data(x=[3, 778], edge_index=[2, 2], y=[1]), Data(x=[76, 778], edge_index=[2, 75], y=[1]), Data(x=[103, 778], edge_index=[2, 102], y=[1]), Data(x=[60, 778], edge_index=[2, 59], y=[1]), Data(x=[30, 778], edge_index=[2, 29], y=[1]), Data(x=[146, 778], edge_index=[2, 145], y=[1]), Data(x=[139, 778], edge_index=[2, 138], y=[1]), Data(x=[11, 778], edge_index=[2, 10], y=[1]), Data(x=[33, 778], edge_index=[2, 32], y=[1]), Data(x=[27, 778], edge_index=[2, 26], y=[1]), Data(x=[67, 778], edge_index=[2, 66], y=[1]), Data(x=[76, 778], edge_index=[2, 75], y=[1]), Data(x=[50, 778], edge_index=[2, 49], y=[1]), Data(x=[141, 778], edge_index=[2, 140], y=[1]), Data(x=[6, 778], edge_index=[2, 5], y=[1]), Data(x=[7, 778], edge_index=[2, 6], y=[1]), Data(x=[10, 778], edge_index=[2, 9], y=[1]), Data(x=[61, 778], edge_index=[2, 60], y=[1]), Data(x=[78, 778], edge_index=[2, 77], y=[1]), Data(x=[74, 778], edge_index=[2, 73], y=[1]), Data(x=[9, 778], edge_index=[2, 8], y=[1]), Data(x=[79, 778], edge_index=[2, 78], y=[1]), Data(x=[55, 778], edge_index=[2, 54], y=[1]), Data(x=[58, 778], edge_index=[2, 57], y=[1]), Data(x=[3, 778], edge_index=[2, 2], y=[1]), Data(x=[54, 778], edge_index=[2, 53], y=[1]), Data(x=[88, 778], edge_index=[2, 87], y=[1]), Data(x=[103, 778], edge_index=[2, 102], y=[1]), Data(x=[44, 778], edge_index=[2, 43], y=[1]), Data(x=[76, 778], edge_index=[2, 75], y=[1]), Data(x=[28, 778], edge_index=[2, 27], y=[1]), Data(x=[3, 778], edge_index=[2, 2], y=[1]), Data(x=[5, 778], edge_index=[2, 4], y=[1]), Data(x=[42, 778], edge_index=[2, 41], y=[1]), Data(x=[15, 778], edge_index=[2, 14], y=[1]), Data(x=[6, 778], edge_index=[2, 5], y=[1]), Data(x=[12, 778], edge_index=[2, 11], y=[1]), Data(x=[22, 778], edge_index=[2, 21], y=[1]), Data(x=[128, 778], edge_index=[2, 127], y=[1]), Data(x=[53, 778], edge_index=[2, 52], y=[1]), Data(x=[31, 778], edge_index=[2, 30], y=[1]), Data(x=[75, 778], edge_index=[2, 74], y=[1]), Data(x=[103, 778], edge_index=[2, 102], y=[1]), Data(x=[41, 778], edge_index=[2, 40], y=[1]), Data(x=[56, 778], edge_index=[2, 55], y=[1]), Data(x=[55, 778], edge_index=[2, 54], y=[1]), Data(x=[78, 778], edge_index=[2, 77], y=[1]), Data(x=[41, 778], edge_index=[2, 40], y=[1]), Data(x=[23, 778], edge_index=[2, 22], y=[1]), Data(x=[9, 778], edge_index=[2, 8], y=[1]), Data(x=[79, 778], edge_index=[2, 78], y=[1]), Data(x=[114, 778], edge_index=[2, 113], y=[1]), Data(x=[77, 778], edge_index=[2, 76], y=[1]), Data(x=[8, 778], edge_index=[2, 7], y=[1]), Data(x=[93, 778], edge_index=[2, 92], y=[1]), Data(x=[162, 778], edge_index=[2, 161], y=[1]), Data(x=[47, 778], edge_index=[2, 46], y=[1]), Data(x=[33, 778], edge_index=[2, 32], y=[1]), Data(x=[42, 778], edge_index=[2, 41], y=[1]), Data(x=[27, 778], edge_index=[2, 26], y=[1]), Data(x=[97, 778], edge_index=[2, 96], y=[1]), Data(x=[80, 778], edge_index=[2, 79], y=[1]), Data(x=[37, 778], edge_index=[2, 36], y=[1]), Data(x=[53, 778], edge_index=[2, 52], y=[1]), Data(x=[7, 778], edge_index=[2, 6], y=[1]), Data(x=[21, 778], edge_index=[2, 20], y=[1]), Data(x=[20, 778], edge_index=[2, 19], y=[1]), Data(x=[6, 778], edge_index=[2, 5], y=[1]), Data(x=[30, 778], edge_index=[2, 29], y=[1]), Data(x=[16, 778], edge_index=[2, 15], y=[1]), Data(x=[20, 778], edge_index=[2, 19], y=[1]), Data(x=[91, 778], edge_index=[2, 90], y=[1]), Data(x=[18, 778], edge_index=[2, 17], y=[1]), Data(x=[116, 778], edge_index=[2, 115], y=[1]), Data(x=[18, 778], edge_index=[2, 17], y=[1]), Data(x=[48, 778], edge_index=[2, 47], y=[1]), Data(x=[34, 778], edge_index=[2, 33], y=[1]), Data(x=[15, 778], edge_index=[2, 14], y=[1]), Data(x=[54, 778], edge_index=[2, 53], y=[1]), Data(x=[17, 778], edge_index=[2, 16], y=[1]), Data(x=[88, 778], edge_index=[2, 87], y=[1]), Data(x=[7, 778], edge_index=[2, 6], y=[1]), Data(x=[26, 778], edge_index=[2, 25], y=[1]), Data(x=[5, 778], edge_index=[2, 4], y=[1]), Data(x=[34, 778], edge_index=[2, 33], y=[1]), Data(x=[7, 778], edge_index=[2, 6], y=[1]), Data(x=[23, 778], edge_index=[2, 22], y=[1]), Data(x=[111, 778], edge_index=[2, 110], y=[1]), Data(x=[69, 778], edge_index=[2, 68], y=[1]), Data(x=[23, 778], edge_index=[2, 22], y=[1]), Data(x=[108, 778], edge_index=[2, 107], y=[1]), Data(x=[16, 778], edge_index=[2, 15], y=[1]), Data(x=[36, 778], edge_index=[2, 35], y=[1]), Data(x=[45, 778], edge_index=[2, 44], y=[1]), Data(x=[6, 778], edge_index=[2, 5], y=[1]), Data(x=[25, 778], edge_index=[2, 24], y=[1]), Data(x=[41, 778], edge_index=[2, 40], y=[1]), Data(x=[30, 778], edge_index=[2, 29], y=[1]), Data(x=[115, 778], edge_index=[2, 114], y=[1]), Data(x=[7, 778], edge_index=[2, 6], y=[1]), Data(x=[71, 778], edge_index=[2, 70], y=[1]), Data(x=[10, 778], edge_index=[2, 9], y=[1]), Data(x=[5, 778], edge_index=[2, 4], y=[1]), Data(x=[36, 778], edge_index=[2, 35], y=[1]), Data(x=[121, 778], edge_index=[2, 120], y=[1]), Data(x=[83, 778], edge_index=[2, 82], y=[1]), Data(x=[51, 778], edge_index=[2, 50], y=[1]), Data(x=[61, 778], edge_index=[2, 60], y=[1]), Data(x=[40, 778], edge_index=[2, 39], y=[1]), Data(x=[20, 778], edge_index=[2, 19], y=[1]), Data(x=[12, 778], edge_index=[2, 11], y=[1]), Data(x=[73, 778], edge_index=[2, 72], y=[1]), Data(x=[11, 778], edge_index=[2, 10], y=[1]), Data(x=[15, 778], edge_index=[2, 14], y=[1]), Data(x=[67, 778], edge_index=[2, 66], y=[1]), Data(x=[20, 778], edge_index=[2, 19], y=[1]), Data(x=[160, 778], edge_index=[2, 159], y=[1]), Data(x=[64, 778], edge_index=[2, 63], y=[1]), Data(x=[9, 778], edge_index=[2, 8], y=[1]), Data(x=[16, 778], edge_index=[2, 15], y=[1]), Data(x=[10, 778], edge_index=[2, 9], y=[1]), Data(x=[13, 778], edge_index=[2, 12], y=[1]), Data(x=[86, 778], edge_index=[2, 85], y=[1]), Data(x=[21, 778], edge_index=[2, 20], y=[1]), Data(x=[9, 778], edge_index=[2, 8], y=[1]), Data(x=[76, 778], edge_index=[2, 75], y=[1]), Data(x=[84, 778], edge_index=[2, 83], y=[1]), Data(x=[14, 778], edge_index=[2, 13], y=[1]), Data(x=[89, 778], edge_index=[2, 88], y=[1]), Data(x=[11, 778], edge_index=[2, 10], y=[1]), Data(x=[110, 778], edge_index=[2, 109], y=[1]), Data(x=[8, 778], edge_index=[2, 7], y=[1]), Data(x=[162, 778], edge_index=[2, 161], y=[1]), Data(x=[28, 778], edge_index=[2, 27], y=[1]), Data(x=[76, 778], edge_index=[2, 75], y=[1]), Data(x=[95, 778], edge_index=[2, 94], y=[1]), Data(x=[7, 778], edge_index=[2, 6], y=[1]), Data(x=[45, 778], edge_index=[2, 44], y=[1]), Data(x=[85, 778], edge_index=[2, 84], y=[1]), Data(x=[53, 778], edge_index=[2, 52], y=[1]), Data(x=[155, 778], edge_index=[2, 154], y=[1]), Data(x=[83, 778], edge_index=[2, 82], y=[1]), Data(x=[7, 778], edge_index=[2, 6], y=[1]), Data(x=[23, 778], edge_index=[2, 22], y=[1]), Data(x=[23, 778], edge_index=[2, 22], y=[1]), Data(x=[14, 778], edge_index=[2, 13], y=[1]), Data(x=[164, 778], edge_index=[2, 163], y=[1]), Data(x=[61, 778], edge_index=[2, 60], y=[1]), Data(x=[117, 778], edge_index=[2, 116], y=[1]), Data(x=[19, 778], edge_index=[2, 18], y=[1]), Data(x=[86, 778], edge_index=[2, 85], y=[1]), Data(x=[12, 778], edge_index=[2, 11], y=[1]), Data(x=[13, 778], edge_index=[2, 12], y=[1]), Data(x=[132, 778], edge_index=[2, 131], y=[1]), Data(x=[23, 778], edge_index=[2, 22], y=[1]), Data(x=[105, 778], edge_index=[2, 104], y=[1]), Data(x=[87, 778], edge_index=[2, 86], y=[1]), Data(x=[20, 778], edge_index=[2, 19], y=[1]), Data(x=[80, 778], edge_index=[2, 79], y=[1]), Data(x=[8, 778], edge_index=[2, 7], y=[1]), Data(x=[62, 778], edge_index=[2, 61], y=[1]), Data(x=[46, 778], edge_index=[2, 45], y=[1]), Data(x=[45, 778], edge_index=[2, 44], y=[1]), Data(x=[80, 778], edge_index=[2, 79], y=[1]), Data(x=[41, 778], edge_index=[2, 40], y=[1]), Data(x=[63, 778], edge_index=[2, 62], y=[1]), Data(x=[20, 778], edge_index=[2, 19], y=[1]), Data(x=[59, 778], edge_index=[2, 58], y=[1]), Data(x=[58, 778], edge_index=[2, 57], y=[1]), Data(x=[13, 778], edge_index=[2, 12], y=[1]), Data(x=[91, 778], edge_index=[2, 90], y=[1]), Data(x=[44, 778], edge_index=[2, 43], y=[1]), Data(x=[102, 778], edge_index=[2, 101], y=[1]), Data(x=[86, 778], edge_index=[2, 85], y=[1]), Data(x=[96, 778], edge_index=[2, 95], y=[1]), Data(x=[45, 778], edge_index=[2, 44], y=[1]), Data(x=[56, 778], edge_index=[2, 55], y=[1]), Data(x=[14, 778], edge_index=[2, 13], y=[1]), Data(x=[7, 778], edge_index=[2, 6], y=[1]), Data(x=[126, 778], edge_index=[2, 125], y=[1]), Data(x=[7, 778], edge_index=[2, 6], y=[1]), Data(x=[41, 778], edge_index=[2, 40], y=[1]), Data(x=[49, 778], edge_index=[2, 48], y=[1]), Data(x=[5, 778], edge_index=[2, 4], y=[1]), Data(x=[5, 778], edge_index=[2, 4], y=[1]), Data(x=[138, 778], edge_index=[2, 137], y=[1]), Data(x=[14, 778], edge_index=[2, 13], y=[1]), Data(x=[39, 778], edge_index=[2, 38], y=[1]), Data(x=[102, 778], edge_index=[2, 101], y=[1]), Data(x=[65, 778], edge_index=[2, 64], y=[1]), Data(x=[39, 778], edge_index=[2, 38], y=[1]), Data(x=[52, 778], edge_index=[2, 51], y=[1]), Data(x=[83, 778], edge_index=[2, 82], y=[1]), Data(x=[91, 778], edge_index=[2, 90], y=[1]), Data(x=[45, 778], edge_index=[2, 44], y=[1]), Data(x=[20, 778], edge_index=[2, 19], y=[1]), Data(x=[16, 778], edge_index=[2, 15], y=[1]), Data(x=[58, 778], edge_index=[2, 57], y=[1]), Data(x=[167, 778], edge_index=[2, 166], y=[1]), Data(x=[12, 778], edge_index=[2, 11], y=[1]), Data(x=[170, 778], edge_index=[2, 169], y=[1]), Data(x=[46, 778], edge_index=[2, 45], y=[1]), Data(x=[28, 778], edge_index=[2, 27], y=[1]), Data(x=[44, 778], edge_index=[2, 43], y=[1]), Data(x=[18, 778], edge_index=[2, 17], y=[1]), Data(x=[4, 778], edge_index=[2, 3], y=[1]), Data(x=[8, 778], edge_index=[2, 7], y=[1]), Data(x=[85, 778], edge_index=[2, 84], y=[1]), Data(x=[59, 778], edge_index=[2, 58], y=[1]), Data(x=[47, 778], edge_index=[2, 46], y=[1]), Data(x=[31, 778], edge_index=[2, 30], y=[1]), Data(x=[55, 778], edge_index=[2, 54], y=[1]), Data(x=[24, 778], edge_index=[2, 23], y=[1]), Data(x=[16, 778], edge_index=[2, 15], y=[1]), Data(x=[164, 778], edge_index=[2, 163], y=[1]), Data(x=[94, 778], edge_index=[2, 93], y=[1]), Data(x=[93, 778], edge_index=[2, 92], y=[1]), Data(x=[39, 778], edge_index=[2, 38], y=[1]), Data(x=[48, 778], edge_index=[2, 47], y=[1]), Data(x=[49, 778], edge_index=[2, 48], y=[1]), Data(x=[58, 778], edge_index=[2, 57], y=[1]), Data(x=[27, 778], edge_index=[2, 26], y=[1]), Data(x=[71, 778], edge_index=[2, 70], y=[1]), Data(x=[126, 778], edge_index=[2, 125], y=[1]), Data(x=[117, 778], edge_index=[2, 116], y=[1]), Data(x=[4, 778], edge_index=[2, 3], y=[1]), Data(x=[8, 778], edge_index=[2, 7], y=[1]), Data(x=[88, 778], edge_index=[2, 87], y=[1]), Data(x=[64, 778], edge_index=[2, 63], y=[1]), Data(x=[48, 778], edge_index=[2, 47], y=[1]), Data(x=[14, 778], edge_index=[2, 13], y=[1]), Data(x=[52, 778], edge_index=[2, 51], y=[1]), Data(x=[165, 778], edge_index=[2, 164], y=[1]), Data(x=[64, 778], edge_index=[2, 63], y=[1]), Data(x=[189, 778], edge_index=[2, 188], y=[1]), Data(x=[111, 778], edge_index=[2, 110], y=[1]), Data(x=[21, 778], edge_index=[2, 20], y=[1]), Data(x=[113, 778], edge_index=[2, 112], y=[1]), Data(x=[59, 778], edge_index=[2, 58], y=[1]), Data(x=[10, 778], edge_index=[2, 9], y=[1]), Data(x=[11, 778], edge_index=[2, 10], y=[1]), Data(x=[55, 778], edge_index=[2, 54], y=[1]), Data(x=[62, 778], edge_index=[2, 61], y=[1]), Data(x=[10, 778], edge_index=[2, 9], y=[1]), Data(x=[189, 778], edge_index=[2, 188], y=[1]), Data(x=[141, 778], edge_index=[2, 140], y=[1]), Data(x=[32, 778], edge_index=[2, 31], y=[1]), Data(x=[73, 778], edge_index=[2, 72], y=[1]), Data(x=[134, 778], edge_index=[2, 133], y=[1]), Data(x=[45, 778], edge_index=[2, 44], y=[1]), Data(x=[182, 778], edge_index=[2, 181], y=[1]), Data(x=[27, 778], edge_index=[2, 26], y=[1]), Data(x=[16, 778], edge_index=[2, 15], y=[1]), Data(x=[106, 778], edge_index=[2, 105], y=[1]), Data(x=[74, 778], edge_index=[2, 73], y=[1]), Data(x=[24, 778], edge_index=[2, 23], y=[1]), Data(x=[25, 778], edge_index=[2, 24], y=[1]), Data(x=[111, 778], edge_index=[2, 110], y=[1]), Data(x=[181, 778], edge_index=[2, 180], y=[1]), Data(x=[8, 778], edge_index=[2, 7], y=[1]), Data(x=[23, 778], edge_index=[2, 22], y=[1]), Data(x=[149, 778], edge_index=[2, 148], y=[1]), Data(x=[4, 778], edge_index=[2, 3], y=[1]), Data(x=[39, 778], edge_index=[2, 38], y=[1]), Data(x=[80, 778], edge_index=[2, 79], y=[1]), Data(x=[67, 778], edge_index=[2, 66], y=[1]), Data(x=[7, 778], edge_index=[2, 6], y=[1]), Data(x=[8, 778], edge_index=[2, 7], y=[1]), Data(x=[82, 778], edge_index=[2, 81], y=[1]), Data(x=[6, 778], edge_index=[2, 5], y=[1]), Data(x=[17, 778], edge_index=[2, 16], y=[1]), Data(x=[97, 778], edge_index=[2, 96], y=[1]), Data(x=[79, 778], edge_index=[2, 78], y=[1]), Data(x=[79, 778], edge_index=[2, 78], y=[1]), Data(x=[9, 778], edge_index=[2, 8], y=[1]), Data(x=[31, 778], edge_index=[2, 30], y=[1]), Data(x=[10, 778], edge_index=[2, 9], y=[1]), Data(x=[112, 778], edge_index=[2, 111], y=[1]), Data(x=[3, 778], edge_index=[2, 2], y=[1]), Data(x=[81, 778], edge_index=[2, 80], y=[1]), Data(x=[10, 778], edge_index=[2, 9], y=[1]), Data(x=[16, 778], edge_index=[2, 15], y=[1]), Data(x=[160, 778], edge_index=[2, 159], y=[1]), Data(x=[84, 778], edge_index=[2, 83], y=[1]), Data(x=[60, 778], edge_index=[2, 59], y=[1]), Data(x=[19, 778], edge_index=[2, 18], y=[1]), Data(x=[11, 778], edge_index=[2, 10], y=[1]), Data(x=[31, 778], edge_index=[2, 30], y=[1]), Data(x=[90, 778], edge_index=[2, 89], y=[1]), Data(x=[40, 778], edge_index=[2, 39], y=[1]), Data(x=[22, 778], edge_index=[2, 21], y=[1]), Data(x=[48, 778], edge_index=[2, 47], y=[1]), Data(x=[121, 778], edge_index=[2, 120], y=[1]), Data(x=[111, 778], edge_index=[2, 110], y=[1]), Data(x=[12, 778], edge_index=[2, 11], y=[1]), Data(x=[10, 778], edge_index=[2, 9], y=[1]), Data(x=[125, 778], edge_index=[2, 124], y=[1]), Data(x=[52, 778], edge_index=[2, 51], y=[1]), Data(x=[84, 778], edge_index=[2, 83], y=[1]), Data(x=[27, 778], edge_index=[2, 26], y=[1]), Data(x=[72, 778], edge_index=[2, 71], y=[1]), Data(x=[55, 778], edge_index=[2, 54], y=[1]), Data(x=[65, 778], edge_index=[2, 64], y=[1]), Data(x=[22, 778], edge_index=[2, 21], y=[1]), Data(x=[76, 778], edge_index=[2, 75], y=[1]), Data(x=[66, 778], edge_index=[2, 65], y=[1]), Data(x=[12, 778], edge_index=[2, 11], y=[1]), Data(x=[82, 778], edge_index=[2, 81], y=[1]), Data(x=[26, 778], edge_index=[2, 25], y=[1]), Data(x=[118, 778], edge_index=[2, 117], y=[1]), Data(x=[9, 778], edge_index=[2, 8], y=[1]), Data(x=[50, 778], edge_index=[2, 49], y=[1]), Data(x=[18, 778], edge_index=[2, 17], y=[1]), Data(x=[50, 778], edge_index=[2, 49], y=[1]), Data(x=[79, 778], edge_index=[2, 78], y=[1]), Data(x=[96, 778], edge_index=[2, 95], y=[1]), Data(x=[28, 778], edge_index=[2, 27], y=[1]), Data(x=[138, 778], edge_index=[2, 137], y=[1]), Data(x=[151, 778], edge_index=[2, 150], y=[1]), Data(x=[66, 778], edge_index=[2, 65], y=[1]), Data(x=[36, 778], edge_index=[2, 35], y=[1]), Data(x=[38, 778], edge_index=[2, 37], y=[1]), Data(x=[61, 778], edge_index=[2, 60], y=[1]), Data(x=[18, 778], edge_index=[2, 17], y=[1]), Data(x=[41, 778], edge_index=[2, 40], y=[1]), Data(x=[87, 778], edge_index=[2, 86], y=[1]), Data(x=[119, 778], edge_index=[2, 118], y=[1]), Data(x=[190, 778], edge_index=[2, 189], y=[1]), Data(x=[83, 778], edge_index=[2, 82], y=[1]), Data(x=[128, 778], edge_index=[2, 127], y=[1]), Data(x=[16, 778], edge_index=[2, 15], y=[1]), Data(x=[61, 778], edge_index=[2, 60], y=[1]), Data(x=[9, 778], edge_index=[2, 8], y=[1]), Data(x=[180, 778], edge_index=[2, 179], y=[1]), Data(x=[24, 778], edge_index=[2, 23], y=[1]), Data(x=[14, 778], edge_index=[2, 13], y=[1]), Data(x=[80, 778], edge_index=[2, 79], y=[1]), Data(x=[89, 778], edge_index=[2, 88], y=[1]), Data(x=[43, 778], edge_index=[2, 42], y=[1]), Data(x=[33, 778], edge_index=[2, 32], y=[1]), Data(x=[44, 778], edge_index=[2, 43], y=[1]), Data(x=[25, 778], edge_index=[2, 24], y=[1]), Data(x=[28, 778], edge_index=[2, 27], y=[1]), Data(x=[25, 778], edge_index=[2, 24], y=[1]), Data(x=[117, 778], edge_index=[2, 116], y=[1]), Data(x=[128, 778], edge_index=[2, 127], y=[1]), Data(x=[107, 778], edge_index=[2, 106], y=[1]), Data(x=[98, 778], edge_index=[2, 97], y=[1]), Data(x=[9, 778], edge_index=[2, 8], y=[1]), Data(x=[9, 778], edge_index=[2, 8], y=[1]), Data(x=[21, 778], edge_index=[2, 20], y=[1]), Data(x=[76, 778], edge_index=[2, 75], y=[1]), Data(x=[9, 778], edge_index=[2, 8], y=[1]), Data(x=[136, 778], edge_index=[2, 135], y=[1]), Data(x=[15, 778], edge_index=[2, 14], y=[1]), Data(x=[19, 778], edge_index=[2, 18], y=[1]), Data(x=[56, 778], edge_index=[2, 55], y=[1]), Data(x=[139, 778], edge_index=[2, 138], y=[1]), Data(x=[83, 778], edge_index=[2, 82], y=[1]), Data(x=[68, 778], edge_index=[2, 67], y=[1]), Data(x=[9, 778], edge_index=[2, 8], y=[1]), Data(x=[31, 778], edge_index=[2, 30], y=[1]), Data(x=[82, 778], edge_index=[2, 81], y=[1]), Data(x=[97, 778], edge_index=[2, 96], y=[1]), Data(x=[26, 778], edge_index=[2, 25], y=[1]), Data(x=[15, 778], edge_index=[2, 14], y=[1]), Data(x=[101, 778], edge_index=[2, 100], y=[1]), Data(x=[22, 778], edge_index=[2, 21], y=[1]), Data(x=[57, 778], edge_index=[2, 56], y=[1]), Data(x=[12, 778], edge_index=[2, 11], y=[1]), Data(x=[82, 778], edge_index=[2, 81], y=[1]), Data(x=[66, 778], edge_index=[2, 65], y=[1]), Data(x=[22, 778], edge_index=[2, 21], y=[1]), Data(x=[12, 778], edge_index=[2, 11], y=[1]), Data(x=[68, 778], edge_index=[2, 67], y=[1]), Data(x=[56, 778], edge_index=[2, 55], y=[1]), Data(x=[133, 778], edge_index=[2, 132], y=[1]), Data(x=[7, 778], edge_index=[2, 6], y=[1]), Data(x=[10, 778], edge_index=[2, 9], y=[1]), Data(x=[114, 778], edge_index=[2, 113], y=[1]), Data(x=[65, 778], edge_index=[2, 64], y=[1]), Data(x=[97, 778], edge_index=[2, 96], y=[1]), Data(x=[5, 778], edge_index=[2, 4], y=[1]), Data(x=[85, 778], edge_index=[2, 84], y=[1]), Data(x=[58, 778], edge_index=[2, 57], y=[1]), Data(x=[13, 778], edge_index=[2, 12], y=[1]), Data(x=[16, 778], edge_index=[2, 15], y=[1]), Data(x=[13, 778], edge_index=[2, 12], y=[1]), Data(x=[21, 778], edge_index=[2, 20], y=[1]), Data(x=[143, 778], edge_index=[2, 142], y=[1]), Data(x=[154, 778], edge_index=[2, 153], y=[1]), Data(x=[10, 778], edge_index=[2, 9], y=[1]), Data(x=[9, 778], edge_index=[2, 8], y=[1]), Data(x=[163, 778], edge_index=[2, 162], y=[1]), Data(x=[34, 778], edge_index=[2, 33], y=[1]), Data(x=[83, 778], edge_index=[2, 82], y=[1]), Data(x=[8, 778], edge_index=[2, 7], y=[1]), Data(x=[85, 778], edge_index=[2, 84], y=[1]), Data(x=[99, 778], edge_index=[2, 98], y=[1]), Data(x=[169, 778], edge_index=[2, 168], y=[1]), Data(x=[12, 778], edge_index=[2, 11], y=[1]), Data(x=[9, 778], edge_index=[2, 8], y=[1]), Data(x=[59, 778], edge_index=[2, 58], y=[1]), Data(x=[6, 778], edge_index=[2, 5], y=[1]), Data(x=[44, 778], edge_index=[2, 43], y=[1]), Data(x=[43, 778], edge_index=[2, 42], y=[1]), Data(x=[78, 778], edge_index=[2, 77], y=[1]), Data(x=[84, 778], edge_index=[2, 83], y=[1]), Data(x=[35, 778], edge_index=[2, 34], y=[1]), Data(x=[69, 778], edge_index=[2, 68], y=[1]), Data(x=[51, 778], edge_index=[2, 50], y=[1]), Data(x=[64, 778], edge_index=[2, 63], y=[1]), Data(x=[31, 778], edge_index=[2, 30], y=[1]), Data(x=[130, 778], edge_index=[2, 129], y=[1]), Data(x=[118, 778], edge_index=[2, 117], y=[1]), Data(x=[35, 778], edge_index=[2, 34], y=[1]), Data(x=[34, 778], edge_index=[2, 33], y=[1]), Data(x=[70, 778], edge_index=[2, 69], y=[1]), Data(x=[19, 778], edge_index=[2, 18], y=[1]), Data(x=[59, 778], edge_index=[2, 58], y=[1]), Data(x=[29, 778], edge_index=[2, 28], y=[1]), Data(x=[73, 778], edge_index=[2, 72], y=[1]), Data(x=[164, 778], edge_index=[2, 163], y=[1]), Data(x=[5, 778], edge_index=[2, 4], y=[1]), Data(x=[18, 778], edge_index=[2, 17], y=[1]), Data(x=[89, 778], edge_index=[2, 88], y=[1]), Data(x=[193, 778], edge_index=[2, 192], y=[1]), Data(x=[195, 778], edge_index=[2, 194], y=[1]), Data(x=[16, 778], edge_index=[2, 15], y=[1]), Data(x=[28, 778], edge_index=[2, 27], y=[1]), Data(x=[15, 778], edge_index=[2, 14], y=[1]), Data(x=[37, 778], edge_index=[2, 36], y=[1]), Data(x=[115, 778], edge_index=[2, 114], y=[1]), Data(x=[114, 778], edge_index=[2, 113], y=[1]), Data(x=[25, 778], edge_index=[2, 24], y=[1]), Data(x=[172, 778], edge_index=[2, 171], y=[1]), Data(x=[69, 778], edge_index=[2, 68], y=[1]), Data(x=[89, 778], edge_index=[2, 88], y=[1]), Data(x=[58, 778], edge_index=[2, 57], y=[1]), Data(x=[15, 778], edge_index=[2, 14], y=[1]), Data(x=[123, 778], edge_index=[2, 122], y=[1]), Data(x=[65, 778], edge_index=[2, 64], y=[1]), Data(x=[71, 778], edge_index=[2, 70], y=[1]), Data(x=[11, 778], edge_index=[2, 10], y=[1]), Data(x=[15, 778], edge_index=[2, 14], y=[1]), Data(x=[46, 778], edge_index=[2, 45], y=[1]), Data(x=[4, 778], edge_index=[2, 3], y=[1]), Data(x=[24, 778], edge_index=[2, 23], y=[1]), Data(x=[92, 778], edge_index=[2, 91], y=[1]), Data(x=[47, 778], edge_index=[2, 46], y=[1]), Data(x=[23, 778], edge_index=[2, 22], y=[1]), Data(x=[155, 778], edge_index=[2, 154], y=[1]), Data(x=[145, 778], edge_index=[2, 144], y=[1]), Data(x=[10, 778], edge_index=[2, 9], y=[1]), Data(x=[79, 778], edge_index=[2, 78], y=[1]), Data(x=[28, 778], edge_index=[2, 27], y=[1]), Data(x=[32, 778], edge_index=[2, 31], y=[1]), Data(x=[77, 778], edge_index=[2, 76], y=[1]), Data(x=[86, 778], edge_index=[2, 85], y=[1]), Data(x=[184, 778], edge_index=[2, 183], y=[1]), Data(x=[80, 778], edge_index=[2, 79], y=[1]), Data(x=[119, 778], edge_index=[2, 118], y=[1]), Data(x=[60, 778], edge_index=[2, 59], y=[1]), Data(x=[91, 778], edge_index=[2, 90], y=[1]), Data(x=[13, 778], edge_index=[2, 12], y=[1]), Data(x=[68, 778], edge_index=[2, 67], y=[1]), Data(x=[54, 778], edge_index=[2, 53], y=[1]), Data(x=[26, 778], edge_index=[2, 25], y=[1]), Data(x=[90, 778], edge_index=[2, 89], y=[1]), Data(x=[6, 778], edge_index=[2, 5], y=[1]), Data(x=[96, 778], edge_index=[2, 95], y=[1]), Data(x=[75, 778], edge_index=[2, 74], y=[1]), Data(x=[78, 778], edge_index=[2, 77], y=[1]), Data(x=[9, 778], edge_index=[2, 8], y=[1]), Data(x=[43, 778], edge_index=[2, 42], y=[1]), Data(x=[144, 778], edge_index=[2, 143], y=[1]), Data(x=[77, 778], edge_index=[2, 76], y=[1]), Data(x=[14, 778], edge_index=[2, 13], y=[1]), Data(x=[17, 778], edge_index=[2, 16], y=[1]), Data(x=[8, 778], edge_index=[2, 7], y=[1]), Data(x=[178, 778], edge_index=[2, 177], y=[1]), Data(x=[12, 778], edge_index=[2, 11], y=[1]), Data(x=[72, 778], edge_index=[2, 71], y=[1]), Data(x=[121, 778], edge_index=[2, 120], y=[1]), Data(x=[87, 778], edge_index=[2, 86], y=[1]), Data(x=[120, 778], edge_index=[2, 119], y=[1]), Data(x=[53, 778], edge_index=[2, 52], y=[1]), Data(x=[11, 778], edge_index=[2, 10], y=[1]), Data(x=[21, 778], edge_index=[2, 20], y=[1]), Data(x=[53, 778], edge_index=[2, 52], y=[1]), Data(x=[56, 778], edge_index=[2, 55], y=[1]), Data(x=[18, 778], edge_index=[2, 17], y=[1]), Data(x=[24, 778], edge_index=[2, 23], y=[1]), Data(x=[18, 778], edge_index=[2, 17], y=[1]), Data(x=[26, 778], edge_index=[2, 25], y=[1]), Data(x=[79, 778], edge_index=[2, 78], y=[1]), Data(x=[12, 778], edge_index=[2, 11], y=[1]), Data(x=[54, 778], edge_index=[2, 53], y=[1]), Data(x=[10, 778], edge_index=[2, 9], y=[1]), Data(x=[56, 778], edge_index=[2, 55], y=[1]), Data(x=[32, 778], edge_index=[2, 31], y=[1]), Data(x=[139, 778], edge_index=[2, 138], y=[1]), Data(x=[51, 778], edge_index=[2, 50], y=[1]), Data(x=[49, 778], edge_index=[2, 48], y=[1]), Data(x=[133, 778], edge_index=[2, 132], y=[1]), Data(x=[50, 778], edge_index=[2, 49], y=[1]), Data(x=[86, 778], edge_index=[2, 85], y=[1]), Data(x=[59, 778], edge_index=[2, 58], y=[1]), Data(x=[6, 778], edge_index=[2, 5], y=[1]), Data(x=[56, 778], edge_index=[2, 55], y=[1]), Data(x=[18, 778], edge_index=[2, 17], y=[1]), Data(x=[58, 778], edge_index=[2, 57], y=[1]), Data(x=[41, 778], edge_index=[2, 40], y=[1]), Data(x=[104, 778], edge_index=[2, 103], y=[1]), Data(x=[14, 778], edge_index=[2, 13], y=[1]), Data(x=[52, 778], edge_index=[2, 51], y=[1]), Data(x=[15, 778], edge_index=[2, 14], y=[1]), Data(x=[10, 778], edge_index=[2, 9], y=[1]), Data(x=[79, 778], edge_index=[2, 78], y=[1]), Data(x=[158, 778], edge_index=[2, 157], y=[1]), Data(x=[54, 778], edge_index=[2, 53], y=[1]), Data(x=[34, 778], edge_index=[2, 33], y=[1]), Data(x=[65, 778], edge_index=[2, 64], y=[1]), Data(x=[124, 778], edge_index=[2, 123], y=[1]), Data(x=[47, 778], edge_index=[2, 46], y=[1]), Data(x=[67, 778], edge_index=[2, 66], y=[1]), Data(x=[26, 778], edge_index=[2, 25], y=[1]), Data(x=[92, 778], edge_index=[2, 91], y=[1]), Data(x=[89, 778], edge_index=[2, 88], y=[1]), Data(x=[17, 778], edge_index=[2, 16], y=[1]), Data(x=[100, 778], edge_index=[2, 99], y=[1]), Data(x=[63, 778], edge_index=[2, 62], y=[1]), Data(x=[102, 778], edge_index=[2, 101], y=[1]), Data(x=[110, 778], edge_index=[2, 109], y=[1]), Data(x=[24, 778], edge_index=[2, 23], y=[1]), Data(x=[61, 778], edge_index=[2, 60], y=[1]), Data(x=[24, 778], edge_index=[2, 23], y=[1]), Data(x=[8, 778], edge_index=[2, 7], y=[1]), Data(x=[117, 778], edge_index=[2, 116], y=[1]), Data(x=[41, 778], edge_index=[2, 40], y=[1]), Data(x=[5, 778], edge_index=[2, 4], y=[1]), Data(x=[58, 778], edge_index=[2, 57], y=[1]), Data(x=[27, 778], edge_index=[2, 26], y=[1])]\n",
            "tensor([0])\n",
            "tensor([[-0.0848, -0.2643, -0.2449,  ...,  0.6794,  0.1175,  0.1534],\n",
            "        [ 0.1415, -0.0493, -0.1443,  ...,  0.0890,  0.1111,  0.1324],\n",
            "        [-0.0319,  0.0562,  0.4386,  ...,  0.4658,  0.1667,  0.1765],\n",
            "        ...,\n",
            "        [ 0.0231,  0.1641,  0.0682,  ...,  0.8904,  0.1111,  0.0588],\n",
            "        [-0.0714,  0.1860,  0.1526,  ...,  0.6233,  0.2222,  0.3529],\n",
            "        [ 0.0569,  0.1775,  0.1596,  ...,  0.7740,  0.1111,  0.2500]])\n",
            "tensor([[ 0,  0,  0,  0,  0,  0,  0,  0,  0,  0,  0,  0,  0,  0,  0,  0,  0,  0,\n",
            "          0,  0,  0,  0,  0,  0,  0,  0,  0,  0,  0,  0,  0,  0,  0,  0,  0,  0,\n",
            "          0,  0,  0,  0,  0,  0,  0,  0,  0,  0,  0,  0,  0,  0,  0,  0,  0,  0,\n",
            "          0,  0,  0,  0,  0,  0,  0,  0,  0,  0,  0,  0,  0,  0,  0,  0,  0,  0,\n",
            "          1, 70, 74],\n",
            "        [ 1,  2,  3,  4,  5,  6,  7,  8,  9, 10, 11, 12, 13, 14, 15, 16, 17, 18,\n",
            "         19, 20, 21, 22, 23, 24, 25, 26, 27, 28, 29, 30, 31, 32, 33, 34, 35, 36,\n",
            "         37, 38, 39, 40, 41, 42, 43, 44, 45, 46, 47, 48, 49, 50, 51, 52, 53, 54,\n",
            "         55, 56, 57, 58, 59, 60, 61, 62, 63, 64, 65, 66, 67, 68, 69, 70, 71, 72,\n",
            "         73, 74, 75]])\n"
          ]
        }
      ],
      "source": [
        "print(train_dataset)\n",
        "print(train_dataset[0].y)\n",
        "print(train_dataset[0].x)\n",
        "print(train_dataset[0].edge_index)\n",
        "#train_dataset[i] représente l'arbre i\n",
        "#Le champ x représente la valeur des noeud, il est de taille (n, 778).\n",
        "#Le champ edge index représente les connexion dans l'abre. Il est de taille (2, n - 1). edge_index[0][i] est\n",
        "#le père de edge_index[1][i]. En pratique, il se trouve que edge_index[1][i] est toujours un linespace, ce qui est possible\n",
        "#Le champ y représente si c'est un graphe de fake news ou pas"
      ]
    },
    {
      "cell_type": "code",
      "execution_count": null,
      "metadata": {
        "id": "Ve9FXUrZrgR1"
      },
      "outputs": [],
      "source": []
    },
    {
      "cell_type": "markdown",
      "metadata": {
        "id": "WQLdOvckrgR1"
      },
      "source": [
        "### Model"
      ]
    },
    {
      "cell_type": "code",
      "execution_count": 6,
      "metadata": {
        "id": "FpPXCnZXrgR1"
      },
      "outputs": [],
      "source": [
        "class Net(torch.nn.Module):\n",
        "    def __init__(self, in_channels, hidden_channels, out_channels, concat=False):\n",
        "        super().__init__()\n",
        "        self.concat = concat\n",
        "        self.conv1 = GATConv(in_channels, hidden_channels)\n",
        "        self.conv2 = GATConv(hidden_channels, hidden_channels)\n",
        "        self.max_pooling = global_mean_pool # They use Max_pool in the article but that doesn't work pretty well.\n",
        "        self.lin1 = Linear(hidden_channels, 2 * hidden_channels)\n",
        "        self.lin2 = Linear(2*hidden_channels,2)\n",
        "\n",
        "    def forward(self, x, edge_index, batch):\n",
        "        x = self.conv1(x, edge_index)\n",
        "        x = torch.nn.functional.selu(x)\n",
        "        x = self.conv2(x, edge_index)\n",
        "        x = torch.nn.functional.selu(x)\n",
        "        x = self.max_pooling(x, batch)\n",
        "        x = torch.nn.functional.selu(x)\n",
        "        x = self.lin1(x)\n",
        "        x = torch.nn.functional.selu(x)\n",
        "        x = self.lin2(x)\n",
        "        return x.softmax(dim=-1)"
      ]
    },
    {
      "cell_type": "code",
      "execution_count": 7,
      "metadata": {
        "id": "NRqvxtFxrgR2"
      },
      "outputs": [],
      "source": [
        "device = torch.device('cuda' if torch.cuda.is_available() else 'cpu')\n",
        "model = Net(train_dataset_bert.num_features, 128,train_dataset_bert.num_classes, concat=True).to(device)\n",
        "optimizer = torch.optim.Adam(model.parameters(), lr=0.001, weight_decay=0.01)"
      ]
    },
    {
      "cell_type": "code",
      "execution_count": 8,
      "metadata": {
        "id": "YhD5fSborgR2"
      },
      "outputs": [],
      "source": [
        "loss_fn = torch.nn.HingeEmbeddingLoss()\n",
        "def train(model):\n",
        "    model.train()\n",
        "    total_loss = 0\n",
        "    for data in train_loader:\n",
        "        data = data.to(device)\n",
        "        optimizer.zero_grad()\n",
        "        out = model(data.x, data.edge_index, data.batch)\n",
        "        y = torch.tensor([[1,0] if e==1 else [0,1] for e in data.y]).to(device)\n",
        "        loss = loss_fn(out,y)\n",
        "        #loss = F.nll_loss(out, data.y)\n",
        "        loss.backward()\n",
        "        optimizer.step()\n",
        "        total_loss += float(loss) * data.num_graphs\n",
        "\n",
        "    return total_loss / len(train_loader.dataset)"
      ]
    },
    {
      "cell_type": "code",
      "execution_count": 9,
      "metadata": {
        "id": "hhPWE9HxrgR2"
      },
      "outputs": [],
      "source": [
        "@torch.no_grad()\n",
        "def test(loader, model):\n",
        "    model.eval()\n",
        "\n",
        "    total_correct = total_examples = 0\n",
        "    for data in loader:\n",
        "        data = data.to(device)\n",
        "        pred = model(data.x, data.edge_index, data.batch).argmax(dim=-1)\n",
        "        total_correct += int((pred ==\n",
        "         data.y).sum())\n",
        "        total_examples += data.num_graphs\n",
        "\n",
        "    return total_correct / total_examples"
      ]
    },
    {
      "cell_type": "code",
      "execution_count": 10,
      "metadata": {
        "colab": {
          "base_uri": "https://localhost:8080/",
          "height": 547
        },
        "id": "hyfbLdBArgR2",
        "outputId": "d97fb0d3-f9dd-4f60-e9a6-dacffdcb3e01"
      },
      "outputs": [
        {
          "output_type": "stream",
          "name": "stdout",
          "text": [
            "Epoch: 01, Loss: 0.7544, Train: 0.4899, Val: 0.5147, Test: 0.5008\n",
            "Epoch: 02, Loss: 0.7416, Train: 0.5101, Val: 0.4853, Test: 0.4992\n",
            "Epoch: 03, Loss: 0.7146, Train: 0.7445, Val: 0.7436, Test: 0.7290\n",
            "Epoch: 04, Loss: 0.6631, Train: 0.6145, Val: 0.6154, Test: 0.5996\n",
            "Epoch: 05, Loss: 0.6516, Train: 0.7683, Val: 0.7582, Test: 0.7428\n",
            "Epoch: 06, Loss: 0.6163, Train: 0.7958, Val: 0.7784, Test: 0.7582\n",
            "Epoch: 07, Loss: 0.6120, Train: 0.8425, Val: 0.8187, Test: 0.7969\n",
            "Epoch: 08, Loss: 0.5979, Train: 0.8489, Val: 0.8370, Test: 0.8225\n",
            "Epoch: 09, Loss: 0.5840, Train: 0.8727, Val: 0.8608, Test: 0.8479\n",
            "Epoch: 10, Loss: 0.5743, Train: 0.8901, Val: 0.8773, Test: 0.8636\n",
            "Epoch: 11, Loss: 0.5732, Train: 0.8956, Val: 0.8846, Test: 0.8688\n",
            "Epoch: 12, Loss: 0.5584, Train: 0.8846, Val: 0.8571, Test: 0.8557\n"
          ]
        },
        {
          "output_type": "error",
          "ename": "KeyboardInterrupt",
          "evalue": "",
          "traceback": [
            "\u001b[0;31m---------------------------------------------------------------------------\u001b[0m",
            "\u001b[0;31mKeyboardInterrupt\u001b[0m                         Traceback (most recent call last)",
            "\u001b[0;32m<ipython-input-10-046dd1bbaa80>\u001b[0m in \u001b[0;36m<cell line: 1>\u001b[0;34m()\u001b[0m\n\u001b[1;32m      3\u001b[0m     \u001b[0mtrain_acc\u001b[0m \u001b[0;34m=\u001b[0m \u001b[0mtest\u001b[0m\u001b[0;34m(\u001b[0m\u001b[0mtrain_loader\u001b[0m\u001b[0;34m,\u001b[0m \u001b[0mmodel\u001b[0m\u001b[0;34m)\u001b[0m\u001b[0;34m\u001b[0m\u001b[0;34m\u001b[0m\u001b[0m\n\u001b[1;32m      4\u001b[0m     \u001b[0mval_acc\u001b[0m \u001b[0;34m=\u001b[0m \u001b[0mtest\u001b[0m\u001b[0;34m(\u001b[0m\u001b[0mval_loader\u001b[0m\u001b[0;34m,\u001b[0m \u001b[0mmodel\u001b[0m\u001b[0;34m)\u001b[0m\u001b[0;34m\u001b[0m\u001b[0;34m\u001b[0m\u001b[0m\n\u001b[0;32m----> 5\u001b[0;31m     \u001b[0mtest_acc\u001b[0m \u001b[0;34m=\u001b[0m \u001b[0mtest\u001b[0m\u001b[0;34m(\u001b[0m\u001b[0mtest_loader\u001b[0m\u001b[0;34m,\u001b[0m \u001b[0mmodel\u001b[0m\u001b[0;34m)\u001b[0m\u001b[0;34m\u001b[0m\u001b[0;34m\u001b[0m\u001b[0m\n\u001b[0m\u001b[1;32m      6\u001b[0m     \u001b[0mprint\u001b[0m\u001b[0;34m(\u001b[0m\u001b[0;34mf'Epoch: {epoch:02d}, Loss: {loss:.4f}, Train: {train_acc:.4f}, '\u001b[0m\u001b[0;34mf'Val: {val_acc:.4f}, Test: {test_acc:.4f}'\u001b[0m\u001b[0;34m)\u001b[0m\u001b[0;34m\u001b[0m\u001b[0;34m\u001b[0m\u001b[0m\n",
            "\u001b[0;32m/usr/local/lib/python3.10/dist-packages/torch/utils/_contextlib.py\u001b[0m in \u001b[0;36mdecorate_context\u001b[0;34m(*args, **kwargs)\u001b[0m\n\u001b[1;32m    114\u001b[0m     \u001b[0;32mdef\u001b[0m \u001b[0mdecorate_context\u001b[0m\u001b[0;34m(\u001b[0m\u001b[0;34m*\u001b[0m\u001b[0margs\u001b[0m\u001b[0;34m,\u001b[0m \u001b[0;34m**\u001b[0m\u001b[0mkwargs\u001b[0m\u001b[0;34m)\u001b[0m\u001b[0;34m:\u001b[0m\u001b[0;34m\u001b[0m\u001b[0;34m\u001b[0m\u001b[0m\n\u001b[1;32m    115\u001b[0m         \u001b[0;32mwith\u001b[0m \u001b[0mctx_factory\u001b[0m\u001b[0;34m(\u001b[0m\u001b[0;34m)\u001b[0m\u001b[0;34m:\u001b[0m\u001b[0;34m\u001b[0m\u001b[0;34m\u001b[0m\u001b[0m\n\u001b[0;32m--> 116\u001b[0;31m             \u001b[0;32mreturn\u001b[0m \u001b[0mfunc\u001b[0m\u001b[0;34m(\u001b[0m\u001b[0;34m*\u001b[0m\u001b[0margs\u001b[0m\u001b[0;34m,\u001b[0m \u001b[0;34m**\u001b[0m\u001b[0mkwargs\u001b[0m\u001b[0;34m)\u001b[0m\u001b[0;34m\u001b[0m\u001b[0;34m\u001b[0m\u001b[0m\n\u001b[0m\u001b[1;32m    117\u001b[0m \u001b[0;34m\u001b[0m\u001b[0m\n\u001b[1;32m    118\u001b[0m     \u001b[0;32mreturn\u001b[0m \u001b[0mdecorate_context\u001b[0m\u001b[0;34m\u001b[0m\u001b[0;34m\u001b[0m\u001b[0m\n",
            "\u001b[0;32m<ipython-input-9-f526d289f3aa>\u001b[0m in \u001b[0;36mtest\u001b[0;34m(loader, model)\u001b[0m\n\u001b[1;32m      6\u001b[0m     \u001b[0;32mfor\u001b[0m \u001b[0mdata\u001b[0m \u001b[0;32min\u001b[0m \u001b[0mloader\u001b[0m\u001b[0;34m:\u001b[0m\u001b[0;34m\u001b[0m\u001b[0;34m\u001b[0m\u001b[0m\n\u001b[1;32m      7\u001b[0m         \u001b[0mdata\u001b[0m \u001b[0;34m=\u001b[0m \u001b[0mdata\u001b[0m\u001b[0;34m.\u001b[0m\u001b[0mto\u001b[0m\u001b[0;34m(\u001b[0m\u001b[0mdevice\u001b[0m\u001b[0;34m)\u001b[0m\u001b[0;34m\u001b[0m\u001b[0;34m\u001b[0m\u001b[0m\n\u001b[0;32m----> 8\u001b[0;31m         \u001b[0mpred\u001b[0m \u001b[0;34m=\u001b[0m \u001b[0mmodel\u001b[0m\u001b[0;34m(\u001b[0m\u001b[0mdata\u001b[0m\u001b[0;34m.\u001b[0m\u001b[0mx\u001b[0m\u001b[0;34m,\u001b[0m \u001b[0mdata\u001b[0m\u001b[0;34m.\u001b[0m\u001b[0medge_index\u001b[0m\u001b[0;34m,\u001b[0m \u001b[0mdata\u001b[0m\u001b[0;34m.\u001b[0m\u001b[0mbatch\u001b[0m\u001b[0;34m)\u001b[0m\u001b[0;34m.\u001b[0m\u001b[0margmax\u001b[0m\u001b[0;34m(\u001b[0m\u001b[0mdim\u001b[0m\u001b[0;34m=\u001b[0m\u001b[0;34m-\u001b[0m\u001b[0;36m1\u001b[0m\u001b[0;34m)\u001b[0m\u001b[0;34m\u001b[0m\u001b[0;34m\u001b[0m\u001b[0m\n\u001b[0m\u001b[1;32m      9\u001b[0m         total_correct += int((pred ==\n\u001b[1;32m     10\u001b[0m          data.y).sum())\n",
            "\u001b[0;32m/usr/local/lib/python3.10/dist-packages/torch/nn/modules/module.py\u001b[0m in \u001b[0;36m_wrapped_call_impl\u001b[0;34m(self, *args, **kwargs)\u001b[0m\n\u001b[1;32m   1734\u001b[0m             \u001b[0;32mreturn\u001b[0m \u001b[0mself\u001b[0m\u001b[0;34m.\u001b[0m\u001b[0m_compiled_call_impl\u001b[0m\u001b[0;34m(\u001b[0m\u001b[0;34m*\u001b[0m\u001b[0margs\u001b[0m\u001b[0;34m,\u001b[0m \u001b[0;34m**\u001b[0m\u001b[0mkwargs\u001b[0m\u001b[0;34m)\u001b[0m  \u001b[0;31m# type: ignore[misc]\u001b[0m\u001b[0;34m\u001b[0m\u001b[0;34m\u001b[0m\u001b[0m\n\u001b[1;32m   1735\u001b[0m         \u001b[0;32melse\u001b[0m\u001b[0;34m:\u001b[0m\u001b[0;34m\u001b[0m\u001b[0;34m\u001b[0m\u001b[0m\n\u001b[0;32m-> 1736\u001b[0;31m             \u001b[0;32mreturn\u001b[0m \u001b[0mself\u001b[0m\u001b[0;34m.\u001b[0m\u001b[0m_call_impl\u001b[0m\u001b[0;34m(\u001b[0m\u001b[0;34m*\u001b[0m\u001b[0margs\u001b[0m\u001b[0;34m,\u001b[0m \u001b[0;34m**\u001b[0m\u001b[0mkwargs\u001b[0m\u001b[0;34m)\u001b[0m\u001b[0;34m\u001b[0m\u001b[0;34m\u001b[0m\u001b[0m\n\u001b[0m\u001b[1;32m   1737\u001b[0m \u001b[0;34m\u001b[0m\u001b[0m\n\u001b[1;32m   1738\u001b[0m     \u001b[0;31m# torchrec tests the code consistency with the following code\u001b[0m\u001b[0;34m\u001b[0m\u001b[0;34m\u001b[0m\u001b[0m\n",
            "\u001b[0;32m/usr/local/lib/python3.10/dist-packages/torch/nn/modules/module.py\u001b[0m in \u001b[0;36m_call_impl\u001b[0;34m(self, *args, **kwargs)\u001b[0m\n\u001b[1;32m   1745\u001b[0m                 \u001b[0;32mor\u001b[0m \u001b[0m_global_backward_pre_hooks\u001b[0m \u001b[0;32mor\u001b[0m \u001b[0m_global_backward_hooks\u001b[0m\u001b[0;34m\u001b[0m\u001b[0;34m\u001b[0m\u001b[0m\n\u001b[1;32m   1746\u001b[0m                 or _global_forward_hooks or _global_forward_pre_hooks):\n\u001b[0;32m-> 1747\u001b[0;31m             \u001b[0;32mreturn\u001b[0m \u001b[0mforward_call\u001b[0m\u001b[0;34m(\u001b[0m\u001b[0;34m*\u001b[0m\u001b[0margs\u001b[0m\u001b[0;34m,\u001b[0m \u001b[0;34m**\u001b[0m\u001b[0mkwargs\u001b[0m\u001b[0;34m)\u001b[0m\u001b[0;34m\u001b[0m\u001b[0;34m\u001b[0m\u001b[0m\n\u001b[0m\u001b[1;32m   1748\u001b[0m \u001b[0;34m\u001b[0m\u001b[0m\n\u001b[1;32m   1749\u001b[0m         \u001b[0mresult\u001b[0m \u001b[0;34m=\u001b[0m \u001b[0;32mNone\u001b[0m\u001b[0;34m\u001b[0m\u001b[0;34m\u001b[0m\u001b[0m\n",
            "\u001b[0;32m<ipython-input-6-8a7b20a8cb23>\u001b[0m in \u001b[0;36mforward\u001b[0;34m(self, x, edge_index, batch)\u001b[0m\n\u001b[1;32m     10\u001b[0m \u001b[0;34m\u001b[0m\u001b[0m\n\u001b[1;32m     11\u001b[0m     \u001b[0;32mdef\u001b[0m \u001b[0mforward\u001b[0m\u001b[0;34m(\u001b[0m\u001b[0mself\u001b[0m\u001b[0;34m,\u001b[0m \u001b[0mx\u001b[0m\u001b[0;34m,\u001b[0m \u001b[0medge_index\u001b[0m\u001b[0;34m,\u001b[0m \u001b[0mbatch\u001b[0m\u001b[0;34m)\u001b[0m\u001b[0;34m:\u001b[0m\u001b[0;34m\u001b[0m\u001b[0;34m\u001b[0m\u001b[0m\n\u001b[0;32m---> 12\u001b[0;31m         \u001b[0mx\u001b[0m \u001b[0;34m=\u001b[0m \u001b[0mself\u001b[0m\u001b[0;34m.\u001b[0m\u001b[0mconv1\u001b[0m\u001b[0;34m(\u001b[0m\u001b[0mx\u001b[0m\u001b[0;34m,\u001b[0m \u001b[0medge_index\u001b[0m\u001b[0;34m)\u001b[0m\u001b[0;34m\u001b[0m\u001b[0;34m\u001b[0m\u001b[0m\n\u001b[0m\u001b[1;32m     13\u001b[0m         \u001b[0mx\u001b[0m \u001b[0;34m=\u001b[0m \u001b[0mtorch\u001b[0m\u001b[0;34m.\u001b[0m\u001b[0mnn\u001b[0m\u001b[0;34m.\u001b[0m\u001b[0mfunctional\u001b[0m\u001b[0;34m.\u001b[0m\u001b[0mselu\u001b[0m\u001b[0;34m(\u001b[0m\u001b[0mx\u001b[0m\u001b[0;34m)\u001b[0m\u001b[0;34m\u001b[0m\u001b[0;34m\u001b[0m\u001b[0m\n\u001b[1;32m     14\u001b[0m         \u001b[0mx\u001b[0m \u001b[0;34m=\u001b[0m \u001b[0mself\u001b[0m\u001b[0;34m.\u001b[0m\u001b[0mconv2\u001b[0m\u001b[0;34m(\u001b[0m\u001b[0mx\u001b[0m\u001b[0;34m,\u001b[0m \u001b[0medge_index\u001b[0m\u001b[0;34m)\u001b[0m\u001b[0;34m\u001b[0m\u001b[0;34m\u001b[0m\u001b[0m\n",
            "\u001b[0;32m/usr/local/lib/python3.10/dist-packages/torch/nn/modules/module.py\u001b[0m in \u001b[0;36m_wrapped_call_impl\u001b[0;34m(self, *args, **kwargs)\u001b[0m\n\u001b[1;32m   1734\u001b[0m             \u001b[0;32mreturn\u001b[0m \u001b[0mself\u001b[0m\u001b[0;34m.\u001b[0m\u001b[0m_compiled_call_impl\u001b[0m\u001b[0;34m(\u001b[0m\u001b[0;34m*\u001b[0m\u001b[0margs\u001b[0m\u001b[0;34m,\u001b[0m \u001b[0;34m**\u001b[0m\u001b[0mkwargs\u001b[0m\u001b[0;34m)\u001b[0m  \u001b[0;31m# type: ignore[misc]\u001b[0m\u001b[0;34m\u001b[0m\u001b[0;34m\u001b[0m\u001b[0m\n\u001b[1;32m   1735\u001b[0m         \u001b[0;32melse\u001b[0m\u001b[0;34m:\u001b[0m\u001b[0;34m\u001b[0m\u001b[0;34m\u001b[0m\u001b[0m\n\u001b[0;32m-> 1736\u001b[0;31m             \u001b[0;32mreturn\u001b[0m \u001b[0mself\u001b[0m\u001b[0;34m.\u001b[0m\u001b[0m_call_impl\u001b[0m\u001b[0;34m(\u001b[0m\u001b[0;34m*\u001b[0m\u001b[0margs\u001b[0m\u001b[0;34m,\u001b[0m \u001b[0;34m**\u001b[0m\u001b[0mkwargs\u001b[0m\u001b[0;34m)\u001b[0m\u001b[0;34m\u001b[0m\u001b[0;34m\u001b[0m\u001b[0m\n\u001b[0m\u001b[1;32m   1737\u001b[0m \u001b[0;34m\u001b[0m\u001b[0m\n\u001b[1;32m   1738\u001b[0m     \u001b[0;31m# torchrec tests the code consistency with the following code\u001b[0m\u001b[0;34m\u001b[0m\u001b[0;34m\u001b[0m\u001b[0m\n",
            "\u001b[0;32m/usr/local/lib/python3.10/dist-packages/torch/nn/modules/module.py\u001b[0m in \u001b[0;36m_call_impl\u001b[0;34m(self, *args, **kwargs)\u001b[0m\n\u001b[1;32m   1745\u001b[0m                 \u001b[0;32mor\u001b[0m \u001b[0m_global_backward_pre_hooks\u001b[0m \u001b[0;32mor\u001b[0m \u001b[0m_global_backward_hooks\u001b[0m\u001b[0;34m\u001b[0m\u001b[0;34m\u001b[0m\u001b[0m\n\u001b[1;32m   1746\u001b[0m                 or _global_forward_hooks or _global_forward_pre_hooks):\n\u001b[0;32m-> 1747\u001b[0;31m             \u001b[0;32mreturn\u001b[0m \u001b[0mforward_call\u001b[0m\u001b[0;34m(\u001b[0m\u001b[0;34m*\u001b[0m\u001b[0margs\u001b[0m\u001b[0;34m,\u001b[0m \u001b[0;34m**\u001b[0m\u001b[0mkwargs\u001b[0m\u001b[0;34m)\u001b[0m\u001b[0;34m\u001b[0m\u001b[0;34m\u001b[0m\u001b[0m\n\u001b[0m\u001b[1;32m   1748\u001b[0m \u001b[0;34m\u001b[0m\u001b[0m\n\u001b[1;32m   1749\u001b[0m         \u001b[0mresult\u001b[0m \u001b[0;34m=\u001b[0m \u001b[0;32mNone\u001b[0m\u001b[0;34m\u001b[0m\u001b[0;34m\u001b[0m\u001b[0m\n",
            "\u001b[0;32m/usr/local/lib/python3.10/dist-packages/torch_geometric/nn/conv/gat_conv.py\u001b[0m in \u001b[0;36mforward\u001b[0;34m(self, x, edge_index, edge_attr, size, return_attention_weights)\u001b[0m\n\u001b[1;32m    300\u001b[0m \u001b[0;34m\u001b[0m\u001b[0m\n\u001b[1;32m    301\u001b[0m             \u001b[0;32mif\u001b[0m \u001b[0mself\u001b[0m\u001b[0;34m.\u001b[0m\u001b[0mlin\u001b[0m \u001b[0;32mis\u001b[0m \u001b[0;32mnot\u001b[0m \u001b[0;32mNone\u001b[0m\u001b[0;34m:\u001b[0m\u001b[0;34m\u001b[0m\u001b[0;34m\u001b[0m\u001b[0m\n\u001b[0;32m--> 302\u001b[0;31m                 \u001b[0mx_src\u001b[0m \u001b[0;34m=\u001b[0m \u001b[0mx_dst\u001b[0m \u001b[0;34m=\u001b[0m \u001b[0mself\u001b[0m\u001b[0;34m.\u001b[0m\u001b[0mlin\u001b[0m\u001b[0;34m(\u001b[0m\u001b[0mx\u001b[0m\u001b[0;34m)\u001b[0m\u001b[0;34m.\u001b[0m\u001b[0mview\u001b[0m\u001b[0;34m(\u001b[0m\u001b[0;34m-\u001b[0m\u001b[0;36m1\u001b[0m\u001b[0;34m,\u001b[0m \u001b[0mH\u001b[0m\u001b[0;34m,\u001b[0m \u001b[0mC\u001b[0m\u001b[0;34m)\u001b[0m\u001b[0;34m\u001b[0m\u001b[0;34m\u001b[0m\u001b[0m\n\u001b[0m\u001b[1;32m    303\u001b[0m             \u001b[0;32melse\u001b[0m\u001b[0;34m:\u001b[0m\u001b[0;34m\u001b[0m\u001b[0;34m\u001b[0m\u001b[0m\n\u001b[1;32m    304\u001b[0m                 \u001b[0;31m# If the module is initialized as bipartite, transform source\u001b[0m\u001b[0;34m\u001b[0m\u001b[0;34m\u001b[0m\u001b[0m\n",
            "\u001b[0;32m/usr/local/lib/python3.10/dist-packages/torch/nn/modules/module.py\u001b[0m in \u001b[0;36m_wrapped_call_impl\u001b[0;34m(self, *args, **kwargs)\u001b[0m\n\u001b[1;32m   1734\u001b[0m             \u001b[0;32mreturn\u001b[0m \u001b[0mself\u001b[0m\u001b[0;34m.\u001b[0m\u001b[0m_compiled_call_impl\u001b[0m\u001b[0;34m(\u001b[0m\u001b[0;34m*\u001b[0m\u001b[0margs\u001b[0m\u001b[0;34m,\u001b[0m \u001b[0;34m**\u001b[0m\u001b[0mkwargs\u001b[0m\u001b[0;34m)\u001b[0m  \u001b[0;31m# type: ignore[misc]\u001b[0m\u001b[0;34m\u001b[0m\u001b[0;34m\u001b[0m\u001b[0m\n\u001b[1;32m   1735\u001b[0m         \u001b[0;32melse\u001b[0m\u001b[0;34m:\u001b[0m\u001b[0;34m\u001b[0m\u001b[0;34m\u001b[0m\u001b[0m\n\u001b[0;32m-> 1736\u001b[0;31m             \u001b[0;32mreturn\u001b[0m \u001b[0mself\u001b[0m\u001b[0;34m.\u001b[0m\u001b[0m_call_impl\u001b[0m\u001b[0;34m(\u001b[0m\u001b[0;34m*\u001b[0m\u001b[0margs\u001b[0m\u001b[0;34m,\u001b[0m \u001b[0;34m**\u001b[0m\u001b[0mkwargs\u001b[0m\u001b[0;34m)\u001b[0m\u001b[0;34m\u001b[0m\u001b[0;34m\u001b[0m\u001b[0m\n\u001b[0m\u001b[1;32m   1737\u001b[0m \u001b[0;34m\u001b[0m\u001b[0m\n\u001b[1;32m   1738\u001b[0m     \u001b[0;31m# torchrec tests the code consistency with the following code\u001b[0m\u001b[0;34m\u001b[0m\u001b[0;34m\u001b[0m\u001b[0m\n",
            "\u001b[0;32m/usr/local/lib/python3.10/dist-packages/torch/nn/modules/module.py\u001b[0m in \u001b[0;36m_call_impl\u001b[0;34m(self, *args, **kwargs)\u001b[0m\n\u001b[1;32m   1745\u001b[0m                 \u001b[0;32mor\u001b[0m \u001b[0m_global_backward_pre_hooks\u001b[0m \u001b[0;32mor\u001b[0m \u001b[0m_global_backward_hooks\u001b[0m\u001b[0;34m\u001b[0m\u001b[0;34m\u001b[0m\u001b[0m\n\u001b[1;32m   1746\u001b[0m                 or _global_forward_hooks or _global_forward_pre_hooks):\n\u001b[0;32m-> 1747\u001b[0;31m             \u001b[0;32mreturn\u001b[0m \u001b[0mforward_call\u001b[0m\u001b[0;34m(\u001b[0m\u001b[0;34m*\u001b[0m\u001b[0margs\u001b[0m\u001b[0;34m,\u001b[0m \u001b[0;34m**\u001b[0m\u001b[0mkwargs\u001b[0m\u001b[0;34m)\u001b[0m\u001b[0;34m\u001b[0m\u001b[0;34m\u001b[0m\u001b[0m\n\u001b[0m\u001b[1;32m   1748\u001b[0m \u001b[0;34m\u001b[0m\u001b[0m\n\u001b[1;32m   1749\u001b[0m         \u001b[0mresult\u001b[0m \u001b[0;34m=\u001b[0m \u001b[0;32mNone\u001b[0m\u001b[0;34m\u001b[0m\u001b[0;34m\u001b[0m\u001b[0m\n",
            "\u001b[0;32m/usr/local/lib/python3.10/dist-packages/torch_geometric/nn/dense/linear.py\u001b[0m in \u001b[0;36mforward\u001b[0;34m(self, x)\u001b[0m\n\u001b[1;32m    145\u001b[0m             \u001b[0mx\u001b[0m \u001b[0;34m(\u001b[0m\u001b[0mtorch\u001b[0m\u001b[0;34m.\u001b[0m\u001b[0mTensor\u001b[0m\u001b[0;34m)\u001b[0m\u001b[0;34m:\u001b[0m \u001b[0mThe\u001b[0m \u001b[0minput\u001b[0m \u001b[0mfeatures\u001b[0m\u001b[0;34m.\u001b[0m\u001b[0;34m\u001b[0m\u001b[0;34m\u001b[0m\u001b[0m\n\u001b[1;32m    146\u001b[0m         \"\"\"\n\u001b[0;32m--> 147\u001b[0;31m         \u001b[0;32mreturn\u001b[0m \u001b[0mF\u001b[0m\u001b[0;34m.\u001b[0m\u001b[0mlinear\u001b[0m\u001b[0;34m(\u001b[0m\u001b[0mx\u001b[0m\u001b[0;34m,\u001b[0m \u001b[0mself\u001b[0m\u001b[0;34m.\u001b[0m\u001b[0mweight\u001b[0m\u001b[0;34m,\u001b[0m \u001b[0mself\u001b[0m\u001b[0;34m.\u001b[0m\u001b[0mbias\u001b[0m\u001b[0;34m)\u001b[0m\u001b[0;34m\u001b[0m\u001b[0;34m\u001b[0m\u001b[0m\n\u001b[0m\u001b[1;32m    148\u001b[0m \u001b[0;34m\u001b[0m\u001b[0m\n\u001b[1;32m    149\u001b[0m     \u001b[0;34m@\u001b[0m\u001b[0mtorch\u001b[0m\u001b[0;34m.\u001b[0m\u001b[0mno_grad\u001b[0m\u001b[0;34m(\u001b[0m\u001b[0;34m)\u001b[0m\u001b[0;34m\u001b[0m\u001b[0;34m\u001b[0m\u001b[0m\n",
            "\u001b[0;31mKeyboardInterrupt\u001b[0m: "
          ]
        }
      ],
      "source": [
        "for epoch in range(1, 200):\n",
        "    loss = train(model)\n",
        "    train_acc = test(train_loader, model)\n",
        "    val_acc = test(val_loader, model)\n",
        "    test_acc = test(test_loader, model)\n",
        "    print(f'Epoch: {epoch:02d}, Loss: {loss:.4f}, Train: {train_acc:.4f}, 'f'Val: {val_acc:.4f}, Test: {test_acc:.4f}')"
      ]
    },
    {
      "cell_type": "code",
      "source": [
        "class Net2(torch.nn.Module):\n",
        "    def __init__(self, model, in_channels, hidden_channels, out_channels,\n",
        "                 concat=False):\n",
        "        super().__init__()\n",
        "        self.concat = concat\n",
        "\n",
        "        if model == 'GCN':\n",
        "            self.conv1 = GCNConv(in_channels, hidden_channels)\n",
        "        elif model == 'SAGE':\n",
        "            self.conv1 = SAGEConv(in_channels, hidden_channels)\n",
        "        elif model == 'GAT':\n",
        "            self.conv1 = GATConv(in_channels, hidden_channels)\n",
        "\n",
        "        if self.concat:\n",
        "            self.lin0 = Linear(in_channels, hidden_channels)\n",
        "            self.lin1 = Linear(2 * hidden_channels, hidden_channels)\n",
        "\n",
        "        self.lin2 = Linear(hidden_channels, out_channels)\n",
        "\n",
        "    def forward(self, x, edge_index, batch):\n",
        "        h = self.conv1(x, edge_index).relu()\n",
        "        h = global_mean_pool(h, batch)\n",
        "\n",
        "        if self.concat:\n",
        "            # Get the root node (tweet) features of each graph:\n",
        "            root = (batch[1:] - batch[:-1]).nonzero(as_tuple=False).view(-1)\n",
        "            root = torch.cat([root.new_zeros(1), root + 1], dim=0)\n",
        "            news = x[root]\n",
        "\n",
        "            news = self.lin0(news).relu()\n",
        "            h = self.lin1(torch.cat([news, h], dim=-1)).relu()\n",
        "\n",
        "        h = self.lin2(h)\n",
        "        return h.log_softmax(dim=-1)"
      ],
      "metadata": {
        "id": "eRic2snZyB4H"
      },
      "execution_count": null,
      "outputs": []
    },
    {
      "cell_type": "code",
      "source": [
        "model2 = Net2('GAT', train_dataset_bert.num_features, 128, train_dataset_bert.num_classes, concat=True).to(device)\n",
        "optimizer = torch.optim.Adam(model2.parameters(), lr=0.003, weight_decay=0.01)\n",
        "\n",
        "for epoch in range(1, 200):\n",
        "    loss = train(model2)\n",
        "    train_acc = test(train_loader, model2)\n",
        "    val_acc = test(val_loader, model2)\n",
        "    test_acc = test(test_loader, model2)\n",
        "    print(f'Epoch: {epoch:02d}, Loss: {loss:.4f}, Train: {train_acc:.4f}, 'f'Val: {val_acc:.4f}, Test: {test_acc:.4f}')"
      ],
      "metadata": {
        "colab": {
          "base_uri": "https://localhost:8080/",
          "height": 1000
        },
        "id": "XwuycPkTzCfp",
        "outputId": "59f4a77b-8032-4dc7-e2ca-788a39a37d48"
      },
      "execution_count": null,
      "outputs": [
        {
          "output_type": "stream",
          "name": "stdout",
          "text": [
            "Epoch: 01, Loss: 0.7096, Train: 0.5101, Val: 0.4853, Test: 0.4992\n",
            "Epoch: 02, Loss: 0.6878, Train: 0.6969, Val: 0.6850, Test: 0.6743\n",
            "Epoch: 03, Loss: 0.6559, Train: 0.7060, Val: 0.7234, Test: 0.7005\n",
            "Epoch: 04, Loss: 0.5940, Train: 0.7821, Val: 0.7766, Test: 0.7650\n",
            "Epoch: 05, Loss: 0.5017, Train: 0.7875, Val: 0.7821, Test: 0.7546\n",
            "Epoch: 06, Loss: 0.4244, Train: 0.8526, Val: 0.8352, Test: 0.8298\n",
            "Epoch: 07, Loss: 0.3407, Train: 0.8984, Val: 0.8773, Test: 0.8696\n",
            "Epoch: 08, Loss: 0.2846, Train: 0.9130, Val: 0.8974, Test: 0.8871\n",
            "Epoch: 09, Loss: 0.2837, Train: 0.9185, Val: 0.8864, Test: 0.8939\n",
            "Epoch: 10, Loss: 0.2606, Train: 0.9240, Val: 0.8828, Test: 0.8879\n",
            "Epoch: 11, Loss: 0.2154, Train: 0.9377, Val: 0.8901, Test: 0.9064\n",
            "Epoch: 12, Loss: 0.2559, Train: 0.8782, Val: 0.8773, Test: 0.8594\n",
            "Epoch: 13, Loss: 0.2555, Train: 0.9377, Val: 0.8993, Test: 0.9056\n",
            "Epoch: 14, Loss: 0.2006, Train: 0.9560, Val: 0.9084, Test: 0.9151\n",
            "Epoch: 15, Loss: 0.1830, Train: 0.8984, Val: 0.8681, Test: 0.8526\n",
            "Epoch: 16, Loss: 0.1832, Train: 0.9332, Val: 0.8810, Test: 0.8900\n",
            "Epoch: 17, Loss: 0.1600, Train: 0.9359, Val: 0.9066, Test: 0.9059\n",
            "Epoch: 18, Loss: 0.1567, Train: 0.9533, Val: 0.8919, Test: 0.9119\n",
            "Epoch: 19, Loss: 0.1608, Train: 0.9634, Val: 0.8993, Test: 0.9161\n",
            "Epoch: 20, Loss: 0.1325, Train: 0.9579, Val: 0.9066, Test: 0.9109\n",
            "Epoch: 21, Loss: 0.1405, Train: 0.9579, Val: 0.8919, Test: 0.9054\n",
            "Epoch: 22, Loss: 0.1565, Train: 0.8974, Val: 0.8645, Test: 0.8623\n",
            "Epoch: 23, Loss: 0.2113, Train: 0.9652, Val: 0.9176, Test: 0.9232\n",
            "Epoch: 24, Loss: 0.1283, Train: 0.9707, Val: 0.9103, Test: 0.9198\n",
            "Epoch: 25, Loss: 0.1173, Train: 0.9762, Val: 0.9084, Test: 0.9174\n",
            "Epoch: 26, Loss: 0.1294, Train: 0.9707, Val: 0.9066, Test: 0.9148\n",
            "Epoch: 27, Loss: 0.1262, Train: 0.9332, Val: 0.8956, Test: 0.8926\n",
            "Epoch: 28, Loss: 0.1643, Train: 0.8608, Val: 0.8278, Test: 0.8144\n",
            "Epoch: 29, Loss: 0.2361, Train: 0.8480, Val: 0.8187, Test: 0.8068\n",
            "Epoch: 30, Loss: 0.1670, Train: 0.9469, Val: 0.9029, Test: 0.9114\n",
            "Epoch: 31, Loss: 0.1232, Train: 0.9505, Val: 0.8864, Test: 0.8975\n",
            "Epoch: 32, Loss: 0.1363, Train: 0.9551, Val: 0.8846, Test: 0.8988\n",
            "Epoch: 33, Loss: 0.1367, Train: 0.9258, Val: 0.8773, Test: 0.8696\n",
            "Epoch: 34, Loss: 0.1444, Train: 0.9203, Val: 0.8736, Test: 0.8688\n",
            "Epoch: 35, Loss: 0.1583, Train: 0.9725, Val: 0.9139, Test: 0.9229\n",
            "Epoch: 36, Loss: 0.1011, Train: 0.9606, Val: 0.9048, Test: 0.9104\n",
            "Epoch: 37, Loss: 0.1180, Train: 0.9753, Val: 0.9103, Test: 0.9203\n",
            "Epoch: 38, Loss: 0.1210, Train: 0.9716, Val: 0.9029, Test: 0.9132\n",
            "Epoch: 39, Loss: 0.1177, Train: 0.9808, Val: 0.9139, Test: 0.9216\n",
            "Epoch: 40, Loss: 0.0911, Train: 0.9835, Val: 0.9176, Test: 0.9226\n",
            "Epoch: 41, Loss: 0.0986, Train: 0.9670, Val: 0.8956, Test: 0.9119\n",
            "Epoch: 42, Loss: 0.1044, Train: 0.9899, Val: 0.9139, Test: 0.9200\n",
            "Epoch: 43, Loss: 0.0832, Train: 0.9661, Val: 0.9011, Test: 0.9101\n",
            "Epoch: 44, Loss: 0.0830, Train: 0.9753, Val: 0.8938, Test: 0.9054\n",
            "Epoch: 45, Loss: 0.0944, Train: 0.9661, Val: 0.8919, Test: 0.9041\n",
            "Epoch: 46, Loss: 0.0875, Train: 0.9872, Val: 0.9084, Test: 0.9192\n",
            "Epoch: 47, Loss: 0.0756, Train: 0.9899, Val: 0.9176, Test: 0.9174\n"
          ]
        },
        {
          "output_type": "error",
          "ename": "KeyboardInterrupt",
          "evalue": "",
          "traceback": [
            "\u001b[0;31m---------------------------------------------------------------------------\u001b[0m",
            "\u001b[0;31mKeyboardInterrupt\u001b[0m                         Traceback (most recent call last)",
            "\u001b[0;32m<ipython-input-23-d2723bcd1d2b>\u001b[0m in \u001b[0;36m<cell line: 4>\u001b[0;34m()\u001b[0m\n\u001b[1;32m      6\u001b[0m     \u001b[0mtrain_acc\u001b[0m \u001b[0;34m=\u001b[0m \u001b[0mtest\u001b[0m\u001b[0;34m(\u001b[0m\u001b[0mtrain_loader\u001b[0m\u001b[0;34m,\u001b[0m \u001b[0mmodel2\u001b[0m\u001b[0;34m)\u001b[0m\u001b[0;34m\u001b[0m\u001b[0;34m\u001b[0m\u001b[0m\n\u001b[1;32m      7\u001b[0m     \u001b[0mval_acc\u001b[0m \u001b[0;34m=\u001b[0m \u001b[0mtest\u001b[0m\u001b[0;34m(\u001b[0m\u001b[0mval_loader\u001b[0m\u001b[0;34m,\u001b[0m \u001b[0mmodel2\u001b[0m\u001b[0;34m)\u001b[0m\u001b[0;34m\u001b[0m\u001b[0;34m\u001b[0m\u001b[0m\n\u001b[0;32m----> 8\u001b[0;31m     \u001b[0mtest_acc\u001b[0m \u001b[0;34m=\u001b[0m \u001b[0mtest\u001b[0m\u001b[0;34m(\u001b[0m\u001b[0mtest_loader\u001b[0m\u001b[0;34m,\u001b[0m \u001b[0mmodel2\u001b[0m\u001b[0;34m)\u001b[0m\u001b[0;34m\u001b[0m\u001b[0;34m\u001b[0m\u001b[0m\n\u001b[0m\u001b[1;32m      9\u001b[0m     \u001b[0mprint\u001b[0m\u001b[0;34m(\u001b[0m\u001b[0;34mf'Epoch: {epoch:02d}, Loss: {loss:.4f}, Train: {train_acc:.4f}, '\u001b[0m\u001b[0;34mf'Val: {val_acc:.4f}, Test: {test_acc:.4f}'\u001b[0m\u001b[0;34m)\u001b[0m\u001b[0;34m\u001b[0m\u001b[0;34m\u001b[0m\u001b[0m\n",
            "\u001b[0;32m/usr/local/lib/python3.10/dist-packages/torch/utils/_contextlib.py\u001b[0m in \u001b[0;36mdecorate_context\u001b[0;34m(*args, **kwargs)\u001b[0m\n\u001b[1;32m    114\u001b[0m     \u001b[0;32mdef\u001b[0m \u001b[0mdecorate_context\u001b[0m\u001b[0;34m(\u001b[0m\u001b[0;34m*\u001b[0m\u001b[0margs\u001b[0m\u001b[0;34m,\u001b[0m \u001b[0;34m**\u001b[0m\u001b[0mkwargs\u001b[0m\u001b[0;34m)\u001b[0m\u001b[0;34m:\u001b[0m\u001b[0;34m\u001b[0m\u001b[0;34m\u001b[0m\u001b[0m\n\u001b[1;32m    115\u001b[0m         \u001b[0;32mwith\u001b[0m \u001b[0mctx_factory\u001b[0m\u001b[0;34m(\u001b[0m\u001b[0;34m)\u001b[0m\u001b[0;34m:\u001b[0m\u001b[0;34m\u001b[0m\u001b[0;34m\u001b[0m\u001b[0m\n\u001b[0;32m--> 116\u001b[0;31m             \u001b[0;32mreturn\u001b[0m \u001b[0mfunc\u001b[0m\u001b[0;34m(\u001b[0m\u001b[0;34m*\u001b[0m\u001b[0margs\u001b[0m\u001b[0;34m,\u001b[0m \u001b[0;34m**\u001b[0m\u001b[0mkwargs\u001b[0m\u001b[0;34m)\u001b[0m\u001b[0;34m\u001b[0m\u001b[0;34m\u001b[0m\u001b[0m\n\u001b[0m\u001b[1;32m    117\u001b[0m \u001b[0;34m\u001b[0m\u001b[0m\n\u001b[1;32m    118\u001b[0m     \u001b[0;32mreturn\u001b[0m \u001b[0mdecorate_context\u001b[0m\u001b[0;34m\u001b[0m\u001b[0;34m\u001b[0m\u001b[0m\n",
            "\u001b[0;32m<ipython-input-14-f526d289f3aa>\u001b[0m in \u001b[0;36mtest\u001b[0;34m(loader, model)\u001b[0m\n\u001b[1;32m      6\u001b[0m     \u001b[0;32mfor\u001b[0m \u001b[0mdata\u001b[0m \u001b[0;32min\u001b[0m \u001b[0mloader\u001b[0m\u001b[0;34m:\u001b[0m\u001b[0;34m\u001b[0m\u001b[0;34m\u001b[0m\u001b[0m\n\u001b[1;32m      7\u001b[0m         \u001b[0mdata\u001b[0m \u001b[0;34m=\u001b[0m \u001b[0mdata\u001b[0m\u001b[0;34m.\u001b[0m\u001b[0mto\u001b[0m\u001b[0;34m(\u001b[0m\u001b[0mdevice\u001b[0m\u001b[0;34m)\u001b[0m\u001b[0;34m\u001b[0m\u001b[0;34m\u001b[0m\u001b[0m\n\u001b[0;32m----> 8\u001b[0;31m         \u001b[0mpred\u001b[0m \u001b[0;34m=\u001b[0m \u001b[0mmodel\u001b[0m\u001b[0;34m(\u001b[0m\u001b[0mdata\u001b[0m\u001b[0;34m.\u001b[0m\u001b[0mx\u001b[0m\u001b[0;34m,\u001b[0m \u001b[0mdata\u001b[0m\u001b[0;34m.\u001b[0m\u001b[0medge_index\u001b[0m\u001b[0;34m,\u001b[0m \u001b[0mdata\u001b[0m\u001b[0;34m.\u001b[0m\u001b[0mbatch\u001b[0m\u001b[0;34m)\u001b[0m\u001b[0;34m.\u001b[0m\u001b[0margmax\u001b[0m\u001b[0;34m(\u001b[0m\u001b[0mdim\u001b[0m\u001b[0;34m=\u001b[0m\u001b[0;34m-\u001b[0m\u001b[0;36m1\u001b[0m\u001b[0;34m)\u001b[0m\u001b[0;34m\u001b[0m\u001b[0;34m\u001b[0m\u001b[0m\n\u001b[0m\u001b[1;32m      9\u001b[0m         total_correct += int((pred ==\n\u001b[1;32m     10\u001b[0m          data.y).sum())\n",
            "\u001b[0;32m/usr/local/lib/python3.10/dist-packages/torch/nn/modules/module.py\u001b[0m in \u001b[0;36m_wrapped_call_impl\u001b[0;34m(self, *args, **kwargs)\u001b[0m\n\u001b[1;32m   1734\u001b[0m             \u001b[0;32mreturn\u001b[0m \u001b[0mself\u001b[0m\u001b[0;34m.\u001b[0m\u001b[0m_compiled_call_impl\u001b[0m\u001b[0;34m(\u001b[0m\u001b[0;34m*\u001b[0m\u001b[0margs\u001b[0m\u001b[0;34m,\u001b[0m \u001b[0;34m**\u001b[0m\u001b[0mkwargs\u001b[0m\u001b[0;34m)\u001b[0m  \u001b[0;31m# type: ignore[misc]\u001b[0m\u001b[0;34m\u001b[0m\u001b[0;34m\u001b[0m\u001b[0m\n\u001b[1;32m   1735\u001b[0m         \u001b[0;32melse\u001b[0m\u001b[0;34m:\u001b[0m\u001b[0;34m\u001b[0m\u001b[0;34m\u001b[0m\u001b[0m\n\u001b[0;32m-> 1736\u001b[0;31m             \u001b[0;32mreturn\u001b[0m \u001b[0mself\u001b[0m\u001b[0;34m.\u001b[0m\u001b[0m_call_impl\u001b[0m\u001b[0;34m(\u001b[0m\u001b[0;34m*\u001b[0m\u001b[0margs\u001b[0m\u001b[0;34m,\u001b[0m \u001b[0;34m**\u001b[0m\u001b[0mkwargs\u001b[0m\u001b[0;34m)\u001b[0m\u001b[0;34m\u001b[0m\u001b[0;34m\u001b[0m\u001b[0m\n\u001b[0m\u001b[1;32m   1737\u001b[0m \u001b[0;34m\u001b[0m\u001b[0m\n\u001b[1;32m   1738\u001b[0m     \u001b[0;31m# torchrec tests the code consistency with the following code\u001b[0m\u001b[0;34m\u001b[0m\u001b[0;34m\u001b[0m\u001b[0m\n",
            "\u001b[0;32m/usr/local/lib/python3.10/dist-packages/torch/nn/modules/module.py\u001b[0m in \u001b[0;36m_call_impl\u001b[0;34m(self, *args, **kwargs)\u001b[0m\n\u001b[1;32m   1745\u001b[0m                 \u001b[0;32mor\u001b[0m \u001b[0m_global_backward_pre_hooks\u001b[0m \u001b[0;32mor\u001b[0m \u001b[0m_global_backward_hooks\u001b[0m\u001b[0;34m\u001b[0m\u001b[0;34m\u001b[0m\u001b[0m\n\u001b[1;32m   1746\u001b[0m                 or _global_forward_hooks or _global_forward_pre_hooks):\n\u001b[0;32m-> 1747\u001b[0;31m             \u001b[0;32mreturn\u001b[0m \u001b[0mforward_call\u001b[0m\u001b[0;34m(\u001b[0m\u001b[0;34m*\u001b[0m\u001b[0margs\u001b[0m\u001b[0;34m,\u001b[0m \u001b[0;34m**\u001b[0m\u001b[0mkwargs\u001b[0m\u001b[0;34m)\u001b[0m\u001b[0;34m\u001b[0m\u001b[0;34m\u001b[0m\u001b[0m\n\u001b[0m\u001b[1;32m   1748\u001b[0m \u001b[0;34m\u001b[0m\u001b[0m\n\u001b[1;32m   1749\u001b[0m         \u001b[0mresult\u001b[0m \u001b[0;34m=\u001b[0m \u001b[0;32mNone\u001b[0m\u001b[0;34m\u001b[0m\u001b[0;34m\u001b[0m\u001b[0m\n",
            "\u001b[0;32m<ipython-input-16-cb40a05ee818>\u001b[0m in \u001b[0;36mforward\u001b[0;34m(self, x, edge_index, batch)\u001b[0m\n\u001b[1;32m     19\u001b[0m \u001b[0;34m\u001b[0m\u001b[0m\n\u001b[1;32m     20\u001b[0m     \u001b[0;32mdef\u001b[0m \u001b[0mforward\u001b[0m\u001b[0;34m(\u001b[0m\u001b[0mself\u001b[0m\u001b[0;34m,\u001b[0m \u001b[0mx\u001b[0m\u001b[0;34m,\u001b[0m \u001b[0medge_index\u001b[0m\u001b[0;34m,\u001b[0m \u001b[0mbatch\u001b[0m\u001b[0;34m)\u001b[0m\u001b[0;34m:\u001b[0m\u001b[0;34m\u001b[0m\u001b[0;34m\u001b[0m\u001b[0m\n\u001b[0;32m---> 21\u001b[0;31m         \u001b[0mh\u001b[0m \u001b[0;34m=\u001b[0m \u001b[0mself\u001b[0m\u001b[0;34m.\u001b[0m\u001b[0mconv1\u001b[0m\u001b[0;34m(\u001b[0m\u001b[0mx\u001b[0m\u001b[0;34m,\u001b[0m \u001b[0medge_index\u001b[0m\u001b[0;34m)\u001b[0m\u001b[0;34m.\u001b[0m\u001b[0mrelu\u001b[0m\u001b[0;34m(\u001b[0m\u001b[0;34m)\u001b[0m\u001b[0;34m\u001b[0m\u001b[0;34m\u001b[0m\u001b[0m\n\u001b[0m\u001b[1;32m     22\u001b[0m         \u001b[0mh\u001b[0m \u001b[0;34m=\u001b[0m \u001b[0mglobal_mean_pool\u001b[0m\u001b[0;34m(\u001b[0m\u001b[0mh\u001b[0m\u001b[0;34m,\u001b[0m \u001b[0mbatch\u001b[0m\u001b[0;34m)\u001b[0m\u001b[0;34m\u001b[0m\u001b[0;34m\u001b[0m\u001b[0m\n\u001b[1;32m     23\u001b[0m \u001b[0;34m\u001b[0m\u001b[0m\n",
            "\u001b[0;32m/usr/local/lib/python3.10/dist-packages/torch/nn/modules/module.py\u001b[0m in \u001b[0;36m_wrapped_call_impl\u001b[0;34m(self, *args, **kwargs)\u001b[0m\n\u001b[1;32m   1734\u001b[0m             \u001b[0;32mreturn\u001b[0m \u001b[0mself\u001b[0m\u001b[0;34m.\u001b[0m\u001b[0m_compiled_call_impl\u001b[0m\u001b[0;34m(\u001b[0m\u001b[0;34m*\u001b[0m\u001b[0margs\u001b[0m\u001b[0;34m,\u001b[0m \u001b[0;34m**\u001b[0m\u001b[0mkwargs\u001b[0m\u001b[0;34m)\u001b[0m  \u001b[0;31m# type: ignore[misc]\u001b[0m\u001b[0;34m\u001b[0m\u001b[0;34m\u001b[0m\u001b[0m\n\u001b[1;32m   1735\u001b[0m         \u001b[0;32melse\u001b[0m\u001b[0;34m:\u001b[0m\u001b[0;34m\u001b[0m\u001b[0;34m\u001b[0m\u001b[0m\n\u001b[0;32m-> 1736\u001b[0;31m             \u001b[0;32mreturn\u001b[0m \u001b[0mself\u001b[0m\u001b[0;34m.\u001b[0m\u001b[0m_call_impl\u001b[0m\u001b[0;34m(\u001b[0m\u001b[0;34m*\u001b[0m\u001b[0margs\u001b[0m\u001b[0;34m,\u001b[0m \u001b[0;34m**\u001b[0m\u001b[0mkwargs\u001b[0m\u001b[0;34m)\u001b[0m\u001b[0;34m\u001b[0m\u001b[0;34m\u001b[0m\u001b[0m\n\u001b[0m\u001b[1;32m   1737\u001b[0m \u001b[0;34m\u001b[0m\u001b[0m\n\u001b[1;32m   1738\u001b[0m     \u001b[0;31m# torchrec tests the code consistency with the following code\u001b[0m\u001b[0;34m\u001b[0m\u001b[0;34m\u001b[0m\u001b[0m\n",
            "\u001b[0;32m/usr/local/lib/python3.10/dist-packages/torch/nn/modules/module.py\u001b[0m in \u001b[0;36m_call_impl\u001b[0;34m(self, *args, **kwargs)\u001b[0m\n\u001b[1;32m   1745\u001b[0m                 \u001b[0;32mor\u001b[0m \u001b[0m_global_backward_pre_hooks\u001b[0m \u001b[0;32mor\u001b[0m \u001b[0m_global_backward_hooks\u001b[0m\u001b[0;34m\u001b[0m\u001b[0;34m\u001b[0m\u001b[0m\n\u001b[1;32m   1746\u001b[0m                 or _global_forward_hooks or _global_forward_pre_hooks):\n\u001b[0;32m-> 1747\u001b[0;31m             \u001b[0;32mreturn\u001b[0m \u001b[0mforward_call\u001b[0m\u001b[0;34m(\u001b[0m\u001b[0;34m*\u001b[0m\u001b[0margs\u001b[0m\u001b[0;34m,\u001b[0m \u001b[0;34m**\u001b[0m\u001b[0mkwargs\u001b[0m\u001b[0;34m)\u001b[0m\u001b[0;34m\u001b[0m\u001b[0;34m\u001b[0m\u001b[0m\n\u001b[0m\u001b[1;32m   1748\u001b[0m \u001b[0;34m\u001b[0m\u001b[0m\n\u001b[1;32m   1749\u001b[0m         \u001b[0mresult\u001b[0m \u001b[0;34m=\u001b[0m \u001b[0;32mNone\u001b[0m\u001b[0;34m\u001b[0m\u001b[0;34m\u001b[0m\u001b[0m\n",
            "\u001b[0;32m/usr/local/lib/python3.10/dist-packages/torch_geometric/nn/conv/gat_conv.py\u001b[0m in \u001b[0;36mforward\u001b[0;34m(self, x, edge_index, edge_attr, size, return_attention_weights)\u001b[0m\n\u001b[1;32m    364\u001b[0m \u001b[0;34m\u001b[0m\u001b[0m\n\u001b[1;32m    365\u001b[0m         \u001b[0;31m# propagate_type: (x: OptPairTensor, alpha: Tensor)\u001b[0m\u001b[0;34m\u001b[0m\u001b[0;34m\u001b[0m\u001b[0m\n\u001b[0;32m--> 366\u001b[0;31m         \u001b[0mout\u001b[0m \u001b[0;34m=\u001b[0m \u001b[0mself\u001b[0m\u001b[0;34m.\u001b[0m\u001b[0mpropagate\u001b[0m\u001b[0;34m(\u001b[0m\u001b[0medge_index\u001b[0m\u001b[0;34m,\u001b[0m \u001b[0mx\u001b[0m\u001b[0;34m=\u001b[0m\u001b[0mx\u001b[0m\u001b[0;34m,\u001b[0m \u001b[0malpha\u001b[0m\u001b[0;34m=\u001b[0m\u001b[0malpha\u001b[0m\u001b[0;34m,\u001b[0m \u001b[0msize\u001b[0m\u001b[0;34m=\u001b[0m\u001b[0msize\u001b[0m\u001b[0;34m)\u001b[0m\u001b[0;34m\u001b[0m\u001b[0;34m\u001b[0m\u001b[0m\n\u001b[0m\u001b[1;32m    367\u001b[0m \u001b[0;34m\u001b[0m\u001b[0m\n\u001b[1;32m    368\u001b[0m         \u001b[0;32mif\u001b[0m \u001b[0mself\u001b[0m\u001b[0;34m.\u001b[0m\u001b[0mconcat\u001b[0m\u001b[0;34m:\u001b[0m\u001b[0;34m\u001b[0m\u001b[0;34m\u001b[0m\u001b[0m\n",
            "\u001b[0;32m/tmp/torch_geometric.nn.conv.gat_conv_GATConv_propagate_r56csuzp.py\u001b[0m in \u001b[0;36mpropagate\u001b[0;34m(self, edge_index, x, alpha, size)\u001b[0m\n\u001b[1;32m    174\u001b[0m         \u001b[0;31m# End Message Forward Pre Hook #########################################\u001b[0m\u001b[0;34m\u001b[0m\u001b[0;34m\u001b[0m\u001b[0m\n\u001b[1;32m    175\u001b[0m \u001b[0;34m\u001b[0m\u001b[0m\n\u001b[0;32m--> 176\u001b[0;31m         out = self.message(\n\u001b[0m\u001b[1;32m    177\u001b[0m             \u001b[0mx_j\u001b[0m\u001b[0;34m=\u001b[0m\u001b[0mkwargs\u001b[0m\u001b[0;34m.\u001b[0m\u001b[0mx_j\u001b[0m\u001b[0;34m,\u001b[0m\u001b[0;34m\u001b[0m\u001b[0;34m\u001b[0m\u001b[0m\n\u001b[1;32m    178\u001b[0m             \u001b[0malpha\u001b[0m\u001b[0;34m=\u001b[0m\u001b[0mkwargs\u001b[0m\u001b[0;34m.\u001b[0m\u001b[0malpha\u001b[0m\u001b[0;34m,\u001b[0m\u001b[0;34m\u001b[0m\u001b[0;34m\u001b[0m\u001b[0m\n",
            "\u001b[0;31mKeyboardInterrupt\u001b[0m: "
          ]
        }
      ]
    }
  ],
  "metadata": {
    "kernelspec": {
      "display_name": ".venv",
      "language": "python",
      "name": "python3"
    },
    "language_info": {
      "codemirror_mode": {
        "name": "ipython",
        "version": 3
      },
      "file_extension": ".py",
      "mimetype": "text/x-python",
      "name": "python",
      "nbconvert_exporter": "python",
      "pygments_lexer": "ipython3",
      "version": "3.12.3"
    },
    "colab": {
      "provenance": []
    }
  },
  "nbformat": 4,
  "nbformat_minor": 0
}