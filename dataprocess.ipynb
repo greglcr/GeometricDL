{
 "cells": [
  {
   "cell_type": "markdown",
   "metadata": {
    "id": "aBaspb77rgRt"
   },
   "source": [
    "# Graph Deep Learning on Graph to study Fake News"
   ]
  },
  {
   "cell_type": "code",
   "execution_count": 2,
   "metadata": {
    "colab": {
     "base_uri": "https://localhost:8080/"
    },
    "id": "jW6loHtvrgRu",
    "outputId": "170d5b65-7135-4d14-fdc4-e434f7d599c4"
   },
   "outputs": [
    {
     "name": "stdout",
     "output_type": "stream",
     "text": [
      "Requirement already satisfied: dgl in /home/crvr/Ulm/M1/.venv/lib/python3.12/site-packages (2.1.0)\n",
      "Requirement already satisfied: numpy>=1.14.0 in /home/crvr/Ulm/M1/.venv/lib/python3.12/site-packages (from dgl) (2.1.3)\n",
      "Requirement already satisfied: scipy>=1.1.0 in /home/crvr/Ulm/M1/.venv/lib/python3.12/site-packages (from dgl) (1.14.1)\n",
      "Requirement already satisfied: networkx>=2.1 in /home/crvr/Ulm/M1/.venv/lib/python3.12/site-packages (from dgl) (3.4.2)\n",
      "Requirement already satisfied: requests>=2.19.0 in /home/crvr/Ulm/M1/.venv/lib/python3.12/site-packages (from dgl) (2.32.3)\n",
      "Requirement already satisfied: tqdm in /home/crvr/Ulm/M1/.venv/lib/python3.12/site-packages (from dgl) (4.67.1)\n",
      "Requirement already satisfied: psutil>=5.8.0 in /home/crvr/Ulm/M1/.venv/lib/python3.12/site-packages (from dgl) (6.1.0)\n",
      "Requirement already satisfied: torchdata>=0.5.0 in /home/crvr/Ulm/M1/.venv/lib/python3.12/site-packages (from dgl) (0.9.0)\n",
      "Requirement already satisfied: charset-normalizer<4,>=2 in /home/crvr/Ulm/M1/.venv/lib/python3.12/site-packages (from requests>=2.19.0->dgl) (3.4.0)\n",
      "Requirement already satisfied: idna<4,>=2.5 in /home/crvr/Ulm/M1/.venv/lib/python3.12/site-packages (from requests>=2.19.0->dgl) (3.10)\n",
      "Requirement already satisfied: urllib3<3,>=1.21.1 in /home/crvr/Ulm/M1/.venv/lib/python3.12/site-packages (from requests>=2.19.0->dgl) (2.2.3)\n",
      "Requirement already satisfied: certifi>=2017.4.17 in /home/crvr/Ulm/M1/.venv/lib/python3.12/site-packages (from requests>=2.19.0->dgl) (2024.8.30)\n",
      "Requirement already satisfied: torch>=2 in /home/crvr/Ulm/M1/.venv/lib/python3.12/site-packages (from torchdata>=0.5.0->dgl) (2.5.1)\n",
      "Requirement already satisfied: filelock in /home/crvr/Ulm/M1/.venv/lib/python3.12/site-packages (from torch>=2->torchdata>=0.5.0->dgl) (3.16.1)\n",
      "Requirement already satisfied: typing-extensions>=4.8.0 in /home/crvr/Ulm/M1/.venv/lib/python3.12/site-packages (from torch>=2->torchdata>=0.5.0->dgl) (4.12.2)\n",
      "Requirement already satisfied: jinja2 in /home/crvr/Ulm/M1/.venv/lib/python3.12/site-packages (from torch>=2->torchdata>=0.5.0->dgl) (3.1.4)\n",
      "Requirement already satisfied: fsspec in /home/crvr/Ulm/M1/.venv/lib/python3.12/site-packages (from torch>=2->torchdata>=0.5.0->dgl) (2024.10.0)\n",
      "Requirement already satisfied: nvidia-cuda-nvrtc-cu12==12.4.127 in /home/crvr/Ulm/M1/.venv/lib/python3.12/site-packages (from torch>=2->torchdata>=0.5.0->dgl) (12.4.127)\n",
      "Requirement already satisfied: nvidia-cuda-runtime-cu12==12.4.127 in /home/crvr/Ulm/M1/.venv/lib/python3.12/site-packages (from torch>=2->torchdata>=0.5.0->dgl) (12.4.127)\n",
      "Requirement already satisfied: nvidia-cuda-cupti-cu12==12.4.127 in /home/crvr/Ulm/M1/.venv/lib/python3.12/site-packages (from torch>=2->torchdata>=0.5.0->dgl) (12.4.127)\n",
      "Requirement already satisfied: nvidia-cudnn-cu12==9.1.0.70 in /home/crvr/Ulm/M1/.venv/lib/python3.12/site-packages (from torch>=2->torchdata>=0.5.0->dgl) (9.1.0.70)\n",
      "Requirement already satisfied: nvidia-cublas-cu12==12.4.5.8 in /home/crvr/Ulm/M1/.venv/lib/python3.12/site-packages (from torch>=2->torchdata>=0.5.0->dgl) (12.4.5.8)\n",
      "Requirement already satisfied: nvidia-cufft-cu12==11.2.1.3 in /home/crvr/Ulm/M1/.venv/lib/python3.12/site-packages (from torch>=2->torchdata>=0.5.0->dgl) (11.2.1.3)\n",
      "Requirement already satisfied: nvidia-curand-cu12==10.3.5.147 in /home/crvr/Ulm/M1/.venv/lib/python3.12/site-packages (from torch>=2->torchdata>=0.5.0->dgl) (10.3.5.147)\n",
      "Requirement already satisfied: nvidia-cusolver-cu12==11.6.1.9 in /home/crvr/Ulm/M1/.venv/lib/python3.12/site-packages (from torch>=2->torchdata>=0.5.0->dgl) (11.6.1.9)\n",
      "Requirement already satisfied: nvidia-cusparse-cu12==12.3.1.170 in /home/crvr/Ulm/M1/.venv/lib/python3.12/site-packages (from torch>=2->torchdata>=0.5.0->dgl) (12.3.1.170)\n",
      "Requirement already satisfied: nvidia-nccl-cu12==2.21.5 in /home/crvr/Ulm/M1/.venv/lib/python3.12/site-packages (from torch>=2->torchdata>=0.5.0->dgl) (2.21.5)\n",
      "Requirement already satisfied: nvidia-nvtx-cu12==12.4.127 in /home/crvr/Ulm/M1/.venv/lib/python3.12/site-packages (from torch>=2->torchdata>=0.5.0->dgl) (12.4.127)\n",
      "Requirement already satisfied: nvidia-nvjitlink-cu12==12.4.127 in /home/crvr/Ulm/M1/.venv/lib/python3.12/site-packages (from torch>=2->torchdata>=0.5.0->dgl) (12.4.127)\n",
      "Requirement already satisfied: triton==3.1.0 in /home/crvr/Ulm/M1/.venv/lib/python3.12/site-packages (from torch>=2->torchdata>=0.5.0->dgl) (3.1.0)\n",
      "Requirement already satisfied: setuptools in /home/crvr/Ulm/M1/.venv/lib/python3.12/site-packages (from torch>=2->torchdata>=0.5.0->dgl) (75.6.0)\n",
      "Requirement already satisfied: sympy==1.13.1 in /home/crvr/Ulm/M1/.venv/lib/python3.12/site-packages (from torch>=2->torchdata>=0.5.0->dgl) (1.13.1)\n",
      "Requirement already satisfied: mpmath<1.4,>=1.1.0 in /home/crvr/Ulm/M1/.venv/lib/python3.12/site-packages (from sympy==1.13.1->torch>=2->torchdata>=0.5.0->dgl) (1.3.0)\n",
      "Requirement already satisfied: MarkupSafe>=2.0 in /home/crvr/Ulm/M1/.venv/lib/python3.12/site-packages (from jinja2->torch>=2->torchdata>=0.5.0->dgl) (3.0.2)\n"
     ]
    }
   ],
   "source": [
    "!pip install dgl"
   ]
  },
  {
   "cell_type": "code",
   "execution_count": null,
   "metadata": {
    "colab": {
     "base_uri": "https://localhost:8080/"
    },
    "id": "rkdV67aYrgRw",
    "outputId": "8a57c61e-6503-4d0e-8f0c-fd6d22dab6c7"
   },
   "outputs": [
    {
     "name": "stdout",
     "output_type": "stream",
     "text": [
      "Collecting torch_geometric\n",
      "  Downloading torch_geometric-2.6.1-py3-none-any.whl.metadata (63 kB)\n",
      "\u001b[?25l     \u001b[90m━━━━━━━━━━━━━━━━━━━━━━━━━━━━━━━━━━━━━━━━\u001b[0m \u001b[32m0.0/63.1 kB\u001b[0m \u001b[31m?\u001b[0m eta \u001b[36m-:--:--\u001b[0m\r\u001b[2K     \u001b[90m━━━━━━━━━━━━━━━━━━━━━━━━━━━━━━━━━━━━━━━━\u001b[0m \u001b[32m63.1/63.1 kB\u001b[0m \u001b[31m2.1 MB/s\u001b[0m eta \u001b[36m0:00:00\u001b[0m\n",
      "\u001b[?25hRequirement already satisfied: aiohttp in /usr/local/lib/python3.10/dist-packages (from torch_geometric) (3.11.2)\n",
      "Requirement already satisfied: fsspec in /usr/local/lib/python3.10/dist-packages (from torch_geometric) (2024.10.0)\n",
      "Requirement already satisfied: jinja2 in /usr/local/lib/python3.10/dist-packages (from torch_geometric) (3.1.4)\n",
      "Requirement already satisfied: numpy in /usr/local/lib/python3.10/dist-packages (from torch_geometric) (1.26.4)\n",
      "Requirement already satisfied: psutil>=5.8.0 in /usr/local/lib/python3.10/dist-packages (from torch_geometric) (5.9.5)\n",
      "Requirement already satisfied: pyparsing in /usr/local/lib/python3.10/dist-packages (from torch_geometric) (3.2.0)\n",
      "Requirement already satisfied: requests in /usr/local/lib/python3.10/dist-packages (from torch_geometric) (2.32.3)\n",
      "Requirement already satisfied: tqdm in /usr/local/lib/python3.10/dist-packages (from torch_geometric) (4.66.6)\n",
      "Requirement already satisfied: aiohappyeyeballs>=2.3.0 in /usr/local/lib/python3.10/dist-packages (from aiohttp->torch_geometric) (2.4.3)\n",
      "Requirement already satisfied: aiosignal>=1.1.2 in /usr/local/lib/python3.10/dist-packages (from aiohttp->torch_geometric) (1.3.1)\n",
      "Requirement already satisfied: attrs>=17.3.0 in /usr/local/lib/python3.10/dist-packages (from aiohttp->torch_geometric) (24.2.0)\n",
      "Requirement already satisfied: frozenlist>=1.1.1 in /usr/local/lib/python3.10/dist-packages (from aiohttp->torch_geometric) (1.5.0)\n",
      "Requirement already satisfied: multidict<7.0,>=4.5 in /usr/local/lib/python3.10/dist-packages (from aiohttp->torch_geometric) (6.1.0)\n",
      "Requirement already satisfied: propcache>=0.2.0 in /usr/local/lib/python3.10/dist-packages (from aiohttp->torch_geometric) (0.2.0)\n",
      "Requirement already satisfied: yarl<2.0,>=1.17.0 in /usr/local/lib/python3.10/dist-packages (from aiohttp->torch_geometric) (1.17.2)\n",
      "Requirement already satisfied: async-timeout<6.0,>=4.0 in /usr/local/lib/python3.10/dist-packages (from aiohttp->torch_geometric) (4.0.3)\n",
      "Requirement already satisfied: MarkupSafe>=2.0 in /usr/local/lib/python3.10/dist-packages (from jinja2->torch_geometric) (3.0.2)\n",
      "Requirement already satisfied: charset-normalizer<4,>=2 in /usr/local/lib/python3.10/dist-packages (from requests->torch_geometric) (3.4.0)\n",
      "Requirement already satisfied: idna<4,>=2.5 in /usr/local/lib/python3.10/dist-packages (from requests->torch_geometric) (3.10)\n",
      "Requirement already satisfied: urllib3<3,>=1.21.1 in /usr/local/lib/python3.10/dist-packages (from requests->torch_geometric) (2.2.3)\n",
      "Requirement already satisfied: certifi>=2017.4.17 in /usr/local/lib/python3.10/dist-packages (from requests->torch_geometric) (2024.8.30)\n",
      "Requirement already satisfied: typing-extensions>=4.1.0 in /usr/local/lib/python3.10/dist-packages (from multidict<7.0,>=4.5->aiohttp->torch_geometric) (4.12.2)\n",
      "Downloading torch_geometric-2.6.1-py3-none-any.whl (1.1 MB)\n",
      "\u001b[2K   \u001b[90m━━━━━━━━━━━━━━━━━━━━━━━━━━━━━━━━━━━━━━━━\u001b[0m \u001b[32m1.1/1.1 MB\u001b[0m \u001b[31m20.1 MB/s\u001b[0m eta \u001b[36m0:00:00\u001b[0m\n",
      "\u001b[?25hInstalling collected packages: torch_geometric\n",
      "Successfully installed torch_geometric-2.6.1\n"
     ]
    }
   ],
   "source": [
    "!pip install torch_geometric"
   ]
  },
  {
   "cell_type": "code",
   "execution_count": 3,
   "metadata": {
    "id": "VD1gG9E6rgRw"
   },
   "outputs": [],
   "source": [
    "from torch_geometric.datasets import UPFD\n",
    "from torch_geometric.loader import DataLoader\n",
    "from torch_geometric.nn import GATConv, GCNConv, global_mean_pool\n",
    "from torch.nn.modules import Linear\n",
    "from torch_geometric.transforms import ToUndirected\n",
    "from torch.functional import F\n",
    "import torch\n",
    "import argparse\n",
    "import os.path as osp\n"
   ]
  },
  {
   "cell_type": "markdown",
   "metadata": {
    "id": "Q04ZuW_0rgRx"
   },
   "source": [
    "The dataset is initialized there. Note that:\n",
    "- `bert` is the result of a transformer on average tweeets of the author and other info from him/her (as in our article)\n",
    "- `profile` (user profile info such as number of tweets, followers, and join date)\n",
    "- `dataset` is either `politifact` or `gossipcop`\n",
    "\n",
    "Hence this is the same datas as our article except that I struggle to understand their \"Network and relations\" embedding in our original paper: isn't it already in the edges in a message-passing strategy ?"
   ]
  },
  {
   "cell_type": "code",
   "execution_count": null,
   "metadata": {
    "colab": {
     "base_uri": "https://localhost:8080/"
    },
    "id": "S_6UoCPOrgRx",
    "outputId": "54e5363d-91f1-4096-c648-760d12a474b1"
   },
   "outputs": [
    {
     "name": "stdout",
     "output_type": "stream",
     "text": [
      "5464\n"
     ]
    },
    {
     "name": "stderr",
     "output_type": "stream",
     "text": [
      "/home/crvr/Ulm/M1/.venv/lib/python3.12/site-packages/torch_geometric/deprecation.py:26: UserWarning: 'data.DataLoader' is deprecated, use 'loader.DataLoader' instead\n",
      "  warnings.warn(out)\n"
     ]
    }
   ],
   "source": [
    "from torch_geometric.data import DataLoader\n",
    "from torch_geometric.datasets import UPFD\n",
    "import os.path as osp\n",
    "import torch\n",
    "\n",
    "# Paths and settings\n",
    "_file_ = '..'\n",
    "file = _file_\n",
    "dataset = 'gossipcop'  # or 'politifact'\n",
    "path = osp.join(osp.dirname(osp.realpath(file)), '..', 'data', 'UPFD')\n",
    "\n",
    "# Load datasets with bert and profile features separately\n",
    "train_dataset_bert = UPFD(path, dataset, 'bert', 'train')\n",
    "train_dataset_profile = UPFD(path, dataset, 'profile', 'train')\n",
    "\n",
    "val_dataset_bert = UPFD(path, dataset, 'bert', 'val')\n",
    "val_dataset_profile = UPFD(path, dataset, 'profile', 'val')\n",
    "\n",
    "test_dataset_bert = UPFD(path, dataset, 'bert', 'test')\n",
    "test_dataset_profile = UPFD(path, dataset, 'profile', 'test')\n",
    "\n",
    "# Check that both datasets are aligned\n",
    "assert len(train_dataset_bert) == len(train_dataset_profile)\n",
    "assert len(val_dataset_bert) == len(val_dataset_profile)\n",
    "assert len(test_dataset_bert) == len(test_dataset_profile)\n",
    "\n",
    "# Function to combine features\n",
    "def combine_features(dataset_bert, dataset_profile):\n",
    "    combined_data = []\n",
    "    for data_bert, data_profile in zip(dataset_bert, dataset_profile):\n",
    "        data_bert.x = torch.cat([data_bert.x, data_profile.x], dim=-1)  # Concatenate features\n",
    "        combined_data.append(data_bert)\n",
    "    return combined_data\n",
    "\n",
    "# Combine features for train, val, and test datasets\n",
    "\n",
    "train_dataset = combine_features(train_dataset_bert, train_dataset_profile)\n",
    "val_dataset = combine_features(val_dataset_bert, val_dataset_profile)\n",
    "test_dataset = combine_features(test_dataset_bert, test_dataset_profile)\n",
    "\n",
    "\n",
    "# Create DataLoaders\n",
    "train_loader = DataLoader(train_dataset, batch_size=128, shuffle=True) # In the article they use a batch size of 1 but we do not have the power to do it (it takes too much time).\n",
    "val_loader = DataLoader(val_dataset, batch_size=128, shuffle=False)\n",
    "test_loader = DataLoader(test_dataset, batch_size=128, shuffle=False)\n",
    "print(len(train_dataset) + len(val_dataset) + len(test_dataset))"
   ]
  },
  {
   "cell_type": "code",
   "execution_count": 17,
   "metadata": {
    "colab": {
     "base_uri": "https://localhost:8080/",
     "height": 211
    },
    "id": "Nysh0Cs8rgRz",
    "outputId": "e86afd52-10d9-4a00-9b18-331c09e2a286"
   },
   "outputs": [
    {
     "name": "stdout",
     "output_type": "stream",
     "text": [
      "torch.Size([76, 768])\n",
      "6883\n",
      "[63, 82, 51, 53, 66, 152, 8, 72, 26, 91, 152, 18, 78, 85, 9, 51, 11, 71, 18, 12, 32, 76, 44, 19, 28, 31, 49, 14, 189, 144, 51, 20, 82, 92, 79, 23, 6, 60, 142, 6, 12, 95, 23, 33, 183, 49, 55, 50, 107, 77, 56, 37, 96, 70, 6, 186, 13, 182, 66, 45, 145, 86, 55, 139, 21, 123, 12, 21, 110, 48, 5, 125, 64, 12, 133, 76, 16, 10, 77, 31, 59, 18, 36, 85, 21, 124, 86, 5, 9, 9, 167, 139, 72, 76, 91, 19, 47, 136, 55, 57, 20, 78, 53, 16, 113, 71, 20, 17, 11, 117, 58, 74, 94, 45, 56, 41, 10, 23, 73, 79, 12, 11, 9, 83, 96, 7, 45, 13]\n"
     ]
    }
   ],
   "source": [
    "print(train_dataset_bert[0].x.shape)\n",
    "print(sum([e.x.shape[0] for e in train_dataset_bert[0:128] ]))\n",
    "for e in train_loader:\n",
    "    s = [0 for i in range(128)]\n",
    "    for k in e.batch:\n",
    "        s[k]+=1\n",
    "    print(s)\n",
    "    break"
   ]
  },
  {
   "cell_type": "code",
   "execution_count": 18,
   "metadata": {
    "colab": {
     "base_uri": "https://localhost:8080/"
    },
    "id": "P7Bwt_wurgR0",
    "outputId": "585baa22-f451-4917-a57f-5d2cea4744e8"
   },
   "outputs": [
    {
     "name": "stdout",
     "output_type": "stream",
     "text": [
      "UPFD(1092, name=gossipcop, feature=bert)\n",
      "tensor([0])\n",
      "tensor([[-0.0848, -0.2643, -0.2449,  ...,  0.6794,  0.1175,  0.1534],\n",
      "        [ 0.1415, -0.0493, -0.1443,  ...,  0.0890,  0.1111,  0.1324],\n",
      "        [-0.0319,  0.0562,  0.4386,  ...,  0.4658,  0.1667,  0.1765],\n",
      "        ...,\n",
      "        [ 0.0231,  0.1641,  0.0682,  ...,  0.8904,  0.1111,  0.0588],\n",
      "        [-0.0714,  0.1860,  0.1526,  ...,  0.6233,  0.2222,  0.3529],\n",
      "        [ 0.0569,  0.1775,  0.1596,  ...,  0.7740,  0.1111,  0.2500]])\n",
      "tensor([[ 0,  0,  0,  0,  0,  0,  0,  0,  0,  0,  0,  0,  0,  0,  0,  0,  0,  0,\n",
      "          0,  0,  0,  0,  0,  0,  0,  0,  0,  0,  0,  0,  0,  0,  0,  0,  0,  0,\n",
      "          0,  0,  0,  0,  0,  0,  0,  0,  0,  0,  0,  0,  0,  0,  0,  0,  0,  0,\n",
      "          0,  0,  0,  0,  0,  0,  0,  0,  0,  0,  0,  0,  0,  0,  0,  0,  0,  0,\n",
      "          1, 70, 74],\n",
      "        [ 1,  2,  3,  4,  5,  6,  7,  8,  9, 10, 11, 12, 13, 14, 15, 16, 17, 18,\n",
      "         19, 20, 21, 22, 23, 24, 25, 26, 27, 28, 29, 30, 31, 32, 33, 34, 35, 36,\n",
      "         37, 38, 39, 40, 41, 42, 43, 44, 45, 46, 47, 48, 49, 50, 51, 52, 53, 54,\n",
      "         55, 56, 57, 58, 59, 60, 61, 62, 63, 64, 65, 66, 67, 68, 69, 70, 71, 72,\n",
      "         73, 74, 75]])\n"
     ]
    }
   ],
   "source": [
    "print(train_dataset_bert)\n",
    "print(train_dataset[0].y)\n",
    "print(train_dataset[0].x)\n",
    "print(train_dataset[0].edge_index)\n",
    "#train_dataset[i] représente l'arbre i\n",
    "#Le champ x représente la valeur des noeud, il est de taille (n, 778).\n",
    "#Le champ edge index représente les connexion dans l'abre. Il est de taille (2, n - 1). edge_index[0][i] est\n",
    "#le père de edge_index[1][i]. En pratique, il se trouve que edge_index[1][i] est toujours un linespace, ce qui est possible\n",
    "#Le champ y représente si c'est un graphe de fake news ou pas"
   ]
  },
  {
   "cell_type": "code",
   "execution_count": null,
   "metadata": {
    "id": "Ve9FXUrZrgR1"
   },
   "outputs": [],
   "source": []
  },
  {
   "cell_type": "markdown",
   "metadata": {
    "id": "WQLdOvckrgR1"
   },
   "source": [
    "### Model"
   ]
  },
  {
   "cell_type": "code",
   "execution_count": null,
   "metadata": {
    "id": "FpPXCnZXrgR1"
   },
   "outputs": [],
   "source": [
    "class Net(torch.nn.Module):\n",
    "    \"\"\"\n",
    "    This is the same model as the article. They do not specify the dimensions of hidden channels so this is our choice.\n",
    "    They do not specify the convolution method,  GCN seems to be the best.\n",
    "    \"\"\"\n",
    "    def __init__(self, in_channels, hidden_channels, out_channels, concat=False):\n",
    "        super().__init__()\n",
    "        self.concat = concat\n",
    "        self.conv1 = GCNConv(in_channels, hidden_channels)\n",
    "        self.conv2 = GCNConv(hidden_channels, hidden_channels)\n",
    "        #self.conv1 = GATConv(in_channels, hidden_channels)\n",
    "        #self.conv2 = GATConv(hidden_channels, hidden_channels)\n",
    "        self.mean_pooling = global_mean_pool\n",
    "        self.lin1 = Linear(hidden_channels, 2 * hidden_channels)\n",
    "        self.lin2 = Linear(2*hidden_channels,2)\n",
    "\n",
    "    def forward(self, x, edge_index, batch):\n",
    "        x = self.conv1(x, edge_index)\n",
    "        x = torch.nn.functional.selu(x)\n",
    "        x = self.conv2(x, edge_index)\n",
    "        x = torch.nn.functional.selu(x)\n",
    "        x = self.mean_pooling(x, batch)\n",
    "        x = torch.nn.functional.selu(x)\n",
    "        x = self.lin1(x)\n",
    "        x = torch.nn.functional.selu(x)\n",
    "        x = self.lin2(x)\n",
    "        return x.softmax(dim=-1)"
   ]
  },
  {
   "cell_type": "code",
   "execution_count": null,
   "metadata": {
    "id": "NRqvxtFxrgR2"
   },
   "outputs": [],
   "source": [
    "device = torch.device('cuda' if torch.cuda.is_available() else 'cpu')\n",
    "model = Net(778, 128,train_dataset_bert.num_classes, concat=True).to(device)\n",
    "optimizer = torch.optim.Adam(model.parameters(), lr=5e-4, weight_decay=0.01,amsgrad=True) # They precise that they use a 5e-4 AMSGrad. here we add a bit of weight decay to avoid over-fitting."
   ]
  },
  {
   "cell_type": "code",
   "execution_count": null,
   "metadata": {
    "id": "YhD5fSborgR2"
   },
   "outputs": [],
   "source": [
    "loss_fn = torch.nn.HingeEmbeddingLoss() # They specify that they want  the HingeEmbeddingLoss so we used it. \n",
    "def train(model):\n",
    "    model.train()\n",
    "    total_loss = 0\n",
    "    for data in train_loader:\n",
    "        data = data.to(device)\n",
    "        optimizer.zero_grad()\n",
    "        out = model(data.x, data.edge_index, data.batch)\n",
    "        y = torch.tensor([[1,0] if e==1 else [0,1] for e in data.y]).to(device)\n",
    "        loss = loss_fn(out,y)\n",
    "        loss.backward()\n",
    "        optimizer.step()\n",
    "        total_loss += float(loss) * data.num_graphs\n",
    "\n",
    "    return total_loss / len(train_loader.dataset)"
   ]
  },
  {
   "cell_type": "code",
   "execution_count": 37,
   "metadata": {
    "id": "hhPWE9HxrgR2"
   },
   "outputs": [],
   "source": [
    "@torch.no_grad()\n",
    "def test(loader, model):\n",
    "    model.eval()\n",
    "\n",
    "    total_correct = total_examples = 0\n",
    "    for data in loader:\n",
    "        data = data.to(device)\n",
    "        pred = model(data.x, data.edge_index, data.batch).argmax(dim=-1)\n",
    "        total_correct += int((pred ==\n",
    "         data.y).sum())\n",
    "        total_examples += data.num_graphs\n",
    "\n",
    "    return total_correct / total_examples"
   ]
  },
  {
   "cell_type": "code",
   "execution_count": 38,
   "metadata": {
    "colab": {
     "background_save": true,
     "base_uri": "https://localhost:8080/"
    },
    "id": "hyfbLdBArgR2",
    "outputId": "1922d59d-d11e-459f-85ca-6673ebf1316a"
   },
   "outputs": [
    {
     "name": "stdout",
     "output_type": "stream",
     "text": [
      "Epoch: 01, Loss: 0.7501, Train: 0.5101, Val: 0.4853, Test: 0.4992\n",
      "Epoch: 02, Loss: 0.7423, Train: 0.5101, Val: 0.4853, Test: 0.4992\n",
      "Epoch: 03, Loss: 0.7349, Train: 0.6886, Val: 0.6703, Test: 0.6722\n",
      "Epoch: 04, Loss: 0.7193, Train: 0.6603, Val: 0.6685, Test: 0.6560\n",
      "Epoch: 05, Loss: 0.6903, Train: 0.7152, Val: 0.7125, Test: 0.6981\n",
      "Epoch: 06, Loss: 0.6766, Train: 0.7344, Val: 0.7289, Test: 0.7091\n",
      "Epoch: 07, Loss: 0.6517, Train: 0.7628, Val: 0.7546, Test: 0.7394\n",
      "Epoch: 08, Loss: 0.6359, Train: 0.7592, Val: 0.7418, Test: 0.7342\n",
      "Epoch: 09, Loss: 0.6255, Train: 0.7885, Val: 0.7802, Test: 0.7517\n",
      "Epoch: 10, Loss: 0.6252, Train: 0.7857, Val: 0.7692, Test: 0.7517\n",
      "Epoch: 11, Loss: 0.6148, Train: 0.7995, Val: 0.7729, Test: 0.7554\n",
      "Epoch: 12, Loss: 0.6309, Train: 0.7546, Val: 0.7216, Test: 0.7148\n",
      "Epoch: 13, Loss: 0.6250, Train: 0.7454, Val: 0.7216, Test: 0.7070\n",
      "Epoch: 14, Loss: 0.6154, Train: 0.7756, Val: 0.7546, Test: 0.7394\n",
      "Epoch: 15, Loss: 0.6065, Train: 0.8132, Val: 0.7894, Test: 0.7650\n",
      "Epoch: 16, Loss: 0.6057, Train: 0.7921, Val: 0.7747, Test: 0.7527\n",
      "Epoch: 17, Loss: 0.5978, Train: 0.8315, Val: 0.7839, Test: 0.7682\n",
      "Epoch: 18, Loss: 0.5960, Train: 0.8159, Val: 0.7949, Test: 0.7637\n",
      "Epoch: 19, Loss: 0.6003, Train: 0.8324, Val: 0.7985, Test: 0.7700\n",
      "Epoch: 20, Loss: 0.6046, Train: 0.8297, Val: 0.7674, Test: 0.7640\n",
      "Epoch: 21, Loss: 0.5989, Train: 0.8480, Val: 0.7766, Test: 0.7716\n",
      "Epoch: 22, Loss: 0.5926, Train: 0.8397, Val: 0.7967, Test: 0.7760\n",
      "Epoch: 23, Loss: 0.5933, Train: 0.7619, Val: 0.7271, Test: 0.7250\n",
      "Epoch: 24, Loss: 0.6053, Train: 0.7738, Val: 0.7418, Test: 0.7321\n",
      "Epoch: 25, Loss: 0.6145, Train: 0.8471, Val: 0.7729, Test: 0.7781\n",
      "Epoch: 26, Loss: 0.5922, Train: 0.8388, Val: 0.7802, Test: 0.7708\n",
      "Epoch: 27, Loss: 0.5966, Train: 0.8388, Val: 0.7875, Test: 0.7713\n",
      "Epoch: 28, Loss: 0.5863, Train: 0.8562, Val: 0.7857, Test: 0.7841\n",
      "Epoch: 29, Loss: 0.5818, Train: 0.8581, Val: 0.7747, Test: 0.7802\n",
      "Epoch: 30, Loss: 0.6011, Train: 0.7198, Val: 0.7070, Test: 0.6835\n",
      "Epoch: 31, Loss: 0.6154, Train: 0.7976, Val: 0.7491, Test: 0.7423\n",
      "Epoch: 32, Loss: 0.6033, Train: 0.8333, Val: 0.7729, Test: 0.7716\n",
      "Epoch: 33, Loss: 0.6024, Train: 0.8507, Val: 0.7747, Test: 0.7773\n",
      "Epoch: 34, Loss: 0.5885, Train: 0.8443, Val: 0.7674, Test: 0.7692\n",
      "Epoch: 35, Loss: 0.5848, Train: 0.8571, Val: 0.8059, Test: 0.7752\n",
      "Epoch: 36, Loss: 0.5786, Train: 0.8636, Val: 0.7930, Test: 0.7778\n",
      "Epoch: 37, Loss: 0.5757, Train: 0.8846, Val: 0.7894, Test: 0.7859\n",
      "Epoch: 38, Loss: 0.5777, Train: 0.8901, Val: 0.7949, Test: 0.7886\n",
      "Epoch: 39, Loss: 0.5694, Train: 0.8929, Val: 0.7912, Test: 0.7922\n",
      "Epoch: 40, Loss: 0.5669, Train: 0.8965, Val: 0.8022, Test: 0.7922\n",
      "Epoch: 41, Loss: 0.5687, Train: 0.8965, Val: 0.7930, Test: 0.7933\n",
      "Epoch: 42, Loss: 0.5645, Train: 0.8947, Val: 0.7985, Test: 0.7880\n",
      "Epoch: 43, Loss: 0.5635, Train: 0.8782, Val: 0.8022, Test: 0.7802\n",
      "Epoch: 44, Loss: 0.5684, Train: 0.9066, Val: 0.7967, Test: 0.7940\n",
      "Epoch: 45, Loss: 0.5596, Train: 0.8379, Val: 0.7912, Test: 0.7650\n",
      "Epoch: 46, Loss: 0.5775, Train: 0.8993, Val: 0.7949, Test: 0.7872\n",
      "Epoch: 47, Loss: 0.5657, Train: 0.8929, Val: 0.8059, Test: 0.7875\n",
      "Epoch: 48, Loss: 0.5627, Train: 0.9093, Val: 0.8022, Test: 0.7946\n",
      "Epoch: 49, Loss: 0.5566, Train: 0.9002, Val: 0.7857, Test: 0.7935\n",
      "Epoch: 50, Loss: 0.5764, Train: 0.7500, Val: 0.6996, Test: 0.7151\n",
      "Epoch: 51, Loss: 0.6122, Train: 0.7473, Val: 0.6996, Test: 0.7044\n",
      "Epoch: 52, Loss: 0.5897, Train: 0.8755, Val: 0.7839, Test: 0.7896\n",
      "Epoch: 53, Loss: 0.5713, Train: 0.8782, Val: 0.7985, Test: 0.7841\n",
      "Epoch: 54, Loss: 0.5677, Train: 0.8919, Val: 0.7912, Test: 0.7893\n",
      "Epoch: 55, Loss: 0.5596, Train: 0.9057, Val: 0.7985, Test: 0.7972\n",
      "Epoch: 56, Loss: 0.5583, Train: 0.8901, Val: 0.8022, Test: 0.7828\n",
      "Epoch: 57, Loss: 0.5606, Train: 0.9020, Val: 0.7912, Test: 0.7878\n",
      "Epoch: 58, Loss: 0.5617, Train: 0.9121, Val: 0.7949, Test: 0.7974\n",
      "Epoch: 59, Loss: 0.5537, Train: 0.9103, Val: 0.8077, Test: 0.7922\n",
      "Epoch: 60, Loss: 0.5602, Train: 0.9158, Val: 0.7930, Test: 0.7990\n",
      "Epoch: 61, Loss: 0.5572, Train: 0.8526, Val: 0.7766, Test: 0.7708\n",
      "Epoch: 62, Loss: 0.5678, Train: 0.8544, Val: 0.7985, Test: 0.7700\n",
      "Epoch: 63, Loss: 0.5574, Train: 0.8965, Val: 0.7967, Test: 0.7930\n",
      "Epoch: 64, Loss: 0.5715, Train: 0.8425, Val: 0.7711, Test: 0.7593\n",
      "Epoch: 65, Loss: 0.5821, Train: 0.8901, Val: 0.7857, Test: 0.7919\n",
      "Epoch: 66, Loss: 0.5586, Train: 0.9048, Val: 0.8004, Test: 0.7940\n",
      "Epoch: 67, Loss: 0.5545, Train: 0.9093, Val: 0.8022, Test: 0.7959\n",
      "Epoch: 68, Loss: 0.5546, Train: 0.9103, Val: 0.8095, Test: 0.7927\n",
      "Epoch: 69, Loss: 0.5507, Train: 0.9176, Val: 0.7875, Test: 0.7977\n",
      "Epoch: 70, Loss: 0.5491, Train: 0.9212, Val: 0.8004, Test: 0.7998\n",
      "Epoch: 71, Loss: 0.5471, Train: 0.9304, Val: 0.8077, Test: 0.8014\n",
      "Epoch: 72, Loss: 0.5479, Train: 0.9304, Val: 0.8077, Test: 0.8001\n",
      "Epoch: 73, Loss: 0.5484, Train: 0.9332, Val: 0.8095, Test: 0.8016\n",
      "Epoch: 74, Loss: 0.5478, Train: 0.9185, Val: 0.8095, Test: 0.7875\n",
      "Epoch: 75, Loss: 0.5545, Train: 0.9130, Val: 0.8114, Test: 0.7867\n",
      "Epoch: 76, Loss: 0.5486, Train: 0.9313, Val: 0.8059, Test: 0.8055\n",
      "Epoch: 77, Loss: 0.5466, Train: 0.9295, Val: 0.8114, Test: 0.7972\n",
      "Epoch: 78, Loss: 0.5584, Train: 0.9121, Val: 0.7930, Test: 0.7987\n",
      "Epoch: 79, Loss: 0.5546, Train: 0.9075, Val: 0.7802, Test: 0.7922\n",
      "Epoch: 80, Loss: 0.5580, Train: 0.9130, Val: 0.7930, Test: 0.7948\n",
      "Epoch: 81, Loss: 0.5537, Train: 0.9295, Val: 0.8095, Test: 0.8050\n",
      "Epoch: 82, Loss: 0.5467, Train: 0.9194, Val: 0.8132, Test: 0.7914\n",
      "Epoch: 83, Loss: 0.5526, Train: 0.9359, Val: 0.8132, Test: 0.8027\n",
      "Epoch: 84, Loss: 0.5451, Train: 0.9377, Val: 0.8114, Test: 0.8055\n",
      "Epoch: 85, Loss: 0.5523, Train: 0.9359, Val: 0.8132, Test: 0.8071\n",
      "Epoch: 86, Loss: 0.5430, Train: 0.9396, Val: 0.8187, Test: 0.8003\n",
      "Epoch: 87, Loss: 0.5453, Train: 0.9267, Val: 0.8077, Test: 0.7974\n",
      "Epoch: 88, Loss: 0.5442, Train: 0.9414, Val: 0.8132, Test: 0.8058\n",
      "Epoch: 89, Loss: 0.5435, Train: 0.9158, Val: 0.8114, Test: 0.7828\n",
      "Epoch: 90, Loss: 0.5539, Train: 0.8974, Val: 0.7967, Test: 0.7734\n",
      "Epoch: 91, Loss: 0.5489, Train: 0.9405, Val: 0.8077, Test: 0.8074\n",
      "Epoch: 92, Loss: 0.5404, Train: 0.9414, Val: 0.8095, Test: 0.8076\n",
      "Epoch: 93, Loss: 0.5393, Train: 0.9423, Val: 0.8114, Test: 0.8074\n",
      "Epoch: 94, Loss: 0.5403, Train: 0.9469, Val: 0.8095, Test: 0.8040\n",
      "Epoch: 95, Loss: 0.5455, Train: 0.8636, Val: 0.7802, Test: 0.7763\n",
      "Epoch: 96, Loss: 0.5557, Train: 0.9414, Val: 0.8114, Test: 0.8037\n",
      "Epoch: 97, Loss: 0.5467, Train: 0.9460, Val: 0.8114, Test: 0.8084\n",
      "Epoch: 98, Loss: 0.5395, Train: 0.9405, Val: 0.8059, Test: 0.7956\n",
      "Epoch: 99, Loss: 0.5430, Train: 0.9460, Val: 0.8059, Test: 0.8045\n",
      "Epoch: 100, Loss: 0.5390, Train: 0.9460, Val: 0.8150, Test: 0.8016\n",
      "Epoch: 101, Loss: 0.5403, Train: 0.8443, Val: 0.7766, Test: 0.7648\n",
      "Epoch: 102, Loss: 0.5530, Train: 0.8480, Val: 0.7766, Test: 0.7692\n",
      "Epoch: 103, Loss: 0.5587, Train: 0.9048, Val: 0.7949, Test: 0.7922\n",
      "Epoch: 104, Loss: 0.5630, Train: 0.9121, Val: 0.8095, Test: 0.7930\n",
      "Epoch: 105, Loss: 0.5536, Train: 0.9332, Val: 0.8040, Test: 0.8019\n",
      "Epoch: 106, Loss: 0.5440, Train: 0.9396, Val: 0.8114, Test: 0.8024\n",
      "Epoch: 107, Loss: 0.5421, Train: 0.9432, Val: 0.8059, Test: 0.8105\n",
      "Epoch: 108, Loss: 0.5412, Train: 0.9414, Val: 0.8132, Test: 0.8055\n",
      "Epoch: 109, Loss: 0.5416, Train: 0.9167, Val: 0.8022, Test: 0.7831\n",
      "Epoch: 110, Loss: 0.5456, Train: 0.9460, Val: 0.8095, Test: 0.8082\n",
      "Epoch: 111, Loss: 0.5406, Train: 0.9240, Val: 0.8077, Test: 0.7865\n",
      "Epoch: 112, Loss: 0.5404, Train: 0.9469, Val: 0.8132, Test: 0.8032\n",
      "Epoch: 113, Loss: 0.5433, Train: 0.9524, Val: 0.8114, Test: 0.8092\n",
      "Epoch: 114, Loss: 0.5458, Train: 0.9341, Val: 0.8059, Test: 0.8008\n",
      "Epoch: 115, Loss: 0.5501, Train: 0.9460, Val: 0.8114, Test: 0.8076\n",
      "Epoch: 116, Loss: 0.5486, Train: 0.8690, Val: 0.7839, Test: 0.7820\n",
      "Epoch: 117, Loss: 0.5625, Train: 0.8407, Val: 0.7747, Test: 0.7595\n",
      "Epoch: 118, Loss: 0.5628, Train: 0.9121, Val: 0.7985, Test: 0.7959\n",
      "Epoch: 119, Loss: 0.5435, Train: 0.9377, Val: 0.8004, Test: 0.8092\n",
      "Epoch: 120, Loss: 0.5412, Train: 0.9460, Val: 0.8187, Test: 0.8058\n",
      "Epoch: 121, Loss: 0.5370, Train: 0.9487, Val: 0.8114, Test: 0.8042\n",
      "Epoch: 122, Loss: 0.5383, Train: 0.9533, Val: 0.8150, Test: 0.8076\n",
      "Epoch: 123, Loss: 0.5388, Train: 0.9386, Val: 0.7967, Test: 0.8021\n",
      "Epoch: 124, Loss: 0.5460, Train: 0.9258, Val: 0.7912, Test: 0.7940\n",
      "Epoch: 125, Loss: 0.5488, Train: 0.9423, Val: 0.7985, Test: 0.8058\n",
      "Epoch: 126, Loss: 0.5373, Train: 0.9341, Val: 0.8022, Test: 0.7888\n",
      "Epoch: 127, Loss: 0.5447, Train: 0.9212, Val: 0.8077, Test: 0.7836\n",
      "Epoch: 128, Loss: 0.5440, Train: 0.9478, Val: 0.8095, Test: 0.8003\n",
      "Epoch: 129, Loss: 0.5342, Train: 0.9560, Val: 0.8095, Test: 0.8074\n",
      "Epoch: 130, Loss: 0.5332, Train: 0.9533, Val: 0.8077, Test: 0.8097\n",
      "Epoch: 131, Loss: 0.5336, Train: 0.9542, Val: 0.8114, Test: 0.8108\n",
      "Epoch: 132, Loss: 0.5322, Train: 0.9496, Val: 0.7967, Test: 0.8021\n",
      "Epoch: 133, Loss: 0.5351, Train: 0.9505, Val: 0.8040, Test: 0.8045\n",
      "Epoch: 134, Loss: 0.5357, Train: 0.9103, Val: 0.7875, Test: 0.7917\n",
      "Epoch: 135, Loss: 0.5447, Train: 0.9524, Val: 0.8095, Test: 0.8063\n",
      "Epoch: 136, Loss: 0.5384, Train: 0.9405, Val: 0.7930, Test: 0.8011\n",
      "Epoch: 137, Loss: 0.5416, Train: 0.8938, Val: 0.7857, Test: 0.7828\n",
      "Epoch: 138, Loss: 0.5467, Train: 0.8782, Val: 0.7821, Test: 0.7799\n",
      "Epoch: 139, Loss: 0.5505, Train: 0.9487, Val: 0.8022, Test: 0.8079\n",
      "Epoch: 140, Loss: 0.5486, Train: 0.8571, Val: 0.7875, Test: 0.7663\n",
      "Epoch: 141, Loss: 0.5541, Train: 0.9185, Val: 0.7930, Test: 0.7972\n",
      "Epoch: 142, Loss: 0.5436, Train: 0.9423, Val: 0.8077, Test: 0.8055\n",
      "Epoch: 143, Loss: 0.5390, Train: 0.9560, Val: 0.8132, Test: 0.8063\n",
      "Epoch: 144, Loss: 0.5360, Train: 0.9505, Val: 0.8077, Test: 0.8076\n",
      "Epoch: 145, Loss: 0.5370, Train: 0.9524, Val: 0.8077, Test: 0.8048\n",
      "Epoch: 146, Loss: 0.5322, Train: 0.9478, Val: 0.7894, Test: 0.8058\n",
      "Epoch: 147, Loss: 0.5335, Train: 0.9396, Val: 0.8004, Test: 0.8016\n",
      "Epoch: 148, Loss: 0.5330, Train: 0.9579, Val: 0.8132, Test: 0.8016\n",
      "Epoch: 149, Loss: 0.5355, Train: 0.9267, Val: 0.7967, Test: 0.7870\n",
      "Epoch: 150, Loss: 0.5345, Train: 0.9542, Val: 0.8059, Test: 0.8076\n",
      "Epoch: 151, Loss: 0.5348, Train: 0.9267, Val: 0.7930, Test: 0.7985\n",
      "Epoch: 152, Loss: 0.5348, Train: 0.9579, Val: 0.8114, Test: 0.8058\n",
      "Epoch: 153, Loss: 0.5309, Train: 0.9606, Val: 0.8114, Test: 0.8105\n",
      "Epoch: 154, Loss: 0.5304, Train: 0.9579, Val: 0.8095, Test: 0.8050\n",
      "Epoch: 155, Loss: 0.5348, Train: 0.9148, Val: 0.7875, Test: 0.7888\n",
      "Epoch: 156, Loss: 0.5396, Train: 0.9515, Val: 0.7985, Test: 0.8032\n",
      "Epoch: 157, Loss: 0.5340, Train: 0.9533, Val: 0.8077, Test: 0.8045\n",
      "Epoch: 158, Loss: 0.5352, Train: 0.9551, Val: 0.8059, Test: 0.8027\n",
      "Epoch: 159, Loss: 0.5486, Train: 0.8773, Val: 0.7857, Test: 0.7687\n",
      "Epoch: 160, Loss: 0.5509, Train: 0.8956, Val: 0.7930, Test: 0.7820\n",
      "Epoch: 161, Loss: 0.5532, Train: 0.9167, Val: 0.7875, Test: 0.7909\n",
      "Epoch: 162, Loss: 0.5653, Train: 0.9286, Val: 0.8077, Test: 0.7919\n",
      "Epoch: 163, Loss: 0.5498, Train: 0.9451, Val: 0.8132, Test: 0.8155\n",
      "Epoch: 164, Loss: 0.5465, Train: 0.9423, Val: 0.8022, Test: 0.8087\n",
      "Epoch: 165, Loss: 0.5391, Train: 0.9542, Val: 0.8114, Test: 0.8095\n",
      "Epoch: 166, Loss: 0.5341, Train: 0.9533, Val: 0.8168, Test: 0.8068\n",
      "Epoch: 167, Loss: 0.5323, Train: 0.9588, Val: 0.8150, Test: 0.8102\n",
      "Epoch: 168, Loss: 0.5311, Train: 0.9588, Val: 0.8168, Test: 0.8105\n",
      "Epoch: 169, Loss: 0.5298, Train: 0.9597, Val: 0.8114, Test: 0.8087\n",
      "Epoch: 170, Loss: 0.5299, Train: 0.9524, Val: 0.8059, Test: 0.8055\n",
      "Epoch: 171, Loss: 0.5344, Train: 0.9606, Val: 0.8132, Test: 0.8082\n",
      "Epoch: 172, Loss: 0.5309, Train: 0.9625, Val: 0.8095, Test: 0.8095\n",
      "Epoch: 173, Loss: 0.5305, Train: 0.9634, Val: 0.8132, Test: 0.8121\n"
     ]
    },
    {
     "ename": "KeyboardInterrupt",
     "evalue": "",
     "output_type": "error",
     "traceback": [
      "\u001b[0;31m---------------------------------------------------------------------------\u001b[0m",
      "\u001b[0;31mKeyboardInterrupt\u001b[0m                         Traceback (most recent call last)",
      "Cell \u001b[0;32mIn[38], line 5\u001b[0m\n\u001b[1;32m      3\u001b[0m train_acc \u001b[38;5;241m=\u001b[39m test(train_loader, model)\n\u001b[1;32m      4\u001b[0m val_acc \u001b[38;5;241m=\u001b[39m test(val_loader, model)\n\u001b[0;32m----> 5\u001b[0m test_acc \u001b[38;5;241m=\u001b[39m \u001b[43mtest\u001b[49m\u001b[43m(\u001b[49m\u001b[43mtest_loader\u001b[49m\u001b[43m,\u001b[49m\u001b[43m \u001b[49m\u001b[43mmodel\u001b[49m\u001b[43m)\u001b[49m\n\u001b[1;32m      6\u001b[0m \u001b[38;5;28mprint\u001b[39m(\u001b[38;5;124mf\u001b[39m\u001b[38;5;124m'\u001b[39m\u001b[38;5;124mEpoch: \u001b[39m\u001b[38;5;132;01m{\u001b[39;00mepoch\u001b[38;5;132;01m:\u001b[39;00m\u001b[38;5;124m02d\u001b[39m\u001b[38;5;132;01m}\u001b[39;00m\u001b[38;5;124m, Loss: \u001b[39m\u001b[38;5;132;01m{\u001b[39;00mloss\u001b[38;5;132;01m:\u001b[39;00m\u001b[38;5;124m.4f\u001b[39m\u001b[38;5;132;01m}\u001b[39;00m\u001b[38;5;124m, Train: \u001b[39m\u001b[38;5;132;01m{\u001b[39;00mtrain_acc\u001b[38;5;132;01m:\u001b[39;00m\u001b[38;5;124m.4f\u001b[39m\u001b[38;5;132;01m}\u001b[39;00m\u001b[38;5;124m, \u001b[39m\u001b[38;5;124m'\u001b[39m\u001b[38;5;124mf\u001b[39m\u001b[38;5;124m'\u001b[39m\u001b[38;5;124mVal: \u001b[39m\u001b[38;5;132;01m{\u001b[39;00mval_acc\u001b[38;5;132;01m:\u001b[39;00m\u001b[38;5;124m.4f\u001b[39m\u001b[38;5;132;01m}\u001b[39;00m\u001b[38;5;124m, Test: \u001b[39m\u001b[38;5;132;01m{\u001b[39;00mtest_acc\u001b[38;5;132;01m:\u001b[39;00m\u001b[38;5;124m.4f\u001b[39m\u001b[38;5;132;01m}\u001b[39;00m\u001b[38;5;124m'\u001b[39m)\n",
      "File \u001b[0;32m~/Ulm/M1/.venv/lib/python3.12/site-packages/torch/utils/_contextlib.py:116\u001b[0m, in \u001b[0;36mcontext_decorator.<locals>.decorate_context\u001b[0;34m(*args, **kwargs)\u001b[0m\n\u001b[1;32m    113\u001b[0m \u001b[38;5;129m@functools\u001b[39m\u001b[38;5;241m.\u001b[39mwraps(func)\n\u001b[1;32m    114\u001b[0m \u001b[38;5;28;01mdef\u001b[39;00m \u001b[38;5;21mdecorate_context\u001b[39m(\u001b[38;5;241m*\u001b[39margs, \u001b[38;5;241m*\u001b[39m\u001b[38;5;241m*\u001b[39mkwargs):\n\u001b[1;32m    115\u001b[0m     \u001b[38;5;28;01mwith\u001b[39;00m ctx_factory():\n\u001b[0;32m--> 116\u001b[0m         \u001b[38;5;28;01mreturn\u001b[39;00m \u001b[43mfunc\u001b[49m\u001b[43m(\u001b[49m\u001b[38;5;241;43m*\u001b[39;49m\u001b[43margs\u001b[49m\u001b[43m,\u001b[49m\u001b[43m \u001b[49m\u001b[38;5;241;43m*\u001b[39;49m\u001b[38;5;241;43m*\u001b[39;49m\u001b[43mkwargs\u001b[49m\u001b[43m)\u001b[49m\n",
      "Cell \u001b[0;32mIn[37], line 8\u001b[0m, in \u001b[0;36mtest\u001b[0;34m(loader, model)\u001b[0m\n\u001b[1;32m      6\u001b[0m \u001b[38;5;28;01mfor\u001b[39;00m data \u001b[38;5;129;01min\u001b[39;00m loader:\n\u001b[1;32m      7\u001b[0m     data \u001b[38;5;241m=\u001b[39m data\u001b[38;5;241m.\u001b[39mto(device)\n\u001b[0;32m----> 8\u001b[0m     pred \u001b[38;5;241m=\u001b[39m \u001b[43mmodel\u001b[49m\u001b[43m(\u001b[49m\u001b[43mdata\u001b[49m\u001b[38;5;241;43m.\u001b[39;49m\u001b[43mx\u001b[49m\u001b[43m,\u001b[49m\u001b[43m \u001b[49m\u001b[43mdata\u001b[49m\u001b[38;5;241;43m.\u001b[39;49m\u001b[43medge_index\u001b[49m\u001b[43m,\u001b[49m\u001b[43m \u001b[49m\u001b[43mdata\u001b[49m\u001b[38;5;241;43m.\u001b[39;49m\u001b[43mbatch\u001b[49m\u001b[43m)\u001b[49m\u001b[38;5;241m.\u001b[39margmax(dim\u001b[38;5;241m=\u001b[39m\u001b[38;5;241m-\u001b[39m\u001b[38;5;241m1\u001b[39m)\n\u001b[1;32m      9\u001b[0m     total_correct \u001b[38;5;241m+\u001b[39m\u001b[38;5;241m=\u001b[39m \u001b[38;5;28mint\u001b[39m((pred \u001b[38;5;241m==\u001b[39m\n\u001b[1;32m     10\u001b[0m      data\u001b[38;5;241m.\u001b[39my)\u001b[38;5;241m.\u001b[39msum())\n\u001b[1;32m     11\u001b[0m     total_examples \u001b[38;5;241m+\u001b[39m\u001b[38;5;241m=\u001b[39m data\u001b[38;5;241m.\u001b[39mnum_graphs\n",
      "File \u001b[0;32m~/Ulm/M1/.venv/lib/python3.12/site-packages/torch/nn/modules/module.py:1736\u001b[0m, in \u001b[0;36mModule._wrapped_call_impl\u001b[0;34m(self, *args, **kwargs)\u001b[0m\n\u001b[1;32m   1734\u001b[0m     \u001b[38;5;28;01mreturn\u001b[39;00m \u001b[38;5;28mself\u001b[39m\u001b[38;5;241m.\u001b[39m_compiled_call_impl(\u001b[38;5;241m*\u001b[39margs, \u001b[38;5;241m*\u001b[39m\u001b[38;5;241m*\u001b[39mkwargs)  \u001b[38;5;66;03m# type: ignore[misc]\u001b[39;00m\n\u001b[1;32m   1735\u001b[0m \u001b[38;5;28;01melse\u001b[39;00m:\n\u001b[0;32m-> 1736\u001b[0m     \u001b[38;5;28;01mreturn\u001b[39;00m \u001b[38;5;28;43mself\u001b[39;49m\u001b[38;5;241;43m.\u001b[39;49m\u001b[43m_call_impl\u001b[49m\u001b[43m(\u001b[49m\u001b[38;5;241;43m*\u001b[39;49m\u001b[43margs\u001b[49m\u001b[43m,\u001b[49m\u001b[43m \u001b[49m\u001b[38;5;241;43m*\u001b[39;49m\u001b[38;5;241;43m*\u001b[39;49m\u001b[43mkwargs\u001b[49m\u001b[43m)\u001b[49m\n",
      "File \u001b[0;32m~/Ulm/M1/.venv/lib/python3.12/site-packages/torch/nn/modules/module.py:1747\u001b[0m, in \u001b[0;36mModule._call_impl\u001b[0;34m(self, *args, **kwargs)\u001b[0m\n\u001b[1;32m   1742\u001b[0m \u001b[38;5;66;03m# If we don't have any hooks, we want to skip the rest of the logic in\u001b[39;00m\n\u001b[1;32m   1743\u001b[0m \u001b[38;5;66;03m# this function, and just call forward.\u001b[39;00m\n\u001b[1;32m   1744\u001b[0m \u001b[38;5;28;01mif\u001b[39;00m \u001b[38;5;129;01mnot\u001b[39;00m (\u001b[38;5;28mself\u001b[39m\u001b[38;5;241m.\u001b[39m_backward_hooks \u001b[38;5;129;01mor\u001b[39;00m \u001b[38;5;28mself\u001b[39m\u001b[38;5;241m.\u001b[39m_backward_pre_hooks \u001b[38;5;129;01mor\u001b[39;00m \u001b[38;5;28mself\u001b[39m\u001b[38;5;241m.\u001b[39m_forward_hooks \u001b[38;5;129;01mor\u001b[39;00m \u001b[38;5;28mself\u001b[39m\u001b[38;5;241m.\u001b[39m_forward_pre_hooks\n\u001b[1;32m   1745\u001b[0m         \u001b[38;5;129;01mor\u001b[39;00m _global_backward_pre_hooks \u001b[38;5;129;01mor\u001b[39;00m _global_backward_hooks\n\u001b[1;32m   1746\u001b[0m         \u001b[38;5;129;01mor\u001b[39;00m _global_forward_hooks \u001b[38;5;129;01mor\u001b[39;00m _global_forward_pre_hooks):\n\u001b[0;32m-> 1747\u001b[0m     \u001b[38;5;28;01mreturn\u001b[39;00m \u001b[43mforward_call\u001b[49m\u001b[43m(\u001b[49m\u001b[38;5;241;43m*\u001b[39;49m\u001b[43margs\u001b[49m\u001b[43m,\u001b[49m\u001b[43m \u001b[49m\u001b[38;5;241;43m*\u001b[39;49m\u001b[38;5;241;43m*\u001b[39;49m\u001b[43mkwargs\u001b[49m\u001b[43m)\u001b[49m\n\u001b[1;32m   1749\u001b[0m result \u001b[38;5;241m=\u001b[39m \u001b[38;5;28;01mNone\u001b[39;00m\n\u001b[1;32m   1750\u001b[0m called_always_called_hooks \u001b[38;5;241m=\u001b[39m \u001b[38;5;28mset\u001b[39m()\n",
      "Cell \u001b[0;32mIn[19], line 18\u001b[0m, in \u001b[0;36mNet.forward\u001b[0;34m(self, x, edge_index, batch)\u001b[0m\n\u001b[1;32m     16\u001b[0m x \u001b[38;5;241m=\u001b[39m \u001b[38;5;28mself\u001b[39m\u001b[38;5;241m.\u001b[39mconv2(x, edge_index)\n\u001b[1;32m     17\u001b[0m x \u001b[38;5;241m=\u001b[39m torch\u001b[38;5;241m.\u001b[39mnn\u001b[38;5;241m.\u001b[39mfunctional\u001b[38;5;241m.\u001b[39mselu(x)\n\u001b[0;32m---> 18\u001b[0m x \u001b[38;5;241m=\u001b[39m \u001b[38;5;28;43mself\u001b[39;49m\u001b[38;5;241;43m.\u001b[39;49m\u001b[43mmax_pooling\u001b[49m\u001b[43m(\u001b[49m\u001b[43mx\u001b[49m\u001b[43m,\u001b[49m\u001b[43m \u001b[49m\u001b[43mbatch\u001b[49m\u001b[43m)\u001b[49m\n\u001b[1;32m     19\u001b[0m x \u001b[38;5;241m=\u001b[39m torch\u001b[38;5;241m.\u001b[39mnn\u001b[38;5;241m.\u001b[39mfunctional\u001b[38;5;241m.\u001b[39mselu(x)\n\u001b[1;32m     20\u001b[0m x \u001b[38;5;241m=\u001b[39m \u001b[38;5;28mself\u001b[39m\u001b[38;5;241m.\u001b[39mlin1(x)\n",
      "File \u001b[0;32m~/Ulm/M1/.venv/lib/python3.12/site-packages/torch_geometric/nn/pool/glob.py:63\u001b[0m, in \u001b[0;36mglobal_mean_pool\u001b[0;34m(x, batch, size)\u001b[0m\n\u001b[1;32m     61\u001b[0m \u001b[38;5;28;01mif\u001b[39;00m batch \u001b[38;5;129;01mis\u001b[39;00m \u001b[38;5;28;01mNone\u001b[39;00m:\n\u001b[1;32m     62\u001b[0m     \u001b[38;5;28;01mreturn\u001b[39;00m x\u001b[38;5;241m.\u001b[39mmean(dim\u001b[38;5;241m=\u001b[39mdim, keepdim\u001b[38;5;241m=\u001b[39mx\u001b[38;5;241m.\u001b[39mdim() \u001b[38;5;241m<\u001b[39m\u001b[38;5;241m=\u001b[39m \u001b[38;5;241m2\u001b[39m)\n\u001b[0;32m---> 63\u001b[0m \u001b[38;5;28;01mreturn\u001b[39;00m \u001b[43mscatter\u001b[49m\u001b[43m(\u001b[49m\u001b[43mx\u001b[49m\u001b[43m,\u001b[49m\u001b[43m \u001b[49m\u001b[43mbatch\u001b[49m\u001b[43m,\u001b[49m\u001b[43m \u001b[49m\u001b[43mdim\u001b[49m\u001b[38;5;241;43m=\u001b[39;49m\u001b[43mdim\u001b[49m\u001b[43m,\u001b[49m\u001b[43m \u001b[49m\u001b[43mdim_size\u001b[49m\u001b[38;5;241;43m=\u001b[39;49m\u001b[43msize\u001b[49m\u001b[43m,\u001b[49m\u001b[43m \u001b[49m\u001b[43mreduce\u001b[49m\u001b[38;5;241;43m=\u001b[39;49m\u001b[38;5;124;43m'\u001b[39;49m\u001b[38;5;124;43mmean\u001b[39;49m\u001b[38;5;124;43m'\u001b[39;49m\u001b[43m)\u001b[49m\n",
      "File \u001b[0;32m~/Ulm/M1/.venv/lib/python3.12/site-packages/torch_geometric/utils/_scatter.py:53\u001b[0m, in \u001b[0;36mscatter\u001b[0;34m(src, index, dim, dim_size, reduce)\u001b[0m\n\u001b[1;32m     49\u001b[0m     \u001b[38;5;28;01mraise\u001b[39;00m \u001b[38;5;167;01mValueError\u001b[39;00m(\u001b[38;5;124mf\u001b[39m\u001b[38;5;124m\"\u001b[39m\u001b[38;5;124mThe `dim` argument must lay between 0 and \u001b[39m\u001b[38;5;124m\"\u001b[39m\n\u001b[1;32m     50\u001b[0m                      \u001b[38;5;124mf\u001b[39m\u001b[38;5;124m\"\u001b[39m\u001b[38;5;132;01m{\u001b[39;00msrc\u001b[38;5;241m.\u001b[39mdim()\u001b[38;5;250m \u001b[39m\u001b[38;5;241m-\u001b[39m\u001b[38;5;250m \u001b[39m\u001b[38;5;241m1\u001b[39m\u001b[38;5;132;01m}\u001b[39;00m\u001b[38;5;124m (got \u001b[39m\u001b[38;5;132;01m{\u001b[39;00mdim\u001b[38;5;132;01m}\u001b[39;00m\u001b[38;5;124m)\u001b[39m\u001b[38;5;124m\"\u001b[39m)\n\u001b[1;32m     52\u001b[0m \u001b[38;5;28;01mif\u001b[39;00m dim_size \u001b[38;5;129;01mis\u001b[39;00m \u001b[38;5;28;01mNone\u001b[39;00m:\n\u001b[0;32m---> 53\u001b[0m     dim_size \u001b[38;5;241m=\u001b[39m \u001b[38;5;28;43mint\u001b[39;49m\u001b[43m(\u001b[49m\u001b[43mindex\u001b[49m\u001b[38;5;241;43m.\u001b[39;49m\u001b[43mmax\u001b[49m\u001b[43m(\u001b[49m\u001b[43m)\u001b[49m\u001b[43m)\u001b[49m \u001b[38;5;241m+\u001b[39m \u001b[38;5;241m1\u001b[39m \u001b[38;5;28;01mif\u001b[39;00m index\u001b[38;5;241m.\u001b[39mnumel() \u001b[38;5;241m>\u001b[39m \u001b[38;5;241m0\u001b[39m \u001b[38;5;28;01melse\u001b[39;00m \u001b[38;5;241m0\u001b[39m\n\u001b[1;32m     55\u001b[0m \u001b[38;5;66;03m# For now, we maintain various different code paths, based on whether\u001b[39;00m\n\u001b[1;32m     56\u001b[0m \u001b[38;5;66;03m# the input requires gradients and whether it lays on the CPU/GPU.\u001b[39;00m\n\u001b[1;32m     57\u001b[0m \u001b[38;5;66;03m# For example, `torch_scatter` is usually faster than\u001b[39;00m\n\u001b[0;32m   (...)\u001b[0m\n\u001b[1;32m     62\u001b[0m \u001b[38;5;66;03m# indices, but is therefore way slower in its backward implementation.\u001b[39;00m\n\u001b[1;32m     63\u001b[0m \u001b[38;5;66;03m# More insights can be found in `test/utils/test_scatter.py`.\u001b[39;00m\n\u001b[1;32m     65\u001b[0m size \u001b[38;5;241m=\u001b[39m src\u001b[38;5;241m.\u001b[39msize()[:dim] \u001b[38;5;241m+\u001b[39m (dim_size, ) \u001b[38;5;241m+\u001b[39m src\u001b[38;5;241m.\u001b[39msize()[dim \u001b[38;5;241m+\u001b[39m \u001b[38;5;241m1\u001b[39m:]\n",
      "\u001b[0;31mKeyboardInterrupt\u001b[0m: "
     ]
    }
   ],
   "source": [
    "for epoch in range(1, 200):\n",
    "    loss = train(model)\n",
    "    train_acc = test(train_loader, model)\n",
    "    val_acc = test(val_loader, model)\n",
    "    test_acc = test(test_loader, model)\n",
    "    print(f'Epoch: {epoch:02d}, Loss: {loss:.4f}, Train: {train_acc:.4f}, 'f'Val: {val_acc:.4f}, Test: {test_acc:.4f}')"
   ]
  },
  {
   "cell_type": "code",
   "execution_count": 42,
   "metadata": {},
   "outputs": [
    {
     "name": "stdout",
     "output_type": "stream",
     "text": [
      "Collecting scikit-learn\n",
      "  Downloading scikit_learn-1.5.2-cp312-cp312-manylinux_2_17_x86_64.manylinux2014_x86_64.whl.metadata (13 kB)\n",
      "Requirement already satisfied: numpy>=1.19.5 in /home/crvr/Ulm/M1/.venv/lib/python3.12/site-packages (from scikit-learn) (2.1.3)\n",
      "Requirement already satisfied: scipy>=1.6.0 in /home/crvr/Ulm/M1/.venv/lib/python3.12/site-packages (from scikit-learn) (1.14.1)\n",
      "Collecting joblib>=1.2.0 (from scikit-learn)\n",
      "  Downloading joblib-1.4.2-py3-none-any.whl.metadata (5.4 kB)\n",
      "Collecting threadpoolctl>=3.1.0 (from scikit-learn)\n",
      "  Downloading threadpoolctl-3.5.0-py3-none-any.whl.metadata (13 kB)\n",
      "Downloading scikit_learn-1.5.2-cp312-cp312-manylinux_2_17_x86_64.manylinux2014_x86_64.whl (12.9 MB)\n",
      "\u001b[2K   \u001b[90m━━━━━━━━━━━━━━━━━━━━━━━━━━━━━━━━━━━━━━━━\u001b[0m \u001b[32m12.9/12.9 MB\u001b[0m \u001b[31m2.2 MB/s\u001b[0m eta \u001b[36m0:00:00\u001b[0m00:01\u001b[0m00:01\u001b[0m\n",
      "\u001b[?25hDownloading joblib-1.4.2-py3-none-any.whl (301 kB)\n",
      "Downloading threadpoolctl-3.5.0-py3-none-any.whl (18 kB)\n",
      "Installing collected packages: threadpoolctl, joblib, scikit-learn\n",
      "Successfully installed joblib-1.4.2 scikit-learn-1.5.2 threadpoolctl-3.5.0\n"
     ]
    }
   ],
   "source": [
    "!pip install scikit-learn"
   ]
  },
  {
   "cell_type": "code",
   "execution_count": 47,
   "metadata": {},
   "outputs": [
    {
     "data": {
      "image/png": "[encoded data removed]",
      "text/plain": [
       "<Figure size 640x480 with 1 Axes>"
      ]
     },
     "metadata": {},
     "output_type": "display_data"
    }
   ],
   "source": [
    "import matplotlib.pyplot as plt\n",
    "from sklearn.metrics import roc_curve, auc\n",
    "\n",
    "@torch.no_grad()\n",
    "def plot_roc_curve(loader, model):\n",
    "    model.eval()\n",
    "\n",
    "    all_preds = []\n",
    "    all_labels = []\n",
    "    \n",
    "    for data in loader:\n",
    "        data = data.to(device)\n",
    "        logits = model(data.x, data.edge_index, data.batch)\n",
    "        all_preds.append(logits.cpu())\n",
    "        all_labels.append(data.y.cpu())\n",
    "    \n",
    "    all_preds = torch.cat(all_preds, dim=0)\n",
    "    all_labels = torch.cat(all_labels, dim=0)\n",
    "    one_hot_labels = torch.nn.functional.one_hot(all_labels, num_classes=all_preds.size(1)).float()\n",
    "    for class_idx in range(all_preds.size(1)):\n",
    "        fpr, tpr, _ = roc_curve(one_hot_labels[:, class_idx], all_preds[:, class_idx])\n",
    "        roc_auc = auc(fpr, tpr)\n",
    "        plt.plot(fpr, tpr, label=f'Class {class_idx} (AUC = {roc_auc:.2f})')\n",
    "    plt.plot([0, 1], [0, 1], 'k--', label='Random Guess')\n",
    "    plt.xlim([0.0, 1.0])\n",
    "    plt.ylim([0.0, 1.05])\n",
    "    plt.xlabel('False Positive Rate')\n",
    "    plt.ylabel('True Positive Rate')\n",
    "    plt.title('ROC Curve')\n",
    "    plt.legend(loc='lower right')\n",
    "    plt.grid(alpha=0.4)\n",
    "    plt.show()\n",
    "\n",
    "plot_roc_curve(test_loader,model)"
   ]
  },
  {
   "cell_type": "markdown",
   "metadata": {},
   "source": [
    "### Without Weight Decay"
   ]
  },
  {
   "cell_type": "code",
   "execution_count": 51,
   "metadata": {},
   "outputs": [
    {
     "name": "stdout",
     "output_type": "stream",
     "text": [
      "Epoch: 01, Loss: 0.7558, Train: 0.4899, Val: 0.5147, Test: 0.5008\n",
      "Epoch: 02, Loss: 0.7291, Train: 0.7427, Val: 0.7381, Test: 0.7193\n",
      "Epoch: 03, Loss: 0.6797, Train: 0.7601, Val: 0.7491, Test: 0.7329\n",
      "Epoch: 04, Loss: 0.6435, Train: 0.7564, Val: 0.7729, Test: 0.7488\n",
      "Epoch: 05, Loss: 0.6261, Train: 0.7802, Val: 0.7747, Test: 0.7535\n",
      "Epoch: 06, Loss: 0.6154, Train: 0.7995, Val: 0.7766, Test: 0.7483\n",
      "Epoch: 07, Loss: 0.6152, Train: 0.7729, Val: 0.7656, Test: 0.7334\n",
      "Epoch: 08, Loss: 0.6261, Train: 0.8068, Val: 0.7894, Test: 0.7538\n",
      "Epoch: 09, Loss: 0.6150, Train: 0.7308, Val: 0.7161, Test: 0.7002\n",
      "Epoch: 10, Loss: 0.6240, Train: 0.7802, Val: 0.7839, Test: 0.7554\n",
      "Epoch: 11, Loss: 0.6118, Train: 0.7592, Val: 0.7399, Test: 0.7287\n",
      "Epoch: 12, Loss: 0.6122, Train: 0.7555, Val: 0.7143, Test: 0.7172\n",
      "Epoch: 13, Loss: 0.6070, Train: 0.8159, Val: 0.8004, Test: 0.7637\n",
      "Epoch: 14, Loss: 0.5949, Train: 0.7940, Val: 0.7875, Test: 0.7559\n",
      "Epoch: 15, Loss: 0.5967, Train: 0.8242, Val: 0.7802, Test: 0.7582\n",
      "Epoch: 16, Loss: 0.5925, Train: 0.7756, Val: 0.7491, Test: 0.7311\n",
      "Epoch: 17, Loss: 0.5953, Train: 0.8288, Val: 0.7839, Test: 0.7648\n",
      "Epoch: 18, Loss: 0.5863, Train: 0.8526, Val: 0.7930, Test: 0.7708\n",
      "Epoch: 19, Loss: 0.5803, Train: 0.8617, Val: 0.7967, Test: 0.7710\n",
      "Epoch: 20, Loss: 0.5784, Train: 0.8571, Val: 0.7949, Test: 0.7804\n",
      "Epoch: 21, Loss: 0.5743, Train: 0.8663, Val: 0.8004, Test: 0.7789\n",
      "Epoch: 22, Loss: 0.5726, Train: 0.8791, Val: 0.7930, Test: 0.7854\n",
      "Epoch: 23, Loss: 0.5678, Train: 0.8626, Val: 0.7875, Test: 0.7760\n",
      "Epoch: 24, Loss: 0.5770, Train: 0.8681, Val: 0.7784, Test: 0.7755\n",
      "Epoch: 25, Loss: 0.5798, Train: 0.8306, Val: 0.7857, Test: 0.7663\n",
      "Epoch: 26, Loss: 0.5832, Train: 0.8434, Val: 0.7875, Test: 0.7799\n",
      "Epoch: 27, Loss: 0.5799, Train: 0.7967, Val: 0.7821, Test: 0.7491\n",
      "Epoch: 28, Loss: 0.5796, Train: 0.8663, Val: 0.7839, Test: 0.7825\n",
      "Epoch: 29, Loss: 0.5632, Train: 0.8727, Val: 0.7839, Test: 0.7833\n",
      "Epoch: 30, Loss: 0.5633, Train: 0.8864, Val: 0.7784, Test: 0.7867\n",
      "Epoch: 31, Loss: 0.5578, Train: 0.8929, Val: 0.7839, Test: 0.7854\n",
      "Epoch: 32, Loss: 0.5575, Train: 0.8993, Val: 0.7912, Test: 0.7893\n",
      "Epoch: 33, Loss: 0.5535, Train: 0.8562, Val: 0.7802, Test: 0.7778\n",
      "Epoch: 34, Loss: 0.5654, Train: 0.9075, Val: 0.7985, Test: 0.7948\n",
      "Epoch: 35, Loss: 0.5719, Train: 0.8800, Val: 0.7985, Test: 0.7760\n",
      "Epoch: 36, Loss: 0.5624, Train: 0.9057, Val: 0.8059, Test: 0.7951\n",
      "Epoch: 37, Loss: 0.5568, Train: 0.9057, Val: 0.7985, Test: 0.7938\n",
      "Epoch: 38, Loss: 0.5475, Train: 0.9139, Val: 0.8059, Test: 0.7925\n",
      "Epoch: 39, Loss: 0.5470, Train: 0.9002, Val: 0.8059, Test: 0.7810\n",
      "Epoch: 40, Loss: 0.5503, Train: 0.9158, Val: 0.8077, Test: 0.8006\n",
      "Epoch: 41, Loss: 0.5435, Train: 0.9130, Val: 0.8077, Test: 0.7925\n",
      "Epoch: 42, Loss: 0.5424, Train: 0.8919, Val: 0.7875, Test: 0.7844\n",
      "Epoch: 43, Loss: 0.5487, Train: 0.9267, Val: 0.8022, Test: 0.7987\n",
      "Epoch: 44, Loss: 0.5442, Train: 0.9167, Val: 0.8040, Test: 0.7904\n",
      "Epoch: 45, Loss: 0.5451, Train: 0.8984, Val: 0.7894, Test: 0.7828\n",
      "Epoch: 46, Loss: 0.5601, Train: 0.9176, Val: 0.7985, Test: 0.7961\n",
      "Epoch: 47, Loss: 0.5429, Train: 0.9249, Val: 0.7985, Test: 0.8029\n",
      "Epoch: 48, Loss: 0.5388, Train: 0.9304, Val: 0.7967, Test: 0.7987\n",
      "Epoch: 49, Loss: 0.5448, Train: 0.9249, Val: 0.8059, Test: 0.7912\n",
      "Epoch: 50, Loss: 0.5834, Train: 0.8974, Val: 0.8114, Test: 0.7755\n",
      "Epoch: 51, Loss: 0.5877, Train: 0.8993, Val: 0.8132, Test: 0.7857\n",
      "Epoch: 52, Loss: 0.5620, Train: 0.9103, Val: 0.8040, Test: 0.7930\n",
      "Epoch: 53, Loss: 0.5456, Train: 0.9212, Val: 0.7949, Test: 0.7998\n",
      "Epoch: 54, Loss: 0.5493, Train: 0.9267, Val: 0.7967, Test: 0.8029\n",
      "Epoch: 55, Loss: 0.5389, Train: 0.9194, Val: 0.7985, Test: 0.7969\n",
      "Epoch: 56, Loss: 0.5397, Train: 0.9222, Val: 0.7967, Test: 0.7995\n",
      "Epoch: 57, Loss: 0.5400, Train: 0.8874, Val: 0.7839, Test: 0.7818\n",
      "Epoch: 58, Loss: 0.5414, Train: 0.9295, Val: 0.8077, Test: 0.7987\n",
      "Epoch: 59, Loss: 0.5347, Train: 0.9258, Val: 0.7967, Test: 0.7940\n",
      "Epoch: 60, Loss: 0.5346, Train: 0.9167, Val: 0.7875, Test: 0.7883\n",
      "Epoch: 61, Loss: 0.5350, Train: 0.9350, Val: 0.8022, Test: 0.8011\n",
      "Epoch: 62, Loss: 0.5331, Train: 0.9414, Val: 0.8077, Test: 0.8071\n",
      "Epoch: 63, Loss: 0.5319, Train: 0.9423, Val: 0.8059, Test: 0.8040\n",
      "Epoch: 64, Loss: 0.5325, Train: 0.9423, Val: 0.8077, Test: 0.8074\n",
      "Epoch: 65, Loss: 0.5354, Train: 0.8599, Val: 0.7949, Test: 0.7551\n",
      "Epoch: 66, Loss: 0.5447, Train: 0.9405, Val: 0.8077, Test: 0.8024\n",
      "Epoch: 67, Loss: 0.5339, Train: 0.9212, Val: 0.7949, Test: 0.7964\n",
      "Epoch: 68, Loss: 0.5373, Train: 0.9441, Val: 0.8150, Test: 0.8102\n",
      "Epoch: 69, Loss: 0.5348, Train: 0.9469, Val: 0.8187, Test: 0.8016\n",
      "Epoch: 70, Loss: 0.5416, Train: 0.9469, Val: 0.8095, Test: 0.8058\n",
      "Epoch: 71, Loss: 0.5427, Train: 0.7903, Val: 0.7509, Test: 0.7405\n",
      "Epoch: 72, Loss: 0.5624, Train: 0.8544, Val: 0.7674, Test: 0.7635\n",
      "Epoch: 73, Loss: 0.5413, Train: 0.9029, Val: 0.7766, Test: 0.7875\n",
      "Epoch: 74, Loss: 0.5409, Train: 0.9359, Val: 0.7967, Test: 0.8016\n",
      "Epoch: 75, Loss: 0.5308, Train: 0.9396, Val: 0.8114, Test: 0.7980\n",
      "Epoch: 76, Loss: 0.5305, Train: 0.9441, Val: 0.8040, Test: 0.8045\n",
      "Epoch: 77, Loss: 0.5287, Train: 0.9478, Val: 0.8077, Test: 0.8048\n",
      "Epoch: 78, Loss: 0.5292, Train: 0.9487, Val: 0.8095, Test: 0.8048\n",
      "Epoch: 79, Loss: 0.5254, Train: 0.9542, Val: 0.8150, Test: 0.8063\n",
      "Epoch: 80, Loss: 0.5237, Train: 0.9560, Val: 0.8205, Test: 0.8035\n",
      "Epoch: 81, Loss: 0.5245, Train: 0.9551, Val: 0.8223, Test: 0.7946\n",
      "Epoch: 82, Loss: 0.5244, Train: 0.9570, Val: 0.8168, Test: 0.8019\n",
      "Epoch: 83, Loss: 0.5227, Train: 0.9551, Val: 0.8095, Test: 0.8048\n",
      "Epoch: 84, Loss: 0.5234, Train: 0.9579, Val: 0.8150, Test: 0.8066\n",
      "Epoch: 85, Loss: 0.5212, Train: 0.9588, Val: 0.8150, Test: 0.8068\n",
      "Epoch: 86, Loss: 0.5210, Train: 0.9597, Val: 0.8205, Test: 0.8035\n",
      "Epoch: 87, Loss: 0.5209, Train: 0.9606, Val: 0.8223, Test: 0.8027\n",
      "Epoch: 88, Loss: 0.5200, Train: 0.9615, Val: 0.8187, Test: 0.8027\n",
      "Epoch: 89, Loss: 0.5197, Train: 0.9615, Val: 0.8242, Test: 0.8003\n",
      "Epoch: 90, Loss: 0.5196, Train: 0.9615, Val: 0.8260, Test: 0.8016\n",
      "Epoch: 91, Loss: 0.5195, Train: 0.9625, Val: 0.8168, Test: 0.8008\n",
      "Epoch: 92, Loss: 0.5192, Train: 0.9625, Val: 0.8242, Test: 0.8008\n",
      "Epoch: 93, Loss: 0.5191, Train: 0.9625, Val: 0.8168, Test: 0.8011\n",
      "Epoch: 94, Loss: 0.5191, Train: 0.9625, Val: 0.8132, Test: 0.8021\n",
      "Epoch: 95, Loss: 0.5191, Train: 0.9625, Val: 0.8168, Test: 0.8016\n",
      "Epoch: 96, Loss: 0.5191, Train: 0.9625, Val: 0.8278, Test: 0.8008\n",
      "Epoch: 97, Loss: 0.5191, Train: 0.9625, Val: 0.8223, Test: 0.8021\n",
      "Epoch: 98, Loss: 0.5190, Train: 0.9625, Val: 0.8132, Test: 0.8019\n",
      "Epoch: 99, Loss: 0.5190, Train: 0.9625, Val: 0.8132, Test: 0.8014\n",
      "Epoch: 100, Loss: 0.5190, Train: 0.9625, Val: 0.8278, Test: 0.8008\n",
      "Epoch: 101, Loss: 0.5190, Train: 0.9625, Val: 0.8242, Test: 0.8014\n",
      "Epoch: 102, Loss: 0.5190, Train: 0.9625, Val: 0.8114, Test: 0.8021\n",
      "Epoch: 103, Loss: 0.5190, Train: 0.9625, Val: 0.8278, Test: 0.8014\n",
      "Epoch: 104, Loss: 0.5190, Train: 0.9625, Val: 0.8278, Test: 0.8014\n",
      "Epoch: 105, Loss: 0.5189, Train: 0.9625, Val: 0.8132, Test: 0.8014\n",
      "Epoch: 106, Loss: 0.5189, Train: 0.9625, Val: 0.8150, Test: 0.8014\n",
      "Epoch: 107, Loss: 0.5189, Train: 0.9625, Val: 0.8205, Test: 0.8021\n",
      "Epoch: 108, Loss: 0.5189, Train: 0.9625, Val: 0.8187, Test: 0.8024\n",
      "Epoch: 109, Loss: 0.5189, Train: 0.9625, Val: 0.8132, Test: 0.8006\n",
      "Epoch: 110, Loss: 0.5189, Train: 0.9625, Val: 0.8205, Test: 0.8016\n",
      "Epoch: 111, Loss: 0.5189, Train: 0.9625, Val: 0.8168, Test: 0.8014\n",
      "Epoch: 112, Loss: 0.5188, Train: 0.9625, Val: 0.8114, Test: 0.7998\n",
      "Epoch: 113, Loss: 0.5188, Train: 0.9634, Val: 0.8168, Test: 0.7993\n",
      "Epoch: 114, Loss: 0.5187, Train: 0.9634, Val: 0.8168, Test: 0.7995\n",
      "Epoch: 115, Loss: 0.5186, Train: 0.9634, Val: 0.8150, Test: 0.8006\n",
      "Epoch: 116, Loss: 0.5185, Train: 0.9634, Val: 0.8150, Test: 0.7987\n",
      "Epoch: 117, Loss: 0.5190, Train: 0.9634, Val: 0.8187, Test: 0.8019\n",
      "Epoch: 118, Loss: 0.5187, Train: 0.9634, Val: 0.8260, Test: 0.7998\n",
      "Epoch: 119, Loss: 0.5185, Train: 0.9634, Val: 0.8223, Test: 0.8008\n",
      "Epoch: 120, Loss: 0.5188, Train: 0.9634, Val: 0.8132, Test: 0.7977\n",
      "Epoch: 121, Loss: 0.5187, Train: 0.9634, Val: 0.8132, Test: 0.7993\n",
      "Epoch: 122, Loss: 0.5185, Train: 0.9634, Val: 0.8150, Test: 0.7985\n",
      "Epoch: 123, Loss: 0.5185, Train: 0.9634, Val: 0.8150, Test: 0.8006\n",
      "Epoch: 124, Loss: 0.5185, Train: 0.9634, Val: 0.8132, Test: 0.8008\n",
      "Epoch: 125, Loss: 0.5184, Train: 0.9634, Val: 0.8168, Test: 0.8021\n",
      "Epoch: 126, Loss: 0.5184, Train: 0.9634, Val: 0.8114, Test: 0.7998\n",
      "Epoch: 127, Loss: 0.5184, Train: 0.9634, Val: 0.8132, Test: 0.8014\n",
      "Epoch: 128, Loss: 0.5184, Train: 0.9634, Val: 0.8150, Test: 0.8001\n",
      "Epoch: 129, Loss: 0.5184, Train: 0.9634, Val: 0.8168, Test: 0.7993\n",
      "Epoch: 130, Loss: 0.5184, Train: 0.9634, Val: 0.8150, Test: 0.8006\n",
      "Epoch: 131, Loss: 0.5184, Train: 0.9634, Val: 0.8150, Test: 0.7987\n",
      "Epoch: 132, Loss: 0.5184, Train: 0.9634, Val: 0.8132, Test: 0.7993\n",
      "Epoch: 133, Loss: 0.5184, Train: 0.9634, Val: 0.8132, Test: 0.7998\n",
      "Epoch: 134, Loss: 0.5184, Train: 0.9634, Val: 0.8114, Test: 0.8003\n",
      "Epoch: 135, Loss: 0.5184, Train: 0.9634, Val: 0.8168, Test: 0.7985\n",
      "Epoch: 136, Loss: 0.5184, Train: 0.9634, Val: 0.8114, Test: 0.8001\n",
      "Epoch: 137, Loss: 0.5184, Train: 0.9634, Val: 0.8132, Test: 0.7990\n",
      "Epoch: 138, Loss: 0.5184, Train: 0.9634, Val: 0.8114, Test: 0.7998\n",
      "Epoch: 139, Loss: 0.5184, Train: 0.9634, Val: 0.8168, Test: 0.7980\n",
      "Epoch: 140, Loss: 0.5184, Train: 0.9634, Val: 0.8114, Test: 0.8001\n",
      "Epoch: 141, Loss: 0.5184, Train: 0.9634, Val: 0.8114, Test: 0.8001\n",
      "Epoch: 142, Loss: 0.5184, Train: 0.9634, Val: 0.8114, Test: 0.7995\n",
      "Epoch: 143, Loss: 0.5184, Train: 0.9634, Val: 0.8132, Test: 0.7998\n",
      "Epoch: 144, Loss: 0.5184, Train: 0.9634, Val: 0.8114, Test: 0.8001\n",
      "Epoch: 145, Loss: 0.5184, Train: 0.9634, Val: 0.8132, Test: 0.7995\n",
      "Epoch: 146, Loss: 0.5184, Train: 0.9634, Val: 0.8114, Test: 0.8006\n",
      "Epoch: 147, Loss: 0.5184, Train: 0.9634, Val: 0.8114, Test: 0.7995\n",
      "Epoch: 148, Loss: 0.5184, Train: 0.9634, Val: 0.8132, Test: 0.7995\n",
      "Epoch: 149, Loss: 0.5184, Train: 0.9634, Val: 0.8132, Test: 0.7998\n",
      "Epoch: 150, Loss: 0.5184, Train: 0.9634, Val: 0.8114, Test: 0.8001\n",
      "Epoch: 151, Loss: 0.5184, Train: 0.9634, Val: 0.8132, Test: 0.7993\n",
      "Epoch: 152, Loss: 0.5184, Train: 0.9634, Val: 0.8095, Test: 0.7998\n",
      "Epoch: 153, Loss: 0.5184, Train: 0.9634, Val: 0.8132, Test: 0.7995\n",
      "Epoch: 154, Loss: 0.5184, Train: 0.9634, Val: 0.8132, Test: 0.7990\n",
      "Epoch: 155, Loss: 0.5184, Train: 0.9634, Val: 0.8095, Test: 0.7998\n",
      "Epoch: 156, Loss: 0.5184, Train: 0.9634, Val: 0.8132, Test: 0.7993\n",
      "Epoch: 157, Loss: 0.5184, Train: 0.9634, Val: 0.8132, Test: 0.7995\n",
      "Epoch: 158, Loss: 0.5184, Train: 0.9634, Val: 0.8132, Test: 0.7995\n",
      "Epoch: 159, Loss: 0.5184, Train: 0.9634, Val: 0.8132, Test: 0.7995\n",
      "Epoch: 160, Loss: 0.5184, Train: 0.9634, Val: 0.8132, Test: 0.7995\n",
      "Epoch: 161, Loss: 0.5184, Train: 0.9634, Val: 0.8114, Test: 0.7995\n",
      "Epoch: 162, Loss: 0.5184, Train: 0.9634, Val: 0.8132, Test: 0.7995\n",
      "Epoch: 163, Loss: 0.5184, Train: 0.9634, Val: 0.8132, Test: 0.7993\n",
      "Epoch: 164, Loss: 0.5184, Train: 0.9634, Val: 0.8095, Test: 0.7995\n",
      "Epoch: 165, Loss: 0.5184, Train: 0.9634, Val: 0.8132, Test: 0.7993\n",
      "Epoch: 166, Loss: 0.5184, Train: 0.9634, Val: 0.8132, Test: 0.7993\n",
      "Epoch: 167, Loss: 0.5184, Train: 0.9634, Val: 0.8132, Test: 0.7990\n",
      "Epoch: 168, Loss: 0.5184, Train: 0.9634, Val: 0.8132, Test: 0.7993\n",
      "Epoch: 169, Loss: 0.5184, Train: 0.9634, Val: 0.8114, Test: 0.8001\n",
      "Epoch: 170, Loss: 0.5184, Train: 0.9634, Val: 0.8132, Test: 0.7995\n",
      "Epoch: 171, Loss: 0.5184, Train: 0.9634, Val: 0.8132, Test: 0.7995\n",
      "Epoch: 172, Loss: 0.5184, Train: 0.9634, Val: 0.8132, Test: 0.7995\n",
      "Epoch: 173, Loss: 0.5183, Train: 0.9634, Val: 0.8132, Test: 0.7995\n",
      "Epoch: 174, Loss: 0.5183, Train: 0.9634, Val: 0.8132, Test: 0.7995\n",
      "Epoch: 175, Loss: 0.5183, Train: 0.9634, Val: 0.8132, Test: 0.7993\n",
      "Epoch: 176, Loss: 0.5183, Train: 0.9634, Val: 0.8095, Test: 0.7993\n",
      "Epoch: 177, Loss: 0.5183, Train: 0.9634, Val: 0.8132, Test: 0.7995\n",
      "Epoch: 178, Loss: 0.5183, Train: 0.9634, Val: 0.8132, Test: 0.7995\n",
      "Epoch: 179, Loss: 0.5183, Train: 0.9634, Val: 0.8132, Test: 0.7990\n",
      "Epoch: 180, Loss: 0.5183, Train: 0.9634, Val: 0.8114, Test: 0.7990\n",
      "Epoch: 181, Loss: 0.5183, Train: 0.9634, Val: 0.8132, Test: 0.7995\n",
      "Epoch: 182, Loss: 0.5183, Train: 0.9634, Val: 0.8095, Test: 0.7998\n",
      "Epoch: 183, Loss: 0.5183, Train: 0.9634, Val: 0.8132, Test: 0.7995\n",
      "Epoch: 184, Loss: 0.5183, Train: 0.9634, Val: 0.8132, Test: 0.7993\n",
      "Epoch: 185, Loss: 0.5183, Train: 0.9634, Val: 0.8132, Test: 0.7995\n",
      "Epoch: 186, Loss: 0.5183, Train: 0.9634, Val: 0.8132, Test: 0.7998\n",
      "Epoch: 187, Loss: 0.5183, Train: 0.9634, Val: 0.8132, Test: 0.7995\n",
      "Epoch: 188, Loss: 0.5183, Train: 0.9634, Val: 0.8095, Test: 0.7995\n",
      "Epoch: 189, Loss: 0.5183, Train: 0.9634, Val: 0.8132, Test: 0.7995\n",
      "Epoch: 190, Loss: 0.5183, Train: 0.9634, Val: 0.8095, Test: 0.7995\n",
      "Epoch: 191, Loss: 0.5183, Train: 0.9634, Val: 0.8132, Test: 0.7995\n",
      "Epoch: 192, Loss: 0.5183, Train: 0.9634, Val: 0.8132, Test: 0.7990\n",
      "Epoch: 193, Loss: 0.5183, Train: 0.9634, Val: 0.8114, Test: 0.7990\n",
      "Epoch: 194, Loss: 0.5183, Train: 0.9634, Val: 0.8132, Test: 0.7995\n",
      "Epoch: 195, Loss: 0.5183, Train: 0.9634, Val: 0.8114, Test: 0.7990\n",
      "Epoch: 196, Loss: 0.5183, Train: 0.9634, Val: 0.8132, Test: 0.7995\n",
      "Epoch: 197, Loss: 0.5183, Train: 0.9634, Val: 0.8132, Test: 0.7995\n",
      "Epoch: 198, Loss: 0.5183, Train: 0.9634, Val: 0.8114, Test: 0.7990\n",
      "Epoch: 199, Loss: 0.5183, Train: 0.9634, Val: 0.8132, Test: 0.7995\n"
     ]
    },
    {
     "data": {
      "image/png": "[encoded data removed]",
      "text/plain": [
       "<Figure size 640x480 with 1 Axes>"
      ]
     },
     "metadata": {},
     "output_type": "display_data"
    }
   ],
   "source": [
    "device = torch.device('cuda' if torch.cuda.is_available() else 'cpu')\n",
    "model = Net(778, 256,train_dataset_bert.num_classes, concat=True).to(device)\n",
    "optimizer = torch.optim.Adam(model.parameters(), lr=3e-4,amsgrad=True)\n",
    "for epoch in range(1, 200):\n",
    "    loss = train(model)\n",
    "    train_acc = test(train_loader, model)\n",
    "    val_acc = test(val_loader, model)\n",
    "    test_acc = test(test_loader, model)\n",
    "    print(f'Epoch: {epoch:02d}, Loss: {loss:.4f}, Train: {train_acc:.4f}, 'f'Val: {val_acc:.4f}, Test: {test_acc:.4f}')\n",
    "plot_roc_curve(test_loader,model)"
   ]
  },
  {
   "cell_type": "markdown",
   "metadata": {},
   "source": [
    "As in the article: If we do not add weight decay (somehow equivalent to dropout) we overfit on the training but dail to genralize."
   ]
  }
 ],
 "metadata": {
  "colab": {
   "provenance": []
  },
  "kernelspec": {
   "display_name": ".venv",
   "language": "python",
   "name": "python3"
  },
  "language_info": {
   "codemirror_mode": {
    "name": "ipython",
    "version": 3
   },
   "file_extension": ".py",
   "mimetype": "text/x-python",
   "name": "python",
   "nbconvert_exporter": "python",
   "pygments_lexer": "ipython3",
   "version": "3.12.3"
  }
 },
 "nbformat": 4,
 "nbformat_minor": 0
}
